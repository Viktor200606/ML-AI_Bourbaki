{
 "cells": [
  {
   "cell_type": "markdown",
   "metadata": {},
   "source": [
    "![Colegio Bourbaki](./Images/Bourbaki.png)"
   ]
  },
  {
   "cell_type": "markdown",
   "metadata": {},
   "source": [
    "## Machine Learning & AI"
   ]
  },
  {
   "cell_type": "markdown",
   "metadata": {},
   "source": [
    "### Introducción a modelos autorregresivos"
   ]
  },
  {
   "cell_type": "markdown",
   "metadata": {},
   "source": [
    "### Contexto"
   ]
  },
  {
   "cell_type": "markdown",
   "metadata": {},
   "source": [
    "SNCF-Transilien es el operador de la red de cercanías de SNCF que cubre la región parisina. Circula más de 6.200 trenes al día y desplaza a 3,4 millones de pasajeros. SNCF-Transilien recopila cada vez más datos sobre el número de pasajeros a bordo mediante sensores de infrarrojos en las puertas. Esta creciente cantidad de datos permite a SNCF-Transilien ofrecer nuevos servicios a los pasajeros y mejorar su rendimiento operativo."
   ]
  },
  {
   "cell_type": "markdown",
   "metadata": {},
   "source": [
    "El objetivo de este reto es dotar a SNCF-Transilien de las herramientas necesarias para ofrecer una previsión precisa de la tasa de ocupación de los trenes. De este modo, ofrecer a sus viajeros información precisa sobre la aglomeración en tiempo real (RTCI) a través de servicios digitales.\n",
    "\n",
    "Cuando un viajero está esperando un tren k en la estación s, el tren puede estar varias estaciones más adelante, pero queremos dar a los viajeros la información más coherente posible sobre lo ocupado que estará el tren cuando suban a él. Para ello, necesitamos predecir para cada tren los índices de ocupación reales en las estaciones siguientes. En este caso, proponemos predecir, de forma más sencilla, el grado de ocupación sólo en la siguiente estación."
   ]
  },
  {
   "cell_type": "markdown",
   "metadata": {},
   "source": [
    "### Datos"
   ]
  },
  {
   "cell_type": "markdown",
   "metadata": {},
   "source": [
    "La variable k se utiliza para especificar el tren, s para la estación y d para el día. Una parada viene dada por la tripleta k, s, d.\n",
    "\n",
    "Tenemos 4 archivos:\n",
    "\n",
    "* Un conjunto de datos Xtrain.csv con 31 119 filas (es decir, 31 119 paradas k, s, d) y 12 columnas\n",
    "* Un conjunto de datos Xtest.csv con 13 752 filas (es decir, 13 752 paradas k, s, d) y 12 columnas.\n",
    "* Un conjunto de datos Ytrain.csv con 31 119 filas y una columna, que proporciona la variable objetivo que debe predecirse para el conjunto de entrenamiento.\n",
    "* Un conjunto de datos Ysample.csv con 13 752 filas y una columna con valores aleatorios entre [0, 1], que es un ejemplo de envío que puede utilizar para preparar su propio envío\n",
    "\n",
    "Origen de los datos\n",
    "\n",
    "Los datos proceden de sensores de infrarrojos situados encima de cada puerta del material rodante (NAT, R2N) en Île-de-France, que miden el número de pasajeros que suben y bajan por puerta. Estos datos se captan en tiempo real y sólo son accesibles a escala del tren para este reto. El factor de ocupación es el número de pasajeros a bordo dividido por la capacidad total del tren.\n",
    "\n",
    "Queremos predecir el índice de ocupación en tiempo real utilizando el pasado cercano.\n",
    "\n",
    "Introducimos las notaciones p y q para describir el pasado: \n",
    "\n",
    "* p se utiliza para los valores pasados de los trenes anteriores en la misma estación \n",
    "* q se utiliza para describir las paradas anteriores del mismo tren.\n",
    "\n",
    "La tasa de ocupación real es: p0q0 ∈ [0,1] que es el factor de aglomeración/tasa de ocupación, anotado Y(k,s,d), para una parada que es un tren k en una estación s durante un día d."
   ]
  },
  {
   "cell_type": "markdown",
   "metadata": {},
   "source": [
    "Las columnas, es decir, las características, se dividen en 6 variables contextuales, como el día, la identificación del tren, etc., y 6 variables de retardo:"
   ]
  },
  {
   "cell_type": "markdown",
   "metadata": {},
   "source": [
    "Variables contextuales\n",
    "\n",
    "* Fecha $d$: AAAAMMDD es la fecha del id de tren recorrido\n",
    "\n",
    "* Tren $k$: 1, 2, ..., 55 id tren (único por día d)\n",
    "\n",
    "* Estación $s$: AA, AB, AC,... es el identificador de la estación\n",
    "\n",
    "* Hora: HH:00:00 es la franja horaria\n",
    "\n",
    "* Vía: 0, 1 es la vía del tren con 0 (hacia París) o 1 (hacia las afueras)\n",
    "\n",
    "* Composición: 1, 2 es el número de unidades de tren (una o dos)\n"
   ]
  },
  {
   "cell_type": "markdown",
   "metadata": {},
   "source": [
    "Variables de desfase\n",
    "\n",
    "* p1q0 ∈ [0,1] es el índice de ocupación del tren k-1 anterior en la misma estación s\n",
    "\n",
    "* p2q0 ∈ [0,1] es el índice de ocupación del segundo tren anterior k-2 en la misma estación s\n",
    "\n",
    "* p3q0 ∈ [0,1] es el índice de ocupación del tercer tren anterior k-3 en la misma estación s\n",
    "\n",
    "* p0q1 ∈ [0,1] es el índice de ocupación del mismo tren k en la estación anterior s-1\n",
    "\n",
    "* p0q2 ∈ [0,1] es el índice de ocupación del mismo tren k en la segunda estación anterior s-2\n",
    "\n",
    "* p0q3 ∈ [0,1] es el índice de ocupación del mismo tren k en la tercera estación anterior s-3\n",
    "\n",
    "Las variables de desfase son NA si el desfase no existe para la parada debido a la estructura del horario. Todos los demás valores perdidos se han imputado mediante un algoritmo comercial."
   ]
  },
  {
   "cell_type": "markdown",
   "metadata": {},
   "source": [
    "Para más detalles sobre el conjunto de datos o sobre el modelo de referencia, véase nuestro artículo One-Station-Ahead Forecasting of Dwell Time, Arrival Delay and Passenger Flows on Trains Equipped with Automatic Passenger Counting (APC) Device."
   ]
  },
  {
   "cell_type": "markdown",
   "metadata": {},
   "source": [
    "### Librerías"
   ]
  },
  {
   "cell_type": "code",
   "execution_count": 56,
   "metadata": {},
   "outputs": [],
   "source": [
    "#Data Analysis\n",
    "import numpy as np\n",
    "import pandas as pd\n",
    "\n",
    "#Plotting\n",
    "import matplotlib.pyplot as plt\n",
    "\n",
    "#LSTM\n",
    "import torch\n",
    "import torch.nn as nn\n",
    "from torch.utils.data import Dataset, DataLoader\n",
    "import torch.nn.utils.rnn as rnn_utils\n",
    "\n",
    "#Utils\n",
    "from sklearn.metrics import mean_squared_error\n",
    "from sklearn.model_selection import train_test_split\n",
    "#from torchsummary import summary"
   ]
  },
  {
   "cell_type": "code",
   "execution_count": 2,
   "metadata": {},
   "outputs": [],
   "source": [
    "if torch.cuda.is_available():\n",
    "    device = torch.device('cuda')\n",
    "else:\n",
    "    device = torch.device('cpu')"
   ]
  },
  {
   "cell_type": "markdown",
   "metadata": {},
   "source": [
    "### Carga de Datos"
   ]
  },
  {
   "cell_type": "code",
   "execution_count": 3,
   "metadata": {},
   "outputs": [],
   "source": [
    "df_x_train = pd.read_csv('./Data/Xtrain_hgcGIrA.csv')"
   ]
  },
  {
   "cell_type": "code",
   "execution_count": 4,
   "metadata": {},
   "outputs": [],
   "source": [
    "index = df_x_train.index"
   ]
  },
  {
   "cell_type": "code",
   "execution_count": 5,
   "metadata": {},
   "outputs": [
    {
     "data": {
      "text/html": [
       "<div>\n",
       "<style scoped>\n",
       "    .dataframe tbody tr th:only-of-type {\n",
       "        vertical-align: middle;\n",
       "    }\n",
       "\n",
       "    .dataframe tbody tr th {\n",
       "        vertical-align: top;\n",
       "    }\n",
       "\n",
       "    .dataframe thead th {\n",
       "        text-align: right;\n",
       "    }\n",
       "</style>\n",
       "<table border=\"1\" class=\"dataframe\">\n",
       "  <thead>\n",
       "    <tr style=\"text-align: right;\">\n",
       "      <th></th>\n",
       "      <th>date</th>\n",
       "      <th>train</th>\n",
       "      <th>way</th>\n",
       "      <th>station</th>\n",
       "      <th>hour</th>\n",
       "      <th>composition</th>\n",
       "      <th>p1q0</th>\n",
       "      <th>p2q0</th>\n",
       "      <th>p3q0</th>\n",
       "      <th>p0q1</th>\n",
       "      <th>p0q2</th>\n",
       "      <th>p0q3</th>\n",
       "    </tr>\n",
       "  </thead>\n",
       "  <tbody>\n",
       "    <tr>\n",
       "      <th>0</th>\n",
       "      <td>2019-01-07</td>\n",
       "      <td>1</td>\n",
       "      <td>0</td>\n",
       "      <td>AD</td>\n",
       "      <td>06:00:00</td>\n",
       "      <td>2</td>\n",
       "      <td>NaN</td>\n",
       "      <td>NaN</td>\n",
       "      <td>NaN</td>\n",
       "      <td>0.201</td>\n",
       "      <td>0.138</td>\n",
       "      <td>0.091</td>\n",
       "    </tr>\n",
       "    <tr>\n",
       "      <th>1</th>\n",
       "      <td>2019-01-08</td>\n",
       "      <td>1</td>\n",
       "      <td>0</td>\n",
       "      <td>AD</td>\n",
       "      <td>06:00:00</td>\n",
       "      <td>2</td>\n",
       "      <td>NaN</td>\n",
       "      <td>NaN</td>\n",
       "      <td>NaN</td>\n",
       "      <td>0.204</td>\n",
       "      <td>0.152</td>\n",
       "      <td>0.106</td>\n",
       "    </tr>\n",
       "    <tr>\n",
       "      <th>2</th>\n",
       "      <td>2019-01-10</td>\n",
       "      <td>1</td>\n",
       "      <td>0</td>\n",
       "      <td>AD</td>\n",
       "      <td>06:00:00</td>\n",
       "      <td>2</td>\n",
       "      <td>NaN</td>\n",
       "      <td>NaN</td>\n",
       "      <td>NaN</td>\n",
       "      <td>0.213</td>\n",
       "      <td>0.153</td>\n",
       "      <td>0.111</td>\n",
       "    </tr>\n",
       "    <tr>\n",
       "      <th>3</th>\n",
       "      <td>2019-01-11</td>\n",
       "      <td>1</td>\n",
       "      <td>0</td>\n",
       "      <td>AD</td>\n",
       "      <td>06:00:00</td>\n",
       "      <td>2</td>\n",
       "      <td>NaN</td>\n",
       "      <td>NaN</td>\n",
       "      <td>NaN</td>\n",
       "      <td>0.213</td>\n",
       "      <td>0.152</td>\n",
       "      <td>0.108</td>\n",
       "    </tr>\n",
       "    <tr>\n",
       "      <th>4</th>\n",
       "      <td>2019-01-14</td>\n",
       "      <td>1</td>\n",
       "      <td>0</td>\n",
       "      <td>AD</td>\n",
       "      <td>06:00:00</td>\n",
       "      <td>2</td>\n",
       "      <td>NaN</td>\n",
       "      <td>NaN</td>\n",
       "      <td>NaN</td>\n",
       "      <td>0.210</td>\n",
       "      <td>0.147</td>\n",
       "      <td>0.096</td>\n",
       "    </tr>\n",
       "  </tbody>\n",
       "</table>\n",
       "</div>"
      ],
      "text/plain": [
       "         date  train  way station      hour  composition  p1q0  p2q0  p3q0  \\\n",
       "0  2019-01-07      1    0      AD  06:00:00            2   NaN   NaN   NaN   \n",
       "1  2019-01-08      1    0      AD  06:00:00            2   NaN   NaN   NaN   \n",
       "2  2019-01-10      1    0      AD  06:00:00            2   NaN   NaN   NaN   \n",
       "3  2019-01-11      1    0      AD  06:00:00            2   NaN   NaN   NaN   \n",
       "4  2019-01-14      1    0      AD  06:00:00            2   NaN   NaN   NaN   \n",
       "\n",
       "    p0q1   p0q2   p0q3  \n",
       "0  0.201  0.138  0.091  \n",
       "1  0.204  0.152  0.106  \n",
       "2  0.213  0.153  0.111  \n",
       "3  0.213  0.152  0.108  \n",
       "4  0.210  0.147  0.096  "
      ]
     },
     "execution_count": 5,
     "metadata": {},
     "output_type": "execute_result"
    }
   ],
   "source": [
    "df_x_train.head()"
   ]
  },
  {
   "cell_type": "code",
   "execution_count": 6,
   "metadata": {},
   "outputs": [
    {
     "name": "stdout",
     "output_type": "stream",
     "text": [
      "<class 'pandas.core.frame.DataFrame'>\n",
      "RangeIndex: 31119 entries, 0 to 31118\n",
      "Data columns (total 12 columns):\n",
      " #   Column       Non-Null Count  Dtype  \n",
      "---  ------       --------------  -----  \n",
      " 0   date         31119 non-null  object \n",
      " 1   train        31119 non-null  int64  \n",
      " 2   way          31119 non-null  int64  \n",
      " 3   station      31119 non-null  object \n",
      " 4   hour         27915 non-null  object \n",
      " 5   composition  31119 non-null  int64  \n",
      " 6   p1q0         29067 non-null  float64\n",
      " 7   p2q0         26974 non-null  float64\n",
      " 8   p3q0         24935 non-null  float64\n",
      " 9   p0q1         27917 non-null  float64\n",
      " 10  p0q2         24720 non-null  float64\n",
      " 11  p0q3         21527 non-null  float64\n",
      "dtypes: float64(6), int64(3), object(3)\n",
      "memory usage: 2.8+ MB\n"
     ]
    }
   ],
   "source": [
    "df_x_train.info()"
   ]
  },
  {
   "cell_type": "markdown",
   "metadata": {},
   "source": [
    "Casteamos la variable date a datetime:"
   ]
  },
  {
   "cell_type": "code",
   "execution_count": 7,
   "metadata": {},
   "outputs": [],
   "source": [
    "df_x_train['date'] = pd.to_datetime(df_x_train['date'])"
   ]
  },
  {
   "cell_type": "markdown",
   "metadata": {},
   "source": [
    "Veamos las diferentes estaciones:"
   ]
  },
  {
   "cell_type": "code",
   "execution_count": 8,
   "metadata": {},
   "outputs": [
    {
     "data": {
      "text/plain": [
       "array(['AD', 'AI', 'AJ', 'AK', 'AM', 'AT', 'AW', 'AX', 'BB', 'BD', 'BE',\n",
       "       'AE', 'AL', 'AO', 'AQ', 'BC', 'AB', 'AN', 'AS', 'BF', 'BG', 'BH',\n",
       "       'AV', 'AF', 'AP', 'AZ', 'AA', 'AC', 'AG', 'AH', 'AR', 'AU', 'BA',\n",
       "       'BI', 'BJ', 'AY'], dtype=object)"
      ]
     },
     "execution_count": 8,
     "metadata": {},
     "output_type": "execute_result"
    }
   ],
   "source": [
    "df_x_train['station'].unique()"
   ]
  },
  {
   "cell_type": "markdown",
   "metadata": {},
   "source": [
    "Reorganizamos el dataset:"
   ]
  },
  {
   "cell_type": "code",
   "execution_count": 9,
   "metadata": {},
   "outputs": [],
   "source": [
    "df_train = df_x_train.copy(deep=True)\n",
    "df_train.set_index('date', inplace=True)"
   ]
  },
  {
   "cell_type": "code",
   "execution_count": 10,
   "metadata": {},
   "outputs": [
    {
     "data": {
      "text/html": [
       "<div>\n",
       "<style scoped>\n",
       "    .dataframe tbody tr th:only-of-type {\n",
       "        vertical-align: middle;\n",
       "    }\n",
       "\n",
       "    .dataframe tbody tr th {\n",
       "        vertical-align: top;\n",
       "    }\n",
       "\n",
       "    .dataframe thead th {\n",
       "        text-align: right;\n",
       "    }\n",
       "</style>\n",
       "<table border=\"1\" class=\"dataframe\">\n",
       "  <thead>\n",
       "    <tr style=\"text-align: right;\">\n",
       "      <th></th>\n",
       "      <th>train</th>\n",
       "      <th>way</th>\n",
       "      <th>station</th>\n",
       "      <th>hour</th>\n",
       "      <th>composition</th>\n",
       "      <th>p1q0</th>\n",
       "      <th>p2q0</th>\n",
       "      <th>p3q0</th>\n",
       "      <th>p0q1</th>\n",
       "      <th>p0q2</th>\n",
       "      <th>p0q3</th>\n",
       "    </tr>\n",
       "    <tr>\n",
       "      <th>date</th>\n",
       "      <th></th>\n",
       "      <th></th>\n",
       "      <th></th>\n",
       "      <th></th>\n",
       "      <th></th>\n",
       "      <th></th>\n",
       "      <th></th>\n",
       "      <th></th>\n",
       "      <th></th>\n",
       "      <th></th>\n",
       "      <th></th>\n",
       "    </tr>\n",
       "  </thead>\n",
       "  <tbody>\n",
       "    <tr>\n",
       "      <th>2019-01-07</th>\n",
       "      <td>1</td>\n",
       "      <td>0</td>\n",
       "      <td>AD</td>\n",
       "      <td>06:00:00</td>\n",
       "      <td>2</td>\n",
       "      <td>NaN</td>\n",
       "      <td>NaN</td>\n",
       "      <td>NaN</td>\n",
       "      <td>0.201</td>\n",
       "      <td>0.138</td>\n",
       "      <td>0.091</td>\n",
       "    </tr>\n",
       "    <tr>\n",
       "      <th>2019-01-08</th>\n",
       "      <td>1</td>\n",
       "      <td>0</td>\n",
       "      <td>AD</td>\n",
       "      <td>06:00:00</td>\n",
       "      <td>2</td>\n",
       "      <td>NaN</td>\n",
       "      <td>NaN</td>\n",
       "      <td>NaN</td>\n",
       "      <td>0.204</td>\n",
       "      <td>0.152</td>\n",
       "      <td>0.106</td>\n",
       "    </tr>\n",
       "    <tr>\n",
       "      <th>2019-01-10</th>\n",
       "      <td>1</td>\n",
       "      <td>0</td>\n",
       "      <td>AD</td>\n",
       "      <td>06:00:00</td>\n",
       "      <td>2</td>\n",
       "      <td>NaN</td>\n",
       "      <td>NaN</td>\n",
       "      <td>NaN</td>\n",
       "      <td>0.213</td>\n",
       "      <td>0.153</td>\n",
       "      <td>0.111</td>\n",
       "    </tr>\n",
       "    <tr>\n",
       "      <th>2019-01-11</th>\n",
       "      <td>1</td>\n",
       "      <td>0</td>\n",
       "      <td>AD</td>\n",
       "      <td>06:00:00</td>\n",
       "      <td>2</td>\n",
       "      <td>NaN</td>\n",
       "      <td>NaN</td>\n",
       "      <td>NaN</td>\n",
       "      <td>0.213</td>\n",
       "      <td>0.152</td>\n",
       "      <td>0.108</td>\n",
       "    </tr>\n",
       "    <tr>\n",
       "      <th>2019-01-14</th>\n",
       "      <td>1</td>\n",
       "      <td>0</td>\n",
       "      <td>AD</td>\n",
       "      <td>06:00:00</td>\n",
       "      <td>2</td>\n",
       "      <td>NaN</td>\n",
       "      <td>NaN</td>\n",
       "      <td>NaN</td>\n",
       "      <td>0.210</td>\n",
       "      <td>0.147</td>\n",
       "      <td>0.096</td>\n",
       "    </tr>\n",
       "  </tbody>\n",
       "</table>\n",
       "</div>"
      ],
      "text/plain": [
       "            train  way station      hour  composition  p1q0  p2q0  p3q0  \\\n",
       "date                                                                      \n",
       "2019-01-07      1    0      AD  06:00:00            2   NaN   NaN   NaN   \n",
       "2019-01-08      1    0      AD  06:00:00            2   NaN   NaN   NaN   \n",
       "2019-01-10      1    0      AD  06:00:00            2   NaN   NaN   NaN   \n",
       "2019-01-11      1    0      AD  06:00:00            2   NaN   NaN   NaN   \n",
       "2019-01-14      1    0      AD  06:00:00            2   NaN   NaN   NaN   \n",
       "\n",
       "             p0q1   p0q2   p0q3  \n",
       "date                             \n",
       "2019-01-07  0.201  0.138  0.091  \n",
       "2019-01-08  0.204  0.152  0.106  \n",
       "2019-01-10  0.213  0.153  0.111  \n",
       "2019-01-11  0.213  0.152  0.108  \n",
       "2019-01-14  0.210  0.147  0.096  "
      ]
     },
     "execution_count": 10,
     "metadata": {},
     "output_type": "execute_result"
    }
   ],
   "source": [
    "df_train.head()"
   ]
  },
  {
   "cell_type": "markdown",
   "metadata": {},
   "source": [
    "Cargamos los datos de test y realizamos un proceso similar:"
   ]
  },
  {
   "cell_type": "code",
   "execution_count": 11,
   "metadata": {},
   "outputs": [],
   "source": [
    "df_x_test = pd.read_csv('./Data/Xtest.csv')\n",
    "index_t = df_x_test.index"
   ]
  },
  {
   "cell_type": "code",
   "execution_count": 12,
   "metadata": {},
   "outputs": [],
   "source": [
    "df_x_test['date'] = pd.to_datetime(df_x_test['date'])"
   ]
  },
  {
   "cell_type": "code",
   "execution_count": 13,
   "metadata": {},
   "outputs": [
    {
     "name": "stdout",
     "output_type": "stream",
     "text": [
      "<class 'pandas.core.frame.DataFrame'>\n",
      "RangeIndex: 13752 entries, 0 to 13751\n",
      "Data columns (total 12 columns):\n",
      " #   Column       Non-Null Count  Dtype         \n",
      "---  ------       --------------  -----         \n",
      " 0   date         13752 non-null  datetime64[ns]\n",
      " 1   train        13752 non-null  int64         \n",
      " 2   way          13752 non-null  int64         \n",
      " 3   station      13752 non-null  object        \n",
      " 4   hour         12346 non-null  object        \n",
      " 5   composition  13752 non-null  int64         \n",
      " 6   p1q0         12899 non-null  float64       \n",
      " 7   p2q0         12007 non-null  float64       \n",
      " 8   p3q0         11092 non-null  float64       \n",
      " 9   p0q1         12352 non-null  float64       \n",
      " 10  p0q2         10953 non-null  float64       \n",
      " 11  p0q3         9556 non-null   float64       \n",
      "dtypes: datetime64[ns](1), float64(6), int64(3), object(2)\n",
      "memory usage: 1.3+ MB\n"
     ]
    }
   ],
   "source": [
    "df_x_test.info()"
   ]
  },
  {
   "cell_type": "code",
   "execution_count": 14,
   "metadata": {},
   "outputs": [],
   "source": [
    "df_test = df_x_test.copy(deep=True)\n",
    "df_test.set_index('date', inplace=True)"
   ]
  },
  {
   "cell_type": "markdown",
   "metadata": {},
   "source": [
    "Observemos el formato de sumisión al reto:"
   ]
  },
  {
   "cell_type": "code",
   "execution_count": 15,
   "metadata": {},
   "outputs": [],
   "source": [
    "ysample = pd.read_csv('./Data/Ysample_iX1anNa.csv')"
   ]
  },
  {
   "cell_type": "code",
   "execution_count": 16,
   "metadata": {},
   "outputs": [],
   "source": [
    "df_t = ysample[['p0q0']]\n",
    "df_t = df_t.set_index(df_test.index, drop=True)"
   ]
  },
  {
   "cell_type": "code",
   "execution_count": 17,
   "metadata": {},
   "outputs": [
    {
     "data": {
      "text/html": [
       "<div>\n",
       "<style scoped>\n",
       "    .dataframe tbody tr th:only-of-type {\n",
       "        vertical-align: middle;\n",
       "    }\n",
       "\n",
       "    .dataframe tbody tr th {\n",
       "        vertical-align: top;\n",
       "    }\n",
       "\n",
       "    .dataframe thead th {\n",
       "        text-align: right;\n",
       "    }\n",
       "</style>\n",
       "<table border=\"1\" class=\"dataframe\">\n",
       "  <thead>\n",
       "    <tr style=\"text-align: right;\">\n",
       "      <th></th>\n",
       "      <th>p0q0</th>\n",
       "    </tr>\n",
       "    <tr>\n",
       "      <th>date</th>\n",
       "      <th></th>\n",
       "    </tr>\n",
       "  </thead>\n",
       "  <tbody>\n",
       "    <tr>\n",
       "      <th>2019-05-21</th>\n",
       "      <td>0.288</td>\n",
       "    </tr>\n",
       "    <tr>\n",
       "      <th>2019-05-22</th>\n",
       "      <td>0.788</td>\n",
       "    </tr>\n",
       "    <tr>\n",
       "      <th>2019-05-27</th>\n",
       "      <td>0.409</td>\n",
       "    </tr>\n",
       "    <tr>\n",
       "      <th>2019-05-29</th>\n",
       "      <td>0.883</td>\n",
       "    </tr>\n",
       "    <tr>\n",
       "      <th>2019-06-03</th>\n",
       "      <td>0.940</td>\n",
       "    </tr>\n",
       "  </tbody>\n",
       "</table>\n",
       "</div>"
      ],
      "text/plain": [
       "             p0q0\n",
       "date             \n",
       "2019-05-21  0.288\n",
       "2019-05-22  0.788\n",
       "2019-05-27  0.409\n",
       "2019-05-29  0.883\n",
       "2019-06-03  0.940"
      ]
     },
     "execution_count": 17,
     "metadata": {},
     "output_type": "execute_result"
    }
   ],
   "source": [
    "df_t.head()"
   ]
  },
  {
   "cell_type": "markdown",
   "metadata": {},
   "source": [
    "Vamos a leer las 'etiquetas':"
   ]
  },
  {
   "cell_type": "code",
   "execution_count": 18,
   "metadata": {},
   "outputs": [],
   "source": [
    "y_train= pd.read_csv('./Data/Ytrain_yL5OjS4.csv')"
   ]
  },
  {
   "cell_type": "code",
   "execution_count": 19,
   "metadata": {},
   "outputs": [],
   "source": [
    "df = y_train[['p0q0']]\n",
    "df = df.set_index(df_train.index, drop=True)"
   ]
  },
  {
   "cell_type": "code",
   "execution_count": 20,
   "metadata": {},
   "outputs": [
    {
     "data": {
      "text/html": [
       "<div>\n",
       "<style scoped>\n",
       "    .dataframe tbody tr th:only-of-type {\n",
       "        vertical-align: middle;\n",
       "    }\n",
       "\n",
       "    .dataframe tbody tr th {\n",
       "        vertical-align: top;\n",
       "    }\n",
       "\n",
       "    .dataframe thead th {\n",
       "        text-align: right;\n",
       "    }\n",
       "</style>\n",
       "<table border=\"1\" class=\"dataframe\">\n",
       "  <thead>\n",
       "    <tr style=\"text-align: right;\">\n",
       "      <th></th>\n",
       "      <th>p0q0</th>\n",
       "    </tr>\n",
       "    <tr>\n",
       "      <th>date</th>\n",
       "      <th></th>\n",
       "    </tr>\n",
       "  </thead>\n",
       "  <tbody>\n",
       "    <tr>\n",
       "      <th>2019-01-07</th>\n",
       "      <td>0.216</td>\n",
       "    </tr>\n",
       "    <tr>\n",
       "      <th>2019-01-08</th>\n",
       "      <td>0.216</td>\n",
       "    </tr>\n",
       "    <tr>\n",
       "      <th>2019-01-10</th>\n",
       "      <td>0.227</td>\n",
       "    </tr>\n",
       "    <tr>\n",
       "      <th>2019-01-11</th>\n",
       "      <td>0.229</td>\n",
       "    </tr>\n",
       "    <tr>\n",
       "      <th>2019-01-14</th>\n",
       "      <td>0.225</td>\n",
       "    </tr>\n",
       "  </tbody>\n",
       "</table>\n",
       "</div>"
      ],
      "text/plain": [
       "             p0q0\n",
       "date             \n",
       "2019-01-07  0.216\n",
       "2019-01-08  0.216\n",
       "2019-01-10  0.227\n",
       "2019-01-11  0.229\n",
       "2019-01-14  0.225"
      ]
     },
     "execution_count": 20,
     "metadata": {},
     "output_type": "execute_result"
    }
   ],
   "source": [
    "df.head()"
   ]
  },
  {
   "cell_type": "code",
   "execution_count": 21,
   "metadata": {},
   "outputs": [
    {
     "data": {
      "image/png": "[encoded data removed]",
      "text/plain": [
       "<Figure size 1000x500 with 1 Axes>"
      ]
     },
     "metadata": {},
     "output_type": "display_data"
    }
   ],
   "source": [
    "fig = plt.figure(figsize=(10, 5))\n",
    "plt.plot(df.iloc[:58])\n",
    "plt.gcf().autofmt_xdate()\n",
    "plt.show()"
   ]
  },
  {
   "cell_type": "code",
   "execution_count": 22,
   "metadata": {},
   "outputs": [
    {
     "data": {
      "image/png": "[encoded data removed]",
      "text/plain": [
       "<Figure size 1000x500 with 1 Axes>"
      ]
     },
     "metadata": {},
     "output_type": "display_data"
    }
   ],
   "source": [
    "fig = plt.figure(figsize=(10, 5))\n",
    "plt.plot(df.iloc[58:2*58])\n",
    "plt.gcf().autofmt_xdate()\n",
    "plt.show()"
   ]
  },
  {
   "cell_type": "code",
   "execution_count": 23,
   "metadata": {},
   "outputs": [
    {
     "data": {
      "image/png": "[encoded data removed]",
      "text/plain": [
       "<Figure size 1000x500 with 1 Axes>"
      ]
     },
     "metadata": {},
     "output_type": "display_data"
    }
   ],
   "source": [
    "fig = plt.figure(figsize=(10, 5))\n",
    "plt.plot(df_t.iloc[:15])\n",
    "plt.gcf().autofmt_xdate()\n",
    "plt.show()"
   ]
  },
  {
   "cell_type": "markdown",
   "metadata": {},
   "source": [
    "Vamos a pronosticar para un solo tren:"
   ]
  },
  {
   "cell_type": "code",
   "execution_count": 24,
   "metadata": {},
   "outputs": [],
   "source": [
    "datos = pd.concat([df,df_train], axis=1)\n",
    "datos = datos[['p0q0','p0q1','p0q2','p0q3','train','way','station','hour']]\n",
    "datos = datos.dropna()"
   ]
  },
  {
   "cell_type": "code",
   "execution_count": 25,
   "metadata": {},
   "outputs": [
    {
     "data": {
      "text/html": [
       "<div>\n",
       "<style scoped>\n",
       "    .dataframe tbody tr th:only-of-type {\n",
       "        vertical-align: middle;\n",
       "    }\n",
       "\n",
       "    .dataframe tbody tr th {\n",
       "        vertical-align: top;\n",
       "    }\n",
       "\n",
       "    .dataframe thead th {\n",
       "        text-align: right;\n",
       "    }\n",
       "</style>\n",
       "<table border=\"1\" class=\"dataframe\">\n",
       "  <thead>\n",
       "    <tr style=\"text-align: right;\">\n",
       "      <th></th>\n",
       "      <th>p0q0</th>\n",
       "      <th>p0q1</th>\n",
       "      <th>p0q2</th>\n",
       "      <th>p0q3</th>\n",
       "      <th>train</th>\n",
       "      <th>way</th>\n",
       "      <th>station</th>\n",
       "      <th>hour</th>\n",
       "    </tr>\n",
       "    <tr>\n",
       "      <th>date</th>\n",
       "      <th></th>\n",
       "      <th></th>\n",
       "      <th></th>\n",
       "      <th></th>\n",
       "      <th></th>\n",
       "      <th></th>\n",
       "      <th></th>\n",
       "      <th></th>\n",
       "    </tr>\n",
       "  </thead>\n",
       "  <tbody>\n",
       "    <tr>\n",
       "      <th>2019-01-07</th>\n",
       "      <td>0.216</td>\n",
       "      <td>0.201</td>\n",
       "      <td>0.138</td>\n",
       "      <td>0.091</td>\n",
       "      <td>1</td>\n",
       "      <td>0</td>\n",
       "      <td>AD</td>\n",
       "      <td>06:00:00</td>\n",
       "    </tr>\n",
       "    <tr>\n",
       "      <th>2019-01-08</th>\n",
       "      <td>0.216</td>\n",
       "      <td>0.204</td>\n",
       "      <td>0.152</td>\n",
       "      <td>0.106</td>\n",
       "      <td>1</td>\n",
       "      <td>0</td>\n",
       "      <td>AD</td>\n",
       "      <td>06:00:00</td>\n",
       "    </tr>\n",
       "    <tr>\n",
       "      <th>2019-01-10</th>\n",
       "      <td>0.227</td>\n",
       "      <td>0.213</td>\n",
       "      <td>0.153</td>\n",
       "      <td>0.111</td>\n",
       "      <td>1</td>\n",
       "      <td>0</td>\n",
       "      <td>AD</td>\n",
       "      <td>06:00:00</td>\n",
       "    </tr>\n",
       "    <tr>\n",
       "      <th>2019-01-11</th>\n",
       "      <td>0.229</td>\n",
       "      <td>0.213</td>\n",
       "      <td>0.152</td>\n",
       "      <td>0.108</td>\n",
       "      <td>1</td>\n",
       "      <td>0</td>\n",
       "      <td>AD</td>\n",
       "      <td>06:00:00</td>\n",
       "    </tr>\n",
       "    <tr>\n",
       "      <th>2019-01-14</th>\n",
       "      <td>0.225</td>\n",
       "      <td>0.210</td>\n",
       "      <td>0.147</td>\n",
       "      <td>0.096</td>\n",
       "      <td>1</td>\n",
       "      <td>0</td>\n",
       "      <td>AD</td>\n",
       "      <td>06:00:00</td>\n",
       "    </tr>\n",
       "  </tbody>\n",
       "</table>\n",
       "</div>"
      ],
      "text/plain": [
       "             p0q0   p0q1   p0q2   p0q3  train  way station      hour\n",
       "date                                                                \n",
       "2019-01-07  0.216  0.201  0.138  0.091      1    0      AD  06:00:00\n",
       "2019-01-08  0.216  0.204  0.152  0.106      1    0      AD  06:00:00\n",
       "2019-01-10  0.227  0.213  0.153  0.111      1    0      AD  06:00:00\n",
       "2019-01-11  0.229  0.213  0.152  0.108      1    0      AD  06:00:00\n",
       "2019-01-14  0.225  0.210  0.147  0.096      1    0      AD  06:00:00"
      ]
     },
     "execution_count": 25,
     "metadata": {},
     "output_type": "execute_result"
    }
   ],
   "source": [
    "datos.head()"
   ]
  },
  {
   "cell_type": "code",
   "execution_count": 26,
   "metadata": {},
   "outputs": [],
   "source": [
    "datos['hour'] = datos['hour'].apply(lambda x: float(x[1]))"
   ]
  },
  {
   "cell_type": "code",
   "execution_count": 27,
   "metadata": {},
   "outputs": [
    {
     "data": {
      "text/html": [
       "<div>\n",
       "<style scoped>\n",
       "    .dataframe tbody tr th:only-of-type {\n",
       "        vertical-align: middle;\n",
       "    }\n",
       "\n",
       "    .dataframe tbody tr th {\n",
       "        vertical-align: top;\n",
       "    }\n",
       "\n",
       "    .dataframe thead th {\n",
       "        text-align: right;\n",
       "    }\n",
       "</style>\n",
       "<table border=\"1\" class=\"dataframe\">\n",
       "  <thead>\n",
       "    <tr style=\"text-align: right;\">\n",
       "      <th></th>\n",
       "      <th>p0q0</th>\n",
       "      <th>p0q1</th>\n",
       "      <th>p0q2</th>\n",
       "      <th>p0q3</th>\n",
       "      <th>train</th>\n",
       "      <th>way</th>\n",
       "      <th>station</th>\n",
       "      <th>hour</th>\n",
       "    </tr>\n",
       "    <tr>\n",
       "      <th>date</th>\n",
       "      <th></th>\n",
       "      <th></th>\n",
       "      <th></th>\n",
       "      <th></th>\n",
       "      <th></th>\n",
       "      <th></th>\n",
       "      <th></th>\n",
       "      <th></th>\n",
       "    </tr>\n",
       "  </thead>\n",
       "  <tbody>\n",
       "    <tr>\n",
       "      <th>2019-01-07</th>\n",
       "      <td>0.216</td>\n",
       "      <td>0.201</td>\n",
       "      <td>0.138</td>\n",
       "      <td>0.091</td>\n",
       "      <td>1</td>\n",
       "      <td>0</td>\n",
       "      <td>AD</td>\n",
       "      <td>6.0</td>\n",
       "    </tr>\n",
       "    <tr>\n",
       "      <th>2019-01-08</th>\n",
       "      <td>0.216</td>\n",
       "      <td>0.204</td>\n",
       "      <td>0.152</td>\n",
       "      <td>0.106</td>\n",
       "      <td>1</td>\n",
       "      <td>0</td>\n",
       "      <td>AD</td>\n",
       "      <td>6.0</td>\n",
       "    </tr>\n",
       "    <tr>\n",
       "      <th>2019-01-10</th>\n",
       "      <td>0.227</td>\n",
       "      <td>0.213</td>\n",
       "      <td>0.153</td>\n",
       "      <td>0.111</td>\n",
       "      <td>1</td>\n",
       "      <td>0</td>\n",
       "      <td>AD</td>\n",
       "      <td>6.0</td>\n",
       "    </tr>\n",
       "    <tr>\n",
       "      <th>2019-01-11</th>\n",
       "      <td>0.229</td>\n",
       "      <td>0.213</td>\n",
       "      <td>0.152</td>\n",
       "      <td>0.108</td>\n",
       "      <td>1</td>\n",
       "      <td>0</td>\n",
       "      <td>AD</td>\n",
       "      <td>6.0</td>\n",
       "    </tr>\n",
       "    <tr>\n",
       "      <th>2019-01-14</th>\n",
       "      <td>0.225</td>\n",
       "      <td>0.210</td>\n",
       "      <td>0.147</td>\n",
       "      <td>0.096</td>\n",
       "      <td>1</td>\n",
       "      <td>0</td>\n",
       "      <td>AD</td>\n",
       "      <td>6.0</td>\n",
       "    </tr>\n",
       "  </tbody>\n",
       "</table>\n",
       "</div>"
      ],
      "text/plain": [
       "             p0q0   p0q1   p0q2   p0q3  train  way station  hour\n",
       "date                                                            \n",
       "2019-01-07  0.216  0.201  0.138  0.091      1    0      AD   6.0\n",
       "2019-01-08  0.216  0.204  0.152  0.106      1    0      AD   6.0\n",
       "2019-01-10  0.227  0.213  0.153  0.111      1    0      AD   6.0\n",
       "2019-01-11  0.229  0.213  0.152  0.108      1    0      AD   6.0\n",
       "2019-01-14  0.225  0.210  0.147  0.096      1    0      AD   6.0"
      ]
     },
     "execution_count": 27,
     "metadata": {},
     "output_type": "execute_result"
    }
   ],
   "source": [
    "datos.head()"
   ]
  },
  {
   "cell_type": "markdown",
   "metadata": {},
   "source": [
    "Vamos a quedarnos con el tren número 1:"
   ]
  },
  {
   "cell_type": "code",
   "execution_count": 28,
   "metadata": {},
   "outputs": [],
   "source": [
    "rest = datos[datos['train'] == 1]"
   ]
  },
  {
   "cell_type": "markdown",
   "metadata": {},
   "source": [
    "Realizamos un one-hot encoding sobre las estaciones:"
   ]
  },
  {
   "cell_type": "code",
   "execution_count": 29,
   "metadata": {},
   "outputs": [],
   "source": [
    "rest = pd.get_dummies(rest, prefix='station')"
   ]
  },
  {
   "cell_type": "code",
   "execution_count": 30,
   "metadata": {},
   "outputs": [
    {
     "data": {
      "text/html": [
       "<div>\n",
       "<style scoped>\n",
       "    .dataframe tbody tr th:only-of-type {\n",
       "        vertical-align: middle;\n",
       "    }\n",
       "\n",
       "    .dataframe tbody tr th {\n",
       "        vertical-align: top;\n",
       "    }\n",
       "\n",
       "    .dataframe thead th {\n",
       "        text-align: right;\n",
       "    }\n",
       "</style>\n",
       "<table border=\"1\" class=\"dataframe\">\n",
       "  <thead>\n",
       "    <tr style=\"text-align: right;\">\n",
       "      <th></th>\n",
       "      <th>p0q0</th>\n",
       "      <th>p0q1</th>\n",
       "      <th>p0q2</th>\n",
       "      <th>p0q3</th>\n",
       "      <th>train</th>\n",
       "      <th>way</th>\n",
       "      <th>hour</th>\n",
       "      <th>station_AD</th>\n",
       "      <th>station_AI</th>\n",
       "      <th>station_AJ</th>\n",
       "      <th>station_AK</th>\n",
       "      <th>station_AM</th>\n",
       "      <th>station_AT</th>\n",
       "      <th>station_AW</th>\n",
       "      <th>station_BB</th>\n",
       "    </tr>\n",
       "    <tr>\n",
       "      <th>date</th>\n",
       "      <th></th>\n",
       "      <th></th>\n",
       "      <th></th>\n",
       "      <th></th>\n",
       "      <th></th>\n",
       "      <th></th>\n",
       "      <th></th>\n",
       "      <th></th>\n",
       "      <th></th>\n",
       "      <th></th>\n",
       "      <th></th>\n",
       "      <th></th>\n",
       "      <th></th>\n",
       "      <th></th>\n",
       "      <th></th>\n",
       "    </tr>\n",
       "  </thead>\n",
       "  <tbody>\n",
       "    <tr>\n",
       "      <th>2019-01-07</th>\n",
       "      <td>0.216</td>\n",
       "      <td>0.201</td>\n",
       "      <td>0.138</td>\n",
       "      <td>0.091</td>\n",
       "      <td>1</td>\n",
       "      <td>0</td>\n",
       "      <td>6.0</td>\n",
       "      <td>True</td>\n",
       "      <td>False</td>\n",
       "      <td>False</td>\n",
       "      <td>False</td>\n",
       "      <td>False</td>\n",
       "      <td>False</td>\n",
       "      <td>False</td>\n",
       "      <td>False</td>\n",
       "    </tr>\n",
       "    <tr>\n",
       "      <th>2019-01-08</th>\n",
       "      <td>0.216</td>\n",
       "      <td>0.204</td>\n",
       "      <td>0.152</td>\n",
       "      <td>0.106</td>\n",
       "      <td>1</td>\n",
       "      <td>0</td>\n",
       "      <td>6.0</td>\n",
       "      <td>True</td>\n",
       "      <td>False</td>\n",
       "      <td>False</td>\n",
       "      <td>False</td>\n",
       "      <td>False</td>\n",
       "      <td>False</td>\n",
       "      <td>False</td>\n",
       "      <td>False</td>\n",
       "    </tr>\n",
       "    <tr>\n",
       "      <th>2019-01-10</th>\n",
       "      <td>0.227</td>\n",
       "      <td>0.213</td>\n",
       "      <td>0.153</td>\n",
       "      <td>0.111</td>\n",
       "      <td>1</td>\n",
       "      <td>0</td>\n",
       "      <td>6.0</td>\n",
       "      <td>True</td>\n",
       "      <td>False</td>\n",
       "      <td>False</td>\n",
       "      <td>False</td>\n",
       "      <td>False</td>\n",
       "      <td>False</td>\n",
       "      <td>False</td>\n",
       "      <td>False</td>\n",
       "    </tr>\n",
       "    <tr>\n",
       "      <th>2019-01-11</th>\n",
       "      <td>0.229</td>\n",
       "      <td>0.213</td>\n",
       "      <td>0.152</td>\n",
       "      <td>0.108</td>\n",
       "      <td>1</td>\n",
       "      <td>0</td>\n",
       "      <td>6.0</td>\n",
       "      <td>True</td>\n",
       "      <td>False</td>\n",
       "      <td>False</td>\n",
       "      <td>False</td>\n",
       "      <td>False</td>\n",
       "      <td>False</td>\n",
       "      <td>False</td>\n",
       "      <td>False</td>\n",
       "    </tr>\n",
       "    <tr>\n",
       "      <th>2019-01-14</th>\n",
       "      <td>0.225</td>\n",
       "      <td>0.210</td>\n",
       "      <td>0.147</td>\n",
       "      <td>0.096</td>\n",
       "      <td>1</td>\n",
       "      <td>0</td>\n",
       "      <td>6.0</td>\n",
       "      <td>True</td>\n",
       "      <td>False</td>\n",
       "      <td>False</td>\n",
       "      <td>False</td>\n",
       "      <td>False</td>\n",
       "      <td>False</td>\n",
       "      <td>False</td>\n",
       "      <td>False</td>\n",
       "    </tr>\n",
       "  </tbody>\n",
       "</table>\n",
       "</div>"
      ],
      "text/plain": [
       "             p0q0   p0q1   p0q2   p0q3  train  way  hour  station_AD  \\\n",
       "date                                                                   \n",
       "2019-01-07  0.216  0.201  0.138  0.091      1    0   6.0        True   \n",
       "2019-01-08  0.216  0.204  0.152  0.106      1    0   6.0        True   \n",
       "2019-01-10  0.227  0.213  0.153  0.111      1    0   6.0        True   \n",
       "2019-01-11  0.229  0.213  0.152  0.108      1    0   6.0        True   \n",
       "2019-01-14  0.225  0.210  0.147  0.096      1    0   6.0        True   \n",
       "\n",
       "            station_AI  station_AJ  station_AK  station_AM  station_AT  \\\n",
       "date                                                                     \n",
       "2019-01-07       False       False       False       False       False   \n",
       "2019-01-08       False       False       False       False       False   \n",
       "2019-01-10       False       False       False       False       False   \n",
       "2019-01-11       False       False       False       False       False   \n",
       "2019-01-14       False       False       False       False       False   \n",
       "\n",
       "            station_AW  station_BB  \n",
       "date                                \n",
       "2019-01-07       False       False  \n",
       "2019-01-08       False       False  \n",
       "2019-01-10       False       False  \n",
       "2019-01-11       False       False  \n",
       "2019-01-14       False       False  "
      ]
     },
     "execution_count": 30,
     "metadata": {},
     "output_type": "execute_result"
    }
   ],
   "source": [
    "rest.head()"
   ]
  },
  {
   "cell_type": "code",
   "execution_count": 31,
   "metadata": {},
   "outputs": [
    {
     "name": "stdout",
     "output_type": "stream",
     "text": [
      "<class 'pandas.core.frame.DataFrame'>\n",
      "DatetimeIndex: 464 entries, 2019-01-07 to 2019-05-20\n",
      "Data columns (total 15 columns):\n",
      " #   Column      Non-Null Count  Dtype  \n",
      "---  ------      --------------  -----  \n",
      " 0   p0q0        464 non-null    float64\n",
      " 1   p0q1        464 non-null    float64\n",
      " 2   p0q2        464 non-null    float64\n",
      " 3   p0q3        464 non-null    float64\n",
      " 4   train       464 non-null    int64  \n",
      " 5   way         464 non-null    int64  \n",
      " 6   hour        464 non-null    float64\n",
      " 7   station_AD  464 non-null    bool   \n",
      " 8   station_AI  464 non-null    bool   \n",
      " 9   station_AJ  464 non-null    bool   \n",
      " 10  station_AK  464 non-null    bool   \n",
      " 11  station_AM  464 non-null    bool   \n",
      " 12  station_AT  464 non-null    bool   \n",
      " 13  station_AW  464 non-null    bool   \n",
      " 14  station_BB  464 non-null    bool   \n",
      "dtypes: bool(8), float64(5), int64(2)\n",
      "memory usage: 32.6 KB\n"
     ]
    }
   ],
   "source": [
    "rest.info()"
   ]
  },
  {
   "cell_type": "code",
   "execution_count": 32,
   "metadata": {},
   "outputs": [],
   "source": [
    "X = rest.iloc[:,1:]\n",
    "y = rest.iloc[:,0]\n"
   ]
  },
  {
   "cell_type": "code",
   "execution_count": 33,
   "metadata": {},
   "outputs": [
    {
     "data": {
      "text/html": [
       "<div>\n",
       "<style scoped>\n",
       "    .dataframe tbody tr th:only-of-type {\n",
       "        vertical-align: middle;\n",
       "    }\n",
       "\n",
       "    .dataframe tbody tr th {\n",
       "        vertical-align: top;\n",
       "    }\n",
       "\n",
       "    .dataframe thead th {\n",
       "        text-align: right;\n",
       "    }\n",
       "</style>\n",
       "<table border=\"1\" class=\"dataframe\">\n",
       "  <thead>\n",
       "    <tr style=\"text-align: right;\">\n",
       "      <th></th>\n",
       "      <th>p0q1</th>\n",
       "      <th>p0q2</th>\n",
       "      <th>p0q3</th>\n",
       "      <th>train</th>\n",
       "      <th>way</th>\n",
       "      <th>hour</th>\n",
       "      <th>station_AD</th>\n",
       "      <th>station_AI</th>\n",
       "      <th>station_AJ</th>\n",
       "      <th>station_AK</th>\n",
       "      <th>station_AM</th>\n",
       "      <th>station_AT</th>\n",
       "      <th>station_AW</th>\n",
       "      <th>station_BB</th>\n",
       "    </tr>\n",
       "    <tr>\n",
       "      <th>date</th>\n",
       "      <th></th>\n",
       "      <th></th>\n",
       "      <th></th>\n",
       "      <th></th>\n",
       "      <th></th>\n",
       "      <th></th>\n",
       "      <th></th>\n",
       "      <th></th>\n",
       "      <th></th>\n",
       "      <th></th>\n",
       "      <th></th>\n",
       "      <th></th>\n",
       "      <th></th>\n",
       "      <th></th>\n",
       "    </tr>\n",
       "  </thead>\n",
       "  <tbody>\n",
       "    <tr>\n",
       "      <th>2019-01-07</th>\n",
       "      <td>0.201</td>\n",
       "      <td>0.138</td>\n",
       "      <td>0.091</td>\n",
       "      <td>1</td>\n",
       "      <td>0</td>\n",
       "      <td>6.0</td>\n",
       "      <td>True</td>\n",
       "      <td>False</td>\n",
       "      <td>False</td>\n",
       "      <td>False</td>\n",
       "      <td>False</td>\n",
       "      <td>False</td>\n",
       "      <td>False</td>\n",
       "      <td>False</td>\n",
       "    </tr>\n",
       "    <tr>\n",
       "      <th>2019-01-08</th>\n",
       "      <td>0.204</td>\n",
       "      <td>0.152</td>\n",
       "      <td>0.106</td>\n",
       "      <td>1</td>\n",
       "      <td>0</td>\n",
       "      <td>6.0</td>\n",
       "      <td>True</td>\n",
       "      <td>False</td>\n",
       "      <td>False</td>\n",
       "      <td>False</td>\n",
       "      <td>False</td>\n",
       "      <td>False</td>\n",
       "      <td>False</td>\n",
       "      <td>False</td>\n",
       "    </tr>\n",
       "    <tr>\n",
       "      <th>2019-01-10</th>\n",
       "      <td>0.213</td>\n",
       "      <td>0.153</td>\n",
       "      <td>0.111</td>\n",
       "      <td>1</td>\n",
       "      <td>0</td>\n",
       "      <td>6.0</td>\n",
       "      <td>True</td>\n",
       "      <td>False</td>\n",
       "      <td>False</td>\n",
       "      <td>False</td>\n",
       "      <td>False</td>\n",
       "      <td>False</td>\n",
       "      <td>False</td>\n",
       "      <td>False</td>\n",
       "    </tr>\n",
       "    <tr>\n",
       "      <th>2019-01-11</th>\n",
       "      <td>0.213</td>\n",
       "      <td>0.152</td>\n",
       "      <td>0.108</td>\n",
       "      <td>1</td>\n",
       "      <td>0</td>\n",
       "      <td>6.0</td>\n",
       "      <td>True</td>\n",
       "      <td>False</td>\n",
       "      <td>False</td>\n",
       "      <td>False</td>\n",
       "      <td>False</td>\n",
       "      <td>False</td>\n",
       "      <td>False</td>\n",
       "      <td>False</td>\n",
       "    </tr>\n",
       "    <tr>\n",
       "      <th>2019-01-14</th>\n",
       "      <td>0.210</td>\n",
       "      <td>0.147</td>\n",
       "      <td>0.096</td>\n",
       "      <td>1</td>\n",
       "      <td>0</td>\n",
       "      <td>6.0</td>\n",
       "      <td>True</td>\n",
       "      <td>False</td>\n",
       "      <td>False</td>\n",
       "      <td>False</td>\n",
       "      <td>False</td>\n",
       "      <td>False</td>\n",
       "      <td>False</td>\n",
       "      <td>False</td>\n",
       "    </tr>\n",
       "  </tbody>\n",
       "</table>\n",
       "</div>"
      ],
      "text/plain": [
       "             p0q1   p0q2   p0q3  train  way  hour  station_AD  station_AI  \\\n",
       "date                                                                        \n",
       "2019-01-07  0.201  0.138  0.091      1    0   6.0        True       False   \n",
       "2019-01-08  0.204  0.152  0.106      1    0   6.0        True       False   \n",
       "2019-01-10  0.213  0.153  0.111      1    0   6.0        True       False   \n",
       "2019-01-11  0.213  0.152  0.108      1    0   6.0        True       False   \n",
       "2019-01-14  0.210  0.147  0.096      1    0   6.0        True       False   \n",
       "\n",
       "            station_AJ  station_AK  station_AM  station_AT  station_AW  \\\n",
       "date                                                                     \n",
       "2019-01-07       False       False       False       False       False   \n",
       "2019-01-08       False       False       False       False       False   \n",
       "2019-01-10       False       False       False       False       False   \n",
       "2019-01-11       False       False       False       False       False   \n",
       "2019-01-14       False       False       False       False       False   \n",
       "\n",
       "            station_BB  \n",
       "date                    \n",
       "2019-01-07       False  \n",
       "2019-01-08       False  \n",
       "2019-01-10       False  \n",
       "2019-01-11       False  \n",
       "2019-01-14       False  "
      ]
     },
     "execution_count": 33,
     "metadata": {},
     "output_type": "execute_result"
    }
   ],
   "source": [
    "X.head()"
   ]
  },
  {
   "cell_type": "code",
   "execution_count": 34,
   "metadata": {},
   "outputs": [
    {
     "data": {
      "text/plain": [
       "date\n",
       "2019-01-07    0.216\n",
       "2019-01-08    0.216\n",
       "2019-01-10    0.227\n",
       "2019-01-11    0.229\n",
       "2019-01-14    0.225\n",
       "Name: p0q0, dtype: float64"
      ]
     },
     "execution_count": 34,
     "metadata": {},
     "output_type": "execute_result"
    }
   ],
   "source": [
    "y.head()"
   ]
  },
  {
   "cell_type": "markdown",
   "metadata": {},
   "source": [
    "Vamos a separar en conjunto de entrenamiento y prueba:"
   ]
  },
  {
   "cell_type": "code",
   "execution_count": 35,
   "metadata": {},
   "outputs": [],
   "source": [
    "X_train, X_test, y_train, y_test = train_test_split(X, y, random_state=42, train_size = 0.8)"
   ]
  },
  {
   "cell_type": "markdown",
   "metadata": {},
   "source": [
    "### Training"
   ]
  },
  {
   "cell_type": "code",
   "execution_count": 36,
   "metadata": {},
   "outputs": [
    {
     "data": {
      "text/html": [
       "<div>\n",
       "<style scoped>\n",
       "    .dataframe tbody tr th:only-of-type {\n",
       "        vertical-align: middle;\n",
       "    }\n",
       "\n",
       "    .dataframe tbody tr th {\n",
       "        vertical-align: top;\n",
       "    }\n",
       "\n",
       "    .dataframe thead th {\n",
       "        text-align: right;\n",
       "    }\n",
       "</style>\n",
       "<table border=\"1\" class=\"dataframe\">\n",
       "  <thead>\n",
       "    <tr style=\"text-align: right;\">\n",
       "      <th></th>\n",
       "      <th>p0q1</th>\n",
       "      <th>p0q2</th>\n",
       "      <th>p0q3</th>\n",
       "      <th>train</th>\n",
       "      <th>way</th>\n",
       "      <th>hour</th>\n",
       "      <th>station_AD</th>\n",
       "      <th>station_AI</th>\n",
       "      <th>station_AJ</th>\n",
       "      <th>station_AK</th>\n",
       "      <th>station_AM</th>\n",
       "      <th>station_AT</th>\n",
       "      <th>station_AW</th>\n",
       "      <th>station_BB</th>\n",
       "    </tr>\n",
       "    <tr>\n",
       "      <th>date</th>\n",
       "      <th></th>\n",
       "      <th></th>\n",
       "      <th></th>\n",
       "      <th></th>\n",
       "      <th></th>\n",
       "      <th></th>\n",
       "      <th></th>\n",
       "      <th></th>\n",
       "      <th></th>\n",
       "      <th></th>\n",
       "      <th></th>\n",
       "      <th></th>\n",
       "      <th></th>\n",
       "      <th></th>\n",
       "    </tr>\n",
       "  </thead>\n",
       "  <tbody>\n",
       "    <tr>\n",
       "      <th>2019-02-06</th>\n",
       "      <td>0.258</td>\n",
       "      <td>0.266</td>\n",
       "      <td>0.233</td>\n",
       "      <td>1</td>\n",
       "      <td>0</td>\n",
       "      <td>6.0</td>\n",
       "      <td>False</td>\n",
       "      <td>False</td>\n",
       "      <td>False</td>\n",
       "      <td>False</td>\n",
       "      <td>False</td>\n",
       "      <td>False</td>\n",
       "      <td>False</td>\n",
       "      <td>True</td>\n",
       "    </tr>\n",
       "    <tr>\n",
       "      <th>2019-05-15</th>\n",
       "      <td>0.209</td>\n",
       "      <td>0.229</td>\n",
       "      <td>0.199</td>\n",
       "      <td>1</td>\n",
       "      <td>0</td>\n",
       "      <td>6.0</td>\n",
       "      <td>False</td>\n",
       "      <td>True</td>\n",
       "      <td>False</td>\n",
       "      <td>False</td>\n",
       "      <td>False</td>\n",
       "      <td>False</td>\n",
       "      <td>False</td>\n",
       "      <td>False</td>\n",
       "    </tr>\n",
       "    <tr>\n",
       "      <th>2019-04-08</th>\n",
       "      <td>0.204</td>\n",
       "      <td>0.232</td>\n",
       "      <td>0.193</td>\n",
       "      <td>1</td>\n",
       "      <td>0</td>\n",
       "      <td>6.0</td>\n",
       "      <td>False</td>\n",
       "      <td>True</td>\n",
       "      <td>False</td>\n",
       "      <td>False</td>\n",
       "      <td>False</td>\n",
       "      <td>False</td>\n",
       "      <td>False</td>\n",
       "      <td>False</td>\n",
       "    </tr>\n",
       "    <tr>\n",
       "      <th>2019-05-20</th>\n",
       "      <td>0.203</td>\n",
       "      <td>0.150</td>\n",
       "      <td>0.102</td>\n",
       "      <td>1</td>\n",
       "      <td>0</td>\n",
       "      <td>6.0</td>\n",
       "      <td>True</td>\n",
       "      <td>False</td>\n",
       "      <td>False</td>\n",
       "      <td>False</td>\n",
       "      <td>False</td>\n",
       "      <td>False</td>\n",
       "      <td>False</td>\n",
       "      <td>False</td>\n",
       "    </tr>\n",
       "    <tr>\n",
       "      <th>2019-05-16</th>\n",
       "      <td>0.239</td>\n",
       "      <td>0.242</td>\n",
       "      <td>0.214</td>\n",
       "      <td>1</td>\n",
       "      <td>0</td>\n",
       "      <td>6.0</td>\n",
       "      <td>False</td>\n",
       "      <td>False</td>\n",
       "      <td>False</td>\n",
       "      <td>False</td>\n",
       "      <td>False</td>\n",
       "      <td>False</td>\n",
       "      <td>False</td>\n",
       "      <td>True</td>\n",
       "    </tr>\n",
       "  </tbody>\n",
       "</table>\n",
       "</div>"
      ],
      "text/plain": [
       "             p0q1   p0q2   p0q3  train  way  hour  station_AD  station_AI  \\\n",
       "date                                                                        \n",
       "2019-02-06  0.258  0.266  0.233      1    0   6.0       False       False   \n",
       "2019-05-15  0.209  0.229  0.199      1    0   6.0       False        True   \n",
       "2019-04-08  0.204  0.232  0.193      1    0   6.0       False        True   \n",
       "2019-05-20  0.203  0.150  0.102      1    0   6.0        True       False   \n",
       "2019-05-16  0.239  0.242  0.214      1    0   6.0       False       False   \n",
       "\n",
       "            station_AJ  station_AK  station_AM  station_AT  station_AW  \\\n",
       "date                                                                     \n",
       "2019-02-06       False       False       False       False       False   \n",
       "2019-05-15       False       False       False       False       False   \n",
       "2019-04-08       False       False       False       False       False   \n",
       "2019-05-20       False       False       False       False       False   \n",
       "2019-05-16       False       False       False       False       False   \n",
       "\n",
       "            station_BB  \n",
       "date                    \n",
       "2019-02-06        True  \n",
       "2019-05-15       False  \n",
       "2019-04-08       False  \n",
       "2019-05-20       False  \n",
       "2019-05-16        True  "
      ]
     },
     "execution_count": 36,
     "metadata": {},
     "output_type": "execute_result"
    }
   ],
   "source": [
    "X_train.head()"
   ]
  },
  {
   "cell_type": "code",
   "execution_count": 37,
   "metadata": {},
   "outputs": [
    {
     "data": {
      "text/plain": [
       "date\n",
       "2019-02-06    0.253\n",
       "2019-05-15    0.272\n",
       "2019-04-08    0.259\n",
       "2019-05-20    0.215\n",
       "2019-05-16    0.220\n",
       "Name: p0q0, dtype: float64"
      ]
     },
     "execution_count": 37,
     "metadata": {},
     "output_type": "execute_result"
    }
   ],
   "source": [
    "y_train.head()"
   ]
  },
  {
   "cell_type": "markdown",
   "metadata": {},
   "source": [
    "Vamos a definir la clase CustomDataset, que hereda de Dataset su comportamiento y haremos un 'override' de algunos de sus métodos:"
   ]
  },
  {
   "cell_type": "code",
   "execution_count": 38,
   "metadata": {},
   "outputs": [],
   "source": [
    "class CustomDataset(Dataset):\n",
    "    def __init__(self, data1, data2):\n",
    "        self.data1 = data1\n",
    "        self.data2 = data2\n",
    "        self.X, self.y = self.data_prep(self.data1, self.data2)\n",
    "        \n",
    "    def __len__(self):\n",
    "        return len(self.X)\n",
    "    \n",
    "    def __getitem__(self, idx):\n",
    "        return self.X[idx], self.y[idx]\n",
    "    \n",
    "    def data_prep(self, data1, data2):\n",
    "        x = []\n",
    "        y = []\n",
    "\n",
    "        for i in range(data1.shape[0]):\n",
    "            x.append(data1.iloc[i, [2, 1, 0]].values.astype(np.float32))  # Collect data_train in blocks of 3 stations\n",
    "            y.append(data2.iloc[i])  # Collect all ytrain data\n",
    "\n",
    "        x = np.array(x)\n",
    "        y = np.array(y)\n",
    "\n",
    "        x = torch.from_numpy(x).reshape(data1.shape[0], 3, 1)\n",
    "        y = torch.from_numpy(y).reshape(-1, 1)\n",
    "\n",
    "        X = torch.zeros((data1.shape[0], 3, data1.shape[1] - 2))\n",
    "        for i in range(data1.shape[0]):\n",
    "            for j in range(3):\n",
    "                X[i][j] = torch.cat((x[i][j], torch.tensor(data1.iloc[i, 3:].values.astype(np.float32), dtype=torch.float32)))\n",
    "\n",
    "\n",
    "        return X, y"
   ]
  },
  {
   "cell_type": "code",
   "execution_count": 39,
   "metadata": {},
   "outputs": [],
   "source": [
    "train_dataset = CustomDataset(X_train, y_train)"
   ]
  },
  {
   "cell_type": "code",
   "execution_count": 40,
   "metadata": {},
   "outputs": [],
   "source": [
    "BATCH_SIZE = 4"
   ]
  },
  {
   "cell_type": "markdown",
   "metadata": {},
   "source": [
    "Generamos el dataloader para el modelo:"
   ]
  },
  {
   "cell_type": "code",
   "execution_count": 41,
   "metadata": {},
   "outputs": [],
   "source": [
    "train_loader = DataLoader(dataset=train_dataset, batch_size=BATCH_SIZE, shuffle=True)"
   ]
  },
  {
   "cell_type": "markdown",
   "metadata": {},
   "source": [
    "Vamos a definir la arquitectura de la red recurrente:"
   ]
  },
  {
   "cell_type": "code",
   "execution_count": 42,
   "metadata": {},
   "outputs": [],
   "source": [
    "class LSTMModel(nn.Module):\n",
    "    def __init__(self, input_size, hidden_size, num_layers, output_size, batch_first=True):\n",
    "        super(LSTMModel, self).__init__()\n",
    "        self.hidden_size = hidden_size\n",
    "        self.num_layers = num_layers\n",
    "        self.batch_first = batch_first\n",
    "        \n",
    "        # Define LSTM layers\n",
    "        self.lstm = nn.LSTM(input_size, hidden_size, num_layers, batch_first=batch_first, dropout=0.2, bidirectional=False)\n",
    "        \n",
    "        # Define fully connected layer\n",
    "        self.fc = nn.Linear(hidden_size, output_size)\n",
    "        \n",
    "    def forward(self, x):\n",
    "        #Initializations\n",
    "        self.lstm.flatten_parameters()\n",
    "        h0 = torch.zeros(self.num_layers, x.size(0), self.hidden_size).to(device)\n",
    "        c0 = torch.zeros(self.num_layers, x.size(0), self.hidden_size).to(device)\n",
    "        \n",
    "        # Pack the sequence\n",
    "        packed_input = rnn_utils.pack_sequence(x, enforce_sorted=False)  \n",
    "\n",
    "        # Forward pass\n",
    "        packed_output, (h_n, c_n) = self.lstm(packed_input, (h0, c0))\n",
    "\n",
    "         # Unpack the sequence\n",
    "        out, _ = rnn_utils.pad_packed_sequence(packed_output, batch_first=True)\n",
    "        \n",
    "        # Extract the last time step's output\n",
    "        if self.batch_first:\n",
    "            out = out[:, -1, :]  # For batch_first=True\n",
    "        else:\n",
    "            out = out[-1, :, :]  # For batch_first=False\n",
    "        \n",
    "        # Forward pass through the fully connected layer\n",
    "        out = self.fc(out)\n",
    "        return out"
   ]
  },
  {
   "cell_type": "code",
   "execution_count": 43,
   "metadata": {},
   "outputs": [],
   "source": [
    "# Define the parameters\n",
    "input_size = train_dataset[0][0].shape[1]\n",
    "hidden_size = 256\n",
    "LAYERS = 4\n",
    "output_size = 1\n",
    "LR = 0.0001\n",
    "EPOCHS = 10  "
   ]
  },
  {
   "cell_type": "code",
   "execution_count": 44,
   "metadata": {},
   "outputs": [
    {
     "data": {
      "text/plain": [
       "(12, torch.Size([3, 12]))"
      ]
     },
     "execution_count": 44,
     "metadata": {},
     "output_type": "execute_result"
    }
   ],
   "source": [
    "input_size, train_dataset[0][0].shape"
   ]
  },
  {
   "cell_type": "code",
   "execution_count": 45,
   "metadata": {},
   "outputs": [
    {
     "data": {
      "text/plain": [
       "LSTMModel(\n",
       "  (lstm): LSTM(12, 256, num_layers=4, batch_first=True, dropout=0.2)\n",
       "  (fc): Linear(in_features=256, out_features=1, bias=True)\n",
       ")"
      ]
     },
     "execution_count": 45,
     "metadata": {},
     "output_type": "execute_result"
    }
   ],
   "source": [
    "# Initialize the model\n",
    "model = LSTMModel(input_size, hidden_size, LAYERS, output_size)\n",
    "model.to(device)"
   ]
  },
  {
   "cell_type": "code",
   "execution_count": 46,
   "metadata": {},
   "outputs": [],
   "source": [
    "optimizer = torch.optim.Adam(model.parameters(), lr=LR, amsgrad=True, weight_decay=LR*0.1)\n",
    "criterion = nn.MSELoss()"
   ]
  },
  {
   "cell_type": "code",
   "execution_count": 47,
   "metadata": {},
   "outputs": [],
   "source": [
    "def train_model(model, optimizer, criterion, train_loader, num_epochs):\n",
    "    for epoch in range(num_epochs):\n",
    "        model.train()  # Set the model to training mode\n",
    "        running_loss = 0.0\n",
    "        \n",
    "        for inputs, labels in train_loader:\n",
    "            optimizer.zero_grad(set_to_none=True)  # Zero the gradients\n",
    "            \n",
    "            # Forward pass\n",
    "            inputs = inputs.to(device)\n",
    "            outputs = model(inputs)\n",
    "            loss = criterion(outputs.float(), labels.float().to(device))\n",
    "            \n",
    "            # Backward pass and optimize\n",
    "            loss.backward()\n",
    "            optimizer.step()\n",
    "            \n",
    "            running_loss += loss.item() * inputs.size(0)\n",
    "        \n",
    "        epoch_loss = running_loss / len(train_loader.dataset)\n",
    "        print(f'Epoch [{epoch+1}/{num_epochs}], Loss: {epoch_loss:.5f}')\n",
    "    print('Finished Training')"
   ]
  },
  {
   "cell_type": "code",
   "execution_count": 48,
   "metadata": {},
   "outputs": [
    {
     "name": "stdout",
     "output_type": "stream",
     "text": [
      "Epoch [1/10], Loss: 0.00684\n",
      "Epoch [2/10], Loss: 0.00401\n",
      "Epoch [3/10], Loss: 0.00279\n",
      "Epoch [4/10], Loss: 0.00105\n",
      "Epoch [5/10], Loss: 0.00088\n",
      "Epoch [6/10], Loss: 0.00090\n",
      "Epoch [7/10], Loss: 0.00098\n",
      "Epoch [8/10], Loss: 0.00091\n",
      "Epoch [9/10], Loss: 0.00085\n",
      "Epoch [10/10], Loss: 0.00092\n",
      "Finished Training\n"
     ]
    }
   ],
   "source": [
    "train_model(model, optimizer, criterion, train_loader, EPOCHS)"
   ]
  },
  {
   "cell_type": "markdown",
   "metadata": {},
   "source": [
    "### Testing"
   ]
  },
  {
   "cell_type": "code",
   "execution_count": 49,
   "metadata": {},
   "outputs": [
    {
     "data": {
      "text/html": [
       "<div>\n",
       "<style scoped>\n",
       "    .dataframe tbody tr th:only-of-type {\n",
       "        vertical-align: middle;\n",
       "    }\n",
       "\n",
       "    .dataframe tbody tr th {\n",
       "        vertical-align: top;\n",
       "    }\n",
       "\n",
       "    .dataframe thead th {\n",
       "        text-align: right;\n",
       "    }\n",
       "</style>\n",
       "<table border=\"1\" class=\"dataframe\">\n",
       "  <thead>\n",
       "    <tr style=\"text-align: right;\">\n",
       "      <th></th>\n",
       "      <th>p0q1</th>\n",
       "      <th>p0q2</th>\n",
       "      <th>p0q3</th>\n",
       "      <th>train</th>\n",
       "      <th>way</th>\n",
       "      <th>hour</th>\n",
       "      <th>station_AD</th>\n",
       "      <th>station_AI</th>\n",
       "      <th>station_AJ</th>\n",
       "      <th>station_AK</th>\n",
       "      <th>station_AM</th>\n",
       "      <th>station_AT</th>\n",
       "      <th>station_AW</th>\n",
       "      <th>station_BB</th>\n",
       "    </tr>\n",
       "    <tr>\n",
       "      <th>date</th>\n",
       "      <th></th>\n",
       "      <th></th>\n",
       "      <th></th>\n",
       "      <th></th>\n",
       "      <th></th>\n",
       "      <th></th>\n",
       "      <th></th>\n",
       "      <th></th>\n",
       "      <th></th>\n",
       "      <th></th>\n",
       "      <th></th>\n",
       "      <th></th>\n",
       "      <th></th>\n",
       "      <th></th>\n",
       "    </tr>\n",
       "  </thead>\n",
       "  <tbody>\n",
       "    <tr>\n",
       "      <th>2019-01-22</th>\n",
       "      <td>0.223</td>\n",
       "      <td>0.151</td>\n",
       "      <td>0.102</td>\n",
       "      <td>1</td>\n",
       "      <td>0</td>\n",
       "      <td>6.0</td>\n",
       "      <td>True</td>\n",
       "      <td>False</td>\n",
       "      <td>False</td>\n",
       "      <td>False</td>\n",
       "      <td>False</td>\n",
       "      <td>False</td>\n",
       "      <td>False</td>\n",
       "      <td>False</td>\n",
       "    </tr>\n",
       "    <tr>\n",
       "      <th>2019-03-14</th>\n",
       "      <td>0.213</td>\n",
       "      <td>0.148</td>\n",
       "      <td>0.102</td>\n",
       "      <td>1</td>\n",
       "      <td>0</td>\n",
       "      <td>6.0</td>\n",
       "      <td>True</td>\n",
       "      <td>False</td>\n",
       "      <td>False</td>\n",
       "      <td>False</td>\n",
       "      <td>False</td>\n",
       "      <td>False</td>\n",
       "      <td>False</td>\n",
       "      <td>False</td>\n",
       "    </tr>\n",
       "    <tr>\n",
       "      <th>2019-04-01</th>\n",
       "      <td>0.191</td>\n",
       "      <td>0.142</td>\n",
       "      <td>0.103</td>\n",
       "      <td>1</td>\n",
       "      <td>0</td>\n",
       "      <td>6.0</td>\n",
       "      <td>True</td>\n",
       "      <td>False</td>\n",
       "      <td>False</td>\n",
       "      <td>False</td>\n",
       "      <td>False</td>\n",
       "      <td>False</td>\n",
       "      <td>False</td>\n",
       "      <td>False</td>\n",
       "    </tr>\n",
       "    <tr>\n",
       "      <th>2019-03-28</th>\n",
       "      <td>0.259</td>\n",
       "      <td>0.262</td>\n",
       "      <td>0.244</td>\n",
       "      <td>1</td>\n",
       "      <td>0</td>\n",
       "      <td>6.0</td>\n",
       "      <td>False</td>\n",
       "      <td>False</td>\n",
       "      <td>False</td>\n",
       "      <td>False</td>\n",
       "      <td>False</td>\n",
       "      <td>False</td>\n",
       "      <td>False</td>\n",
       "      <td>True</td>\n",
       "    </tr>\n",
       "    <tr>\n",
       "      <th>2019-03-25</th>\n",
       "      <td>0.137</td>\n",
       "      <td>0.096</td>\n",
       "      <td>0.082</td>\n",
       "      <td>1</td>\n",
       "      <td>0</td>\n",
       "      <td>6.0</td>\n",
       "      <td>False</td>\n",
       "      <td>False</td>\n",
       "      <td>False</td>\n",
       "      <td>False</td>\n",
       "      <td>True</td>\n",
       "      <td>False</td>\n",
       "      <td>False</td>\n",
       "      <td>False</td>\n",
       "    </tr>\n",
       "    <tr>\n",
       "      <th>...</th>\n",
       "      <td>...</td>\n",
       "      <td>...</td>\n",
       "      <td>...</td>\n",
       "      <td>...</td>\n",
       "      <td>...</td>\n",
       "      <td>...</td>\n",
       "      <td>...</td>\n",
       "      <td>...</td>\n",
       "      <td>...</td>\n",
       "      <td>...</td>\n",
       "      <td>...</td>\n",
       "      <td>...</td>\n",
       "      <td>...</td>\n",
       "      <td>...</td>\n",
       "    </tr>\n",
       "    <tr>\n",
       "      <th>2019-01-28</th>\n",
       "      <td>0.052</td>\n",
       "      <td>0.077</td>\n",
       "      <td>0.097</td>\n",
       "      <td>1</td>\n",
       "      <td>0</td>\n",
       "      <td>6.0</td>\n",
       "      <td>False</td>\n",
       "      <td>False</td>\n",
       "      <td>False</td>\n",
       "      <td>False</td>\n",
       "      <td>False</td>\n",
       "      <td>False</td>\n",
       "      <td>True</td>\n",
       "      <td>False</td>\n",
       "    </tr>\n",
       "    <tr>\n",
       "      <th>2019-02-13</th>\n",
       "      <td>0.236</td>\n",
       "      <td>0.154</td>\n",
       "      <td>0.100</td>\n",
       "      <td>1</td>\n",
       "      <td>0</td>\n",
       "      <td>6.0</td>\n",
       "      <td>True</td>\n",
       "      <td>False</td>\n",
       "      <td>False</td>\n",
       "      <td>False</td>\n",
       "      <td>False</td>\n",
       "      <td>False</td>\n",
       "      <td>False</td>\n",
       "      <td>False</td>\n",
       "    </tr>\n",
       "    <tr>\n",
       "      <th>2019-01-28</th>\n",
       "      <td>0.110</td>\n",
       "      <td>0.077</td>\n",
       "      <td>0.097</td>\n",
       "      <td>1</td>\n",
       "      <td>0</td>\n",
       "      <td>6.0</td>\n",
       "      <td>False</td>\n",
       "      <td>False</td>\n",
       "      <td>False</td>\n",
       "      <td>False</td>\n",
       "      <td>False</td>\n",
       "      <td>True</td>\n",
       "      <td>False</td>\n",
       "      <td>False</td>\n",
       "    </tr>\n",
       "    <tr>\n",
       "      <th>2019-04-11</th>\n",
       "      <td>0.193</td>\n",
       "      <td>0.131</td>\n",
       "      <td>0.094</td>\n",
       "      <td>1</td>\n",
       "      <td>0</td>\n",
       "      <td>6.0</td>\n",
       "      <td>True</td>\n",
       "      <td>False</td>\n",
       "      <td>False</td>\n",
       "      <td>False</td>\n",
       "      <td>False</td>\n",
       "      <td>False</td>\n",
       "      <td>False</td>\n",
       "      <td>False</td>\n",
       "    </tr>\n",
       "    <tr>\n",
       "      <th>2019-01-08</th>\n",
       "      <td>0.216</td>\n",
       "      <td>0.268</td>\n",
       "      <td>0.247</td>\n",
       "      <td>1</td>\n",
       "      <td>0</td>\n",
       "      <td>6.0</td>\n",
       "      <td>False</td>\n",
       "      <td>False</td>\n",
       "      <td>True</td>\n",
       "      <td>False</td>\n",
       "      <td>False</td>\n",
       "      <td>False</td>\n",
       "      <td>False</td>\n",
       "      <td>False</td>\n",
       "    </tr>\n",
       "  </tbody>\n",
       "</table>\n",
       "<p>93 rows × 14 columns</p>\n",
       "</div>"
      ],
      "text/plain": [
       "             p0q1   p0q2   p0q3  train  way  hour  station_AD  station_AI  \\\n",
       "date                                                                        \n",
       "2019-01-22  0.223  0.151  0.102      1    0   6.0        True       False   \n",
       "2019-03-14  0.213  0.148  0.102      1    0   6.0        True       False   \n",
       "2019-04-01  0.191  0.142  0.103      1    0   6.0        True       False   \n",
       "2019-03-28  0.259  0.262  0.244      1    0   6.0       False       False   \n",
       "2019-03-25  0.137  0.096  0.082      1    0   6.0       False       False   \n",
       "...           ...    ...    ...    ...  ...   ...         ...         ...   \n",
       "2019-01-28  0.052  0.077  0.097      1    0   6.0       False       False   \n",
       "2019-02-13  0.236  0.154  0.100      1    0   6.0        True       False   \n",
       "2019-01-28  0.110  0.077  0.097      1    0   6.0       False       False   \n",
       "2019-04-11  0.193  0.131  0.094      1    0   6.0        True       False   \n",
       "2019-01-08  0.216  0.268  0.247      1    0   6.0       False       False   \n",
       "\n",
       "            station_AJ  station_AK  station_AM  station_AT  station_AW  \\\n",
       "date                                                                     \n",
       "2019-01-22       False       False       False       False       False   \n",
       "2019-03-14       False       False       False       False       False   \n",
       "2019-04-01       False       False       False       False       False   \n",
       "2019-03-28       False       False       False       False       False   \n",
       "2019-03-25       False       False        True       False       False   \n",
       "...                ...         ...         ...         ...         ...   \n",
       "2019-01-28       False       False       False       False        True   \n",
       "2019-02-13       False       False       False       False       False   \n",
       "2019-01-28       False       False       False        True       False   \n",
       "2019-04-11       False       False       False       False       False   \n",
       "2019-01-08        True       False       False       False       False   \n",
       "\n",
       "            station_BB  \n",
       "date                    \n",
       "2019-01-22       False  \n",
       "2019-03-14       False  \n",
       "2019-04-01       False  \n",
       "2019-03-28        True  \n",
       "2019-03-25       False  \n",
       "...                ...  \n",
       "2019-01-28       False  \n",
       "2019-02-13       False  \n",
       "2019-01-28       False  \n",
       "2019-04-11       False  \n",
       "2019-01-08       False  \n",
       "\n",
       "[93 rows x 14 columns]"
      ]
     },
     "execution_count": 49,
     "metadata": {},
     "output_type": "execute_result"
    }
   ],
   "source": [
    "X_test"
   ]
  },
  {
   "cell_type": "code",
   "execution_count": 50,
   "metadata": {},
   "outputs": [
    {
     "data": {
      "text/plain": [
       "date\n",
       "2019-01-22    0.242\n",
       "2019-03-14    0.227\n",
       "2019-04-01    0.202\n",
       "2019-03-28    0.251\n",
       "2019-03-25    0.187\n",
       "              ...  \n",
       "2019-01-28    0.110\n",
       "2019-02-13    0.255\n",
       "2019-01-28    0.150\n",
       "2019-04-11    0.207\n",
       "2019-01-08    0.271\n",
       "Name: p0q0, Length: 93, dtype: float64"
      ]
     },
     "execution_count": 50,
     "metadata": {},
     "output_type": "execute_result"
    }
   ],
   "source": [
    "y_test"
   ]
  },
  {
   "cell_type": "code",
   "execution_count": 51,
   "metadata": {},
   "outputs": [],
   "source": [
    "test_dataset = CustomDataset(X_test, y_test)\n",
    "test_loader = DataLoader(test_dataset, batch_size=BATCH_SIZE, shuffle=False)"
   ]
  },
  {
   "cell_type": "code",
   "execution_count": 52,
   "metadata": {},
   "outputs": [],
   "source": [
    "# Set model to evaluation mode\n",
    "model.eval()\n",
    "\n",
    "# Initialize empty list to store predictions\n",
    "all_predictions = []\n",
    "\n",
    "# Iterate through the test dataset\n",
    "for inputs, _ in test_loader:\n",
    "    with torch.no_grad():\n",
    "        outputs = model(inputs.to(device))\n",
    "        # Convert predictions to numpy array and append to list\n",
    "    all_predictions.append(outputs.cpu().numpy())"
   ]
  },
  {
   "cell_type": "code",
   "execution_count": 53,
   "metadata": {},
   "outputs": [],
   "source": [
    "y_pred = np.concatenate(all_predictions, axis=0)"
   ]
  },
  {
   "cell_type": "code",
   "execution_count": 109,
   "metadata": {},
   "outputs": [
    {
     "data": {
      "image/png": "[encoded data removed]",
      "text/plain": [
       "<Figure size 1500x500 with 1 Axes>"
      ]
     },
     "metadata": {},
     "output_type": "display_data"
    }
   ],
   "source": [
    "fig, ax = plt.subplots(figsize=(15,5))\n",
    "ax.plot(y_pred, label='Predicted')\n",
    "ax.plot(y_test.to_list(), label='Test')\n",
    "plt.legend(loc='upper left')\n",
    "plt.show()"
   ]
  },
  {
   "cell_type": "code",
   "execution_count": 62,
   "metadata": {},
   "outputs": [
    {
     "name": "stdout",
     "output_type": "stream",
     "text": [
      "El error cuadrático medio es: 0.000530\n"
     ]
    }
   ],
   "source": [
    "print(f'El error cuadrático medio es: {mean_squared_error(y_test.to_list(), y_pred):.6f}')"
   ]
  },
  {
   "cell_type": "markdown",
   "metadata": {},
   "source": [
    "El valor es relativamente bajo, lo que puede sugerir que el modelo hace predicciones cercanas a los valores reales, al menos en el conjunto de datos utilizado para esta prueba. Sin embargo, la interpretación de este valor depende del contexto específico, como la escala de los datos de ocupación y la variabilidad inherente de las mediciones. En algunas aplicaciones, un MSE de este tamaño sería considerado muy bueno, mientras que en otras podría ser demasiado alto."
   ]
  },
  {
   "cell_type": "markdown",
   "metadata": {},
   "source": [
    "El gráfico obtenido sugiere que el modelo tiene cierta capacidad para seguir la tendencia de la ocupación real, pero hay margen de mejora. Es importante destacar que la utilidad de la predicción también depende de la rapidez con la que se pueda actualizar y comunicar a los pasajeros, ya que las condiciones en el sistema de transporte pueden cambiar rápidamente."
   ]
  },
  {
   "cell_type": "markdown",
   "metadata": {},
   "source": [
    "### Ejercicios:"
   ]
  },
  {
   "cell_type": "markdown",
   "metadata": {},
   "source": [
    "* Ajustar mejor el modelo para este tren. Discutan cómo podrían implementar un sistema para actualizar los parámetros del modelo LSTM en tiempo real a medida que se disponga de nuevos datos de ocupación."
   ]
  },
  {
   "cell_type": "markdown",
   "metadata": {},
   "source": [
    "1) ¿Qué características de las RNN las hacen adecuadas para modelar secuencias temporales dedatos como las tasas de ocupación de trenes?\n",
    "\n",
    "2) ¿Pueden explicar cómo las LSTM mejoran el desempeño de las RNN estándar y qué problemas específicos resuelven?\n",
    "\n",
    "3) ¿Cómo se manejan las dependencias a largo plazo en los datos de series temporales utilizando LSTM?\n",
    "\n",
    "4) ¿Cuáles son las diferencias clave entre una unidad LSTM y una neurona típica en una red neuronal?\n",
    "\n",
    "5) ¿Cómo podrían utilizar la información de la tasa de ocupación de trenes anteriores para predecir la tasa de ocupación futura?\n",
    "\n",
    "6) ¿Por qué es importante el proceso de \"olvido\" en una LSTM y cómo se implementa este mecanismo?\n",
    "\n",
    "7) ¿Cómo se determina la cantidad de capas LSTM y la cantidad de unidades en cada capa para un problema de predicción de series temporales?\n",
    "\n",
    "8) ¿Qué técnicas utilizarían para evitar el sobreajuste en un modelo LSTM que predice la ocupación de trenes?\n",
    "\n",
    "9) ¿De qué manera la longitud de la secuencia de entrada afecta el rendimiento del modelo LSTM y cómo podrían decidir la longitud adecuada para su problema?\n",
    "\n",
    "10) ¿Pueden describir cómo se realiza la retropropagación a través del tiempo (BPTT) en las LSTMs?\n",
    "\n",
    "11) ¿Cómo interpretarían los resultados de la predicción mostrados en el gráfico compartido en términos de desempeño del modelo?\n",
    "\n",
    "12) ¿Qué métricas de desempeño considerarían más importantes para evaluar la precisión de las predicciones de su modelo y por qué?\n",
    "\n"
   ]
  },
  {
   "cell_type": "markdown",
   "metadata": {},
   "source": [
    "### Referencias:"
   ]
  },
  {
   "cell_type": "markdown",
   "metadata": {},
   "source": [
    "* LSTM for Time Series Prediction in PyTorch: https://machinelearningmastery.com/lstm-for-time-series-prediction-in-pytorch/"
   ]
  },
  {
   "cell_type": "markdown",
   "metadata": {},
   "source": [
    "![Lenguaje Matemático](./Images/Matematicas.png)"
   ]
  },
  {
   "cell_type": "markdown",
   "metadata": {},
   "source": [
    "![Contacto](./Images/Contacto.png)"
   ]
  }
 ],
 "metadata": {
  "kernelspec": {
   "display_name": "Python 3",
   "language": "python",
   "name": "python3"
  },
  "language_info": {
   "codemirror_mode": {
    "name": "ipython",
    "version": 3
   },
   "file_extension": ".py",
   "mimetype": "text/x-python",
   "name": "python",
   "nbconvert_exporter": "python",
   "pygments_lexer": "ipython3",
   "version": "3.11.8"
  }
 },
 "nbformat": 4,
 "nbformat_minor": 2
}
