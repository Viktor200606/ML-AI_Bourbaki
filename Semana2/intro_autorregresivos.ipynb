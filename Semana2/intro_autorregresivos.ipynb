{
 "cells": [
  {
   "cell_type": "markdown",
   "metadata": {},
   "source": [
    "![Colegio Bourbaki](./Images/Bourbaki.png)"
   ]
  },
  {
   "cell_type": "markdown",
   "metadata": {},
   "source": [
    "## Machine Learning & AI"
   ]
  },
  {
   "cell_type": "markdown",
   "metadata": {},
   "source": [
    "### Introducción a modelos autorregresivos"
   ]
  },
  {
   "cell_type": "markdown",
   "metadata": {},
   "source": [
    "### Contexto"
   ]
  },
  {
   "cell_type": "markdown",
   "metadata": {},
   "source": [
    "SNCF-Transilien es el operador de la red de cercanías de SNCF que cubre la región parisina. Circula más de 6.200 trenes al día y desplaza a 3,4 millones de pasajeros. SNCF-Transilien recopila cada vez más datos sobre el número de pasajeros a bordo mediante sensores de infrarrojos en las puertas. Esta creciente cantidad de datos permite a SNCF-Transilien ofrecer nuevos servicios a los pasajeros y mejorar su rendimiento operativo."
   ]
  },
  {
   "cell_type": "markdown",
   "metadata": {},
   "source": [
    "El objetivo de este reto es dotar a SNCF-Transilien de las herramientas necesarias para ofrecer una previsión precisa de la tasa de ocupación de los trenes. De este modo, ofrecer a sus viajeros información precisa sobre la aglomeración en tiempo real (RTCI) a través de servicios digitales.\n",
    "\n",
    "Cuando un viajero está esperando un tren k en la estación s, el tren puede estar varias estaciones más adelante, pero queremos dar a los viajeros la información más coherente posible sobre lo ocupado que estará el tren cuando suban a él. Para ello, necesitamos predecir para cada tren los índices de ocupación reales en las estaciones siguientes. En este caso, proponemos predecir, de forma más sencilla, el grado de ocupación sólo en la siguiente estación."
   ]
  },
  {
   "cell_type": "markdown",
   "metadata": {},
   "source": [
    "### Datos"
   ]
  },
  {
   "cell_type": "markdown",
   "metadata": {},
   "source": [
    "La variable k se utiliza para especificar el tren, s para la estación y d para el día. Una parada viene dada por la tripleta k, s, d.\n",
    "\n",
    "Tenemos 4 archivos:\n",
    "\n",
    "* Un conjunto de datos Xtrain.csv con 31 119 filas (es decir, 31 119 paradas k, s, d) y 12 columnas\n",
    "* Un conjunto de datos Xtest.csv con 13 752 filas (es decir, 13 752 paradas k, s, d) y 12 columnas.\n",
    "* Un conjunto de datos Ytrain.csv con 31 119 filas y una columna, que proporciona la variable objetivo que debe predecirse para el conjunto de entrenamiento.\n",
    "* Un conjunto de datos Ysample.csv con 13 752 filas y una columna con valores aleatorios entre [0, 1], que es un ejemplo de envío que puede utilizar para preparar su propio envío\n",
    "\n",
    "Origen de los datos\n",
    "\n",
    "Los datos proceden de sensores de infrarrojos situados encima de cada puerta del material rodante (NAT, R2N) en Île-de-France, que miden el número de pasajeros que suben y bajan por puerta. Estos datos se captan en tiempo real y sólo son accesibles a escala del tren para este reto. El factor de ocupación es el número de pasajeros a bordo dividido por la capacidad total del tren.\n",
    "\n",
    "Queremos predecir el índice de ocupación en tiempo real utilizando el pasado cercano.\n",
    "\n",
    "Introducimos las notaciones p y q para describir el pasado: \n",
    "\n",
    "* p se utiliza para los valores pasados de los trenes anteriores en la misma estación \n",
    "* q se utiliza para describir las paradas anteriores del mismo tren.\n",
    "\n",
    "La tasa de ocupación real es: p0q0 ∈ [0,1] que es el factor de aglomeración/tasa de ocupación, anotado Y(k,s,d), para una parada que es un tren k en una estación s durante un día d."
   ]
  },
  {
   "cell_type": "markdown",
   "metadata": {},
   "source": [
    "Las columnas, es decir, las características, se dividen en 6 variables contextuales, como el día, la identificación del tren, etc., y 6 variables de retardo:"
   ]
  },
  {
   "cell_type": "markdown",
   "metadata": {},
   "source": [
    "Variables contextuales\n",
    "\n",
    "* Fecha $d$: AAAAMMDD es la fecha del id de tren recorrido\n",
    "\n",
    "* Tren $k$: 1, 2, ..., 55 id tren (único por día d)\n",
    "\n",
    "* Estación $s$: AA, AB, AC,... es el identificador de la estación\n",
    "\n",
    "* Hora: $HH:00:00$ es la franja horaria\n",
    "\n",
    "* Vía: $0, 1$ es la vía del tren con 0 (hacia París) o 1 (hacia las afueras)\n",
    "\n",
    "* Composición: $1, 2$ es el número de unidades de tren (una o dos)\n"
   ]
  },
  {
   "cell_type": "markdown",
   "metadata": {},
   "source": [
    "Variables de desfase\n",
    "\n",
    "* $p1q0$ ∈ [0,1] es el índice de ocupación del tren k-1 anterior en la misma estación s\n",
    "\n",
    "* $p2q0$ ∈ [0,1] es el índice de ocupación del segundo tren anterior k-2 en la misma estación s\n",
    "\n",
    "* $p3q0$ ∈ [0,1] es el índice de ocupación del tercer tren anterior k-3 en la misma estación s\n",
    "\n",
    "* $p0q1$ ∈ [0,1] es el índice de ocupación del mismo tren k en la estación anterior s-1\n",
    "\n",
    "* $p0q2$ ∈ [0,1] es el índice de ocupación del mismo tren k en la segunda estación anterior s-2\n",
    "\n",
    "* $p0q3$ ∈ [0,1] es el índice de ocupación del mismo tren k en la tercera estación anterior s-3\n",
    "\n",
    "Las variables de desfase son NA si el desfase no existe para la parada debido a la estructura del horario. Todos los demás valores perdidos se han imputado mediante un algoritmo comercial."
   ]
  },
  {
   "cell_type": "markdown",
   "metadata": {},
   "source": [
    "Para más detalles sobre el conjunto de datos o sobre el modelo de referencia, véase nuestro artículo One-Station-Ahead Forecasting of Dwell Time, Arrival Delay and Passenger Flows on Trains Equipped with Automatic Passenger Counting (APC) Device."
   ]
  },
  {
   "cell_type": "markdown",
   "metadata": {},
   "source": [
    "Link: https://challengedata.ens.fr/participants/challenges/89/"
   ]
  },
  {
   "cell_type": "markdown",
   "metadata": {},
   "source": [
    "### Librerías"
   ]
  },
  {
   "cell_type": "code",
   "execution_count": 1,
   "metadata": {},
   "outputs": [],
   "source": [
    "#Data Analysis\n",
    "import numpy as np\n",
    "import pandas as pd\n",
    "\n",
    "#Plotting\n",
    "import matplotlib.pyplot as plt\n",
    "\n",
    "#LSTM\n",
    "import torch\n",
    "import torch.nn as nn\n",
    "from torch.utils.data import DataLoader, TensorDataset\n",
    "\n",
    "#Utils\n",
    "from sklearn.metrics import mean_squared_error\n",
    "from sklearn.model_selection import train_test_split"
   ]
  },
  {
   "cell_type": "markdown",
   "metadata": {},
   "source": [
    "### Configuración"
   ]
  },
  {
   "cell_type": "code",
   "execution_count": 2,
   "metadata": {},
   "outputs": [],
   "source": [
    "if torch.cuda.is_available():\n",
    "    device = torch.device('cuda')\n",
    "else:\n",
    "    device = torch.device('cpu')"
   ]
  },
  {
   "cell_type": "code",
   "execution_count": 3,
   "metadata": {},
   "outputs": [
    {
     "data": {
      "text/plain": [
       "device(type='cuda')"
      ]
     },
     "execution_count": 3,
     "metadata": {},
     "output_type": "execute_result"
    }
   ],
   "source": [
    "device"
   ]
  },
  {
   "cell_type": "markdown",
   "metadata": {},
   "source": [
    "### Carga de Datos"
   ]
  },
  {
   "cell_type": "code",
   "execution_count": 4,
   "metadata": {},
   "outputs": [],
   "source": [
    "df_x_train = pd.read_csv('./Data/SNCF/hard/Xtrain_hgcGIrA.csv')"
   ]
  },
  {
   "cell_type": "code",
   "execution_count": 5,
   "metadata": {},
   "outputs": [
    {
     "data": {
      "text/html": [
       "<div>\n",
       "<style scoped>\n",
       "    .dataframe tbody tr th:only-of-type {\n",
       "        vertical-align: middle;\n",
       "    }\n",
       "\n",
       "    .dataframe tbody tr th {\n",
       "        vertical-align: top;\n",
       "    }\n",
       "\n",
       "    .dataframe thead th {\n",
       "        text-align: right;\n",
       "    }\n",
       "</style>\n",
       "<table border=\"1\" class=\"dataframe\">\n",
       "  <thead>\n",
       "    <tr style=\"text-align: right;\">\n",
       "      <th></th>\n",
       "      <th>date</th>\n",
       "      <th>train</th>\n",
       "      <th>way</th>\n",
       "      <th>station</th>\n",
       "      <th>hour</th>\n",
       "      <th>composition</th>\n",
       "      <th>p1q0</th>\n",
       "      <th>p2q0</th>\n",
       "      <th>p3q0</th>\n",
       "      <th>p0q1</th>\n",
       "      <th>p0q2</th>\n",
       "      <th>p0q3</th>\n",
       "    </tr>\n",
       "  </thead>\n",
       "  <tbody>\n",
       "    <tr>\n",
       "      <th>0</th>\n",
       "      <td>2019-01-07</td>\n",
       "      <td>1</td>\n",
       "      <td>0</td>\n",
       "      <td>AD</td>\n",
       "      <td>06:00:00</td>\n",
       "      <td>2</td>\n",
       "      <td>NaN</td>\n",
       "      <td>NaN</td>\n",
       "      <td>NaN</td>\n",
       "      <td>0.201</td>\n",
       "      <td>0.138</td>\n",
       "      <td>0.091</td>\n",
       "    </tr>\n",
       "    <tr>\n",
       "      <th>1</th>\n",
       "      <td>2019-01-08</td>\n",
       "      <td>1</td>\n",
       "      <td>0</td>\n",
       "      <td>AD</td>\n",
       "      <td>06:00:00</td>\n",
       "      <td>2</td>\n",
       "      <td>NaN</td>\n",
       "      <td>NaN</td>\n",
       "      <td>NaN</td>\n",
       "      <td>0.204</td>\n",
       "      <td>0.152</td>\n",
       "      <td>0.106</td>\n",
       "    </tr>\n",
       "    <tr>\n",
       "      <th>2</th>\n",
       "      <td>2019-01-10</td>\n",
       "      <td>1</td>\n",
       "      <td>0</td>\n",
       "      <td>AD</td>\n",
       "      <td>06:00:00</td>\n",
       "      <td>2</td>\n",
       "      <td>NaN</td>\n",
       "      <td>NaN</td>\n",
       "      <td>NaN</td>\n",
       "      <td>0.213</td>\n",
       "      <td>0.153</td>\n",
       "      <td>0.111</td>\n",
       "    </tr>\n",
       "    <tr>\n",
       "      <th>3</th>\n",
       "      <td>2019-01-11</td>\n",
       "      <td>1</td>\n",
       "      <td>0</td>\n",
       "      <td>AD</td>\n",
       "      <td>06:00:00</td>\n",
       "      <td>2</td>\n",
       "      <td>NaN</td>\n",
       "      <td>NaN</td>\n",
       "      <td>NaN</td>\n",
       "      <td>0.213</td>\n",
       "      <td>0.152</td>\n",
       "      <td>0.108</td>\n",
       "    </tr>\n",
       "    <tr>\n",
       "      <th>4</th>\n",
       "      <td>2019-01-14</td>\n",
       "      <td>1</td>\n",
       "      <td>0</td>\n",
       "      <td>AD</td>\n",
       "      <td>06:00:00</td>\n",
       "      <td>2</td>\n",
       "      <td>NaN</td>\n",
       "      <td>NaN</td>\n",
       "      <td>NaN</td>\n",
       "      <td>0.210</td>\n",
       "      <td>0.147</td>\n",
       "      <td>0.096</td>\n",
       "    </tr>\n",
       "  </tbody>\n",
       "</table>\n",
       "</div>"
      ],
      "text/plain": [
       "         date  train  way station      hour  composition  p1q0  p2q0  p3q0  \\\n",
       "0  2019-01-07      1    0      AD  06:00:00            2   NaN   NaN   NaN   \n",
       "1  2019-01-08      1    0      AD  06:00:00            2   NaN   NaN   NaN   \n",
       "2  2019-01-10      1    0      AD  06:00:00            2   NaN   NaN   NaN   \n",
       "3  2019-01-11      1    0      AD  06:00:00            2   NaN   NaN   NaN   \n",
       "4  2019-01-14      1    0      AD  06:00:00            2   NaN   NaN   NaN   \n",
       "\n",
       "    p0q1   p0q2   p0q3  \n",
       "0  0.201  0.138  0.091  \n",
       "1  0.204  0.152  0.106  \n",
       "2  0.213  0.153  0.111  \n",
       "3  0.213  0.152  0.108  \n",
       "4  0.210  0.147  0.096  "
      ]
     },
     "execution_count": 5,
     "metadata": {},
     "output_type": "execute_result"
    }
   ],
   "source": [
    "df_x_train.head()"
   ]
  },
  {
   "cell_type": "code",
   "execution_count": 6,
   "metadata": {},
   "outputs": [
    {
     "name": "stdout",
     "output_type": "stream",
     "text": [
      "<class 'pandas.core.frame.DataFrame'>\n",
      "RangeIndex: 31119 entries, 0 to 31118\n",
      "Data columns (total 12 columns):\n",
      " #   Column       Non-Null Count  Dtype  \n",
      "---  ------       --------------  -----  \n",
      " 0   date         31119 non-null  object \n",
      " 1   train        31119 non-null  int64  \n",
      " 2   way          31119 non-null  int64  \n",
      " 3   station      31119 non-null  object \n",
      " 4   hour         27915 non-null  object \n",
      " 5   composition  31119 non-null  int64  \n",
      " 6   p1q0         29067 non-null  float64\n",
      " 7   p2q0         26974 non-null  float64\n",
      " 8   p3q0         24935 non-null  float64\n",
      " 9   p0q1         27917 non-null  float64\n",
      " 10  p0q2         24720 non-null  float64\n",
      " 11  p0q3         21527 non-null  float64\n",
      "dtypes: float64(6), int64(3), object(3)\n",
      "memory usage: 2.8+ MB\n"
     ]
    }
   ],
   "source": [
    "df_x_train.info()"
   ]
  },
  {
   "cell_type": "code",
   "execution_count": 7,
   "metadata": {},
   "outputs": [
    {
     "data": {
      "text/plain": [
       "hour\n",
       "07:00:00    10064\n",
       "08:00:00    10028\n",
       "06:00:00     4995\n",
       "NaN          3204\n",
       "09:00:00     2826\n",
       "11:00:00        2\n",
       "Name: count, dtype: int64"
      ]
     },
     "execution_count": 7,
     "metadata": {},
     "output_type": "execute_result"
    }
   ],
   "source": [
    "df_x_train['hour'].value_counts(dropna=False)"
   ]
  },
  {
   "cell_type": "markdown",
   "metadata": {},
   "source": [
    "Casteamos la variable date a datetime:"
   ]
  },
  {
   "cell_type": "code",
   "execution_count": 8,
   "metadata": {},
   "outputs": [],
   "source": [
    "df_x_train['date'] = pd.to_datetime(df_x_train['date'])"
   ]
  },
  {
   "cell_type": "markdown",
   "metadata": {},
   "source": [
    "Veamos las diferentes estaciones:"
   ]
  },
  {
   "cell_type": "code",
   "execution_count": 9,
   "metadata": {},
   "outputs": [
    {
     "data": {
      "text/plain": [
       "array(['AD', 'AI', 'AJ', 'AK', 'AM', 'AT', 'AW', 'AX', 'BB', 'BD', 'BE',\n",
       "       'AE', 'AL', 'AO', 'AQ', 'BC', 'AB', 'AN', 'AS', 'BF', 'BG', 'BH',\n",
       "       'AV', 'AF', 'AP', 'AZ', 'AA', 'AC', 'AG', 'AH', 'AR', 'AU', 'BA',\n",
       "       'BI', 'BJ', 'AY'], dtype=object)"
      ]
     },
     "execution_count": 9,
     "metadata": {},
     "output_type": "execute_result"
    }
   ],
   "source": [
    "df_x_train['station'].unique() "
   ]
  },
  {
   "cell_type": "code",
   "execution_count": 10,
   "metadata": {},
   "outputs": [
    {
     "name": "stdout",
     "output_type": "stream",
     "text": [
      "Hay 36 estaciones\n"
     ]
    }
   ],
   "source": [
    "print(f\"Hay {np.count_nonzero(df_x_train['station'].unique())} estaciones\")"
   ]
  },
  {
   "cell_type": "markdown",
   "metadata": {},
   "source": [
    "Veamos cuántos trenes hay disponibles:"
   ]
  },
  {
   "cell_type": "code",
   "execution_count": 11,
   "metadata": {},
   "outputs": [
    {
     "data": {
      "text/plain": [
       "array([ 1, 10, 11, 12, 13, 14, 15, 16, 17, 18, 19,  2, 20, 21, 22, 23, 24,\n",
       "       25, 26, 27, 28, 29,  3, 30, 31, 32, 33, 34, 35, 36, 37, 38, 39,  4,\n",
       "       40, 41, 42, 43, 44, 45, 46, 47, 48, 49,  5, 50, 51, 52, 53, 54, 55,\n",
       "        6,  7,  8,  9])"
      ]
     },
     "execution_count": 11,
     "metadata": {},
     "output_type": "execute_result"
    }
   ],
   "source": [
    "df_x_train['train'].unique()"
   ]
  },
  {
   "cell_type": "code",
   "execution_count": 12,
   "metadata": {},
   "outputs": [
    {
     "name": "stdout",
     "output_type": "stream",
     "text": [
      "Hay 55 trenes\n"
     ]
    }
   ],
   "source": [
    "print(f\"Hay {np.count_nonzero(df_x_train['train'].unique())} trenes\")"
   ]
  },
  {
   "cell_type": "markdown",
   "metadata": {},
   "source": [
    "Reorganizamos el dataset:"
   ]
  },
  {
   "cell_type": "code",
   "execution_count": 13,
   "metadata": {},
   "outputs": [],
   "source": [
    "df_train = df_x_train.copy(deep=True)"
   ]
  },
  {
   "cell_type": "code",
   "execution_count": 14,
   "metadata": {},
   "outputs": [],
   "source": [
    "# Handle NaN values by replacing them with 0\n",
    "df_train.fillna(-1, inplace=True)"
   ]
  },
  {
   "cell_type": "code",
   "execution_count": 15,
   "metadata": {},
   "outputs": [
    {
     "data": {
      "text/plain": [
       "hour\n",
       "07:00:00    10064\n",
       "08:00:00    10028\n",
       "06:00:00     4995\n",
       "-1           3204\n",
       "09:00:00     2826\n",
       "11:00:00        2\n",
       "Name: count, dtype: int64"
      ]
     },
     "execution_count": 15,
     "metadata": {},
     "output_type": "execute_result"
    }
   ],
   "source": [
    "df_train['hour'].value_counts()"
   ]
  },
  {
   "cell_type": "code",
   "execution_count": 16,
   "metadata": {},
   "outputs": [],
   "source": [
    "# Combine the 'date' and 'hour' columns into a single datetime column\n",
    "df_train['hour'] = df_train['hour'].apply(lambda x: '10:00:00' if x == -1 else x)\n",
    "df_train['datetime'] = pd.to_datetime(df_train['date'].dt.date.astype(str) + ' ' + df_train['hour'].astype(str))"
   ]
  },
  {
   "cell_type": "markdown",
   "metadata": {},
   "source": [
    "Observemos el formato de sumisión al reto:"
   ]
  },
  {
   "cell_type": "code",
   "execution_count": 17,
   "metadata": {},
   "outputs": [],
   "source": [
    "ysample = pd.read_csv('./Data/SNCF/hard/Ysample_iX1anNa.csv')"
   ]
  },
  {
   "cell_type": "code",
   "execution_count": 18,
   "metadata": {},
   "outputs": [
    {
     "data": {
      "text/html": [
       "<div>\n",
       "<style scoped>\n",
       "    .dataframe tbody tr th:only-of-type {\n",
       "        vertical-align: middle;\n",
       "    }\n",
       "\n",
       "    .dataframe tbody tr th {\n",
       "        vertical-align: top;\n",
       "    }\n",
       "\n",
       "    .dataframe thead th {\n",
       "        text-align: right;\n",
       "    }\n",
       "</style>\n",
       "<table border=\"1\" class=\"dataframe\">\n",
       "  <thead>\n",
       "    <tr style=\"text-align: right;\">\n",
       "      <th></th>\n",
       "      <th>Unnamed: 0</th>\n",
       "      <th>p0q0</th>\n",
       "    </tr>\n",
       "  </thead>\n",
       "  <tbody>\n",
       "    <tr>\n",
       "      <th>0</th>\n",
       "      <td>1</td>\n",
       "      <td>0.288</td>\n",
       "    </tr>\n",
       "    <tr>\n",
       "      <th>1</th>\n",
       "      <td>2</td>\n",
       "      <td>0.788</td>\n",
       "    </tr>\n",
       "    <tr>\n",
       "      <th>2</th>\n",
       "      <td>3</td>\n",
       "      <td>0.409</td>\n",
       "    </tr>\n",
       "    <tr>\n",
       "      <th>3</th>\n",
       "      <td>4</td>\n",
       "      <td>0.883</td>\n",
       "    </tr>\n",
       "    <tr>\n",
       "      <th>4</th>\n",
       "      <td>5</td>\n",
       "      <td>0.940</td>\n",
       "    </tr>\n",
       "    <tr>\n",
       "      <th>...</th>\n",
       "      <td>...</td>\n",
       "      <td>...</td>\n",
       "    </tr>\n",
       "    <tr>\n",
       "      <th>13747</th>\n",
       "      <td>13748</td>\n",
       "      <td>0.373</td>\n",
       "    </tr>\n",
       "    <tr>\n",
       "      <th>13748</th>\n",
       "      <td>13749</td>\n",
       "      <td>0.732</td>\n",
       "    </tr>\n",
       "    <tr>\n",
       "      <th>13749</th>\n",
       "      <td>13750</td>\n",
       "      <td>0.273</td>\n",
       "    </tr>\n",
       "    <tr>\n",
       "      <th>13750</th>\n",
       "      <td>13751</td>\n",
       "      <td>0.728</td>\n",
       "    </tr>\n",
       "    <tr>\n",
       "      <th>13751</th>\n",
       "      <td>13752</td>\n",
       "      <td>0.571</td>\n",
       "    </tr>\n",
       "  </tbody>\n",
       "</table>\n",
       "<p>13752 rows × 2 columns</p>\n",
       "</div>"
      ],
      "text/plain": [
       "       Unnamed: 0   p0q0\n",
       "0               1  0.288\n",
       "1               2  0.788\n",
       "2               3  0.409\n",
       "3               4  0.883\n",
       "4               5  0.940\n",
       "...           ...    ...\n",
       "13747       13748  0.373\n",
       "13748       13749  0.732\n",
       "13749       13750  0.273\n",
       "13750       13751  0.728\n",
       "13751       13752  0.571\n",
       "\n",
       "[13752 rows x 2 columns]"
      ]
     },
     "execution_count": 18,
     "metadata": {},
     "output_type": "execute_result"
    }
   ],
   "source": [
    "ysample"
   ]
  },
  {
   "cell_type": "markdown",
   "metadata": {},
   "source": [
    "Vamos a leer las 'etiquetas':"
   ]
  },
  {
   "cell_type": "code",
   "execution_count": 19,
   "metadata": {},
   "outputs": [],
   "source": [
    "y_train= pd.read_csv('./Data/SNCF/hard/Ytrain_yL5OjS4.csv')"
   ]
  },
  {
   "cell_type": "code",
   "execution_count": 20,
   "metadata": {},
   "outputs": [],
   "source": [
    "df = y_train[['p0q0']]"
   ]
  },
  {
   "cell_type": "code",
   "execution_count": 21,
   "metadata": {},
   "outputs": [
    {
     "data": {
      "text/html": [
       "<div>\n",
       "<style scoped>\n",
       "    .dataframe tbody tr th:only-of-type {\n",
       "        vertical-align: middle;\n",
       "    }\n",
       "\n",
       "    .dataframe tbody tr th {\n",
       "        vertical-align: top;\n",
       "    }\n",
       "\n",
       "    .dataframe thead th {\n",
       "        text-align: right;\n",
       "    }\n",
       "</style>\n",
       "<table border=\"1\" class=\"dataframe\">\n",
       "  <thead>\n",
       "    <tr style=\"text-align: right;\">\n",
       "      <th></th>\n",
       "      <th>p0q0</th>\n",
       "    </tr>\n",
       "  </thead>\n",
       "  <tbody>\n",
       "    <tr>\n",
       "      <th>0</th>\n",
       "      <td>0.216</td>\n",
       "    </tr>\n",
       "    <tr>\n",
       "      <th>1</th>\n",
       "      <td>0.216</td>\n",
       "    </tr>\n",
       "    <tr>\n",
       "      <th>2</th>\n",
       "      <td>0.227</td>\n",
       "    </tr>\n",
       "    <tr>\n",
       "      <th>3</th>\n",
       "      <td>0.229</td>\n",
       "    </tr>\n",
       "    <tr>\n",
       "      <th>4</th>\n",
       "      <td>0.225</td>\n",
       "    </tr>\n",
       "  </tbody>\n",
       "</table>\n",
       "</div>"
      ],
      "text/plain": [
       "    p0q0\n",
       "0  0.216\n",
       "1  0.216\n",
       "2  0.227\n",
       "3  0.229\n",
       "4  0.225"
      ]
     },
     "execution_count": 21,
     "metadata": {},
     "output_type": "execute_result"
    }
   ],
   "source": [
    "df.head()"
   ]
  },
  {
   "cell_type": "code",
   "execution_count": 22,
   "metadata": {},
   "outputs": [
    {
     "data": {
      "image/png": "[encoded data removed]",
      "text/plain": [
       "<Figure size 1000x500 with 1 Axes>"
      ]
     },
     "metadata": {},
     "output_type": "display_data"
    }
   ],
   "source": [
    "fig = plt.figure(figsize=(10, 5))\n",
    "plt.plot(df.iloc[:58])\n",
    "plt.gcf().autofmt_xdate()\n",
    "plt.show()"
   ]
  },
  {
   "cell_type": "code",
   "execution_count": 23,
   "metadata": {},
   "outputs": [
    {
     "data": {
      "image/png": "[encoded data removed]",
      "text/plain": [
       "<Figure size 1000x500 with 1 Axes>"
      ]
     },
     "metadata": {},
     "output_type": "display_data"
    }
   ],
   "source": [
    "fig = plt.figure(figsize=(10, 5))\n",
    "plt.plot(df.iloc[58:2*58])\n",
    "plt.gcf().autofmt_xdate()\n",
    "plt.show()"
   ]
  },
  {
   "cell_type": "markdown",
   "metadata": {},
   "source": [
    "Vamos a pronosticar para un solo tren:"
   ]
  },
  {
   "cell_type": "code",
   "execution_count": 24,
   "metadata": {},
   "outputs": [],
   "source": [
    "datos = pd.concat([df,df_train], axis=1)\n",
    "datos = datos[['p0q0','p1q0','p2q0','p3q0','p0q1','p0q2','p0q3','train','composition','way','station','datetime','date','hour']]"
   ]
  },
  {
   "cell_type": "code",
   "execution_count": 25,
   "metadata": {},
   "outputs": [
    {
     "data": {
      "text/html": [
       "<div>\n",
       "<style scoped>\n",
       "    .dataframe tbody tr th:only-of-type {\n",
       "        vertical-align: middle;\n",
       "    }\n",
       "\n",
       "    .dataframe tbody tr th {\n",
       "        vertical-align: top;\n",
       "    }\n",
       "\n",
       "    .dataframe thead th {\n",
       "        text-align: right;\n",
       "    }\n",
       "</style>\n",
       "<table border=\"1\" class=\"dataframe\">\n",
       "  <thead>\n",
       "    <tr style=\"text-align: right;\">\n",
       "      <th></th>\n",
       "      <th>p0q0</th>\n",
       "      <th>p1q0</th>\n",
       "      <th>p2q0</th>\n",
       "      <th>p3q0</th>\n",
       "      <th>p0q1</th>\n",
       "      <th>p0q2</th>\n",
       "      <th>p0q3</th>\n",
       "      <th>train</th>\n",
       "      <th>composition</th>\n",
       "      <th>way</th>\n",
       "      <th>station</th>\n",
       "      <th>datetime</th>\n",
       "      <th>date</th>\n",
       "      <th>hour</th>\n",
       "    </tr>\n",
       "  </thead>\n",
       "  <tbody>\n",
       "    <tr>\n",
       "      <th>0</th>\n",
       "      <td>0.216</td>\n",
       "      <td>-1.0</td>\n",
       "      <td>-1.0</td>\n",
       "      <td>-1.0</td>\n",
       "      <td>0.201</td>\n",
       "      <td>0.138</td>\n",
       "      <td>0.091</td>\n",
       "      <td>1</td>\n",
       "      <td>2</td>\n",
       "      <td>0</td>\n",
       "      <td>AD</td>\n",
       "      <td>2019-01-07 06:00:00</td>\n",
       "      <td>2019-01-07</td>\n",
       "      <td>06:00:00</td>\n",
       "    </tr>\n",
       "    <tr>\n",
       "      <th>1</th>\n",
       "      <td>0.216</td>\n",
       "      <td>-1.0</td>\n",
       "      <td>-1.0</td>\n",
       "      <td>-1.0</td>\n",
       "      <td>0.204</td>\n",
       "      <td>0.152</td>\n",
       "      <td>0.106</td>\n",
       "      <td>1</td>\n",
       "      <td>2</td>\n",
       "      <td>0</td>\n",
       "      <td>AD</td>\n",
       "      <td>2019-01-08 06:00:00</td>\n",
       "      <td>2019-01-08</td>\n",
       "      <td>06:00:00</td>\n",
       "    </tr>\n",
       "    <tr>\n",
       "      <th>2</th>\n",
       "      <td>0.227</td>\n",
       "      <td>-1.0</td>\n",
       "      <td>-1.0</td>\n",
       "      <td>-1.0</td>\n",
       "      <td>0.213</td>\n",
       "      <td>0.153</td>\n",
       "      <td>0.111</td>\n",
       "      <td>1</td>\n",
       "      <td>2</td>\n",
       "      <td>0</td>\n",
       "      <td>AD</td>\n",
       "      <td>2019-01-10 06:00:00</td>\n",
       "      <td>2019-01-10</td>\n",
       "      <td>06:00:00</td>\n",
       "    </tr>\n",
       "    <tr>\n",
       "      <th>3</th>\n",
       "      <td>0.229</td>\n",
       "      <td>-1.0</td>\n",
       "      <td>-1.0</td>\n",
       "      <td>-1.0</td>\n",
       "      <td>0.213</td>\n",
       "      <td>0.152</td>\n",
       "      <td>0.108</td>\n",
       "      <td>1</td>\n",
       "      <td>2</td>\n",
       "      <td>0</td>\n",
       "      <td>AD</td>\n",
       "      <td>2019-01-11 06:00:00</td>\n",
       "      <td>2019-01-11</td>\n",
       "      <td>06:00:00</td>\n",
       "    </tr>\n",
       "    <tr>\n",
       "      <th>4</th>\n",
       "      <td>0.225</td>\n",
       "      <td>-1.0</td>\n",
       "      <td>-1.0</td>\n",
       "      <td>-1.0</td>\n",
       "      <td>0.210</td>\n",
       "      <td>0.147</td>\n",
       "      <td>0.096</td>\n",
       "      <td>1</td>\n",
       "      <td>2</td>\n",
       "      <td>0</td>\n",
       "      <td>AD</td>\n",
       "      <td>2019-01-14 06:00:00</td>\n",
       "      <td>2019-01-14</td>\n",
       "      <td>06:00:00</td>\n",
       "    </tr>\n",
       "  </tbody>\n",
       "</table>\n",
       "</div>"
      ],
      "text/plain": [
       "    p0q0  p1q0  p2q0  p3q0   p0q1   p0q2   p0q3  train  composition  way  \\\n",
       "0  0.216  -1.0  -1.0  -1.0  0.201  0.138  0.091      1            2    0   \n",
       "1  0.216  -1.0  -1.0  -1.0  0.204  0.152  0.106      1            2    0   \n",
       "2  0.227  -1.0  -1.0  -1.0  0.213  0.153  0.111      1            2    0   \n",
       "3  0.229  -1.0  -1.0  -1.0  0.213  0.152  0.108      1            2    0   \n",
       "4  0.225  -1.0  -1.0  -1.0  0.210  0.147  0.096      1            2    0   \n",
       "\n",
       "  station            datetime       date      hour  \n",
       "0      AD 2019-01-07 06:00:00 2019-01-07  06:00:00  \n",
       "1      AD 2019-01-08 06:00:00 2019-01-08  06:00:00  \n",
       "2      AD 2019-01-10 06:00:00 2019-01-10  06:00:00  \n",
       "3      AD 2019-01-11 06:00:00 2019-01-11  06:00:00  \n",
       "4      AD 2019-01-14 06:00:00 2019-01-14  06:00:00  "
      ]
     },
     "execution_count": 25,
     "metadata": {},
     "output_type": "execute_result"
    }
   ],
   "source": [
    "datos.head()"
   ]
  },
  {
   "cell_type": "code",
   "execution_count": 26,
   "metadata": {},
   "outputs": [
    {
     "name": "stdout",
     "output_type": "stream",
     "text": [
      "<class 'pandas.core.frame.DataFrame'>\n",
      "RangeIndex: 31119 entries, 0 to 31118\n",
      "Data columns (total 14 columns):\n",
      " #   Column       Non-Null Count  Dtype         \n",
      "---  ------       --------------  -----         \n",
      " 0   p0q0         31119 non-null  float64       \n",
      " 1   p1q0         31119 non-null  float64       \n",
      " 2   p2q0         31119 non-null  float64       \n",
      " 3   p3q0         31119 non-null  float64       \n",
      " 4   p0q1         31119 non-null  float64       \n",
      " 5   p0q2         31119 non-null  float64       \n",
      " 6   p0q3         31119 non-null  float64       \n",
      " 7   train        31119 non-null  int64         \n",
      " 8   composition  31119 non-null  int64         \n",
      " 9   way          31119 non-null  int64         \n",
      " 10  station      31119 non-null  object        \n",
      " 11  datetime     31119 non-null  datetime64[ns]\n",
      " 12  date         31119 non-null  datetime64[ns]\n",
      " 13  hour         31119 non-null  object        \n",
      "dtypes: datetime64[ns](2), float64(7), int64(3), object(2)\n",
      "memory usage: 3.3+ MB\n"
     ]
    }
   ],
   "source": [
    "datos.info()"
   ]
  },
  {
   "cell_type": "code",
   "execution_count": 27,
   "metadata": {},
   "outputs": [],
   "source": [
    "datos.set_index('datetime', inplace=True)"
   ]
  },
  {
   "cell_type": "code",
   "execution_count": 28,
   "metadata": {},
   "outputs": [],
   "source": [
    "datos.drop(['date','hour'], axis=1, inplace=True)"
   ]
  },
  {
   "cell_type": "code",
   "execution_count": 29,
   "metadata": {},
   "outputs": [
    {
     "data": {
      "text/html": [
       "<div>\n",
       "<style scoped>\n",
       "    .dataframe tbody tr th:only-of-type {\n",
       "        vertical-align: middle;\n",
       "    }\n",
       "\n",
       "    .dataframe tbody tr th {\n",
       "        vertical-align: top;\n",
       "    }\n",
       "\n",
       "    .dataframe thead th {\n",
       "        text-align: right;\n",
       "    }\n",
       "</style>\n",
       "<table border=\"1\" class=\"dataframe\">\n",
       "  <thead>\n",
       "    <tr style=\"text-align: right;\">\n",
       "      <th></th>\n",
       "      <th>p0q0</th>\n",
       "      <th>p1q0</th>\n",
       "      <th>p2q0</th>\n",
       "      <th>p3q0</th>\n",
       "      <th>p0q1</th>\n",
       "      <th>p0q2</th>\n",
       "      <th>p0q3</th>\n",
       "      <th>train</th>\n",
       "      <th>composition</th>\n",
       "      <th>way</th>\n",
       "      <th>station</th>\n",
       "    </tr>\n",
       "    <tr>\n",
       "      <th>datetime</th>\n",
       "      <th></th>\n",
       "      <th></th>\n",
       "      <th></th>\n",
       "      <th></th>\n",
       "      <th></th>\n",
       "      <th></th>\n",
       "      <th></th>\n",
       "      <th></th>\n",
       "      <th></th>\n",
       "      <th></th>\n",
       "      <th></th>\n",
       "    </tr>\n",
       "  </thead>\n",
       "  <tbody>\n",
       "    <tr>\n",
       "      <th>2019-01-07 06:00:00</th>\n",
       "      <td>0.216</td>\n",
       "      <td>-1.000</td>\n",
       "      <td>-1.00000</td>\n",
       "      <td>-1.000000</td>\n",
       "      <td>0.201</td>\n",
       "      <td>0.138</td>\n",
       "      <td>0.091</td>\n",
       "      <td>1</td>\n",
       "      <td>2</td>\n",
       "      <td>0</td>\n",
       "      <td>AD</td>\n",
       "    </tr>\n",
       "    <tr>\n",
       "      <th>2019-01-08 06:00:00</th>\n",
       "      <td>0.216</td>\n",
       "      <td>-1.000</td>\n",
       "      <td>-1.00000</td>\n",
       "      <td>-1.000000</td>\n",
       "      <td>0.204</td>\n",
       "      <td>0.152</td>\n",
       "      <td>0.106</td>\n",
       "      <td>1</td>\n",
       "      <td>2</td>\n",
       "      <td>0</td>\n",
       "      <td>AD</td>\n",
       "    </tr>\n",
       "    <tr>\n",
       "      <th>2019-01-10 06:00:00</th>\n",
       "      <td>0.227</td>\n",
       "      <td>-1.000</td>\n",
       "      <td>-1.00000</td>\n",
       "      <td>-1.000000</td>\n",
       "      <td>0.213</td>\n",
       "      <td>0.153</td>\n",
       "      <td>0.111</td>\n",
       "      <td>1</td>\n",
       "      <td>2</td>\n",
       "      <td>0</td>\n",
       "      <td>AD</td>\n",
       "    </tr>\n",
       "    <tr>\n",
       "      <th>2019-01-11 06:00:00</th>\n",
       "      <td>0.229</td>\n",
       "      <td>-1.000</td>\n",
       "      <td>-1.00000</td>\n",
       "      <td>-1.000000</td>\n",
       "      <td>0.213</td>\n",
       "      <td>0.152</td>\n",
       "      <td>0.108</td>\n",
       "      <td>1</td>\n",
       "      <td>2</td>\n",
       "      <td>0</td>\n",
       "      <td>AD</td>\n",
       "    </tr>\n",
       "    <tr>\n",
       "      <th>2019-01-14 06:00:00</th>\n",
       "      <td>0.225</td>\n",
       "      <td>-1.000</td>\n",
       "      <td>-1.00000</td>\n",
       "      <td>-1.000000</td>\n",
       "      <td>0.210</td>\n",
       "      <td>0.147</td>\n",
       "      <td>0.096</td>\n",
       "      <td>1</td>\n",
       "      <td>2</td>\n",
       "      <td>0</td>\n",
       "      <td>AD</td>\n",
       "    </tr>\n",
       "    <tr>\n",
       "      <th>...</th>\n",
       "      <td>...</td>\n",
       "      <td>...</td>\n",
       "      <td>...</td>\n",
       "      <td>...</td>\n",
       "      <td>...</td>\n",
       "      <td>...</td>\n",
       "      <td>...</td>\n",
       "      <td>...</td>\n",
       "      <td>...</td>\n",
       "      <td>...</td>\n",
       "      <td>...</td>\n",
       "    </tr>\n",
       "    <tr>\n",
       "      <th>2019-05-13 08:00:00</th>\n",
       "      <td>0.111</td>\n",
       "      <td>0.152</td>\n",
       "      <td>0.18860</td>\n",
       "      <td>0.157000</td>\n",
       "      <td>0.080</td>\n",
       "      <td>0.100</td>\n",
       "      <td>-1.000</td>\n",
       "      <td>9</td>\n",
       "      <td>2</td>\n",
       "      <td>0</td>\n",
       "      <td>BE</td>\n",
       "    </tr>\n",
       "    <tr>\n",
       "      <th>2019-05-14 08:00:00</th>\n",
       "      <td>0.143</td>\n",
       "      <td>0.153</td>\n",
       "      <td>0.18040</td>\n",
       "      <td>0.191000</td>\n",
       "      <td>0.089</td>\n",
       "      <td>0.121</td>\n",
       "      <td>-1.000</td>\n",
       "      <td>9</td>\n",
       "      <td>2</td>\n",
       "      <td>0</td>\n",
       "      <td>BE</td>\n",
       "    </tr>\n",
       "    <tr>\n",
       "      <th>2019-05-15 08:00:00</th>\n",
       "      <td>0.139</td>\n",
       "      <td>0.166</td>\n",
       "      <td>0.14900</td>\n",
       "      <td>0.168000</td>\n",
       "      <td>0.099</td>\n",
       "      <td>0.129</td>\n",
       "      <td>-1.000</td>\n",
       "      <td>9</td>\n",
       "      <td>2</td>\n",
       "      <td>0</td>\n",
       "      <td>BE</td>\n",
       "    </tr>\n",
       "    <tr>\n",
       "      <th>2019-03-21 08:00:00</th>\n",
       "      <td>0.117</td>\n",
       "      <td>0.182</td>\n",
       "      <td>0.19300</td>\n",
       "      <td>0.162000</td>\n",
       "      <td>0.074</td>\n",
       "      <td>0.101</td>\n",
       "      <td>-1.000</td>\n",
       "      <td>9</td>\n",
       "      <td>2</td>\n",
       "      <td>0</td>\n",
       "      <td>BE</td>\n",
       "    </tr>\n",
       "    <tr>\n",
       "      <th>2019-01-30 08:00:00</th>\n",
       "      <td>0.416</td>\n",
       "      <td>0.173</td>\n",
       "      <td>0.16928</td>\n",
       "      <td>0.187717</td>\n",
       "      <td>0.289</td>\n",
       "      <td>0.354</td>\n",
       "      <td>-1.000</td>\n",
       "      <td>9</td>\n",
       "      <td>1</td>\n",
       "      <td>0</td>\n",
       "      <td>BE</td>\n",
       "    </tr>\n",
       "  </tbody>\n",
       "</table>\n",
       "<p>31119 rows × 11 columns</p>\n",
       "</div>"
      ],
      "text/plain": [
       "                      p0q0   p1q0     p2q0      p3q0   p0q1   p0q2   p0q3  \\\n",
       "datetime                                                                    \n",
       "2019-01-07 06:00:00  0.216 -1.000 -1.00000 -1.000000  0.201  0.138  0.091   \n",
       "2019-01-08 06:00:00  0.216 -1.000 -1.00000 -1.000000  0.204  0.152  0.106   \n",
       "2019-01-10 06:00:00  0.227 -1.000 -1.00000 -1.000000  0.213  0.153  0.111   \n",
       "2019-01-11 06:00:00  0.229 -1.000 -1.00000 -1.000000  0.213  0.152  0.108   \n",
       "2019-01-14 06:00:00  0.225 -1.000 -1.00000 -1.000000  0.210  0.147  0.096   \n",
       "...                    ...    ...      ...       ...    ...    ...    ...   \n",
       "2019-05-13 08:00:00  0.111  0.152  0.18860  0.157000  0.080  0.100 -1.000   \n",
       "2019-05-14 08:00:00  0.143  0.153  0.18040  0.191000  0.089  0.121 -1.000   \n",
       "2019-05-15 08:00:00  0.139  0.166  0.14900  0.168000  0.099  0.129 -1.000   \n",
       "2019-03-21 08:00:00  0.117  0.182  0.19300  0.162000  0.074  0.101 -1.000   \n",
       "2019-01-30 08:00:00  0.416  0.173  0.16928  0.187717  0.289  0.354 -1.000   \n",
       "\n",
       "                     train  composition  way station  \n",
       "datetime                                              \n",
       "2019-01-07 06:00:00      1            2    0      AD  \n",
       "2019-01-08 06:00:00      1            2    0      AD  \n",
       "2019-01-10 06:00:00      1            2    0      AD  \n",
       "2019-01-11 06:00:00      1            2    0      AD  \n",
       "2019-01-14 06:00:00      1            2    0      AD  \n",
       "...                    ...          ...  ...     ...  \n",
       "2019-05-13 08:00:00      9            2    0      BE  \n",
       "2019-05-14 08:00:00      9            2    0      BE  \n",
       "2019-05-15 08:00:00      9            2    0      BE  \n",
       "2019-03-21 08:00:00      9            2    0      BE  \n",
       "2019-01-30 08:00:00      9            1    0      BE  \n",
       "\n",
       "[31119 rows x 11 columns]"
      ]
     },
     "execution_count": 29,
     "metadata": {},
     "output_type": "execute_result"
    }
   ],
   "source": [
    "datos"
   ]
  },
  {
   "cell_type": "code",
   "execution_count": 30,
   "metadata": {},
   "outputs": [],
   "source": [
    "train = 1\n",
    "station = 'AD'\n",
    "#Filter the DataFrame for train x ans station y\n",
    "train_df = datos[(datos['train'] == train) & (datos['station'] == station)]"
   ]
  },
  {
   "cell_type": "code",
   "execution_count": 31,
   "metadata": {},
   "outputs": [
    {
     "data": {
      "image/png": "[encoded data removed]",
      "text/plain": [
       "<Figure size 1000x600 with 1 Axes>"
      ]
     },
     "metadata": {},
     "output_type": "display_data"
    }
   ],
   "source": [
    "# Plotting\n",
    "plt.figure(figsize=(10, 6))\n",
    "plt.plot(train_df.index, train_df['p0q0'], label='p0q0', marker='h', color='blue')\n",
    "plt.plot(train_df.index, train_df['p0q1'], label='p0q1', marker='o', color='green')\n",
    "plt.plot(train_df.index, train_df['p0q2'], label='p0q2', marker='x', color='red')\n",
    "plt.plot(train_df.index, train_df['p0q3'], label='p0q3', marker='s', color='purple')\n",
    "plt.plot(train_df.index, train_df['p1q0'], label='p1q0', marker='p', color='orange')\n",
    "plt.plot(train_df.index, train_df['p2q0'], label='p2q0', marker='d', color='yellow')\n",
    "plt.plot(train_df.index, train_df['p3q0'], label='p3q0', marker='+', color='black')\n",
    "\n",
    "# Formatting the plot\n",
    "plt.title(f'Occupancy Rate Changes for Train {train} and station {station}')\n",
    "plt.xlabel('Datetime')\n",
    "plt.ylabel('Occupancy Rate')\n",
    "plt.xticks(rotation=45)\n",
    "plt.legend()\n",
    "plt.tight_layout()\n",
    "plt.show()"
   ]
  },
  {
   "cell_type": "code",
   "execution_count": 32,
   "metadata": {},
   "outputs": [],
   "source": [
    "train = 2\n",
    "station = 'AI'\n",
    "train_df = datos[(datos['train'] == train) & (datos['station'] == station)]"
   ]
  },
  {
   "cell_type": "code",
   "execution_count": 33,
   "metadata": {},
   "outputs": [
    {
     "data": {
      "image/png": "[encoded data removed]",
      "text/plain": [
       "<Figure size 1000x600 with 1 Axes>"
      ]
     },
     "metadata": {},
     "output_type": "display_data"
    }
   ],
   "source": [
    "plt.figure(figsize=(10, 6))\n",
    "plt.plot(train_df.index, train_df['p0q0'], label='p0q0', marker='h', color='blue')\n",
    "plt.plot(train_df.index, train_df['p0q1'], label='p0q1', marker='o', color='green')\n",
    "plt.plot(train_df.index, train_df['p0q2'], label='p0q2', marker='x', color='red')\n",
    "plt.plot(train_df.index, train_df['p0q3'], label='p0q3', marker='s', color='purple')\n",
    "plt.plot(train_df.index, train_df['p1q0'], label='p1q0', marker='p', color='orange')\n",
    "plt.plot(train_df.index, train_df['p2q0'], label='p2q0', marker='d', color='yellow')\n",
    "plt.plot(train_df.index, train_df['p3q0'], label='p3q0', marker='+', color='black')\n",
    "plt.title(f'Occupancy Rate Changes for Train {train} and station {station}')\n",
    "plt.xlabel('Datetime')\n",
    "plt.ylabel('Occupancy Rate')\n",
    "plt.xticks(rotation=45)\n",
    "plt.legend()\n",
    "plt.tight_layout()\n",
    "plt.show()"
   ]
  },
  {
   "cell_type": "markdown",
   "metadata": {},
   "source": [
    "Vamos a quedarnos con el tren número 1:"
   ]
  },
  {
   "cell_type": "code",
   "execution_count": 34,
   "metadata": {},
   "outputs": [],
   "source": [
    "train_order = {train: index for index, train in enumerate(datos['train'].unique(), start=1)}"
   ]
  },
  {
   "cell_type": "code",
   "execution_count": 35,
   "metadata": {},
   "outputs": [
    {
     "data": {
      "text/plain": [
       "{np.int64(1): 1,\n",
       " np.int64(10): 2,\n",
       " np.int64(11): 3,\n",
       " np.int64(12): 4,\n",
       " np.int64(13): 5,\n",
       " np.int64(14): 6,\n",
       " np.int64(15): 7,\n",
       " np.int64(16): 8,\n",
       " np.int64(17): 9,\n",
       " np.int64(18): 10,\n",
       " np.int64(19): 11,\n",
       " np.int64(2): 12,\n",
       " np.int64(20): 13,\n",
       " np.int64(21): 14,\n",
       " np.int64(22): 15,\n",
       " np.int64(23): 16,\n",
       " np.int64(24): 17,\n",
       " np.int64(25): 18,\n",
       " np.int64(26): 19,\n",
       " np.int64(27): 20,\n",
       " np.int64(28): 21,\n",
       " np.int64(29): 22,\n",
       " np.int64(3): 23,\n",
       " np.int64(30): 24,\n",
       " np.int64(31): 25,\n",
       " np.int64(32): 26,\n",
       " np.int64(33): 27,\n",
       " np.int64(34): 28,\n",
       " np.int64(35): 29,\n",
       " np.int64(36): 30,\n",
       " np.int64(37): 31,\n",
       " np.int64(38): 32,\n",
       " np.int64(39): 33,\n",
       " np.int64(4): 34,\n",
       " np.int64(40): 35,\n",
       " np.int64(41): 36,\n",
       " np.int64(42): 37,\n",
       " np.int64(43): 38,\n",
       " np.int64(44): 39,\n",
       " np.int64(45): 40,\n",
       " np.int64(46): 41,\n",
       " np.int64(47): 42,\n",
       " np.int64(48): 43,\n",
       " np.int64(49): 44,\n",
       " np.int64(5): 45,\n",
       " np.int64(50): 46,\n",
       " np.int64(51): 47,\n",
       " np.int64(52): 48,\n",
       " np.int64(53): 49,\n",
       " np.int64(54): 50,\n",
       " np.int64(55): 51,\n",
       " np.int64(6): 52,\n",
       " np.int64(7): 53,\n",
       " np.int64(8): 54,\n",
       " np.int64(9): 55}"
      ]
     },
     "execution_count": 35,
     "metadata": {},
     "output_type": "execute_result"
    }
   ],
   "source": [
    "train_order"
   ]
  },
  {
   "cell_type": "code",
   "execution_count": 36,
   "metadata": {},
   "outputs": [],
   "source": [
    "rest = datos[datos['train'] == 1]"
   ]
  },
  {
   "cell_type": "code",
   "execution_count": 37,
   "metadata": {},
   "outputs": [
    {
     "data": {
      "text/plain": [
       "station\n",
       "AD    58\n",
       "AI    58\n",
       "AJ    58\n",
       "AK    58\n",
       "AM    58\n",
       "AT    58\n",
       "AW    58\n",
       "AX    58\n",
       "BB    58\n",
       "BD    58\n",
       "BE    58\n",
       "Name: count, dtype: int64"
      ]
     },
     "execution_count": 37,
     "metadata": {},
     "output_type": "execute_result"
    }
   ],
   "source": [
    "rest['station'].value_counts(dropna=False)"
   ]
  },
  {
   "cell_type": "markdown",
   "metadata": {},
   "source": [
    "Realizamos un one-hot encoding sobre las estaciones:"
   ]
  },
  {
   "cell_type": "code",
   "execution_count": 38,
   "metadata": {},
   "outputs": [],
   "source": [
    "rest = pd.get_dummies(rest, prefix='station')"
   ]
  },
  {
   "cell_type": "code",
   "execution_count": 39,
   "metadata": {},
   "outputs": [
    {
     "name": "stdout",
     "output_type": "stream",
     "text": [
      "<class 'pandas.core.frame.DataFrame'>\n",
      "DatetimeIndex: 638 entries, 2019-01-07 06:00:00 to 2019-05-20 06:00:00\n",
      "Data columns (total 21 columns):\n",
      " #   Column       Non-Null Count  Dtype  \n",
      "---  ------       --------------  -----  \n",
      " 0   p0q0         638 non-null    float64\n",
      " 1   p1q0         638 non-null    float64\n",
      " 2   p2q0         638 non-null    float64\n",
      " 3   p3q0         638 non-null    float64\n",
      " 4   p0q1         638 non-null    float64\n",
      " 5   p0q2         638 non-null    float64\n",
      " 6   p0q3         638 non-null    float64\n",
      " 7   train        638 non-null    int64  \n",
      " 8   composition  638 non-null    int64  \n",
      " 9   way          638 non-null    int64  \n",
      " 10  station_AD   638 non-null    bool   \n",
      " 11  station_AI   638 non-null    bool   \n",
      " 12  station_AJ   638 non-null    bool   \n",
      " 13  station_AK   638 non-null    bool   \n",
      " 14  station_AM   638 non-null    bool   \n",
      " 15  station_AT   638 non-null    bool   \n",
      " 16  station_AW   638 non-null    bool   \n",
      " 17  station_AX   638 non-null    bool   \n",
      " 18  station_BB   638 non-null    bool   \n",
      " 19  station_BD   638 non-null    bool   \n",
      " 20  station_BE   638 non-null    bool   \n",
      "dtypes: bool(11), float64(7), int64(3)\n",
      "memory usage: 61.7 KB\n"
     ]
    }
   ],
   "source": [
    "rest.info()"
   ]
  },
  {
   "cell_type": "code",
   "execution_count": 40,
   "metadata": {},
   "outputs": [],
   "source": [
    "X = rest.iloc[:,1:]\n",
    "y = rest.iloc[:,0]"
   ]
  },
  {
   "cell_type": "code",
   "execution_count": 41,
   "metadata": {},
   "outputs": [],
   "source": [
    "X.drop('train', axis=1, inplace=True)"
   ]
  },
  {
   "cell_type": "code",
   "execution_count": 42,
   "metadata": {},
   "outputs": [
    {
     "data": {
      "text/html": [
       "<div>\n",
       "<style scoped>\n",
       "    .dataframe tbody tr th:only-of-type {\n",
       "        vertical-align: middle;\n",
       "    }\n",
       "\n",
       "    .dataframe tbody tr th {\n",
       "        vertical-align: top;\n",
       "    }\n",
       "\n",
       "    .dataframe thead th {\n",
       "        text-align: right;\n",
       "    }\n",
       "</style>\n",
       "<table border=\"1\" class=\"dataframe\">\n",
       "  <thead>\n",
       "    <tr style=\"text-align: right;\">\n",
       "      <th></th>\n",
       "      <th>p1q0</th>\n",
       "      <th>p2q0</th>\n",
       "      <th>p3q0</th>\n",
       "      <th>p0q1</th>\n",
       "      <th>p0q2</th>\n",
       "      <th>p0q3</th>\n",
       "      <th>composition</th>\n",
       "      <th>way</th>\n",
       "      <th>station_AD</th>\n",
       "      <th>station_AI</th>\n",
       "      <th>station_AJ</th>\n",
       "      <th>station_AK</th>\n",
       "      <th>station_AM</th>\n",
       "      <th>station_AT</th>\n",
       "      <th>station_AW</th>\n",
       "      <th>station_AX</th>\n",
       "      <th>station_BB</th>\n",
       "      <th>station_BD</th>\n",
       "      <th>station_BE</th>\n",
       "    </tr>\n",
       "    <tr>\n",
       "      <th>datetime</th>\n",
       "      <th></th>\n",
       "      <th></th>\n",
       "      <th></th>\n",
       "      <th></th>\n",
       "      <th></th>\n",
       "      <th></th>\n",
       "      <th></th>\n",
       "      <th></th>\n",
       "      <th></th>\n",
       "      <th></th>\n",
       "      <th></th>\n",
       "      <th></th>\n",
       "      <th></th>\n",
       "      <th></th>\n",
       "      <th></th>\n",
       "      <th></th>\n",
       "      <th></th>\n",
       "      <th></th>\n",
       "      <th></th>\n",
       "    </tr>\n",
       "  </thead>\n",
       "  <tbody>\n",
       "    <tr>\n",
       "      <th>2019-01-07 06:00:00</th>\n",
       "      <td>-1.0</td>\n",
       "      <td>-1.0</td>\n",
       "      <td>-1.0</td>\n",
       "      <td>0.201</td>\n",
       "      <td>0.138</td>\n",
       "      <td>0.091</td>\n",
       "      <td>2</td>\n",
       "      <td>0</td>\n",
       "      <td>True</td>\n",
       "      <td>False</td>\n",
       "      <td>False</td>\n",
       "      <td>False</td>\n",
       "      <td>False</td>\n",
       "      <td>False</td>\n",
       "      <td>False</td>\n",
       "      <td>False</td>\n",
       "      <td>False</td>\n",
       "      <td>False</td>\n",
       "      <td>False</td>\n",
       "    </tr>\n",
       "    <tr>\n",
       "      <th>2019-01-08 06:00:00</th>\n",
       "      <td>-1.0</td>\n",
       "      <td>-1.0</td>\n",
       "      <td>-1.0</td>\n",
       "      <td>0.204</td>\n",
       "      <td>0.152</td>\n",
       "      <td>0.106</td>\n",
       "      <td>2</td>\n",
       "      <td>0</td>\n",
       "      <td>True</td>\n",
       "      <td>False</td>\n",
       "      <td>False</td>\n",
       "      <td>False</td>\n",
       "      <td>False</td>\n",
       "      <td>False</td>\n",
       "      <td>False</td>\n",
       "      <td>False</td>\n",
       "      <td>False</td>\n",
       "      <td>False</td>\n",
       "      <td>False</td>\n",
       "    </tr>\n",
       "    <tr>\n",
       "      <th>2019-01-10 06:00:00</th>\n",
       "      <td>-1.0</td>\n",
       "      <td>-1.0</td>\n",
       "      <td>-1.0</td>\n",
       "      <td>0.213</td>\n",
       "      <td>0.153</td>\n",
       "      <td>0.111</td>\n",
       "      <td>2</td>\n",
       "      <td>0</td>\n",
       "      <td>True</td>\n",
       "      <td>False</td>\n",
       "      <td>False</td>\n",
       "      <td>False</td>\n",
       "      <td>False</td>\n",
       "      <td>False</td>\n",
       "      <td>False</td>\n",
       "      <td>False</td>\n",
       "      <td>False</td>\n",
       "      <td>False</td>\n",
       "      <td>False</td>\n",
       "    </tr>\n",
       "    <tr>\n",
       "      <th>2019-01-11 06:00:00</th>\n",
       "      <td>-1.0</td>\n",
       "      <td>-1.0</td>\n",
       "      <td>-1.0</td>\n",
       "      <td>0.213</td>\n",
       "      <td>0.152</td>\n",
       "      <td>0.108</td>\n",
       "      <td>2</td>\n",
       "      <td>0</td>\n",
       "      <td>True</td>\n",
       "      <td>False</td>\n",
       "      <td>False</td>\n",
       "      <td>False</td>\n",
       "      <td>False</td>\n",
       "      <td>False</td>\n",
       "      <td>False</td>\n",
       "      <td>False</td>\n",
       "      <td>False</td>\n",
       "      <td>False</td>\n",
       "      <td>False</td>\n",
       "    </tr>\n",
       "    <tr>\n",
       "      <th>2019-01-14 06:00:00</th>\n",
       "      <td>-1.0</td>\n",
       "      <td>-1.0</td>\n",
       "      <td>-1.0</td>\n",
       "      <td>0.210</td>\n",
       "      <td>0.147</td>\n",
       "      <td>0.096</td>\n",
       "      <td>2</td>\n",
       "      <td>0</td>\n",
       "      <td>True</td>\n",
       "      <td>False</td>\n",
       "      <td>False</td>\n",
       "      <td>False</td>\n",
       "      <td>False</td>\n",
       "      <td>False</td>\n",
       "      <td>False</td>\n",
       "      <td>False</td>\n",
       "      <td>False</td>\n",
       "      <td>False</td>\n",
       "      <td>False</td>\n",
       "    </tr>\n",
       "    <tr>\n",
       "      <th>...</th>\n",
       "      <td>...</td>\n",
       "      <td>...</td>\n",
       "      <td>...</td>\n",
       "      <td>...</td>\n",
       "      <td>...</td>\n",
       "      <td>...</td>\n",
       "      <td>...</td>\n",
       "      <td>...</td>\n",
       "      <td>...</td>\n",
       "      <td>...</td>\n",
       "      <td>...</td>\n",
       "      <td>...</td>\n",
       "      <td>...</td>\n",
       "      <td>...</td>\n",
       "      <td>...</td>\n",
       "      <td>...</td>\n",
       "      <td>...</td>\n",
       "      <td>...</td>\n",
       "      <td>...</td>\n",
       "    </tr>\n",
       "    <tr>\n",
       "      <th>2019-05-10 06:00:00</th>\n",
       "      <td>-1.0</td>\n",
       "      <td>-1.0</td>\n",
       "      <td>-1.0</td>\n",
       "      <td>0.047</td>\n",
       "      <td>0.066</td>\n",
       "      <td>-1.000</td>\n",
       "      <td>2</td>\n",
       "      <td>0</td>\n",
       "      <td>False</td>\n",
       "      <td>False</td>\n",
       "      <td>False</td>\n",
       "      <td>False</td>\n",
       "      <td>False</td>\n",
       "      <td>False</td>\n",
       "      <td>False</td>\n",
       "      <td>False</td>\n",
       "      <td>False</td>\n",
       "      <td>False</td>\n",
       "      <td>True</td>\n",
       "    </tr>\n",
       "    <tr>\n",
       "      <th>2019-05-14 06:00:00</th>\n",
       "      <td>-1.0</td>\n",
       "      <td>-1.0</td>\n",
       "      <td>-1.0</td>\n",
       "      <td>0.052</td>\n",
       "      <td>0.080</td>\n",
       "      <td>-1.000</td>\n",
       "      <td>2</td>\n",
       "      <td>0</td>\n",
       "      <td>False</td>\n",
       "      <td>False</td>\n",
       "      <td>False</td>\n",
       "      <td>False</td>\n",
       "      <td>False</td>\n",
       "      <td>False</td>\n",
       "      <td>False</td>\n",
       "      <td>False</td>\n",
       "      <td>False</td>\n",
       "      <td>False</td>\n",
       "      <td>True</td>\n",
       "    </tr>\n",
       "    <tr>\n",
       "      <th>2019-05-15 06:00:00</th>\n",
       "      <td>-1.0</td>\n",
       "      <td>-1.0</td>\n",
       "      <td>-1.0</td>\n",
       "      <td>0.049</td>\n",
       "      <td>0.070</td>\n",
       "      <td>-1.000</td>\n",
       "      <td>2</td>\n",
       "      <td>0</td>\n",
       "      <td>False</td>\n",
       "      <td>False</td>\n",
       "      <td>False</td>\n",
       "      <td>False</td>\n",
       "      <td>False</td>\n",
       "      <td>False</td>\n",
       "      <td>False</td>\n",
       "      <td>False</td>\n",
       "      <td>False</td>\n",
       "      <td>False</td>\n",
       "      <td>True</td>\n",
       "    </tr>\n",
       "    <tr>\n",
       "      <th>2019-05-16 06:00:00</th>\n",
       "      <td>-1.0</td>\n",
       "      <td>-1.0</td>\n",
       "      <td>-1.0</td>\n",
       "      <td>0.042</td>\n",
       "      <td>0.070</td>\n",
       "      <td>-1.000</td>\n",
       "      <td>2</td>\n",
       "      <td>0</td>\n",
       "      <td>False</td>\n",
       "      <td>False</td>\n",
       "      <td>False</td>\n",
       "      <td>False</td>\n",
       "      <td>False</td>\n",
       "      <td>False</td>\n",
       "      <td>False</td>\n",
       "      <td>False</td>\n",
       "      <td>False</td>\n",
       "      <td>False</td>\n",
       "      <td>True</td>\n",
       "    </tr>\n",
       "    <tr>\n",
       "      <th>2019-05-20 06:00:00</th>\n",
       "      <td>-1.0</td>\n",
       "      <td>-1.0</td>\n",
       "      <td>-1.0</td>\n",
       "      <td>0.054</td>\n",
       "      <td>0.070</td>\n",
       "      <td>-1.000</td>\n",
       "      <td>2</td>\n",
       "      <td>0</td>\n",
       "      <td>False</td>\n",
       "      <td>False</td>\n",
       "      <td>False</td>\n",
       "      <td>False</td>\n",
       "      <td>False</td>\n",
       "      <td>False</td>\n",
       "      <td>False</td>\n",
       "      <td>False</td>\n",
       "      <td>False</td>\n",
       "      <td>False</td>\n",
       "      <td>True</td>\n",
       "    </tr>\n",
       "  </tbody>\n",
       "</table>\n",
       "<p>638 rows × 19 columns</p>\n",
       "</div>"
      ],
      "text/plain": [
       "                     p1q0  p2q0  p3q0   p0q1   p0q2   p0q3  composition  way  \\\n",
       "datetime                                                                       \n",
       "2019-01-07 06:00:00  -1.0  -1.0  -1.0  0.201  0.138  0.091            2    0   \n",
       "2019-01-08 06:00:00  -1.0  -1.0  -1.0  0.204  0.152  0.106            2    0   \n",
       "2019-01-10 06:00:00  -1.0  -1.0  -1.0  0.213  0.153  0.111            2    0   \n",
       "2019-01-11 06:00:00  -1.0  -1.0  -1.0  0.213  0.152  0.108            2    0   \n",
       "2019-01-14 06:00:00  -1.0  -1.0  -1.0  0.210  0.147  0.096            2    0   \n",
       "...                   ...   ...   ...    ...    ...    ...          ...  ...   \n",
       "2019-05-10 06:00:00  -1.0  -1.0  -1.0  0.047  0.066 -1.000            2    0   \n",
       "2019-05-14 06:00:00  -1.0  -1.0  -1.0  0.052  0.080 -1.000            2    0   \n",
       "2019-05-15 06:00:00  -1.0  -1.0  -1.0  0.049  0.070 -1.000            2    0   \n",
       "2019-05-16 06:00:00  -1.0  -1.0  -1.0  0.042  0.070 -1.000            2    0   \n",
       "2019-05-20 06:00:00  -1.0  -1.0  -1.0  0.054  0.070 -1.000            2    0   \n",
       "\n",
       "                     station_AD  station_AI  station_AJ  station_AK  \\\n",
       "datetime                                                              \n",
       "2019-01-07 06:00:00        True       False       False       False   \n",
       "2019-01-08 06:00:00        True       False       False       False   \n",
       "2019-01-10 06:00:00        True       False       False       False   \n",
       "2019-01-11 06:00:00        True       False       False       False   \n",
       "2019-01-14 06:00:00        True       False       False       False   \n",
       "...                         ...         ...         ...         ...   \n",
       "2019-05-10 06:00:00       False       False       False       False   \n",
       "2019-05-14 06:00:00       False       False       False       False   \n",
       "2019-05-15 06:00:00       False       False       False       False   \n",
       "2019-05-16 06:00:00       False       False       False       False   \n",
       "2019-05-20 06:00:00       False       False       False       False   \n",
       "\n",
       "                     station_AM  station_AT  station_AW  station_AX  \\\n",
       "datetime                                                              \n",
       "2019-01-07 06:00:00       False       False       False       False   \n",
       "2019-01-08 06:00:00       False       False       False       False   \n",
       "2019-01-10 06:00:00       False       False       False       False   \n",
       "2019-01-11 06:00:00       False       False       False       False   \n",
       "2019-01-14 06:00:00       False       False       False       False   \n",
       "...                         ...         ...         ...         ...   \n",
       "2019-05-10 06:00:00       False       False       False       False   \n",
       "2019-05-14 06:00:00       False       False       False       False   \n",
       "2019-05-15 06:00:00       False       False       False       False   \n",
       "2019-05-16 06:00:00       False       False       False       False   \n",
       "2019-05-20 06:00:00       False       False       False       False   \n",
       "\n",
       "                     station_BB  station_BD  station_BE  \n",
       "datetime                                                 \n",
       "2019-01-07 06:00:00       False       False       False  \n",
       "2019-01-08 06:00:00       False       False       False  \n",
       "2019-01-10 06:00:00       False       False       False  \n",
       "2019-01-11 06:00:00       False       False       False  \n",
       "2019-01-14 06:00:00       False       False       False  \n",
       "...                         ...         ...         ...  \n",
       "2019-05-10 06:00:00       False       False        True  \n",
       "2019-05-14 06:00:00       False       False        True  \n",
       "2019-05-15 06:00:00       False       False        True  \n",
       "2019-05-16 06:00:00       False       False        True  \n",
       "2019-05-20 06:00:00       False       False        True  \n",
       "\n",
       "[638 rows x 19 columns]"
      ]
     },
     "execution_count": 42,
     "metadata": {},
     "output_type": "execute_result"
    }
   ],
   "source": [
    "X"
   ]
  },
  {
   "cell_type": "code",
   "execution_count": 43,
   "metadata": {},
   "outputs": [
    {
     "data": {
      "text/plain": [
       "datetime\n",
       "2019-01-07 06:00:00    0.216\n",
       "2019-01-08 06:00:00    0.216\n",
       "2019-01-10 06:00:00    0.227\n",
       "2019-01-11 06:00:00    0.229\n",
       "2019-01-14 06:00:00    0.225\n",
       "                       ...  \n",
       "2019-05-10 06:00:00    0.088\n",
       "2019-05-14 06:00:00    0.102\n",
       "2019-05-15 06:00:00    0.091\n",
       "2019-05-16 06:00:00    0.089\n",
       "2019-05-20 06:00:00    0.089\n",
       "Name: p0q0, Length: 638, dtype: float64"
      ]
     },
     "execution_count": 43,
     "metadata": {},
     "output_type": "execute_result"
    }
   ],
   "source": [
    "y"
   ]
  },
  {
   "cell_type": "markdown",
   "metadata": {},
   "source": [
    "Vamos a separar en conjunto de entrenamiento y prueba:"
   ]
  },
  {
   "cell_type": "code",
   "execution_count": 44,
   "metadata": {},
   "outputs": [],
   "source": [
    "X_train, X_test, y_train, y_test = train_test_split(X, y, train_size = 0.8, shuffle=False)"
   ]
  },
  {
   "cell_type": "markdown",
   "metadata": {},
   "source": [
    "### Training"
   ]
  },
  {
   "cell_type": "code",
   "execution_count": 45,
   "metadata": {},
   "outputs": [
    {
     "data": {
      "text/html": [
       "<div>\n",
       "<style scoped>\n",
       "    .dataframe tbody tr th:only-of-type {\n",
       "        vertical-align: middle;\n",
       "    }\n",
       "\n",
       "    .dataframe tbody tr th {\n",
       "        vertical-align: top;\n",
       "    }\n",
       "\n",
       "    .dataframe thead th {\n",
       "        text-align: right;\n",
       "    }\n",
       "</style>\n",
       "<table border=\"1\" class=\"dataframe\">\n",
       "  <thead>\n",
       "    <tr style=\"text-align: right;\">\n",
       "      <th></th>\n",
       "      <th>p1q0</th>\n",
       "      <th>p2q0</th>\n",
       "      <th>p3q0</th>\n",
       "      <th>p0q1</th>\n",
       "      <th>p0q2</th>\n",
       "      <th>p0q3</th>\n",
       "      <th>composition</th>\n",
       "      <th>way</th>\n",
       "      <th>station_AD</th>\n",
       "      <th>station_AI</th>\n",
       "      <th>station_AJ</th>\n",
       "      <th>station_AK</th>\n",
       "      <th>station_AM</th>\n",
       "      <th>station_AT</th>\n",
       "      <th>station_AW</th>\n",
       "      <th>station_AX</th>\n",
       "      <th>station_BB</th>\n",
       "      <th>station_BD</th>\n",
       "      <th>station_BE</th>\n",
       "    </tr>\n",
       "    <tr>\n",
       "      <th>datetime</th>\n",
       "      <th></th>\n",
       "      <th></th>\n",
       "      <th></th>\n",
       "      <th></th>\n",
       "      <th></th>\n",
       "      <th></th>\n",
       "      <th></th>\n",
       "      <th></th>\n",
       "      <th></th>\n",
       "      <th></th>\n",
       "      <th></th>\n",
       "      <th></th>\n",
       "      <th></th>\n",
       "      <th></th>\n",
       "      <th></th>\n",
       "      <th></th>\n",
       "      <th></th>\n",
       "      <th></th>\n",
       "      <th></th>\n",
       "    </tr>\n",
       "  </thead>\n",
       "  <tbody>\n",
       "    <tr>\n",
       "      <th>2019-01-07 06:00:00</th>\n",
       "      <td>-1.0000</td>\n",
       "      <td>-1.00000</td>\n",
       "      <td>-1.0</td>\n",
       "      <td>0.201</td>\n",
       "      <td>0.138</td>\n",
       "      <td>0.091</td>\n",
       "      <td>2</td>\n",
       "      <td>0</td>\n",
       "      <td>True</td>\n",
       "      <td>False</td>\n",
       "      <td>False</td>\n",
       "      <td>False</td>\n",
       "      <td>False</td>\n",
       "      <td>False</td>\n",
       "      <td>False</td>\n",
       "      <td>False</td>\n",
       "      <td>False</td>\n",
       "      <td>False</td>\n",
       "      <td>False</td>\n",
       "    </tr>\n",
       "    <tr>\n",
       "      <th>2019-01-08 06:00:00</th>\n",
       "      <td>-1.0000</td>\n",
       "      <td>-1.00000</td>\n",
       "      <td>-1.0</td>\n",
       "      <td>0.204</td>\n",
       "      <td>0.152</td>\n",
       "      <td>0.106</td>\n",
       "      <td>2</td>\n",
       "      <td>0</td>\n",
       "      <td>True</td>\n",
       "      <td>False</td>\n",
       "      <td>False</td>\n",
       "      <td>False</td>\n",
       "      <td>False</td>\n",
       "      <td>False</td>\n",
       "      <td>False</td>\n",
       "      <td>False</td>\n",
       "      <td>False</td>\n",
       "      <td>False</td>\n",
       "      <td>False</td>\n",
       "    </tr>\n",
       "    <tr>\n",
       "      <th>2019-01-10 06:00:00</th>\n",
       "      <td>-1.0000</td>\n",
       "      <td>-1.00000</td>\n",
       "      <td>-1.0</td>\n",
       "      <td>0.213</td>\n",
       "      <td>0.153</td>\n",
       "      <td>0.111</td>\n",
       "      <td>2</td>\n",
       "      <td>0</td>\n",
       "      <td>True</td>\n",
       "      <td>False</td>\n",
       "      <td>False</td>\n",
       "      <td>False</td>\n",
       "      <td>False</td>\n",
       "      <td>False</td>\n",
       "      <td>False</td>\n",
       "      <td>False</td>\n",
       "      <td>False</td>\n",
       "      <td>False</td>\n",
       "      <td>False</td>\n",
       "    </tr>\n",
       "    <tr>\n",
       "      <th>2019-01-11 06:00:00</th>\n",
       "      <td>-1.0000</td>\n",
       "      <td>-1.00000</td>\n",
       "      <td>-1.0</td>\n",
       "      <td>0.213</td>\n",
       "      <td>0.152</td>\n",
       "      <td>0.108</td>\n",
       "      <td>2</td>\n",
       "      <td>0</td>\n",
       "      <td>True</td>\n",
       "      <td>False</td>\n",
       "      <td>False</td>\n",
       "      <td>False</td>\n",
       "      <td>False</td>\n",
       "      <td>False</td>\n",
       "      <td>False</td>\n",
       "      <td>False</td>\n",
       "      <td>False</td>\n",
       "      <td>False</td>\n",
       "      <td>False</td>\n",
       "    </tr>\n",
       "    <tr>\n",
       "      <th>2019-01-14 06:00:00</th>\n",
       "      <td>-1.0000</td>\n",
       "      <td>-1.00000</td>\n",
       "      <td>-1.0</td>\n",
       "      <td>0.210</td>\n",
       "      <td>0.147</td>\n",
       "      <td>0.096</td>\n",
       "      <td>2</td>\n",
       "      <td>0</td>\n",
       "      <td>True</td>\n",
       "      <td>False</td>\n",
       "      <td>False</td>\n",
       "      <td>False</td>\n",
       "      <td>False</td>\n",
       "      <td>False</td>\n",
       "      <td>False</td>\n",
       "      <td>False</td>\n",
       "      <td>False</td>\n",
       "      <td>False</td>\n",
       "      <td>False</td>\n",
       "    </tr>\n",
       "    <tr>\n",
       "      <th>...</th>\n",
       "      <td>...</td>\n",
       "      <td>...</td>\n",
       "      <td>...</td>\n",
       "      <td>...</td>\n",
       "      <td>...</td>\n",
       "      <td>...</td>\n",
       "      <td>...</td>\n",
       "      <td>...</td>\n",
       "      <td>...</td>\n",
       "      <td>...</td>\n",
       "      <td>...</td>\n",
       "      <td>...</td>\n",
       "      <td>...</td>\n",
       "      <td>...</td>\n",
       "      <td>...</td>\n",
       "      <td>...</td>\n",
       "      <td>...</td>\n",
       "      <td>...</td>\n",
       "      <td>...</td>\n",
       "    </tr>\n",
       "    <tr>\n",
       "      <th>2019-04-04 06:00:00</th>\n",
       "      <td>0.2080</td>\n",
       "      <td>0.18800</td>\n",
       "      <td>-1.0</td>\n",
       "      <td>0.233</td>\n",
       "      <td>0.245</td>\n",
       "      <td>0.217</td>\n",
       "      <td>2</td>\n",
       "      <td>0</td>\n",
       "      <td>False</td>\n",
       "      <td>False</td>\n",
       "      <td>False</td>\n",
       "      <td>False</td>\n",
       "      <td>False</td>\n",
       "      <td>False</td>\n",
       "      <td>False</td>\n",
       "      <td>False</td>\n",
       "      <td>True</td>\n",
       "      <td>False</td>\n",
       "      <td>False</td>\n",
       "    </tr>\n",
       "    <tr>\n",
       "      <th>2019-04-05 06:00:00</th>\n",
       "      <td>0.2140</td>\n",
       "      <td>0.17572</td>\n",
       "      <td>-1.0</td>\n",
       "      <td>0.200</td>\n",
       "      <td>0.227</td>\n",
       "      <td>0.182</td>\n",
       "      <td>2</td>\n",
       "      <td>0</td>\n",
       "      <td>False</td>\n",
       "      <td>False</td>\n",
       "      <td>False</td>\n",
       "      <td>False</td>\n",
       "      <td>False</td>\n",
       "      <td>False</td>\n",
       "      <td>False</td>\n",
       "      <td>False</td>\n",
       "      <td>True</td>\n",
       "      <td>False</td>\n",
       "      <td>False</td>\n",
       "    </tr>\n",
       "    <tr>\n",
       "      <th>2019-04-08 06:00:00</th>\n",
       "      <td>0.1520</td>\n",
       "      <td>0.28500</td>\n",
       "      <td>-1.0</td>\n",
       "      <td>0.259</td>\n",
       "      <td>0.278</td>\n",
       "      <td>0.232</td>\n",
       "      <td>2</td>\n",
       "      <td>0</td>\n",
       "      <td>False</td>\n",
       "      <td>False</td>\n",
       "      <td>False</td>\n",
       "      <td>False</td>\n",
       "      <td>False</td>\n",
       "      <td>False</td>\n",
       "      <td>False</td>\n",
       "      <td>False</td>\n",
       "      <td>True</td>\n",
       "      <td>False</td>\n",
       "      <td>False</td>\n",
       "    </tr>\n",
       "    <tr>\n",
       "      <th>2019-04-09 06:00:00</th>\n",
       "      <td>0.2290</td>\n",
       "      <td>0.20200</td>\n",
       "      <td>-1.0</td>\n",
       "      <td>0.284</td>\n",
       "      <td>0.290</td>\n",
       "      <td>0.250</td>\n",
       "      <td>2</td>\n",
       "      <td>0</td>\n",
       "      <td>False</td>\n",
       "      <td>False</td>\n",
       "      <td>False</td>\n",
       "      <td>False</td>\n",
       "      <td>False</td>\n",
       "      <td>False</td>\n",
       "      <td>False</td>\n",
       "      <td>False</td>\n",
       "      <td>True</td>\n",
       "      <td>False</td>\n",
       "      <td>False</td>\n",
       "    </tr>\n",
       "    <tr>\n",
       "      <th>2019-04-10 06:00:00</th>\n",
       "      <td>0.1836</td>\n",
       "      <td>0.19800</td>\n",
       "      <td>-1.0</td>\n",
       "      <td>0.222</td>\n",
       "      <td>0.224</td>\n",
       "      <td>0.206</td>\n",
       "      <td>2</td>\n",
       "      <td>0</td>\n",
       "      <td>False</td>\n",
       "      <td>False</td>\n",
       "      <td>False</td>\n",
       "      <td>False</td>\n",
       "      <td>False</td>\n",
       "      <td>False</td>\n",
       "      <td>False</td>\n",
       "      <td>False</td>\n",
       "      <td>True</td>\n",
       "      <td>False</td>\n",
       "      <td>False</td>\n",
       "    </tr>\n",
       "  </tbody>\n",
       "</table>\n",
       "<p>510 rows × 19 columns</p>\n",
       "</div>"
      ],
      "text/plain": [
       "                       p1q0     p2q0  p3q0   p0q1   p0q2   p0q3  composition  \\\n",
       "datetime                                                                       \n",
       "2019-01-07 06:00:00 -1.0000 -1.00000  -1.0  0.201  0.138  0.091            2   \n",
       "2019-01-08 06:00:00 -1.0000 -1.00000  -1.0  0.204  0.152  0.106            2   \n",
       "2019-01-10 06:00:00 -1.0000 -1.00000  -1.0  0.213  0.153  0.111            2   \n",
       "2019-01-11 06:00:00 -1.0000 -1.00000  -1.0  0.213  0.152  0.108            2   \n",
       "2019-01-14 06:00:00 -1.0000 -1.00000  -1.0  0.210  0.147  0.096            2   \n",
       "...                     ...      ...   ...    ...    ...    ...          ...   \n",
       "2019-04-04 06:00:00  0.2080  0.18800  -1.0  0.233  0.245  0.217            2   \n",
       "2019-04-05 06:00:00  0.2140  0.17572  -1.0  0.200  0.227  0.182            2   \n",
       "2019-04-08 06:00:00  0.1520  0.28500  -1.0  0.259  0.278  0.232            2   \n",
       "2019-04-09 06:00:00  0.2290  0.20200  -1.0  0.284  0.290  0.250            2   \n",
       "2019-04-10 06:00:00  0.1836  0.19800  -1.0  0.222  0.224  0.206            2   \n",
       "\n",
       "                     way  station_AD  station_AI  station_AJ  station_AK  \\\n",
       "datetime                                                                   \n",
       "2019-01-07 06:00:00    0        True       False       False       False   \n",
       "2019-01-08 06:00:00    0        True       False       False       False   \n",
       "2019-01-10 06:00:00    0        True       False       False       False   \n",
       "2019-01-11 06:00:00    0        True       False       False       False   \n",
       "2019-01-14 06:00:00    0        True       False       False       False   \n",
       "...                  ...         ...         ...         ...         ...   \n",
       "2019-04-04 06:00:00    0       False       False       False       False   \n",
       "2019-04-05 06:00:00    0       False       False       False       False   \n",
       "2019-04-08 06:00:00    0       False       False       False       False   \n",
       "2019-04-09 06:00:00    0       False       False       False       False   \n",
       "2019-04-10 06:00:00    0       False       False       False       False   \n",
       "\n",
       "                     station_AM  station_AT  station_AW  station_AX  \\\n",
       "datetime                                                              \n",
       "2019-01-07 06:00:00       False       False       False       False   \n",
       "2019-01-08 06:00:00       False       False       False       False   \n",
       "2019-01-10 06:00:00       False       False       False       False   \n",
       "2019-01-11 06:00:00       False       False       False       False   \n",
       "2019-01-14 06:00:00       False       False       False       False   \n",
       "...                         ...         ...         ...         ...   \n",
       "2019-04-04 06:00:00       False       False       False       False   \n",
       "2019-04-05 06:00:00       False       False       False       False   \n",
       "2019-04-08 06:00:00       False       False       False       False   \n",
       "2019-04-09 06:00:00       False       False       False       False   \n",
       "2019-04-10 06:00:00       False       False       False       False   \n",
       "\n",
       "                     station_BB  station_BD  station_BE  \n",
       "datetime                                                 \n",
       "2019-01-07 06:00:00       False       False       False  \n",
       "2019-01-08 06:00:00       False       False       False  \n",
       "2019-01-10 06:00:00       False       False       False  \n",
       "2019-01-11 06:00:00       False       False       False  \n",
       "2019-01-14 06:00:00       False       False       False  \n",
       "...                         ...         ...         ...  \n",
       "2019-04-04 06:00:00        True       False       False  \n",
       "2019-04-05 06:00:00        True       False       False  \n",
       "2019-04-08 06:00:00        True       False       False  \n",
       "2019-04-09 06:00:00        True       False       False  \n",
       "2019-04-10 06:00:00        True       False       False  \n",
       "\n",
       "[510 rows x 19 columns]"
      ]
     },
     "execution_count": 45,
     "metadata": {},
     "output_type": "execute_result"
    }
   ],
   "source": [
    "X_train"
   ]
  },
  {
   "cell_type": "code",
   "execution_count": 46,
   "metadata": {},
   "outputs": [
    {
     "data": {
      "text/plain": [
       "datetime\n",
       "2019-01-07 06:00:00    0.216\n",
       "2019-01-08 06:00:00    0.216\n",
       "2019-01-10 06:00:00    0.227\n",
       "2019-01-11 06:00:00    0.229\n",
       "2019-01-14 06:00:00    0.225\n",
       "Name: p0q0, dtype: float64"
      ]
     },
     "execution_count": 46,
     "metadata": {},
     "output_type": "execute_result"
    }
   ],
   "source": [
    "y_train.head()"
   ]
  },
  {
   "cell_type": "code",
   "execution_count": 47,
   "metadata": {},
   "outputs": [
    {
     "data": {
      "text/html": [
       "<div>\n",
       "<style scoped>\n",
       "    .dataframe tbody tr th:only-of-type {\n",
       "        vertical-align: middle;\n",
       "    }\n",
       "\n",
       "    .dataframe tbody tr th {\n",
       "        vertical-align: top;\n",
       "    }\n",
       "\n",
       "    .dataframe thead th {\n",
       "        text-align: right;\n",
       "    }\n",
       "</style>\n",
       "<table border=\"1\" class=\"dataframe\">\n",
       "  <thead>\n",
       "    <tr style=\"text-align: right;\">\n",
       "      <th></th>\n",
       "      <th>p1q0</th>\n",
       "      <th>p2q0</th>\n",
       "      <th>p3q0</th>\n",
       "      <th>p0q1</th>\n",
       "      <th>p0q2</th>\n",
       "      <th>p0q3</th>\n",
       "      <th>composition</th>\n",
       "      <th>way</th>\n",
       "    </tr>\n",
       "    <tr>\n",
       "      <th>datetime</th>\n",
       "      <th></th>\n",
       "      <th></th>\n",
       "      <th></th>\n",
       "      <th></th>\n",
       "      <th></th>\n",
       "      <th></th>\n",
       "      <th></th>\n",
       "      <th></th>\n",
       "    </tr>\n",
       "  </thead>\n",
       "  <tbody>\n",
       "    <tr>\n",
       "      <th>2019-01-07 06:00:00</th>\n",
       "      <td>-1.0000</td>\n",
       "      <td>-1.00000</td>\n",
       "      <td>-1.0</td>\n",
       "      <td>0.201</td>\n",
       "      <td>0.138</td>\n",
       "      <td>0.091</td>\n",
       "      <td>2</td>\n",
       "      <td>0</td>\n",
       "    </tr>\n",
       "    <tr>\n",
       "      <th>2019-01-08 06:00:00</th>\n",
       "      <td>-1.0000</td>\n",
       "      <td>-1.00000</td>\n",
       "      <td>-1.0</td>\n",
       "      <td>0.204</td>\n",
       "      <td>0.152</td>\n",
       "      <td>0.106</td>\n",
       "      <td>2</td>\n",
       "      <td>0</td>\n",
       "    </tr>\n",
       "    <tr>\n",
       "      <th>2019-01-10 06:00:00</th>\n",
       "      <td>-1.0000</td>\n",
       "      <td>-1.00000</td>\n",
       "      <td>-1.0</td>\n",
       "      <td>0.213</td>\n",
       "      <td>0.153</td>\n",
       "      <td>0.111</td>\n",
       "      <td>2</td>\n",
       "      <td>0</td>\n",
       "    </tr>\n",
       "    <tr>\n",
       "      <th>2019-01-11 06:00:00</th>\n",
       "      <td>-1.0000</td>\n",
       "      <td>-1.00000</td>\n",
       "      <td>-1.0</td>\n",
       "      <td>0.213</td>\n",
       "      <td>0.152</td>\n",
       "      <td>0.108</td>\n",
       "      <td>2</td>\n",
       "      <td>0</td>\n",
       "    </tr>\n",
       "    <tr>\n",
       "      <th>2019-01-14 06:00:00</th>\n",
       "      <td>-1.0000</td>\n",
       "      <td>-1.00000</td>\n",
       "      <td>-1.0</td>\n",
       "      <td>0.210</td>\n",
       "      <td>0.147</td>\n",
       "      <td>0.096</td>\n",
       "      <td>2</td>\n",
       "      <td>0</td>\n",
       "    </tr>\n",
       "    <tr>\n",
       "      <th>...</th>\n",
       "      <td>...</td>\n",
       "      <td>...</td>\n",
       "      <td>...</td>\n",
       "      <td>...</td>\n",
       "      <td>...</td>\n",
       "      <td>...</td>\n",
       "      <td>...</td>\n",
       "      <td>...</td>\n",
       "    </tr>\n",
       "    <tr>\n",
       "      <th>2019-04-04 06:00:00</th>\n",
       "      <td>0.2080</td>\n",
       "      <td>0.18800</td>\n",
       "      <td>-1.0</td>\n",
       "      <td>0.233</td>\n",
       "      <td>0.245</td>\n",
       "      <td>0.217</td>\n",
       "      <td>2</td>\n",
       "      <td>0</td>\n",
       "    </tr>\n",
       "    <tr>\n",
       "      <th>2019-04-05 06:00:00</th>\n",
       "      <td>0.2140</td>\n",
       "      <td>0.17572</td>\n",
       "      <td>-1.0</td>\n",
       "      <td>0.200</td>\n",
       "      <td>0.227</td>\n",
       "      <td>0.182</td>\n",
       "      <td>2</td>\n",
       "      <td>0</td>\n",
       "    </tr>\n",
       "    <tr>\n",
       "      <th>2019-04-08 06:00:00</th>\n",
       "      <td>0.1520</td>\n",
       "      <td>0.28500</td>\n",
       "      <td>-1.0</td>\n",
       "      <td>0.259</td>\n",
       "      <td>0.278</td>\n",
       "      <td>0.232</td>\n",
       "      <td>2</td>\n",
       "      <td>0</td>\n",
       "    </tr>\n",
       "    <tr>\n",
       "      <th>2019-04-09 06:00:00</th>\n",
       "      <td>0.2290</td>\n",
       "      <td>0.20200</td>\n",
       "      <td>-1.0</td>\n",
       "      <td>0.284</td>\n",
       "      <td>0.290</td>\n",
       "      <td>0.250</td>\n",
       "      <td>2</td>\n",
       "      <td>0</td>\n",
       "    </tr>\n",
       "    <tr>\n",
       "      <th>2019-04-10 06:00:00</th>\n",
       "      <td>0.1836</td>\n",
       "      <td>0.19800</td>\n",
       "      <td>-1.0</td>\n",
       "      <td>0.222</td>\n",
       "      <td>0.224</td>\n",
       "      <td>0.206</td>\n",
       "      <td>2</td>\n",
       "      <td>0</td>\n",
       "    </tr>\n",
       "  </tbody>\n",
       "</table>\n",
       "<p>510 rows × 8 columns</p>\n",
       "</div>"
      ],
      "text/plain": [
       "                       p1q0     p2q0  p3q0   p0q1   p0q2   p0q3  composition  \\\n",
       "datetime                                                                       \n",
       "2019-01-07 06:00:00 -1.0000 -1.00000  -1.0  0.201  0.138  0.091            2   \n",
       "2019-01-08 06:00:00 -1.0000 -1.00000  -1.0  0.204  0.152  0.106            2   \n",
       "2019-01-10 06:00:00 -1.0000 -1.00000  -1.0  0.213  0.153  0.111            2   \n",
       "2019-01-11 06:00:00 -1.0000 -1.00000  -1.0  0.213  0.152  0.108            2   \n",
       "2019-01-14 06:00:00 -1.0000 -1.00000  -1.0  0.210  0.147  0.096            2   \n",
       "...                     ...      ...   ...    ...    ...    ...          ...   \n",
       "2019-04-04 06:00:00  0.2080  0.18800  -1.0  0.233  0.245  0.217            2   \n",
       "2019-04-05 06:00:00  0.2140  0.17572  -1.0  0.200  0.227  0.182            2   \n",
       "2019-04-08 06:00:00  0.1520  0.28500  -1.0  0.259  0.278  0.232            2   \n",
       "2019-04-09 06:00:00  0.2290  0.20200  -1.0  0.284  0.290  0.250            2   \n",
       "2019-04-10 06:00:00  0.1836  0.19800  -1.0  0.222  0.224  0.206            2   \n",
       "\n",
       "                     way  \n",
       "datetime                  \n",
       "2019-01-07 06:00:00    0  \n",
       "2019-01-08 06:00:00    0  \n",
       "2019-01-10 06:00:00    0  \n",
       "2019-01-11 06:00:00    0  \n",
       "2019-01-14 06:00:00    0  \n",
       "...                  ...  \n",
       "2019-04-04 06:00:00    0  \n",
       "2019-04-05 06:00:00    0  \n",
       "2019-04-08 06:00:00    0  \n",
       "2019-04-09 06:00:00    0  \n",
       "2019-04-10 06:00:00    0  \n",
       "\n",
       "[510 rows x 8 columns]"
      ]
     },
     "execution_count": 47,
     "metadata": {},
     "output_type": "execute_result"
    }
   ],
   "source": [
    "X_train.iloc[:, :8]"
   ]
  },
  {
   "cell_type": "code",
   "execution_count": 48,
   "metadata": {},
   "outputs": [],
   "source": [
    "X_train_tensor = torch.tensor(X_train.iloc[:, :8].to_numpy())\n",
    "y_train_tensor = torch.tensor(y_train.to_numpy())\n",
    "train_dataset = TensorDataset(X_train_tensor, y_train_tensor)"
   ]
  },
  {
   "cell_type": "code",
   "execution_count": 49,
   "metadata": {},
   "outputs": [
    {
     "data": {
      "text/plain": [
       "torch.Size([8])"
      ]
     },
     "execution_count": 49,
     "metadata": {},
     "output_type": "execute_result"
    }
   ],
   "source": [
    "train_dataset[0][0].shape"
   ]
  },
  {
   "cell_type": "code",
   "execution_count": 50,
   "metadata": {},
   "outputs": [],
   "source": [
    "BATCH_SIZE = 1"
   ]
  },
  {
   "cell_type": "markdown",
   "metadata": {},
   "source": [
    "Generamos el dataloader para el modelo:"
   ]
  },
  {
   "cell_type": "code",
   "execution_count": 51,
   "metadata": {},
   "outputs": [],
   "source": [
    "train_loader = DataLoader(dataset=train_dataset, batch_size=BATCH_SIZE, shuffle=False)"
   ]
  },
  {
   "cell_type": "markdown",
   "metadata": {},
   "source": [
    "### Modelo RNN/LSTM"
   ]
  },
  {
   "cell_type": "markdown",
   "metadata": {},
   "source": [
    "**Redes Neuronales Recurrentes (RNN):**\n",
    "\n",
    "Las RNN son un tipo de red neuronal artificial diseñadas para reconocer patrones en secuencias de datos como series temporales, lenguaje hablado, texto escrito o datos financieros. Para nuestro caso, una RNN podría usar datos históricos sobre la tasa de ocupación de los trenes para aprender a predecir futuras tasas de ocupación. Lo que hace especial a las RNN es su capacidad de memoria a corto plazo. Pueden recordar información previa en la secuencia y usarla para influir en la salida actual. Sin embargo, las RNN tradicionales luchan con dependencias a largo plazo debido a problemas como la desaparición o la explosión del gradiente."
   ]
  },
  {
   "cell_type": "markdown",
   "metadata": {},
   "source": [
    "![RNN](./Images/RNNIO.png)"
   ]
  },
  {
   "cell_type": "markdown",
   "metadata": {},
   "source": [
    "Fuente: Chapter 6 - Python Deep Learning - Ivan Vasilev"
   ]
  },
  {
   "cell_type": "markdown",
   "metadata": {},
   "source": [
    "**Long Short-Term Memory (LSTM):**\n",
    "\n",
    "Las LSTM son una mejora de las RNN convencionales. Están específicamente diseñadas para evitar el problema de la dependencia a largo plazo, permitiendo que el modelo aprenda qué información es relevante para mantener o descartar a lo largo de grandes intervalos de tiempo. Esto se logra a través de estructuras llamadas celdas de memoria que tienen puertas para regular el flujo de información. Estas puertas pueden aprender cuáles datos son importantes y por lo tanto deben ser recordados y cuáles pueden ser olvidados. En el contexto de la tasa de ocupación de los trenes, una LSTM podría potencialmente capturar complejas relaciones temporales, como los patrones de afluencia de pasajeros en diferentes estaciones durante diferentes horarios y días, mejorando la precisión de las predicciones."
   ]
  },
  {
   "cell_type": "markdown",
   "metadata": {},
   "source": [
    "![RNN](./Images/LSTMarch.png)"
   ]
  },
  {
   "cell_type": "markdown",
   "metadata": {},
   "source": [
    "![RNN](./Images/LSTMflow.png)"
   ]
  },
  {
   "cell_type": "markdown",
   "metadata": {},
   "source": [
    "Fuente: Chapter 6 - Python Deep Learning - Ivan Vasilev"
   ]
  },
  {
   "cell_type": "markdown",
   "metadata": {},
   "source": [
    "En resumen, las RNN y las LSTM son adecuadas para modelar problemas donde los datos vienen en secuencias y la información histórica es crucial para hacer predicciones. Para la predicción de la tasa de ocupación de los trenes, una LSTM probablemente superará a una RNN estándar, ya que puede manejar mejor las dependencias temporales a largo plazo que son comunes en los datos de tráfico de pasajeros."
   ]
  },
  {
   "cell_type": "markdown",
   "metadata": {},
   "source": [
    "Vamos a definir la arquitectura de la red recurrente:"
   ]
  },
  {
   "cell_type": "code",
   "execution_count": 52,
   "metadata": {},
   "outputs": [],
   "source": [
    "class LSTMModel(nn.Module):\n",
    "    def __init__(self, input_size, hidden_size, num_layers, output_size, batch_first=True):\n",
    "        super(LSTMModel, self).__init__()\n",
    "        # Define hyperparameters\n",
    "        self.hidden_size = hidden_size\n",
    "        self.num_layers = num_layers\n",
    "        self.batch_first = batch_first\n",
    "        self.output_size = output_size\n",
    "        \n",
    "        # Define LSTM layers\n",
    "        self.lstm = nn.LSTM(input_size, hidden_size, num_layers, batch_first=batch_first, dropout=0.2, bidirectional=False)\n",
    "        \n",
    "        # Define fully connected layer\n",
    "        self.fc = nn.Linear(hidden_size, output_size)\n",
    "        \n",
    "    def forward(self, x):\n",
    "        #Initializations\n",
    "        self.lstm.flatten_parameters()\n",
    "        h0 = torch.zeros(self.num_layers, self.hidden_size).to(device)\n",
    "        c0 = torch.zeros(self.num_layers, self.hidden_size).to(device)\n",
    "\n",
    "        # Forward pass\n",
    "        output, (h_n, c_n) = self.lstm(x, (h0, c0))\n",
    "        \n",
    "        # if self.batch_first:\n",
    "        #     out = output[:, -1]  # For batch_first=True\n",
    "        # else:\n",
    "        #     out = output[-1, :]  # For batch_first=False\n",
    "        \n",
    "        # Forward pass through the fully connected layer\n",
    "        out = self.fc(output)\n",
    "        return out"
   ]
  },
  {
   "cell_type": "code",
   "execution_count": 53,
   "metadata": {},
   "outputs": [],
   "source": [
    "# Define the parameters\n",
    "input_size = train_dataset[0][0].shape[0]\n",
    "HIDDEN_SIZE = 128\n",
    "LAYERS = 2\n",
    "OUTPUT = 1\n",
    "LR = 0.00001\n",
    "EPOCHS = 20  "
   ]
  },
  {
   "cell_type": "code",
   "execution_count": 54,
   "metadata": {},
   "outputs": [
    {
     "data": {
      "text/plain": [
       "LSTMModel(\n",
       "  (lstm): LSTM(8, 128, num_layers=2, batch_first=True, dropout=0.2)\n",
       "  (fc): Linear(in_features=128, out_features=1, bias=True)\n",
       ")"
      ]
     },
     "execution_count": 54,
     "metadata": {},
     "output_type": "execute_result"
    }
   ],
   "source": [
    "# Initialize the model\n",
    "model = LSTMModel(input_size, HIDDEN_SIZE, LAYERS, OUTPUT)\n",
    "model.to(device)"
   ]
  },
  {
   "cell_type": "code",
   "execution_count": 55,
   "metadata": {},
   "outputs": [],
   "source": [
    "optimizer = torch.optim.Adam(model.parameters(), lr=LR, amsgrad=True, weight_decay=LR*0.1)\n",
    "criterion = nn.MSELoss()"
   ]
  },
  {
   "cell_type": "code",
   "execution_count": 56,
   "metadata": {},
   "outputs": [],
   "source": [
    "def train_model(model, optimizer, criterion, train_loader, num_epochs):\n",
    "    for epoch in range(num_epochs):\n",
    "        model.train()  # Set the model to training mode\n",
    "        running_loss = 0.0\n",
    "        \n",
    "        for inputs, labels in train_loader:\n",
    "            optimizer.zero_grad(set_to_none=True)  # Zero the gradients\n",
    "            \n",
    "            # Forward pass\n",
    "            inputs = inputs.to(device)\n",
    "            outputs = model(inputs.float())\n",
    "            loss = criterion(outputs.float().squeeze(), labels.float().squeeze().to(device))\n",
    "            \n",
    "            # Backward pass and optimize\n",
    "            loss.backward()\n",
    "            optimizer.step()\n",
    "            \n",
    "            running_loss += loss.item() * inputs.size(0)\n",
    "        \n",
    "        epoch_loss = running_loss / len(train_loader.dataset)\n",
    "        print(f'Epoch [{epoch+1}/{num_epochs}], Loss: {epoch_loss:.5f}')\n",
    "    print('Finished Training')"
   ]
  },
  {
   "cell_type": "code",
   "execution_count": 57,
   "metadata": {},
   "outputs": [
    {
     "name": "stdout",
     "output_type": "stream",
     "text": [
      "Epoch [1/20], Loss: 0.03342\n",
      "Epoch [2/20], Loss: 0.02018\n",
      "Epoch [3/20], Loss: 0.01124\n",
      "Epoch [4/20], Loss: 0.00702\n",
      "Epoch [5/20], Loss: 0.00521\n",
      "Epoch [6/20], Loss: 0.00425\n",
      "Epoch [7/20], Loss: 0.00362\n",
      "Epoch [8/20], Loss: 0.00305\n",
      "Epoch [9/20], Loss: 0.00264\n",
      "Epoch [10/20], Loss: 0.00236\n",
      "Epoch [11/20], Loss: 0.00214\n",
      "Epoch [12/20], Loss: 0.00196\n",
      "Epoch [13/20], Loss: 0.00178\n",
      "Epoch [14/20], Loss: 0.00179\n",
      "Epoch [15/20], Loss: 0.00177\n",
      "Epoch [16/20], Loss: 0.00172\n",
      "Epoch [17/20], Loss: 0.00171\n",
      "Epoch [18/20], Loss: 0.00172\n",
      "Epoch [19/20], Loss: 0.00166\n",
      "Epoch [20/20], Loss: 0.00166\n",
      "Finished Training\n"
     ]
    }
   ],
   "source": [
    "train_model(model, optimizer, criterion, train_loader, EPOCHS)"
   ]
  },
  {
   "cell_type": "markdown",
   "metadata": {},
   "source": [
    "### Testing"
   ]
  },
  {
   "cell_type": "code",
   "execution_count": 58,
   "metadata": {},
   "outputs": [
    {
     "data": {
      "text/html": [
       "<div>\n",
       "<style scoped>\n",
       "    .dataframe tbody tr th:only-of-type {\n",
       "        vertical-align: middle;\n",
       "    }\n",
       "\n",
       "    .dataframe tbody tr th {\n",
       "        vertical-align: top;\n",
       "    }\n",
       "\n",
       "    .dataframe thead th {\n",
       "        text-align: right;\n",
       "    }\n",
       "</style>\n",
       "<table border=\"1\" class=\"dataframe\">\n",
       "  <thead>\n",
       "    <tr style=\"text-align: right;\">\n",
       "      <th></th>\n",
       "      <th>p1q0</th>\n",
       "      <th>p2q0</th>\n",
       "      <th>p3q0</th>\n",
       "      <th>p0q1</th>\n",
       "      <th>p0q2</th>\n",
       "      <th>p0q3</th>\n",
       "      <th>composition</th>\n",
       "      <th>way</th>\n",
       "      <th>station_AD</th>\n",
       "      <th>station_AI</th>\n",
       "      <th>station_AJ</th>\n",
       "      <th>station_AK</th>\n",
       "      <th>station_AM</th>\n",
       "      <th>station_AT</th>\n",
       "      <th>station_AW</th>\n",
       "      <th>station_AX</th>\n",
       "      <th>station_BB</th>\n",
       "      <th>station_BD</th>\n",
       "      <th>station_BE</th>\n",
       "    </tr>\n",
       "    <tr>\n",
       "      <th>datetime</th>\n",
       "      <th></th>\n",
       "      <th></th>\n",
       "      <th></th>\n",
       "      <th></th>\n",
       "      <th></th>\n",
       "      <th></th>\n",
       "      <th></th>\n",
       "      <th></th>\n",
       "      <th></th>\n",
       "      <th></th>\n",
       "      <th></th>\n",
       "      <th></th>\n",
       "      <th></th>\n",
       "      <th></th>\n",
       "      <th></th>\n",
       "      <th></th>\n",
       "      <th></th>\n",
       "      <th></th>\n",
       "      <th></th>\n",
       "    </tr>\n",
       "  </thead>\n",
       "  <tbody>\n",
       "    <tr>\n",
       "      <th>2019-04-11 06:00:00</th>\n",
       "      <td>0.204</td>\n",
       "      <td>0.19100</td>\n",
       "      <td>-1.0</td>\n",
       "      <td>0.248</td>\n",
       "      <td>0.245</td>\n",
       "      <td>0.223</td>\n",
       "      <td>2</td>\n",
       "      <td>0</td>\n",
       "      <td>False</td>\n",
       "      <td>False</td>\n",
       "      <td>False</td>\n",
       "      <td>False</td>\n",
       "      <td>False</td>\n",
       "      <td>False</td>\n",
       "      <td>False</td>\n",
       "      <td>False</td>\n",
       "      <td>True</td>\n",
       "      <td>False</td>\n",
       "      <td>False</td>\n",
       "    </tr>\n",
       "    <tr>\n",
       "      <th>2019-04-12 06:00:00</th>\n",
       "      <td>0.203</td>\n",
       "      <td>0.16100</td>\n",
       "      <td>-1.0</td>\n",
       "      <td>0.246</td>\n",
       "      <td>0.248</td>\n",
       "      <td>0.239</td>\n",
       "      <td>2</td>\n",
       "      <td>0</td>\n",
       "      <td>False</td>\n",
       "      <td>False</td>\n",
       "      <td>False</td>\n",
       "      <td>False</td>\n",
       "      <td>False</td>\n",
       "      <td>False</td>\n",
       "      <td>False</td>\n",
       "      <td>False</td>\n",
       "      <td>True</td>\n",
       "      <td>False</td>\n",
       "      <td>False</td>\n",
       "    </tr>\n",
       "    <tr>\n",
       "      <th>2019-04-15 06:00:00</th>\n",
       "      <td>0.196</td>\n",
       "      <td>0.17572</td>\n",
       "      <td>-1.0</td>\n",
       "      <td>0.251</td>\n",
       "      <td>0.251</td>\n",
       "      <td>0.229</td>\n",
       "      <td>2</td>\n",
       "      <td>0</td>\n",
       "      <td>False</td>\n",
       "      <td>False</td>\n",
       "      <td>False</td>\n",
       "      <td>False</td>\n",
       "      <td>False</td>\n",
       "      <td>False</td>\n",
       "      <td>False</td>\n",
       "      <td>False</td>\n",
       "      <td>True</td>\n",
       "      <td>False</td>\n",
       "      <td>False</td>\n",
       "    </tr>\n",
       "    <tr>\n",
       "      <th>2019-04-18 06:00:00</th>\n",
       "      <td>0.183</td>\n",
       "      <td>0.19700</td>\n",
       "      <td>-1.0</td>\n",
       "      <td>0.249</td>\n",
       "      <td>0.248</td>\n",
       "      <td>0.240</td>\n",
       "      <td>2</td>\n",
       "      <td>0</td>\n",
       "      <td>False</td>\n",
       "      <td>False</td>\n",
       "      <td>False</td>\n",
       "      <td>False</td>\n",
       "      <td>False</td>\n",
       "      <td>False</td>\n",
       "      <td>False</td>\n",
       "      <td>False</td>\n",
       "      <td>True</td>\n",
       "      <td>False</td>\n",
       "      <td>False</td>\n",
       "    </tr>\n",
       "    <tr>\n",
       "      <th>2019-04-19 06:00:00</th>\n",
       "      <td>0.163</td>\n",
       "      <td>0.13800</td>\n",
       "      <td>-1.0</td>\n",
       "      <td>0.237</td>\n",
       "      <td>0.250</td>\n",
       "      <td>0.214</td>\n",
       "      <td>2</td>\n",
       "      <td>0</td>\n",
       "      <td>False</td>\n",
       "      <td>False</td>\n",
       "      <td>False</td>\n",
       "      <td>False</td>\n",
       "      <td>False</td>\n",
       "      <td>False</td>\n",
       "      <td>False</td>\n",
       "      <td>False</td>\n",
       "      <td>True</td>\n",
       "      <td>False</td>\n",
       "      <td>False</td>\n",
       "    </tr>\n",
       "    <tr>\n",
       "      <th>...</th>\n",
       "      <td>...</td>\n",
       "      <td>...</td>\n",
       "      <td>...</td>\n",
       "      <td>...</td>\n",
       "      <td>...</td>\n",
       "      <td>...</td>\n",
       "      <td>...</td>\n",
       "      <td>...</td>\n",
       "      <td>...</td>\n",
       "      <td>...</td>\n",
       "      <td>...</td>\n",
       "      <td>...</td>\n",
       "      <td>...</td>\n",
       "      <td>...</td>\n",
       "      <td>...</td>\n",
       "      <td>...</td>\n",
       "      <td>...</td>\n",
       "      <td>...</td>\n",
       "      <td>...</td>\n",
       "    </tr>\n",
       "    <tr>\n",
       "      <th>2019-05-10 06:00:00</th>\n",
       "      <td>-1.000</td>\n",
       "      <td>-1.00000</td>\n",
       "      <td>-1.0</td>\n",
       "      <td>0.047</td>\n",
       "      <td>0.066</td>\n",
       "      <td>-1.000</td>\n",
       "      <td>2</td>\n",
       "      <td>0</td>\n",
       "      <td>False</td>\n",
       "      <td>False</td>\n",
       "      <td>False</td>\n",
       "      <td>False</td>\n",
       "      <td>False</td>\n",
       "      <td>False</td>\n",
       "      <td>False</td>\n",
       "      <td>False</td>\n",
       "      <td>False</td>\n",
       "      <td>False</td>\n",
       "      <td>True</td>\n",
       "    </tr>\n",
       "    <tr>\n",
       "      <th>2019-05-14 06:00:00</th>\n",
       "      <td>-1.000</td>\n",
       "      <td>-1.00000</td>\n",
       "      <td>-1.0</td>\n",
       "      <td>0.052</td>\n",
       "      <td>0.080</td>\n",
       "      <td>-1.000</td>\n",
       "      <td>2</td>\n",
       "      <td>0</td>\n",
       "      <td>False</td>\n",
       "      <td>False</td>\n",
       "      <td>False</td>\n",
       "      <td>False</td>\n",
       "      <td>False</td>\n",
       "      <td>False</td>\n",
       "      <td>False</td>\n",
       "      <td>False</td>\n",
       "      <td>False</td>\n",
       "      <td>False</td>\n",
       "      <td>True</td>\n",
       "    </tr>\n",
       "    <tr>\n",
       "      <th>2019-05-15 06:00:00</th>\n",
       "      <td>-1.000</td>\n",
       "      <td>-1.00000</td>\n",
       "      <td>-1.0</td>\n",
       "      <td>0.049</td>\n",
       "      <td>0.070</td>\n",
       "      <td>-1.000</td>\n",
       "      <td>2</td>\n",
       "      <td>0</td>\n",
       "      <td>False</td>\n",
       "      <td>False</td>\n",
       "      <td>False</td>\n",
       "      <td>False</td>\n",
       "      <td>False</td>\n",
       "      <td>False</td>\n",
       "      <td>False</td>\n",
       "      <td>False</td>\n",
       "      <td>False</td>\n",
       "      <td>False</td>\n",
       "      <td>True</td>\n",
       "    </tr>\n",
       "    <tr>\n",
       "      <th>2019-05-16 06:00:00</th>\n",
       "      <td>-1.000</td>\n",
       "      <td>-1.00000</td>\n",
       "      <td>-1.0</td>\n",
       "      <td>0.042</td>\n",
       "      <td>0.070</td>\n",
       "      <td>-1.000</td>\n",
       "      <td>2</td>\n",
       "      <td>0</td>\n",
       "      <td>False</td>\n",
       "      <td>False</td>\n",
       "      <td>False</td>\n",
       "      <td>False</td>\n",
       "      <td>False</td>\n",
       "      <td>False</td>\n",
       "      <td>False</td>\n",
       "      <td>False</td>\n",
       "      <td>False</td>\n",
       "      <td>False</td>\n",
       "      <td>True</td>\n",
       "    </tr>\n",
       "    <tr>\n",
       "      <th>2019-05-20 06:00:00</th>\n",
       "      <td>-1.000</td>\n",
       "      <td>-1.00000</td>\n",
       "      <td>-1.0</td>\n",
       "      <td>0.054</td>\n",
       "      <td>0.070</td>\n",
       "      <td>-1.000</td>\n",
       "      <td>2</td>\n",
       "      <td>0</td>\n",
       "      <td>False</td>\n",
       "      <td>False</td>\n",
       "      <td>False</td>\n",
       "      <td>False</td>\n",
       "      <td>False</td>\n",
       "      <td>False</td>\n",
       "      <td>False</td>\n",
       "      <td>False</td>\n",
       "      <td>False</td>\n",
       "      <td>False</td>\n",
       "      <td>True</td>\n",
       "    </tr>\n",
       "  </tbody>\n",
       "</table>\n",
       "<p>128 rows × 19 columns</p>\n",
       "</div>"
      ],
      "text/plain": [
       "                      p1q0     p2q0  p3q0   p0q1   p0q2   p0q3  composition  \\\n",
       "datetime                                                                      \n",
       "2019-04-11 06:00:00  0.204  0.19100  -1.0  0.248  0.245  0.223            2   \n",
       "2019-04-12 06:00:00  0.203  0.16100  -1.0  0.246  0.248  0.239            2   \n",
       "2019-04-15 06:00:00  0.196  0.17572  -1.0  0.251  0.251  0.229            2   \n",
       "2019-04-18 06:00:00  0.183  0.19700  -1.0  0.249  0.248  0.240            2   \n",
       "2019-04-19 06:00:00  0.163  0.13800  -1.0  0.237  0.250  0.214            2   \n",
       "...                    ...      ...   ...    ...    ...    ...          ...   \n",
       "2019-05-10 06:00:00 -1.000 -1.00000  -1.0  0.047  0.066 -1.000            2   \n",
       "2019-05-14 06:00:00 -1.000 -1.00000  -1.0  0.052  0.080 -1.000            2   \n",
       "2019-05-15 06:00:00 -1.000 -1.00000  -1.0  0.049  0.070 -1.000            2   \n",
       "2019-05-16 06:00:00 -1.000 -1.00000  -1.0  0.042  0.070 -1.000            2   \n",
       "2019-05-20 06:00:00 -1.000 -1.00000  -1.0  0.054  0.070 -1.000            2   \n",
       "\n",
       "                     way  station_AD  station_AI  station_AJ  station_AK  \\\n",
       "datetime                                                                   \n",
       "2019-04-11 06:00:00    0       False       False       False       False   \n",
       "2019-04-12 06:00:00    0       False       False       False       False   \n",
       "2019-04-15 06:00:00    0       False       False       False       False   \n",
       "2019-04-18 06:00:00    0       False       False       False       False   \n",
       "2019-04-19 06:00:00    0       False       False       False       False   \n",
       "...                  ...         ...         ...         ...         ...   \n",
       "2019-05-10 06:00:00    0       False       False       False       False   \n",
       "2019-05-14 06:00:00    0       False       False       False       False   \n",
       "2019-05-15 06:00:00    0       False       False       False       False   \n",
       "2019-05-16 06:00:00    0       False       False       False       False   \n",
       "2019-05-20 06:00:00    0       False       False       False       False   \n",
       "\n",
       "                     station_AM  station_AT  station_AW  station_AX  \\\n",
       "datetime                                                              \n",
       "2019-04-11 06:00:00       False       False       False       False   \n",
       "2019-04-12 06:00:00       False       False       False       False   \n",
       "2019-04-15 06:00:00       False       False       False       False   \n",
       "2019-04-18 06:00:00       False       False       False       False   \n",
       "2019-04-19 06:00:00       False       False       False       False   \n",
       "...                         ...         ...         ...         ...   \n",
       "2019-05-10 06:00:00       False       False       False       False   \n",
       "2019-05-14 06:00:00       False       False       False       False   \n",
       "2019-05-15 06:00:00       False       False       False       False   \n",
       "2019-05-16 06:00:00       False       False       False       False   \n",
       "2019-05-20 06:00:00       False       False       False       False   \n",
       "\n",
       "                     station_BB  station_BD  station_BE  \n",
       "datetime                                                 \n",
       "2019-04-11 06:00:00        True       False       False  \n",
       "2019-04-12 06:00:00        True       False       False  \n",
       "2019-04-15 06:00:00        True       False       False  \n",
       "2019-04-18 06:00:00        True       False       False  \n",
       "2019-04-19 06:00:00        True       False       False  \n",
       "...                         ...         ...         ...  \n",
       "2019-05-10 06:00:00       False       False        True  \n",
       "2019-05-14 06:00:00       False       False        True  \n",
       "2019-05-15 06:00:00       False       False        True  \n",
       "2019-05-16 06:00:00       False       False        True  \n",
       "2019-05-20 06:00:00       False       False        True  \n",
       "\n",
       "[128 rows x 19 columns]"
      ]
     },
     "execution_count": 58,
     "metadata": {},
     "output_type": "execute_result"
    }
   ],
   "source": [
    "X_test"
   ]
  },
  {
   "cell_type": "code",
   "execution_count": 59,
   "metadata": {},
   "outputs": [
    {
     "data": {
      "text/plain": [
       "datetime\n",
       "2019-04-11 06:00:00    0.230\n",
       "2019-04-12 06:00:00    0.236\n",
       "2019-04-15 06:00:00    0.230\n",
       "2019-04-18 06:00:00    0.228\n",
       "2019-04-19 06:00:00    0.243\n",
       "                       ...  \n",
       "2019-05-10 06:00:00    0.088\n",
       "2019-05-14 06:00:00    0.102\n",
       "2019-05-15 06:00:00    0.091\n",
       "2019-05-16 06:00:00    0.089\n",
       "2019-05-20 06:00:00    0.089\n",
       "Name: p0q0, Length: 128, dtype: float64"
      ]
     },
     "execution_count": 59,
     "metadata": {},
     "output_type": "execute_result"
    }
   ],
   "source": [
    "y_test"
   ]
  },
  {
   "cell_type": "code",
   "execution_count": 60,
   "metadata": {},
   "outputs": [],
   "source": [
    "X_test_tensor = torch.tensor(X_test.iloc[:, :8].to_numpy())\n",
    "y_test_tensor = torch.tensor(y_test.to_numpy())\n",
    "test_dataset = TensorDataset(X_test_tensor, y_test_tensor)\n",
    "test_loader = DataLoader(test_dataset, batch_size=BATCH_SIZE, shuffle=False)"
   ]
  },
  {
   "cell_type": "code",
   "execution_count": 61,
   "metadata": {},
   "outputs": [],
   "source": [
    "# Set model to evaluation mode\n",
    "model.eval()\n",
    "\n",
    "# Initialize empty list to store predictions\n",
    "all_predictions = []\n",
    "\n",
    "# Iterate through the test dataset\n",
    "for inputs, _ in test_loader:\n",
    "    with torch.no_grad():\n",
    "        outputs = model(inputs.float().to(device))\n",
    "        # Convert predictions to numpy array and append to list\n",
    "    all_predictions.append(outputs.cpu().numpy())"
   ]
  },
  {
   "cell_type": "code",
   "execution_count": 62,
   "metadata": {},
   "outputs": [],
   "source": [
    "y_pred = np.concatenate(all_predictions, axis=0)"
   ]
  },
  {
   "cell_type": "code",
   "execution_count": 63,
   "metadata": {},
   "outputs": [
    {
     "data": {
      "image/png": "[encoded data removed]",
      "text/plain": [
       "<Figure size 1500x500 with 1 Axes>"
      ]
     },
     "metadata": {},
     "output_type": "display_data"
    }
   ],
   "source": [
    "fig, ax = plt.subplots(figsize=(15,5))\n",
    "ax.plot(y_pred, label='Predicted')\n",
    "ax.plot(y_test.to_list(), label='Test')\n",
    "plt.legend(loc='upper right')\n",
    "plt.ylabel('Occupation Rate')\n",
    "plt.show()"
   ]
  },
  {
   "cell_type": "code",
   "execution_count": 64,
   "metadata": {},
   "outputs": [
    {
     "name": "stdout",
     "output_type": "stream",
     "text": [
      "El error cuadrático medio es: 0.000636\n"
     ]
    }
   ],
   "source": [
    "print(f'El error cuadrático medio es: {mean_squared_error(y_test.to_list(), y_pred):.6f}')"
   ]
  },
  {
   "cell_type": "markdown",
   "metadata": {},
   "source": [
    "Veamos qué sucede con el conjunto de entrenamiento:"
   ]
  },
  {
   "cell_type": "code",
   "execution_count": 65,
   "metadata": {},
   "outputs": [],
   "source": [
    "model.eval()\n",
    "all_predictions = []\n",
    "for inputs, _ in train_loader:\n",
    "    with torch.no_grad():\n",
    "        outputs = model(inputs.float().to(device))\n",
    "    all_predictions.append(outputs.cpu().numpy())\n",
    "\n",
    "y_pred = np.concatenate(all_predictions, axis=0)"
   ]
  },
  {
   "cell_type": "code",
   "execution_count": 66,
   "metadata": {},
   "outputs": [
    {
     "data": {
      "image/png": "[encoded data removed]",
      "text/plain": [
       "<Figure size 1500x500 with 1 Axes>"
      ]
     },
     "metadata": {},
     "output_type": "display_data"
    }
   ],
   "source": [
    "fig, ax = plt.subplots(figsize=(15,5))\n",
    "ax.plot(y_pred, label='Predicted')\n",
    "ax.plot(y_train.to_list(), label='Train')\n",
    "plt.legend(loc='upper right')\n",
    "plt.ylabel('Occupation Rate')\n",
    "plt.show()"
   ]
  },
  {
   "cell_type": "code",
   "execution_count": 67,
   "metadata": {},
   "outputs": [
    {
     "name": "stdout",
     "output_type": "stream",
     "text": [
      "El error cuadrático medio es: 0.001588\n"
     ]
    }
   ],
   "source": [
    "print(f'El error cuadrático medio es: {mean_squared_error(y_train.to_list(), y_pred):.6f}')"
   ]
  },
  {
   "cell_type": "markdown",
   "metadata": {},
   "source": [
    "El valor es relativamente bajo, lo que puede sugerir que el modelo hace predicciones cercanas a los valores reales, al menos en el conjunto de datos utilizado para esta prueba. Sin embargo, la interpretación de este valor depende del contexto específico, como la escala de los datos de ocupación y la variabilidad inherente de las mediciones. En algunas aplicaciones, un MSE de este tamaño sería considerado muy bueno, mientras que en otras podría ser demasiado alto."
   ]
  },
  {
   "cell_type": "markdown",
   "metadata": {},
   "source": [
    "El gráfico obtenido sugiere que el modelo tiene cierta capacidad para seguir la tendencia de la ocupación real, pero hay margen de mejora. Es importante destacar que la utilidad de la predicción también depende de la rapidez con la que se pueda actualizar y comunicar a los pasajeros, ya que las condiciones en el sistema de transporte pueden cambiar rápidamente."
   ]
  },
  {
   "cell_type": "markdown",
   "metadata": {},
   "source": [
    "### Ejercicios:"
   ]
  },
  {
   "cell_type": "markdown",
   "metadata": {},
   "source": [
    "* Predecir el factor de ocupación para otro tren del conjunto de entrenamiento y del archivo X_test\n",
    "\n",
    "* Ajustar mejor el modelo para este tren. Discutan cómo podrían implementar un sistema para actualizar los parámetros del modelo LSTM en tiempo real a medida que se disponga de nuevos datos de ocupación."
   ]
  },
  {
   "cell_type": "markdown",
   "metadata": {},
   "source": [
    "### Preguntas:"
   ]
  },
  {
   "cell_type": "markdown",
   "metadata": {},
   "source": [
    "1) ¿Qué características de las RNN las hacen adecuadas para modelar secuencias temporales dedatos como las tasas de ocupación de trenes?\n",
    "\n",
    "2) ¿Pueden explicar cómo las LSTM mejoran el desempeño de las RNN estándar y qué problemas específicos resuelven?\n",
    "\n",
    "3) ¿Cómo se manejan las dependencias a largo plazo en los datos de series temporales utilizando LSTM?\n",
    "\n",
    "4) ¿Cuáles son las diferencias clave entre una unidad LSTM y una neurona típica en una red neuronal?\n",
    "\n",
    "5) ¿Cómo podrían utilizar la información de la tasa de ocupación de trenes anteriores para predecir la tasa de ocupación futura?\n",
    "\n",
    "6) ¿Por qué es importante el proceso de \"olvido\" en una LSTM y cómo se implementa este mecanismo?\n",
    "\n",
    "7) ¿Cómo se determina la cantidad de capas LSTM y la cantidad de unidades en cada capa para un problema de predicción de series temporales?\n",
    "\n",
    "8) ¿Qué técnicas utilizarían para evitar el sobreajuste en un modelo LSTM que predice la ocupación de trenes?\n",
    "\n",
    "9) ¿De qué manera la longitud de la secuencia de entrada afecta el rendimiento del modelo LSTM y cómo podrían decidir la longitud adecuada para su problema?\n",
    "\n",
    "10) ¿Pueden describir cómo se realiza la retropropagación a través del tiempo (BPTT) en las LSTMs?\n",
    "\n",
    "11) ¿Cómo interpretarían los resultados de la predicción mostrados en el gráfico compartido en términos de desempeño del modelo?\n",
    "\n",
    "12) ¿Qué métricas de desempeño considerarían más importantes para evaluar la precisión de las predicciones de su modelo y por qué?\n",
    "\n"
   ]
  },
  {
   "cell_type": "markdown",
   "metadata": {},
   "source": [
    "### Referencias:"
   ]
  },
  {
   "cell_type": "markdown",
   "metadata": {},
   "source": [
    "* LSTM for Time Series Prediction in PyTorch: https://machinelearningmastery.com/lstm-for-time-series-prediction-in-pytorch/"
   ]
  },
  {
   "cell_type": "markdown",
   "metadata": {},
   "source": [
    "![Lenguaje Matemático](./Images/Matematicas.png)"
   ]
  },
  {
   "cell_type": "markdown",
   "metadata": {},
   "source": [
    "![Contacto](./Images/Contacto.png)"
   ]
  }
 ],
 "metadata": {
  "kernelspec": {
   "display_name": "Python 3",
   "language": "python",
   "name": "python3"
  },
  "language_info": {
   "codemirror_mode": {
    "name": "ipython",
    "version": 3
   },
   "file_extension": ".py",
   "mimetype": "text/x-python",
   "name": "python",
   "nbconvert_exporter": "python",
   "pygments_lexer": "ipython3",
   "version": "3.12.7"
  }
 },
 "nbformat": 4,
 "nbformat_minor": 2
}
