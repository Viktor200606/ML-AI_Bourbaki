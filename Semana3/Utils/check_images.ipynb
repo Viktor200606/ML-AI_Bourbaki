{
 "cells": [
  {
   "cell_type": "code",
   "execution_count": 10,
   "metadata": {},
   "outputs": [
    {
     "name": "stdout",
     "output_type": "stream",
     "text": [
      "Corrupted images: []\n"
     ]
    }
   ],
   "source": [
    "import os\n",
    "from PIL import Image\n",
    "\n",
    "def check_image_integrity(directory):\n",
    "    \"\"\"\n",
    "    Check the integrity of image files in a given directory.\n",
    "\n",
    "    Args:\n",
    "    directory (str): The path to the directory containing image files.\n",
    "\n",
    "    Returns:\n",
    "    list: A list of filenames that are corrupted or cannot be opened.\n",
    "    \"\"\"\n",
    "    corrupted_images = []\n",
    "    for filename in os.listdir(directory):\n",
    "        # Corrected from endsuffix to endswith\n",
    "        if filename.lower().endswith(('.png', '.jpg', '.jpeg', '.gif', '.bmp')):\n",
    "            path = os.path.join(directory, filename)\n",
    "            try:\n",
    "                with Image.open(path) as img:\n",
    "                    img.verify()  # Verify the integrity of the file\n",
    "            except (IOError, SyntaxError) as e:\n",
    "                print(f\"{filename}: {e}\")\n",
    "                corrupted_images.append(filename)\n",
    "    return corrupted_images\n",
    "\n",
    "# Usage\n",
    "directory = '/home/pdconte/Desktop/Colegio_Bourbaki/ML_AI/Semana1/Data/train_v2'\n",
    "corrupted = check_image_integrity(directory)\n",
    "print(\"Corrupted images:\", corrupted)\n"
   ]
  }
 ],
 "metadata": {
  "kernelspec": {
   "display_name": "Python 3",
   "language": "python",
   "name": "python3"
  },
  "language_info": {
   "codemirror_mode": {
    "name": "ipython",
    "version": 3
   },
   "file_extension": ".py",
   "mimetype": "text/x-python",
   "name": "python",
   "nbconvert_exporter": "python",
   "pygments_lexer": "ipython3",
   "version": "3.11.8"
  }
 },
 "nbformat": 4,
 "nbformat_minor": 2
}
