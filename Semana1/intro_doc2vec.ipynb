{
 "cells": [
  {
   "cell_type": "markdown",
   "metadata": {},
   "source": [
    "## Machine Learning & AI"
   ]
  },
  {
   "cell_type": "markdown",
   "metadata": {},
   "source": [
    "![Colegio Bourbaki](./Images/Bourbaki.png)"
   ]
  },
  {
   "cell_type": "markdown",
   "metadata": {},
   "source": [
    "### Introducción a Doc2Vec y Pytorch"
   ]
  },
  {
   "cell_type": "markdown",
   "metadata": {},
   "source": [
    "Doc2vec desde cero en PyTorch\n",
    "\n",
    " Todo esto está basado en el gran trabajo de [Nejc Ilenic](https://github.com/inejc/paragraph-vectors) y el código fuente de gensim.\n",
    "\n",
    "`doc2vec` desciende de `word2vec`, cuya forma básica es que es un modelo entrenado para predecir la palabra que falta en un contexto. Dadas frases como \"el gato ___ en la alfombra\" debería predecir \"se sentó\", y al hacerlo aprende una representación útil de las palabras. A continuación, podemos extraer las ponderaciones internas y reutilizarlas como \"incrustaciones o encajes de palabras\", vectores que dan a cada palabra una posición en un espacio de N dimensiones que se espera que esté cerca de palabras similares y a una distancia adecuada de las palabras relacionadas. \n",
    "\n",
    "Doc2vec\" o \"vectores de párrafo\" amplía la idea de \"word2vec\" añadiendo un identificador de documento a cada contexto. Esto ayuda a la red a aprender asociaciones entre contextos y produce vectores que posicionan cada párrafo (documento) en el espacio."
   ]
  },
  {
   "cell_type": "markdown",
   "metadata": {},
   "source": [
    "Primero tenemos que cargar los datos. Empezaremos sobreajustando un pequeño conjunto de datos para comprobar que todas las piezas encajan."
   ]
  },
  {
   "cell_type": "code",
   "execution_count": 3,
   "metadata": {},
   "outputs": [
    {
     "data": {
      "text/html": [
       "<div>\n",
       "<style scoped>\n",
       "    .dataframe tbody tr th:only-of-type {\n",
       "        vertical-align: middle;\n",
       "    }\n",
       "\n",
       "    .dataframe tbody tr th {\n",
       "        vertical-align: top;\n",
       "    }\n",
       "\n",
       "    .dataframe thead th {\n",
       "        text-align: right;\n",
       "    }\n",
       "</style>\n",
       "<table border=\"1\" class=\"dataframe\">\n",
       "  <thead>\n",
       "    <tr style=\"text-align: right;\">\n",
       "      <th></th>\n",
       "      <th>text</th>\n",
       "      <th>tokens</th>\n",
       "    </tr>\n",
       "  </thead>\n",
       "  <tbody>\n",
       "    <tr>\n",
       "      <th>0</th>\n",
       "      <td>In the week before their departure to Arrakis, when all the final scurrying about had reached a ...</td>\n",
       "      <td>[in, the, week, before, their, departure, to, arrakis, when, all, the, final, scurrying, about, ...</td>\n",
       "    </tr>\n",
       "    <tr>\n",
       "      <th>1</th>\n",
       "      <td>It was a warm night at Castle Caladan, and the ancient pile of stone that had served the Atreide...</td>\n",
       "      <td>[it, was, a, warm, night, at, castle, caladan, and, the, ancient, pile, of, stone, that, had, se...</td>\n",
       "    </tr>\n",
       "    <tr>\n",
       "      <th>2</th>\n",
       "      <td>The old woman was let in by the side door down the vaulted passage by Paul's room and she was al...</td>\n",
       "      <td>[the, old, woman, was, let, in, by, the, side, door, down, the, vaulted, passage, by, paul, room...</td>\n",
       "    </tr>\n",
       "    <tr>\n",
       "      <th>3</th>\n",
       "      <td>By the half-light of a suspensor lamp, dimmed and hanging near the floor, the awakened boy could...</td>\n",
       "      <td>[by, the, half, light, of, a, suspensor, lamp, dimmed, and, hanging, near, the, floor, the, awak...</td>\n",
       "    </tr>\n",
       "  </tbody>\n",
       "</table>\n",
       "</div>"
      ],
      "text/plain": [
       "                                                                                                  text  \\\n",
       "0  In the week before their departure to Arrakis, when all the final scurrying about had reached a ...   \n",
       "1  It was a warm night at Castle Caladan, and the ancient pile of stone that had served the Atreide...   \n",
       "2  The old woman was let in by the side door down the vaulted passage by Paul's room and she was al...   \n",
       "3  By the half-light of a suspensor lamp, dimmed and hanging near the floor, the awakened boy could...   \n",
       "\n",
       "                                                                                                tokens  \n",
       "0  [in, the, week, before, their, departure, to, arrakis, when, all, the, final, scurrying, about, ...  \n",
       "1  [it, was, a, warm, night, at, castle, caladan, and, the, ancient, pile, of, stone, that, had, se...  \n",
       "2  [the, old, woman, was, let, in, by, the, side, door, down, the, vaulted, passage, by, paul, room...  \n",
       "3  [by, the, half, light, of, a, suspensor, lamp, dimmed, and, hanging, near, the, floor, the, awak...  "
      ]
     },
     "execution_count": 3,
     "metadata": {},
     "output_type": "execute_result"
    }
   ],
   "source": [
    "import pandas as pd\n",
    "import spacy\n",
    "\n",
    "nlp = spacy.load(\"en_core_web_sm\")\n",
    "\n",
    "pd.set_option(\"display.max_colwidth\", 100)\n",
    "\n",
    "example_df = pd.read_csv(\"./Data/example.csv\")\n",
    "\n",
    "def tokenize_text(df):\n",
    "    df[\"tokens\"] = df.text.str.lower().str.strip().apply(lambda x: [token.text.strip() for token in nlp(x) if token.text.isalnum()])\n",
    "    return df\n",
    "\n",
    "example_df = tokenize_text(example_df)\n",
    "\n",
    "example_df"
   ]
  },
  {
   "cell_type": "markdown",
   "metadata": {},
   "source": [
    "Construiremos un vocabulario para poder referenciar cada palabra por un ID:"
   ]
  },
  {
   "cell_type": "code",
   "execution_count": 2,
   "metadata": {},
   "outputs": [
    {
     "name": "stdout",
     "output_type": "stream",
     "text": [
      "Dataset comprises 4 documents and 106 unique words (over the limit of 1 occurrences)\n"
     ]
    }
   ],
   "source": [
    "from collections import Counter\n",
    "\n",
    "class Vocab:\n",
    "    def __init__(self, all_tokens, min_count=2):\n",
    "        self.min_count = min_count\n",
    "        self.freqs = {t:n for t, n in Counter(all_tokens).items() if n >= min_count}\n",
    "        self.words = sorted(self.freqs.keys())\n",
    "        self.word2idx = {w: i for i, w in enumerate(self.words)}\n",
    "        \n",
    "vocab = Vocab([tok for tokens in example_df.tokens for tok in tokens], min_count=1)\n",
    "\n",
    "print(f\"Dataset comprises {len(example_df)} documents and {len(vocab.words)} unique words (over the limit of {vocab.min_count} occurrences)\")"
   ]
  },
  {
   "cell_type": "code",
   "execution_count": 6,
   "metadata": {},
   "outputs": [
    {
     "data": {
      "text/plain": [
       "{'a': 0,\n",
       " 'about': 1,\n",
       " 'acquired': 2,\n",
       " 'ahead': 3,\n",
       " 'all': 4,\n",
       " 'allowed': 5,\n",
       " 'an': 6,\n",
       " 'ancient': 7,\n",
       " 'and': 8,\n",
       " 'arrakis': 9,\n",
       " 'as': 10,\n",
       " 'at': 11,\n",
       " 'atreides': 12,\n",
       " 'awakened': 13,\n",
       " 'bed': 14,\n",
       " 'before': 15,\n",
       " 'bore': 16,\n",
       " 'boy': 17,\n",
       " 'bulky': 18,\n",
       " 'by': 19,\n",
       " 'caladan': 20,\n",
       " 'came': 21,\n",
       " 'castle': 22,\n",
       " 'change': 23,\n",
       " 'cooled': 24,\n",
       " 'could': 25,\n",
       " 'crone': 26,\n",
       " 'darkness': 27,\n",
       " 'departure': 28,\n",
       " 'dimmed': 29,\n",
       " 'door': 30,\n",
       " 'down': 31,\n",
       " 'eyes': 32,\n",
       " 'family': 33,\n",
       " 'features': 34,\n",
       " 'feeling': 35,\n",
       " 'female': 36,\n",
       " 'final': 37,\n",
       " 'floor': 38,\n",
       " 'for': 39,\n",
       " 'frenzy': 40,\n",
       " 'generations': 41,\n",
       " 'glittering': 42,\n",
       " 'had': 43,\n",
       " 'hair': 44,\n",
       " 'half': 45,\n",
       " 'hanging': 46,\n",
       " 'he': 47,\n",
       " 'him': 48,\n",
       " 'his': 49,\n",
       " 'home': 50,\n",
       " 'hooded': 51,\n",
       " 'in': 52,\n",
       " 'it': 53,\n",
       " 'jewels': 54,\n",
       " 'lamp': 55,\n",
       " 'lay': 56,\n",
       " 'let': 57,\n",
       " 'light': 58,\n",
       " 'like': 59,\n",
       " 'matted': 60,\n",
       " 'moment': 61,\n",
       " 'mother': 62,\n",
       " 'near': 63,\n",
       " 'nearly': 64,\n",
       " 'night': 65,\n",
       " 'of': 66,\n",
       " 'old': 67,\n",
       " 'one': 68,\n",
       " 'passage': 69,\n",
       " 'paul': 70,\n",
       " 'peer': 71,\n",
       " 'pile': 72,\n",
       " 'reached': 73,\n",
       " 'room': 74,\n",
       " 'round': 75,\n",
       " 'scurrying': 76,\n",
       " 'see': 77,\n",
       " 'served': 78,\n",
       " 'shadow': 79,\n",
       " 'shape': 80,\n",
       " 'she': 81,\n",
       " 'side': 82,\n",
       " 'six': 83,\n",
       " 'spiderwebs': 84,\n",
       " 'standing': 85,\n",
       " 'step': 86,\n",
       " 'stone': 87,\n",
       " 'suspensor': 88,\n",
       " 'sweat': 89,\n",
       " 'that': 90,\n",
       " 'the': 91,\n",
       " 'their': 92,\n",
       " 'to': 93,\n",
       " 'twenty': 94,\n",
       " 'unbearable': 95,\n",
       " 'vaulted': 96,\n",
       " 'visit': 97,\n",
       " 'warm': 98,\n",
       " 'was': 99,\n",
       " 'weather': 100,\n",
       " 'week': 101,\n",
       " 'when': 102,\n",
       " 'where': 103,\n",
       " 'witch': 104,\n",
       " 'woman': 105}"
      ]
     },
     "execution_count": 6,
     "metadata": {},
     "output_type": "execute_result"
    }
   ],
   "source": [
    "vocab.word2idx"
   ]
  },
  {
   "cell_type": "markdown",
   "metadata": {},
   "source": [
    "Las palabras que aparecen muy raramente pueden perjudicar el rendimiento, por lo que añadimos un mecanismo sencillo para eliminarlas."
   ]
  },
  {
   "cell_type": "code",
   "execution_count": 7,
   "metadata": {},
   "outputs": [
    {
     "data": {
      "text/html": [
       "<div>\n",
       "<style scoped>\n",
       "    .dataframe tbody tr th:only-of-type {\n",
       "        vertical-align: middle;\n",
       "    }\n",
       "\n",
       "    .dataframe tbody tr th {\n",
       "        vertical-align: top;\n",
       "    }\n",
       "\n",
       "    .dataframe thead th {\n",
       "        text-align: right;\n",
       "    }\n",
       "</style>\n",
       "<table border=\"1\" class=\"dataframe\">\n",
       "  <thead>\n",
       "    <tr style=\"text-align: right;\">\n",
       "      <th></th>\n",
       "      <th>text</th>\n",
       "      <th>tokens</th>\n",
       "      <th>length</th>\n",
       "      <th>clean_tokens</th>\n",
       "      <th>clean_length</th>\n",
       "    </tr>\n",
       "  </thead>\n",
       "  <tbody>\n",
       "    <tr>\n",
       "      <th>0</th>\n",
       "      <td>In the week before their departure to Arrakis, when all the final scurrying about had reached a ...</td>\n",
       "      <td>[in, the, week, before, their, departure, to, arrakis, when, all, the, final, scurrying, about, ...</td>\n",
       "      <td>32</td>\n",
       "      <td>[in, the, week, before, their, departure, to, arrakis, when, all, the, final, scurrying, about, ...</td>\n",
       "      <td>32</td>\n",
       "    </tr>\n",
       "    <tr>\n",
       "      <th>1</th>\n",
       "      <td>It was a warm night at Castle Caladan, and the ancient pile of stone that had served the Atreide...</td>\n",
       "      <td>[it, was, a, warm, night, at, castle, caladan, and, the, ancient, pile, of, stone, that, had, se...</td>\n",
       "      <td>39</td>\n",
       "      <td>[it, was, a, warm, night, at, castle, caladan, and, the, ancient, pile, of, stone, that, had, se...</td>\n",
       "      <td>39</td>\n",
       "    </tr>\n",
       "    <tr>\n",
       "      <th>2</th>\n",
       "      <td>The old woman was let in by the side door down the vaulted passage by Paul's room and she was al...</td>\n",
       "      <td>[the, old, woman, was, let, in, by, the, side, door, down, the, vaulted, passage, by, paul, room...</td>\n",
       "      <td>34</td>\n",
       "      <td>[the, old, woman, was, let, in, by, the, side, door, down, the, vaulted, passage, by, paul, room...</td>\n",
       "      <td>34</td>\n",
       "    </tr>\n",
       "    <tr>\n",
       "      <th>3</th>\n",
       "      <td>By the half-light of a suspensor lamp, dimmed and hanging near the floor, the awakened boy could...</td>\n",
       "      <td>[by, the, half, light, of, a, suspensor, lamp, dimmed, and, hanging, near, the, floor, the, awak...</td>\n",
       "      <td>53</td>\n",
       "      <td>[by, the, half, light, of, a, suspensor, lamp, dimmed, and, hanging, near, the, floor, the, awak...</td>\n",
       "      <td>53</td>\n",
       "    </tr>\n",
       "  </tbody>\n",
       "</table>\n",
       "</div>"
      ],
      "text/plain": [
       "                                                                                                  text  \\\n",
       "0  In the week before their departure to Arrakis, when all the final scurrying about had reached a ...   \n",
       "1  It was a warm night at Castle Caladan, and the ancient pile of stone that had served the Atreide...   \n",
       "2  The old woman was let in by the side door down the vaulted passage by Paul's room and she was al...   \n",
       "3  By the half-light of a suspensor lamp, dimmed and hanging near the floor, the awakened boy could...   \n",
       "\n",
       "                                                                                                tokens  \\\n",
       "0  [in, the, week, before, their, departure, to, arrakis, when, all, the, final, scurrying, about, ...   \n",
       "1  [it, was, a, warm, night, at, castle, caladan, and, the, ancient, pile, of, stone, that, had, se...   \n",
       "2  [the, old, woman, was, let, in, by, the, side, door, down, the, vaulted, passage, by, paul, room...   \n",
       "3  [by, the, half, light, of, a, suspensor, lamp, dimmed, and, hanging, near, the, floor, the, awak...   \n",
       "\n",
       "   length  \\\n",
       "0      32   \n",
       "1      39   \n",
       "2      34   \n",
       "3      53   \n",
       "\n",
       "                                                                                          clean_tokens  \\\n",
       "0  [in, the, week, before, their, departure, to, arrakis, when, all, the, final, scurrying, about, ...   \n",
       "1  [it, was, a, warm, night, at, castle, caladan, and, the, ancient, pile, of, stone, that, had, se...   \n",
       "2  [the, old, woman, was, let, in, by, the, side, door, down, the, vaulted, passage, by, paul, room...   \n",
       "3  [by, the, half, light, of, a, suspensor, lamp, dimmed, and, hanging, near, the, floor, the, awak...   \n",
       "\n",
       "   clean_length  \n",
       "0            32  \n",
       "1            39  \n",
       "2            34  \n",
       "3            53  "
      ]
     },
     "execution_count": 7,
     "metadata": {},
     "output_type": "execute_result"
    }
   ],
   "source": [
    "def clean_tokens(df, vocab):\n",
    "    df[\"length\"] = df.tokens.apply(len)\n",
    "    df[\"clean_tokens\"] = df.tokens.apply(lambda x: [t for t in x if t in vocab.freqs.keys()])\n",
    "    df[\"clean_length\"] = df.clean_tokens.apply(len)\n",
    "    return df\n",
    "\n",
    "example_df = clean_tokens(example_df, vocab)\n",
    "example_df[:]"
   ]
  },
  {
   "cell_type": "markdown",
   "metadata": {},
   "source": [
    "La dificultad de nuestro problema \"el gato _ en la alfombra\" es que la palabra que falta podría ser cualquiera del vocabulario V y, por tanto, la red tendría salidas |V| para cada entrada, por ejemplo, un enorme vector con cero para cada palabra del vocabulario y algún número positivo para \"sat\" si la red estuviera perfectamente entrenada. Para calcular la pérdida, tenemos que convertirlo en una distribución de probabilidad, es decir, en un \"softmax\". Calcular el softmax para un vector tan grande es costoso.\n",
    "\n",
    "Así que el truco (uno de los muchos posibles) que utilizaremos es la Estimación Contrastiva de Ruido (NCE). Cambiamos nuestro problema \"el gato ___ en la alfombra\" por un problema de elección múltiple, pidiendo a la red que elija entre \"se sentó\" y algunas respuestas erróneas aleatorias como \"rayuela\" y \"se deleitó\". Esto es más fácil de calcular porque ahora es un clasificador binario (respuesta correcta o incorrecta) y la salida es simplemente un vector de tamaño 1 + k, donde k es el número de opciones incorrectas aleatorias.\n",
    "\n",
    "Afortunadamente, este problema alternativo sigue aprendiendo representaciones de palabras igualmente útiles. Sólo tenemos que ajustar los ejemplos y la función de pérdida. Existe una versión simplificada de la función de pérdida NCE llamada Muestreo Negativo (NEG) que podemos utilizar aquí.\n",
    "\n",
    "Cuando aplicamos la función de pérdida, suponemos que el primer elemento de un vector muestras/puntuaciones es la puntuación de la muestra positiva y el resto son muestras negativas. Esta convención nos evita tener que pasar un vector auxiliar que indique qué muestra fue positiva."
   ]
  },
  {
   "cell_type": "code",
   "execution_count": null,
   "metadata": {},
   "outputs": [],
   "source": [
    "!pip install pandas spacy torch torchvision torchaudio"
   ]
  },
  {
   "cell_type": "code",
   "execution_count": 8,
   "metadata": {},
   "outputs": [],
   "source": [
    "import torch.nn as nn\n",
    "\n",
    "class NegativeSampling(nn.Module):\n",
    "    def __init__(self):\n",
    "        super(NegativeSampling, self).__init__()\n",
    "        self.log_sigmoid = nn.LogSigmoid()\n",
    "    def forward(self, scores):\n",
    "        batch_size = scores.shape[0]\n",
    "        n_negative_samples = scores.shape[1] - 1   # TODO average or sum the negative samples? Summing seems to be correct by the paper\n",
    "        positive = self.log_sigmoid(scores[:,0])\n",
    "        negatives = torch.sum(self.log_sigmoid(-scores[:,1:]), dim=1)\n",
    "        return -torch.sum(positive + negatives) / batch_size  # average for batch\n",
    "\n",
    "loss = NegativeSampling()"
   ]
  },
  {
   "cell_type": "markdown",
   "metadata": {},
   "source": [
    "Es útil jugar con algunos valores para asegurarnos de que esta función hace lo correcto:"
   ]
  },
  {
   "cell_type": "code",
   "execution_count": 9,
   "metadata": {},
   "outputs": [
    {
     "data": {
      "text/html": [
       "<div>\n",
       "<style scoped>\n",
       "    .dataframe tbody tr th:only-of-type {\n",
       "        vertical-align: middle;\n",
       "    }\n",
       "\n",
       "    .dataframe tbody tr th {\n",
       "        vertical-align: top;\n",
       "    }\n",
       "\n",
       "    .dataframe thead th {\n",
       "        text-align: right;\n",
       "    }\n",
       "</style>\n",
       "<table border=\"1\" class=\"dataframe\">\n",
       "  <thead>\n",
       "    <tr style=\"text-align: right;\">\n",
       "      <th></th>\n",
       "      <th>scores</th>\n",
       "      <th>loss</th>\n",
       "    </tr>\n",
       "  </thead>\n",
       "  <tbody>\n",
       "    <tr>\n",
       "      <th>0</th>\n",
       "      <td>[1, -1, -1, -1]</td>\n",
       "      <td>tensor(1.2530)</td>\n",
       "    </tr>\n",
       "    <tr>\n",
       "      <th>1</th>\n",
       "      <td>[0.5, -1, -1, -1]</td>\n",
       "      <td>tensor(1.4139)</td>\n",
       "    </tr>\n",
       "    <tr>\n",
       "      <th>2</th>\n",
       "      <td>[0, -1, -1, -1]</td>\n",
       "      <td>tensor(1.6329)</td>\n",
       "    </tr>\n",
       "    <tr>\n",
       "      <th>3</th>\n",
       "      <td>[0, 0, 0, 0]</td>\n",
       "      <td>tensor(2.7726)</td>\n",
       "    </tr>\n",
       "    <tr>\n",
       "      <th>4</th>\n",
       "      <td>[0, 0, 0, 1]</td>\n",
       "      <td>tensor(3.3927)</td>\n",
       "    </tr>\n",
       "    <tr>\n",
       "      <th>5</th>\n",
       "      <td>[0, 1, 1, 1]</td>\n",
       "      <td>tensor(4.6329)</td>\n",
       "    </tr>\n",
       "    <tr>\n",
       "      <th>6</th>\n",
       "      <td>[0.5, 1, 1, 1]</td>\n",
       "      <td>tensor(4.4139)</td>\n",
       "    </tr>\n",
       "    <tr>\n",
       "      <th>7</th>\n",
       "      <td>[1, 1, 1, 1]</td>\n",
       "      <td>tensor(4.2530)</td>\n",
       "    </tr>\n",
       "  </tbody>\n",
       "</table>\n",
       "</div>"
      ],
      "text/plain": [
       "              scores            loss\n",
       "0    [1, -1, -1, -1]  tensor(1.2530)\n",
       "1  [0.5, -1, -1, -1]  tensor(1.4139)\n",
       "2    [0, -1, -1, -1]  tensor(1.6329)\n",
       "3       [0, 0, 0, 0]  tensor(2.7726)\n",
       "4       [0, 0, 0, 1]  tensor(3.3927)\n",
       "5       [0, 1, 1, 1]  tensor(4.6329)\n",
       "6     [0.5, 1, 1, 1]  tensor(4.4139)\n",
       "7       [1, 1, 1, 1]  tensor(4.2530)"
      ]
     },
     "execution_count": 9,
     "metadata": {},
     "output_type": "execute_result"
    }
   ],
   "source": [
    "import torch \n",
    "\n",
    "data = [[[1, -1, -1, -1]],  # this dummy data uses -1 to 1, but the real model is unconstrained\n",
    "        [[0.5, -1, -1, -1]],\n",
    "        [[0, -1, -1, -1]],\n",
    "        [[0, 0, 0, 0]],\n",
    "        [[0, 0, 0, 1]],\n",
    "        [[0, 1, 1, 1]],\n",
    "        [[0.5, 1, 1, 1]],\n",
    "        [[1, 1, 1, 1]]]\n",
    "\n",
    "loss_df = pd.DataFrame(data, columns=[\"scores\"])\n",
    "loss_df[\"loss\"] = loss_df.scores.apply(lambda x: loss(torch.FloatTensor([x])))\n",
    "\n",
    "loss_df"
   ]
  },
  {
   "cell_type": "markdown",
   "metadata": {},
   "source": [
    "Las puntuaciones más altas de la muestra positiva (siempre el primer elemento) reducen la pérdida, pero las puntuaciones más altas de las muestras negativas aumentan la pérdida. Este parece el comportamiento correcto."
   ]
  },
  {
   "cell_type": "markdown",
   "metadata": {},
   "source": [
    "Con esto en la mochila, veamos cómo crear datos de entrenamiento. La idea general es crear un conjunto de ejemplos donde cada ejemplo tiene:\n",
    "\n",
    "- doc id\n",
    "- ids de muestra - una colección del token objetivo y algunos tokens de ruido\n",
    "- ids de contexto - tokens antes y después del token objetivo\n",
    "\n",
    "Por ejemplo, si el tamaño de nuestro contexto fuera 2, el primer ejemplo del conjunto de datos anterior sería:\n",
    "\n",
    "```\n",
    "{\"doc_id\": 0,\n",
    " \"sample_ids\": [word2idx[x] for x in [\"semana\", \"palabra-aleatoria-de-vocab\", \"palabra-aleatoria-de-vocab\"...],\n",
    " \"context_ids\": [word2idx[x] for x in [\"en\", \"el\", \"antes\", \"sus\"]]}\n",
    " ```\n",
    " \n",
    " Las palabras aleatorias se eligen según una distribución de probabilidad:\n",
    " \n",
    " > una distribución de unigramas elevada a la 3/4ª potencia, como proponen T. Mikolov et al. en Distributed Representations of Words and Phrases and their Compositionality.\n",
    "\n",
    "Esto tiene el efecto de aumentar ligeramente la probabilidad relativa de las palabras raras (mire el gráfico de `y=x^0,75` más abajo y vea cómo el extremo inferior se eleva por encima de `y=x`)."
   ]
  },
  {
   "cell_type": "code",
   "execution_count": 10,
   "metadata": {},
   "outputs": [
    {
     "data": {
      "text/html": [
       "\n",
       "<style>\n",
       "  #altair-viz-6f396aecf33741e49de3bbc501e1be5a.vega-embed {\n",
       "    width: 100%;\n",
       "    display: flex;\n",
       "  }\n",
       "\n",
       "  #altair-viz-6f396aecf33741e49de3bbc501e1be5a.vega-embed details,\n",
       "  #altair-viz-6f396aecf33741e49de3bbc501e1be5a.vega-embed details summary {\n",
       "    position: relative;\n",
       "  }\n",
       "</style>\n",
       "<div id=\"altair-viz-6f396aecf33741e49de3bbc501e1be5a\"></div>\n",
       "<script type=\"text/javascript\">\n",
       "  var VEGA_DEBUG = (typeof VEGA_DEBUG == \"undefined\") ? {} : VEGA_DEBUG;\n",
       "  (function(spec, embedOpt){\n",
       "    let outputDiv = document.currentScript.previousElementSibling;\n",
       "    if (outputDiv.id !== \"altair-viz-6f396aecf33741e49de3bbc501e1be5a\") {\n",
       "      outputDiv = document.getElementById(\"altair-viz-6f396aecf33741e49de3bbc501e1be5a\");\n",
       "    }\n",
       "    const paths = {\n",
       "      \"vega\": \"https://cdn.jsdelivr.net/npm/vega@5?noext\",\n",
       "      \"vega-lib\": \"https://cdn.jsdelivr.net/npm/vega-lib?noext\",\n",
       "      \"vega-lite\": \"https://cdn.jsdelivr.net/npm/vega-lite@5.20.1?noext\",\n",
       "      \"vega-embed\": \"https://cdn.jsdelivr.net/npm/vega-embed@6?noext\",\n",
       "    };\n",
       "\n",
       "    function maybeLoadScript(lib, version) {\n",
       "      var key = `${lib.replace(\"-\", \"\")}_version`;\n",
       "      return (VEGA_DEBUG[key] == version) ?\n",
       "        Promise.resolve(paths[lib]) :\n",
       "        new Promise(function(resolve, reject) {\n",
       "          var s = document.createElement('script');\n",
       "          document.getElementsByTagName(\"head\")[0].appendChild(s);\n",
       "          s.async = true;\n",
       "          s.onload = () => {\n",
       "            VEGA_DEBUG[key] = version;\n",
       "            return resolve(paths[lib]);\n",
       "          };\n",
       "          s.onerror = () => reject(`Error loading script: ${paths[lib]}`);\n",
       "          s.src = paths[lib];\n",
       "        });\n",
       "    }\n",
       "\n",
       "    function showError(err) {\n",
       "      outputDiv.innerHTML = `<div class=\"error\" style=\"color:red;\">${err}</div>`;\n",
       "      throw err;\n",
       "    }\n",
       "\n",
       "    function displayChart(vegaEmbed) {\n",
       "      vegaEmbed(outputDiv, spec, embedOpt)\n",
       "        .catch(err => showError(`Javascript Error: ${err.message}<br>This usually means there's a typo in your chart specification. See the javascript console for the full traceback.`));\n",
       "    }\n",
       "\n",
       "    if(typeof define === \"function\" && define.amd) {\n",
       "      requirejs.config({paths});\n",
       "      require([\"vega-embed\"], displayChart, err => showError(`Error loading script: ${err.message}`));\n",
       "    } else {\n",
       "      maybeLoadScript(\"vega\", \"5\")\n",
       "        .then(() => maybeLoadScript(\"vega-lite\", \"5.20.1\"))\n",
       "        .then(() => maybeLoadScript(\"vega-embed\", \"6\"))\n",
       "        .catch(showError)\n",
       "        .then(() => displayChart(vegaEmbed));\n",
       "    }\n",
       "  })({\"config\": {\"view\": {\"continuousWidth\": 300, \"continuousHeight\": 300}}, \"data\": {\"name\": \"data-7d9b70d50e307a2b293711054637ca33\"}, \"mark\": {\"type\": \"line\"}, \"encoding\": {\"x\": {\"field\": \"x\", \"type\": \"quantitative\"}, \"y\": {\"field\": \"y\", \"type\": \"quantitative\"}}, \"title\": \"x^0.75\", \"$schema\": \"https://vega.github.io/schema/vega-lite/v5.20.1.json\", \"datasets\": {\"data-7d9b70d50e307a2b293711054637ca33\": [{\"x\": 0.0, \"y\": 0.0}, {\"x\": 0.01, \"y\": 0.03162277660168379}, {\"x\": 0.02, \"y\": 0.053182958969449884}, {\"x\": 0.03, \"y\": 0.07208434242404263}, {\"x\": 0.04, \"y\": 0.08944271909999159}, {\"x\": 0.05, \"y\": 0.10573712634405642}, {\"x\": 0.06, \"y\": 0.12123093028059741}, {\"x\": 0.07, \"y\": 0.13608915892697748}, {\"x\": 0.08, \"y\": 0.15042412372345573}, {\"x\": 0.09, \"y\": 0.16431676725154984}, {\"x\": 0.1, \"y\": 0.1778279410038923}, {\"x\": 0.11, \"y\": 0.19100490227716513}, {\"x\": 0.12, \"y\": 0.2038853093816547}, {\"x\": 0.13, \"y\": 0.2164998073464082}, {\"x\": 0.14, \"y\": 0.22887377179317683}, {\"x\": 0.15, \"y\": 0.2410285256833955}, {\"x\": 0.16, \"y\": 0.25298221281347033}, {\"x\": 0.17, \"y\": 0.26475044029330763}, {\"x\": 0.18, \"y\": 0.2763467610958144}, {\"x\": 0.19, \"y\": 0.28778304315451386}, {\"x\": 0.2, \"y\": 0.29906975624424414}, {\"x\": 0.21, \"y\": 0.3102161981490854}, {\"x\": 0.22, \"y\": 0.32123067524150845}, {\"x\": 0.23, \"y\": 0.33212064831351956}, {\"x\": 0.24, \"y\": 0.34289285156385596}, {\"x\": 0.25, \"y\": 0.3535533905932738}, {\"x\": 0.26, \"y\": 0.3641078238014289}, {\"x\": 0.27, \"y\": 0.37456123052590357}, {\"x\": 0.28, \"y\": 0.38491826849295824}, {\"x\": 0.29, \"y\": 0.39518322257770583}, {\"x\": 0.3, \"y\": 0.4053600464421103}, {\"x\": 0.31, \"y\": 0.41545239829339137}, {\"x\": 0.32, \"y\": 0.42546367175559907}, {\"x\": 0.33, \"y\": 0.43539702265375557}, {\"x\": 0.34, \"y\": 0.4452553923589699}, {\"x\": 0.35000000000000003, \"y\": 0.45504152822405847}, {\"x\": 0.36, \"y\": 0.46475800154489}, {\"x\": 0.37, \"y\": 0.47440722340731084}, {\"x\": 0.38, \"y\": 0.4839914587188715}, {\"x\": 0.39, \"y\": 0.4935128386754873}, {\"x\": 0.4, \"y\": 0.5029733718731741}, {\"x\": 0.41000000000000003, \"y\": 0.5123749542422491}, {\"x\": 0.42, \"y\": 0.5217193779544038}, {\"x\": 0.43, \"y\": 0.5310083394307343}, {\"x\": 0.44, \"y\": 0.5402434465602292}, {\"x\": 0.45, \"y\": 0.549426225222706}, {\"x\": 0.46, \"y\": 0.5585581251971565}, {\"x\": 0.47000000000000003, \"y\": 0.5676405255254853}, {\"x\": 0.48, \"y\": 0.576674739392341}, {\"x\": 0.49, \"y\": 0.5856620185738529}, {\"x\": 0.5, \"y\": 0.5946035575013605}, {\"x\": 0.51, \"y\": 0.6035004969804791}, {\"x\": 0.52, \"y\": 0.6123539276009055}, {\"x\": 0.53, \"y\": 0.6211648928681236}, {\"x\": 0.54, \"y\": 0.629934392084505}, {\"x\": 0.55, \"y\": 0.6386633830041155}, {\"x\": 0.56, \"y\": 0.6473527842827909}, {\"x\": 0.5700000000000001, \"y\": 0.6560034777426358}, {\"x\": 0.58, \"y\": 0.6646163104680073}, {\"x\": 0.59, \"y\": 0.6731920967482075}, {\"x\": 0.6, \"y\": 0.6817316198804996}, {\"x\": 0.61, \"y\": 0.6902356338456498}, {\"x\": 0.62, \"y\": 0.6987048648669424}, {\"x\": 0.63, \"y\": 0.7071400128625219}, {\"x\": 0.64, \"y\": 0.7155417527999327}, {\"x\": 0.65, \"y\": 0.7239107359608682}, {\"x\": 0.66, \"y\": 0.7322475911233668}, {\"x\": 0.67, \"y\": 0.7405529256680135}, {\"x\": 0.68, \"y\": 0.7488273266140879}, {\"x\": 0.6900000000000001, \"y\": 0.7570713615910638}, {\"x\": 0.7000000000000001, \"y\": 0.7652855797503655}, {\"x\": 0.71, \"y\": 0.7734705126218591}, {\"x\": 0.72, \"y\": 0.7816266749191567}, {\"x\": 0.73, \"y\": 0.7897545652974598}, {\"x\": 0.74, \"y\": 0.7978546670673515}, {\"x\": 0.75, \"y\": 0.8059274488676564}, {\"x\": 0.76, \"y\": 0.8139733653002305}, {\"x\": 0.77, \"y\": 0.8219928575293057}, {\"x\": 0.78, \"y\": 0.829986353847804}, {\"x\": 0.79, \"y\": 0.837954270212839}, {\"x\": 0.8, \"y\": 0.8458970107524514}, {\"x\": 0.81, \"y\": 0.8538149682454624}, {\"x\": 0.8200000000000001, \"y\": 0.8617085245761865}, {\"x\": 0.8300000000000001, \"y\": 0.869578051165608}, {\"x\": 0.84, \"y\": 0.8774239093805121}, {\"x\": 0.85, \"y\": 0.8852464509219427}, {\"x\": 0.86, \"y\": 0.8930460181942644}, {\"x\": 0.87, \"y\": 0.9008229446560111}, {\"x\": 0.88, \"y\": 0.9085775551536168}, {\"x\": 0.89, \"y\": 0.9163101662390513}, {\"x\": 0.9, \"y\": 0.9240210864723069}, {\"x\": 0.91, \"y\": 0.9317106167096201}, {\"x\": 0.92, \"y\": 0.9393790503782488}, {\"x\": 0.93, \"y\": 0.9470266737385726}, {\"x\": 0.9400000000000001, \"y\": 0.9546537661342305}, {\"x\": 0.9500000000000001, \"y\": 0.9622606002309622}, {\"x\": 0.96, \"y\": 0.9698474422447793}, {\"x\": 0.97, \"y\": 0.9774145521600454}, {\"x\": 0.98, \"y\": 0.9849621839380145}, {\"x\": 0.99, \"y\": 0.992490585716335}]}}, {\"mode\": \"vega-lite\"});\n",
       "</script>"
      ],
      "text/plain": [
       "alt.Chart(...)"
      ]
     },
     "execution_count": 10,
     "metadata": {},
     "output_type": "execute_result"
    }
   ],
   "source": [
    "import altair as alt\n",
    "import numpy as np\n",
    "\n",
    "data = pd.DataFrame(zip(np.arange(0,1,0.01), np.power(np.arange(0,1,0.01), 0.75)), columns=[\"x\", \"y\"])\n",
    "alt.Chart(data, title=\"x^0.75\").mark_line().encode(x=\"x\", y=\"y\")"
   ]
  },
  {
   "cell_type": "code",
   "execution_count": 11,
   "metadata": {},
   "outputs": [],
   "source": [
    "import numpy as np\n",
    "\n",
    "class NoiseDistribution:\n",
    "    def __init__(self, vocab):\n",
    "        self.probs = np.array([vocab.freqs[w] for w in vocab.words])\n",
    "        self.probs = np.power(self.probs, 0.75)\n",
    "        self.probs /= np.sum(self.probs)\n",
    "    def sample(self, n):\n",
    "        \"Returns the indices of n words randomly sampled from the vocabulary.\"\n",
    "        return np.random.choice(a=self.probs.shape[0], size=n, p=self.probs)\n",
    "        \n",
    "noise = NoiseDistribution(vocab)"
   ]
  },
  {
   "cell_type": "markdown",
   "metadata": {},
   "source": [
    "Con esta distribución, avanzamos por los documentos creando ejemplos. Tengamos en cuenta que siempre ponemos la muestra positiva en primer lugar en el vector de muestras, siguiendo la convención que espera la función de pérdida."
   ]
  },
  {
   "cell_type": "code",
   "execution_count": 12,
   "metadata": {},
   "outputs": [],
   "source": [
    "import torch\n",
    "\n",
    "def example_generator(df, context_size, noise, n_negative_samples, vocab):\n",
    "    for doc_id, doc in df.iterrows():\n",
    "        for i in range(context_size, len(doc.clean_tokens) - context_size):\n",
    "            positive_sample = vocab.word2idx[doc.clean_tokens[i]]\n",
    "            sample_ids = noise.sample(n_negative_samples).tolist()\n",
    "            # Fix a wee bug - ensure negative samples don't accidentally include the positive\n",
    "            sample_ids = [sample_id if sample_id != positive_sample else -1 for sample_id in sample_ids]\n",
    "            sample_ids.insert(0, positive_sample)                \n",
    "            context = doc.clean_tokens[i - context_size:i] + doc.clean_tokens[i + 1:i + context_size + 1]\n",
    "            context_ids = [vocab.word2idx[w] for w in context]\n",
    "            yield {\"doc_ids\": torch.tensor(doc_id),  # we use plural here because it will be batched\n",
    "                   \"sample_ids\": torch.tensor(sample_ids), \n",
    "                   \"context_ids\": torch.tensor(context_ids)}\n",
    "            \n",
    "examples = example_generator(example_df, context_size=5, noise=noise, n_negative_samples=5, vocab=vocab)"
   ]
  },
  {
   "cell_type": "markdown",
   "metadata": {},
   "source": [
    "Ahora lo empaquetamos como un dataset y dataloader de PyTorch."
   ]
  },
  {
   "cell_type": "code",
   "execution_count": 17,
   "metadata": {},
   "outputs": [],
   "source": [
    "from torch.utils.data import Dataset, DataLoader\n",
    "\n",
    "class NCEDataset(Dataset):\n",
    "    def __init__(self, examples):\n",
    "        self.examples = list(examples)  # just naively evaluate the whole damn thing - suboptimal!\n",
    "    def __len__(self):\n",
    "        return len(self.examples)\n",
    "    def __getitem__(self, index):\n",
    "        return self.examples[index]\n",
    "    \n",
    "dataset = NCEDataset(examples)\n",
    "dataloader = DataLoader(dataset, batch_size=2, drop_last=True, shuffle=True)  # TODO bigger batch size when not dummy data"
   ]
  },
  {
   "cell_type": "markdown",
   "metadata": {},
   "source": [
    "También va a ser útil tener una manera de convertir los lotes de nuevo a una forma legible para la depuración, por lo que añadimos una función de ayuda."
   ]
  },
  {
   "cell_type": "code",
   "execution_count": 18,
   "metadata": {},
   "outputs": [
    {
     "data": {
      "text/plain": [
       "[{'doc_id': tensor(3),\n",
       "  'context': 'could see a bulky female ____ at his door standing one',\n",
       "  'context_ids': tensor([25, 77,  0, 18, 36, 11, 49, 30, 85, 68]),\n",
       "  'samples': ['served', 'home', 'lamp', 'was', 'let', 'of'],\n",
       "  'sample_ids': tensor([80, 46, 57, 65, 18, 48])},\n",
       " {'doc_id': tensor(3),\n",
       "  'context': 'his door standing one step ____ of his mother the old',\n",
       "  'context_ids': tensor([49, 30, 85, 68, 86, 66, 49, 62, 91, 67]),\n",
       "  'samples': ['served', 'home', 'lamp', 'was', 'let', 'of'],\n",
       "  'sample_ids': tensor([ 3,  8, 63,  6, 22, 91])}]"
      ]
     },
     "execution_count": 18,
     "metadata": {},
     "output_type": "execute_result"
    }
   ],
   "source": [
    "def describe_batch(batch, vocab):\n",
    "    results = []\n",
    "    for doc_id, context_ids, sample_ids in zip(batch[\"doc_ids\"], batch[\"context_ids\"], batch[\"sample_ids\"]):\n",
    "        context = [vocab.words[i] for i in context_ids]\n",
    "        context.insert(len(context_ids) // 2, \"____\")\n",
    "        samples = [vocab.words[i] for i in sample_ids]\n",
    "        result = {\"doc_id\": doc_id,\n",
    "                  \"context\": \" \".join(context), \n",
    "                  \"context_ids\": context_ids, \n",
    "                  \"samples\": samples, 'samples': ['served', 'home', 'lamp', 'was', 'let', 'of'],\n",
    "                  \"sample_ids\": sample_ids}\n",
    "        results.append(result)\n",
    "    return results\n",
    "\n",
    "describe_batch(next(iter(dataloader)), vocab)"
   ]
  },
  {
   "cell_type": "markdown",
   "metadata": {},
   "source": [
    "Pasemos a crear el modelo en sí. No hay mucho que hacer - multiplicamos las matrices de entrada de párrafos y palabras por la capa de salida. La combinación de las matrices de párrafos y palabras se hace sumando aquí, pero también podría hacerse concatenando las entradas. En el artículo original se descubrió que la concatenación funciona mejor, quizá porque al sumar se pierde información sobre el orden de las palabras."
   ]
  },
  {
   "cell_type": "code",
   "execution_count": 19,
   "metadata": {},
   "outputs": [],
   "source": [
    "import torch.nn as nn\n",
    "\n",
    "class DistributedMemory(nn.Module):\n",
    "    def __init__(self, vec_dim, n_docs, n_words):\n",
    "        super(DistributedMemory, self).__init__()\n",
    "        self.paragraph_matrix = nn.Parameter(torch.randn(n_docs, vec_dim))\n",
    "        self.word_matrix = nn.Parameter(torch.randn(n_words, vec_dim))\n",
    "        self.outputs = nn.Parameter(torch.zeros(vec_dim, n_words))\n",
    "    \n",
    "    def forward(self, doc_ids, context_ids, sample_ids):\n",
    "                                                                               # first add doc ids to context word ids to make the inputs\n",
    "        inputs = torch.add(self.paragraph_matrix[doc_ids,:],                   # (batch_size, vec_dim)\n",
    "                           torch.sum(self.word_matrix[context_ids,:], dim=1))  # (batch_size, 2x context, vec_dim) -> sum to (batch_size, vec_dim)\n",
    "                                                                               #\n",
    "        #inputs = torch.cat(self.paragraph_matrix[doc_ids,:],                   # (batch_size, vec_dim)                                                                       # select the subset of the output layer for the NCE test\n",
    "        outputs = self.outputs[:,sample_ids]                                   # (vec_dim, batch_size, n_negative_samples + 1)\n",
    "                                                                               #\n",
    "        return torch.bmm(inputs.unsqueeze(dim=1),                              # then multiply with some munging to make the tensor shapes line up \n",
    "                         outputs.permute(1, 0, 2)).squeeze()                   # -> (batch_size, n_negative_samples + 1)\n",
    "\n",
    "model = DistributedMemory(vec_dim=50,\n",
    "                          n_docs=len(example_df),\n",
    "                          n_words=len(vocab.words))"
   ]
  },
  {
   "cell_type": "markdown",
   "metadata": {},
   "source": [
    "Veamos:"
   ]
  },
  {
   "cell_type": "code",
   "execution_count": 20,
   "metadata": {},
   "outputs": [
    {
     "data": {
      "text/plain": [
       "tensor([[0., 0., 0., 0., 0., 0.],\n",
       "        [0., 0., 0., 0., 0., 0.]])"
      ]
     },
     "execution_count": 20,
     "metadata": {},
     "output_type": "execute_result"
    }
   ],
   "source": [
    "with torch.no_grad():\n",
    "    logits = model.forward(**next(iter(dataloader)))\n",
    "logits"
   ]
  },
  {
   "cell_type": "markdown",
   "metadata": {},
   "source": [
    "La capa de salida se inicializó con ceros. Es hora de hacer un bucle de entrenamiento estándar de PyTorch."
   ]
  },
  {
   "cell_type": "code",
   "execution_count": 21,
   "metadata": {},
   "outputs": [],
   "source": [
    "from tqdm import tqdm, trange\n",
    "from torch.optim import Adam  # ilenic uses Adam, but gensim uses plain SGD\n",
    "import numpy as np\n",
    "\n",
    "def train(model, dataloader, epochs=40, lr=1e-3):\n",
    "    optimizer = Adam(model.parameters(), lr=lr)\n",
    "    training_losses = []\n",
    "    try:\n",
    "        for epoch in trange(epochs, desc=\"Epochs\"):\n",
    "            epoch_losses = []\n",
    "            for batch in dataloader:\n",
    "                model.zero_grad()\n",
    "                logits = model.forward(**batch)\n",
    "                batch_loss = loss(logits)\n",
    "                epoch_losses.append(batch_loss.item())\n",
    "                batch_loss.backward()\n",
    "                optimizer.step()\n",
    "            training_losses.append(np.mean(epoch_losses))\n",
    "    except KeyboardInterrupt:\n",
    "        print(f\"Interrupted on epoch {epoch}!\")\n",
    "    finally:\n",
    "        return training_losses"
   ]
  },
  {
   "cell_type": "markdown",
   "metadata": {},
   "source": [
    "Ahora comprobaremos la integridad sobreajustando los datos de ejemplo. La pérdida de entrenamiento debería caer desde la pérdida no entrenada hasta algo cercano al mínimo posible."
   ]
  },
  {
   "cell_type": "code",
   "execution_count": 22,
   "metadata": {},
   "outputs": [
    {
     "name": "stderr",
     "output_type": "stream",
     "text": [
      "Epochs: 100%|██████████| 40/40 [00:05<00:00,  7.70it/s]\n"
     ]
    }
   ],
   "source": [
    "training_losses = train(model, dataloader, epochs=40, lr=1e-3)"
   ]
  },
  {
   "cell_type": "code",
   "execution_count": 23,
   "metadata": {},
   "outputs": [
    {
     "data": {
      "text/html": [
       "\n",
       "<style>\n",
       "  #altair-viz-375ebe6053e6472b9c8fb952b11df5fe.vega-embed {\n",
       "    width: 100%;\n",
       "    display: flex;\n",
       "  }\n",
       "\n",
       "  #altair-viz-375ebe6053e6472b9c8fb952b11df5fe.vega-embed details,\n",
       "  #altair-viz-375ebe6053e6472b9c8fb952b11df5fe.vega-embed details summary {\n",
       "    position: relative;\n",
       "  }\n",
       "</style>\n",
       "<div id=\"altair-viz-375ebe6053e6472b9c8fb952b11df5fe\"></div>\n",
       "<script type=\"text/javascript\">\n",
       "  var VEGA_DEBUG = (typeof VEGA_DEBUG == \"undefined\") ? {} : VEGA_DEBUG;\n",
       "  (function(spec, embedOpt){\n",
       "    let outputDiv = document.currentScript.previousElementSibling;\n",
       "    if (outputDiv.id !== \"altair-viz-375ebe6053e6472b9c8fb952b11df5fe\") {\n",
       "      outputDiv = document.getElementById(\"altair-viz-375ebe6053e6472b9c8fb952b11df5fe\");\n",
       "    }\n",
       "    const paths = {\n",
       "      \"vega\": \"https://cdn.jsdelivr.net/npm/vega@5?noext\",\n",
       "      \"vega-lib\": \"https://cdn.jsdelivr.net/npm/vega-lib?noext\",\n",
       "      \"vega-lite\": \"https://cdn.jsdelivr.net/npm/vega-lite@5.20.1?noext\",\n",
       "      \"vega-embed\": \"https://cdn.jsdelivr.net/npm/vega-embed@6?noext\",\n",
       "    };\n",
       "\n",
       "    function maybeLoadScript(lib, version) {\n",
       "      var key = `${lib.replace(\"-\", \"\")}_version`;\n",
       "      return (VEGA_DEBUG[key] == version) ?\n",
       "        Promise.resolve(paths[lib]) :\n",
       "        new Promise(function(resolve, reject) {\n",
       "          var s = document.createElement('script');\n",
       "          document.getElementsByTagName(\"head\")[0].appendChild(s);\n",
       "          s.async = true;\n",
       "          s.onload = () => {\n",
       "            VEGA_DEBUG[key] = version;\n",
       "            return resolve(paths[lib]);\n",
       "          };\n",
       "          s.onerror = () => reject(`Error loading script: ${paths[lib]}`);\n",
       "          s.src = paths[lib];\n",
       "        });\n",
       "    }\n",
       "\n",
       "    function showError(err) {\n",
       "      outputDiv.innerHTML = `<div class=\"error\" style=\"color:red;\">${err}</div>`;\n",
       "      throw err;\n",
       "    }\n",
       "\n",
       "    function displayChart(vegaEmbed) {\n",
       "      vegaEmbed(outputDiv, spec, embedOpt)\n",
       "        .catch(err => showError(`Javascript Error: ${err.message}<br>This usually means there's a typo in your chart specification. See the javascript console for the full traceback.`));\n",
       "    }\n",
       "\n",
       "    if(typeof define === \"function\" && define.amd) {\n",
       "      requirejs.config({paths});\n",
       "      require([\"vega-embed\"], displayChart, err => showError(`Error loading script: ${err.message}`));\n",
       "    } else {\n",
       "      maybeLoadScript(\"vega\", \"5\")\n",
       "        .then(() => maybeLoadScript(\"vega-lite\", \"5.20.1\"))\n",
       "        .then(() => maybeLoadScript(\"vega-embed\", \"6\"))\n",
       "        .catch(showError)\n",
       "        .then(() => displayChart(vegaEmbed));\n",
       "    }\n",
       "  })({\"config\": {\"view\": {\"continuousWidth\": 300, \"continuousHeight\": 300}}, \"data\": {\"name\": \"data-3373ead2ba19a59e72ff20d46706e351\"}, \"mark\": {\"type\": \"bar\"}, \"encoding\": {\"x\": {\"field\": \"epoch\", \"type\": \"quantitative\"}, \"y\": {\"field\": \"training_loss\", \"scale\": {\"type\": \"log\"}, \"type\": \"quantitative\"}}, \"$schema\": \"https://vega.github.io/schema/vega-lite/v5.20.1.json\", \"datasets\": {\"data-3373ead2ba19a59e72ff20d46706e351\": [{\"epoch\": 0, \"training_loss\": 3.9479744515176547}, {\"epoch\": 1, \"training_loss\": 2.5890410128286327}, {\"epoch\": 2, \"training_loss\": 1.885451124886335}, {\"epoch\": 3, \"training_loss\": 1.483023566714788}, {\"epoch\": 4, \"training_loss\": 1.1992691846217138}, {\"epoch\": 5, \"training_loss\": 1.006144278130289}, {\"epoch\": 6, \"training_loss\": 0.8683676598435741}, {\"epoch\": 7, \"training_loss\": 0.7356367151615983}, {\"epoch\": 8, \"training_loss\": 0.6448506164853856}, {\"epoch\": 9, \"training_loss\": 0.5640709420381966}, {\"epoch\": 10, \"training_loss\": 0.5040752582125745}, {\"epoch\": 11, \"training_loss\": 0.44469130897926074}, {\"epoch\": 12, \"training_loss\": 0.4009028276649572}, {\"epoch\": 13, \"training_loss\": 0.3635148873268548}, {\"epoch\": 14, \"training_loss\": 0.32507103694192435}, {\"epoch\": 15, \"training_loss\": 0.2955325442855641}, {\"epoch\": 16, \"training_loss\": 0.2663017537886814}, {\"epoch\": 17, \"training_loss\": 0.24189258190029758}, {\"epoch\": 18, \"training_loss\": 0.22345491915436114}, {\"epoch\": 19, \"training_loss\": 0.2048585663660098}, {\"epoch\": 20, \"training_loss\": 0.18468459733461928}, {\"epoch\": 21, \"training_loss\": 0.17116589263334112}, {\"epoch\": 22, \"training_loss\": 0.15645959382971464}, {\"epoch\": 23, \"training_loss\": 0.1437731469207901}, {\"epoch\": 24, \"training_loss\": 0.13351853501241087}, {\"epoch\": 25, \"training_loss\": 0.12241425800879123}, {\"epoch\": 26, \"training_loss\": 0.11423538397934477}, {\"epoch\": 27, \"training_loss\": 0.1059802394612866}, {\"epoch\": 28, \"training_loss\": 0.09946037731054476}, {\"epoch\": 29, \"training_loss\": 0.09215062935599837}, {\"epoch\": 30, \"training_loss\": 0.08677343354891923}, {\"epoch\": 31, \"training_loss\": 0.08151145137341345}, {\"epoch\": 32, \"training_loss\": 0.07531447070887533}, {\"epoch\": 33, \"training_loss\": 0.07075741232009762}, {\"epoch\": 34, \"training_loss\": 0.0669021608970933}, {\"epoch\": 35, \"training_loss\": 0.062051017721325666}, {\"epoch\": 36, \"training_loss\": 0.05749723479404288}, {\"epoch\": 37, \"training_loss\": 0.054906977245868266}, {\"epoch\": 38, \"training_loss\": 0.0514282842435069}, {\"epoch\": 39, \"training_loss\": 0.04798640402318057}]}}, {\"mode\": \"vega-lite\"});\n",
       "</script>"
      ],
      "text/plain": [
       "alt.Chart(...)"
      ]
     },
     "execution_count": 23,
     "metadata": {},
     "output_type": "execute_result"
    }
   ],
   "source": [
    "import altair as alt\n",
    "\n",
    "df_loss = pd.DataFrame(enumerate(training_losses), columns=[\"epoch\", \"training_loss\"])\n",
    "alt.Chart(df_loss).mark_bar().encode(alt.X(\"epoch\"), alt.Y(\"training_loss\", scale=alt.Scale(type=\"log\")))"
   ]
  },
  {
   "cell_type": "code",
   "execution_count": 25,
   "metadata": {},
   "outputs": [
    {
     "data": {
      "text/plain": [
       "<Axes: >"
      ]
     },
     "execution_count": 25,
     "metadata": {},
     "output_type": "execute_result"
    },
    {
     "data": {
      "image/png": "[encoded data removed]",
      "text/plain": [
       "<Figure size 640x480 with 1 Axes>"
      ]
     },
     "metadata": {},
     "output_type": "display_data"
    }
   ],
   "source": [
    "df_loss.plot()  "
   ]
  },
  {
   "cell_type": "markdown",
   "metadata": {},
   "source": [
    "And because we're paranoid types, let's check a prediction."
   ]
  },
  {
   "cell_type": "code",
   "execution_count": 26,
   "metadata": {},
   "outputs": [
    {
     "data": {
      "text/plain": [
       "tensor([[ 5.9023, -6.7047, -6.2654, -6.7725, -7.2265, -3.0456],\n",
       "        [ 5.1143, -5.3032, -7.3133, -8.4777, -6.1268, -6.1874]])"
      ]
     },
     "execution_count": 26,
     "metadata": {},
     "output_type": "execute_result"
    }
   ],
   "source": [
    "with torch.no_grad():\n",
    "    logits = model.forward(**next(iter(dataloader)))\n",
    "logits"
   ]
  },
  {
   "cell_type": "markdown",
   "metadata": {},
   "source": [
    "La muestra positiva obtiene una puntuación positiva y las negativas, una puntuación negativa."
   ]
  },
  {
   "cell_type": "markdown",
   "metadata": {},
   "source": [
    "Deberíamos poder obtener los vectores de párrafo de los documentos y hacer cosas como comprobar la similitud entre ellos."
   ]
  },
  {
   "cell_type": "code",
   "execution_count": 27,
   "metadata": {},
   "outputs": [
    {
     "data": {
      "text/html": [
       "<div>\n",
       "<style scoped>\n",
       "    .dataframe tbody tr th:only-of-type {\n",
       "        vertical-align: middle;\n",
       "    }\n",
       "\n",
       "    .dataframe tbody tr th {\n",
       "        vertical-align: top;\n",
       "    }\n",
       "\n",
       "    .dataframe thead th {\n",
       "        text-align: right;\n",
       "    }\n",
       "</style>\n",
       "<table border=\"1\" class=\"dataframe\">\n",
       "  <thead>\n",
       "    <tr style=\"text-align: right;\">\n",
       "      <th></th>\n",
       "      <th>doc_id</th>\n",
       "      <th>similarity</th>\n",
       "      <th>text</th>\n",
       "    </tr>\n",
       "  </thead>\n",
       "  <tbody>\n",
       "    <tr>\n",
       "      <th>1</th>\n",
       "      <td>1</td>\n",
       "      <td>1.000000</td>\n",
       "      <td>It was a warm night at Castle Caladan, and the ancient pile of stone that had served the Atreide...</td>\n",
       "    </tr>\n",
       "    <tr>\n",
       "      <th>3</th>\n",
       "      <td>3</td>\n",
       "      <td>0.208677</td>\n",
       "      <td>By the half-light of a suspensor lamp, dimmed and hanging near the floor, the awakened boy could...</td>\n",
       "    </tr>\n",
       "    <tr>\n",
       "      <th>2</th>\n",
       "      <td>2</td>\n",
       "      <td>0.139703</td>\n",
       "      <td>The old woman was let in by the side door down the vaulted passage by Paul's room and she was al...</td>\n",
       "    </tr>\n",
       "    <tr>\n",
       "      <th>0</th>\n",
       "      <td>0</td>\n",
       "      <td>-0.033162</td>\n",
       "      <td>In the week before their departure to Arrakis, when all the final scurrying about had reached a ...</td>\n",
       "    </tr>\n",
       "  </tbody>\n",
       "</table>\n",
       "</div>"
      ],
      "text/plain": [
       "   doc_id  similarity  \\\n",
       "1       1    1.000000   \n",
       "3       3    0.208677   \n",
       "2       2    0.139703   \n",
       "0       0   -0.033162   \n",
       "\n",
       "                                                                                                  text  \n",
       "1  It was a warm night at Castle Caladan, and the ancient pile of stone that had served the Atreide...  \n",
       "3  By the half-light of a suspensor lamp, dimmed and hanging near the floor, the awakened boy could...  \n",
       "2  The old woman was let in by the side door down the vaulted passage by Paul's room and she was al...  \n",
       "0  In the week before their departure to Arrakis, when all the final scurrying about had reached a ...  "
      ]
     },
     "execution_count": 27,
     "metadata": {},
     "output_type": "execute_result"
    }
   ],
   "source": [
    "from sklearn.preprocessing import normalize\n",
    "\n",
    "def most_similar(paragraph_matrix, docs_df, index, n=None):\n",
    "    pm = normalize(paragraph_matrix, norm=\"l2\")  # in a smarter implementation we would cache this somewhere\n",
    "    sims = np.dot(pm, pm[index,:])\n",
    "    df = pd.DataFrame(enumerate(sims), columns=[\"doc_id\", \"similarity\"])\n",
    "    n = n if n is not None else len(sims)\n",
    "    return df.merge(docs_df[[\"text\"]].reset_index(drop=True), left_index=True, right_index=True).sort_values(by=\"similarity\", ascending=False)[:n]\n",
    "\n",
    "most_similar(model.paragraph_matrix.data, example_df, 1, n=10)"
   ]
  },
  {
   "cell_type": "markdown",
   "metadata": {},
   "source": [
    "Sin embargo, no es especialmente esclarecedor para nuestro pequeño conjunto de datos ficticios. También podemos utilizar PCA para reducir nuestros vectores de párrafos n-dimensionales a 2 dimensiones y ver si se agrupan bien."
   ]
  },
  {
   "cell_type": "code",
   "execution_count": 28,
   "metadata": {},
   "outputs": [
    {
     "name": "stdout",
     "output_type": "stream",
     "text": [
      "2-component PCA, explains 41.33% of variance\n"
     ]
    },
    {
     "data": {
      "text/html": [
       "\n",
       "<style>\n",
       "  #altair-viz-c840eb0a04a74b1381f58fc3598aa264.vega-embed {\n",
       "    width: 100%;\n",
       "    display: flex;\n",
       "  }\n",
       "\n",
       "  #altair-viz-c840eb0a04a74b1381f58fc3598aa264.vega-embed details,\n",
       "  #altair-viz-c840eb0a04a74b1381f58fc3598aa264.vega-embed details summary {\n",
       "    position: relative;\n",
       "  }\n",
       "</style>\n",
       "<div id=\"altair-viz-c840eb0a04a74b1381f58fc3598aa264\"></div>\n",
       "<script type=\"text/javascript\">\n",
       "  var VEGA_DEBUG = (typeof VEGA_DEBUG == \"undefined\") ? {} : VEGA_DEBUG;\n",
       "  (function(spec, embedOpt){\n",
       "    let outputDiv = document.currentScript.previousElementSibling;\n",
       "    if (outputDiv.id !== \"altair-viz-c840eb0a04a74b1381f58fc3598aa264\") {\n",
       "      outputDiv = document.getElementById(\"altair-viz-c840eb0a04a74b1381f58fc3598aa264\");\n",
       "    }\n",
       "    const paths = {\n",
       "      \"vega\": \"https://cdn.jsdelivr.net/npm/vega@5?noext\",\n",
       "      \"vega-lib\": \"https://cdn.jsdelivr.net/npm/vega-lib?noext\",\n",
       "      \"vega-lite\": \"https://cdn.jsdelivr.net/npm/vega-lite@5.20.1?noext\",\n",
       "      \"vega-embed\": \"https://cdn.jsdelivr.net/npm/vega-embed@6?noext\",\n",
       "    };\n",
       "\n",
       "    function maybeLoadScript(lib, version) {\n",
       "      var key = `${lib.replace(\"-\", \"\")}_version`;\n",
       "      return (VEGA_DEBUG[key] == version) ?\n",
       "        Promise.resolve(paths[lib]) :\n",
       "        new Promise(function(resolve, reject) {\n",
       "          var s = document.createElement('script');\n",
       "          document.getElementsByTagName(\"head\")[0].appendChild(s);\n",
       "          s.async = true;\n",
       "          s.onload = () => {\n",
       "            VEGA_DEBUG[key] = version;\n",
       "            return resolve(paths[lib]);\n",
       "          };\n",
       "          s.onerror = () => reject(`Error loading script: ${paths[lib]}`);\n",
       "          s.src = paths[lib];\n",
       "        });\n",
       "    }\n",
       "\n",
       "    function showError(err) {\n",
       "      outputDiv.innerHTML = `<div class=\"error\" style=\"color:red;\">${err}</div>`;\n",
       "      throw err;\n",
       "    }\n",
       "\n",
       "    function displayChart(vegaEmbed) {\n",
       "      vegaEmbed(outputDiv, spec, embedOpt)\n",
       "        .catch(err => showError(`Javascript Error: ${err.message}<br>This usually means there's a typo in your chart specification. See the javascript console for the full traceback.`));\n",
       "    }\n",
       "\n",
       "    if(typeof define === \"function\" && define.amd) {\n",
       "      requirejs.config({paths});\n",
       "      require([\"vega-embed\"], displayChart, err => showError(`Error loading script: ${err.message}`));\n",
       "    } else {\n",
       "      maybeLoadScript(\"vega\", \"5\")\n",
       "        .then(() => maybeLoadScript(\"vega-lite\", \"5.20.1\"))\n",
       "        .then(() => maybeLoadScript(\"vega-embed\", \"6\"))\n",
       "        .catch(showError)\n",
       "        .then(() => displayChart(vegaEmbed));\n",
       "    }\n",
       "  })({\"config\": {\"view\": {\"continuousWidth\": 300, \"continuousHeight\": 300}}, \"data\": {\"name\": \"data-8da41ce739332d6c5a1c82c7cb6d71e2\"}, \"mark\": {\"type\": \"point\"}, \"encoding\": {\"color\": {\"field\": \"group\", \"type\": \"nominal\"}, \"x\": {\"field\": \"x\", \"type\": \"quantitative\"}, \"y\": {\"field\": \"y\", \"type\": \"quantitative\"}}, \"$schema\": \"https://vega.github.io/schema/vega-lite/v5.20.1.json\", \"datasets\": {\"data-8da41ce739332d6c5a1c82c7cb6d71e2\": [{\"x\": 6.857883122070082, \"y\": 1.8131229490950318, \"group\": \"0\"}, {\"x\": -4.935897437705356, \"y\": 2.250283975401657, \"group\": \"1\"}, {\"x\": -0.32020418024034086, \"y\": -6.114109755144985, \"group\": \"2\"}, {\"x\": -1.601781504124386, \"y\": 2.050702830648295, \"group\": \"3\"}]}}, {\"mode\": \"vega-lite\"});\n",
       "</script>"
      ],
      "text/plain": [
       "alt.Chart(...)"
      ]
     },
     "execution_count": 28,
     "metadata": {},
     "output_type": "execute_result"
    }
   ],
   "source": [
    "from sklearn.decomposition import PCA\n",
    "\n",
    "def pca_2d(paragraph_matrix, groups):\n",
    "    pca = PCA(n_components=2)\n",
    "    reduced_dims = pca.fit_transform(paragraph_matrix)\n",
    "    print(f\"2-component PCA, explains {sum(pca.explained_variance_):.2f}% of variance\")\n",
    "    df = pd.DataFrame(reduced_dims, columns=[\"x\", \"y\"])\n",
    "    df[\"group\"] = groups\n",
    "    return df\n",
    "\n",
    "example_2d = pca_2d(model.paragraph_matrix.data, [\"0\",\"1\",\"2\",\"3\"])\n",
    "alt.Chart(example_2d).mark_point().encode(x=\"x\", y=\"y\", color=\"group\")"
   ]
  },
  {
   "cell_type": "markdown",
   "metadata": {},
   "source": [
    "No hay mucho que ver en un conjunto de datos tan pequeño sin grupos etiquetados."
   ]
  },
  {
   "cell_type": "markdown",
   "metadata": {},
   "source": [
    "Ejecutando esto en algunos datos más grandes, utilizaremos el conjunto de datos de la BBC."
   ]
  },
  {
   "cell_type": "code",
   "execution_count": 29,
   "metadata": {},
   "outputs": [
    {
     "data": {
      "text/html": [
       "<div>\n",
       "<style scoped>\n",
       "    .dataframe tbody tr th:only-of-type {\n",
       "        vertical-align: middle;\n",
       "    }\n",
       "\n",
       "    .dataframe tbody tr th {\n",
       "        vertical-align: top;\n",
       "    }\n",
       "\n",
       "    .dataframe thead th {\n",
       "        text-align: right;\n",
       "    }\n",
       "</style>\n",
       "<table border=\"1\" class=\"dataframe\">\n",
       "  <thead>\n",
       "    <tr style=\"text-align: right;\">\n",
       "      <th></th>\n",
       "      <th>text</th>\n",
       "      <th>tokens</th>\n",
       "      <th>group</th>\n",
       "    </tr>\n",
       "  </thead>\n",
       "  <tbody>\n",
       "    <tr>\n",
       "      <th>0</th>\n",
       "      <td>Claxton hunting first major medal  British hurdler Sarah Claxton is confident she can win her fi...</td>\n",
       "      <td>[claxton, hunting, first, major, medal, british, hurdler, sarah, claxton, is, confident, she, ca...</td>\n",
       "      <td>sport</td>\n",
       "    </tr>\n",
       "    <tr>\n",
       "      <th>1</th>\n",
       "      <td>O'Sullivan could run in Worlds  Sonia O'Sullivan has indicated that she would like to participat...</td>\n",
       "      <td>[could, run, in, worlds, sonia, has, indicated, that, she, would, like, to, participate, in, nex...</td>\n",
       "      <td>sport</td>\n",
       "    </tr>\n",
       "    <tr>\n",
       "      <th>2</th>\n",
       "      <td>Greene sets sights on world title  Maurice Greene aims to wipe out the pain of losing his Olympi...</td>\n",
       "      <td>[greene, sets, sights, on, world, title, maurice, greene, aims, to, wipe, out, the, pain, of, lo...</td>\n",
       "      <td>sport</td>\n",
       "    </tr>\n",
       "    <tr>\n",
       "      <th>3</th>\n",
       "      <td>IAAF launches fight against drugs  The IAAF - athletics' world governing body - has met anti-dop...</td>\n",
       "      <td>[iaaf, launches, fight, against, drugs, the, iaaf, athletics, world, governing, body, has, met, ...</td>\n",
       "      <td>sport</td>\n",
       "    </tr>\n",
       "  </tbody>\n",
       "</table>\n",
       "</div>"
      ],
      "text/plain": [
       "                                                                                                  text  \\\n",
       "0  Claxton hunting first major medal  British hurdler Sarah Claxton is confident she can win her fi...   \n",
       "1  O'Sullivan could run in Worlds  Sonia O'Sullivan has indicated that she would like to participat...   \n",
       "2  Greene sets sights on world title  Maurice Greene aims to wipe out the pain of losing his Olympi...   \n",
       "3  IAAF launches fight against drugs  The IAAF - athletics' world governing body - has met anti-dop...   \n",
       "\n",
       "                                                                                                tokens  \\\n",
       "0  [claxton, hunting, first, major, medal, british, hurdler, sarah, claxton, is, confident, she, ca...   \n",
       "1  [could, run, in, worlds, sonia, has, indicated, that, she, would, like, to, participate, in, nex...   \n",
       "2  [greene, sets, sights, on, world, title, maurice, greene, aims, to, wipe, out, the, pain, of, lo...   \n",
       "3  [iaaf, launches, fight, against, drugs, the, iaaf, athletics, world, governing, body, has, met, ...   \n",
       "\n",
       "   group  \n",
       "0  sport  \n",
       "1  sport  \n",
       "2  sport  \n",
       "3  sport  "
      ]
     },
     "execution_count": 29,
     "metadata": {},
     "output_type": "execute_result"
    }
   ],
   "source": [
    "dfs = []\n",
    "for document_set in (\"sport\",\n",
    "                     \"business\",\n",
    "                     \"politics\", \n",
    "                     \"tech\", \n",
    "                     \"entertainment\"):\n",
    "    df_ = pd.read_csv(f\"./Data/bbc/{document_set}.csv.bz2\", encoding=\"latin1\")\n",
    "    df_ = tokenize_text(df_)\n",
    "    df_[\"group\"] = document_set\n",
    "    dfs.append(df_)\n",
    "\n",
    "bbc_df = pd.concat(dfs)\n",
    "bbc_df[:4]"
   ]
  },
  {
   "cell_type": "code",
   "execution_count": 30,
   "metadata": {},
   "outputs": [
    {
     "data": {
      "text/html": [
       "<div>\n",
       "<style scoped>\n",
       "    .dataframe tbody tr th:only-of-type {\n",
       "        vertical-align: middle;\n",
       "    }\n",
       "\n",
       "    .dataframe tbody tr th {\n",
       "        vertical-align: top;\n",
       "    }\n",
       "\n",
       "    .dataframe thead th {\n",
       "        text-align: right;\n",
       "    }\n",
       "</style>\n",
       "<table border=\"1\" class=\"dataframe\">\n",
       "  <thead>\n",
       "    <tr style=\"text-align: right;\">\n",
       "      <th></th>\n",
       "      <th>text</th>\n",
       "      <th>tokens</th>\n",
       "      <th>group</th>\n",
       "    </tr>\n",
       "  </thead>\n",
       "  <tbody>\n",
       "    <tr>\n",
       "      <th>0</th>\n",
       "      <td>Claxton hunting first major medal  British hurdler Sarah Claxton is confident she can win her fi...</td>\n",
       "      <td>[claxton, hunting, first, major, medal, british, hurdler, sarah, claxton, is, confident, she, ca...</td>\n",
       "      <td>sport</td>\n",
       "    </tr>\n",
       "    <tr>\n",
       "      <th>1</th>\n",
       "      <td>O'Sullivan could run in Worlds  Sonia O'Sullivan has indicated that she would like to participat...</td>\n",
       "      <td>[could, run, in, worlds, sonia, has, indicated, that, she, would, like, to, participate, in, nex...</td>\n",
       "      <td>sport</td>\n",
       "    </tr>\n",
       "    <tr>\n",
       "      <th>2</th>\n",
       "      <td>Greene sets sights on world title  Maurice Greene aims to wipe out the pain of losing his Olympi...</td>\n",
       "      <td>[greene, sets, sights, on, world, title, maurice, greene, aims, to, wipe, out, the, pain, of, lo...</td>\n",
       "      <td>sport</td>\n",
       "    </tr>\n",
       "    <tr>\n",
       "      <th>3</th>\n",
       "      <td>IAAF launches fight against drugs  The IAAF - athletics' world governing body - has met anti-dop...</td>\n",
       "      <td>[iaaf, launches, fight, against, drugs, the, iaaf, athletics, world, governing, body, has, met, ...</td>\n",
       "      <td>sport</td>\n",
       "    </tr>\n",
       "    <tr>\n",
       "      <th>4</th>\n",
       "      <td>Dibaba breaks 5,000m world record  Ethiopia's Tirunesh Dibaba set a new world record in winning ...</td>\n",
       "      <td>[dibaba, breaks, m, world, record, ethiopia, tirunesh, dibaba, set, a, new, world, record, in, w...</td>\n",
       "      <td>sport</td>\n",
       "    </tr>\n",
       "    <tr>\n",
       "      <th>5</th>\n",
       "      <td>Isinbayeva claims new world best  Pole vaulter Yelena Isinbayeva broke her own indoor world reco...</td>\n",
       "      <td>[isinbayeva, claims, new, world, best, pole, vaulter, yelena, isinbayeva, broke, her, own, indoo...</td>\n",
       "      <td>sport</td>\n",
       "    </tr>\n",
       "    <tr>\n",
       "      <th>6</th>\n",
       "      <td>O'Sullivan commits to Dublin race  Sonia O'Sullivan will seek to regain her title at the Bupa Gr...</td>\n",
       "      <td>[commits, to, dublin, race, sonia, will, seek, to, regain, her, title, at, the, bupa, great, ire...</td>\n",
       "      <td>sport</td>\n",
       "    </tr>\n",
       "    <tr>\n",
       "      <th>7</th>\n",
       "      <td>Hansen 'delays return until 2006'  British triple jumper Ashia Hansen has ruled out a comeback t...</td>\n",
       "      <td>[hansen, delays, return, until, 2006, british, triple, jumper, ashia, hansen, has, ruled, out, a...</td>\n",
       "      <td>sport</td>\n",
       "    </tr>\n",
       "    <tr>\n",
       "      <th>8</th>\n",
       "      <td>Off-colour Gardener storms to win  Britain's Jason Gardener shook off an upset stomach to win th...</td>\n",
       "      <td>[off, colour, gardener, storms, to, win, britain, jason, gardener, shook, off, an, upset, stomac...</td>\n",
       "      <td>sport</td>\n",
       "    </tr>\n",
       "    <tr>\n",
       "      <th>9</th>\n",
       "      <td>Collins to compete in Birmingham  World and Commonwealth 100m champion Kim Collins will compete ...</td>\n",
       "      <td>[collins, to, compete, in, birmingham, world, and, commonwealth, 100, m, champion, kim, collins,...</td>\n",
       "      <td>sport</td>\n",
       "    </tr>\n",
       "  </tbody>\n",
       "</table>\n",
       "</div>"
      ],
      "text/plain": [
       "                                                                                                  text  \\\n",
       "0  Claxton hunting first major medal  British hurdler Sarah Claxton is confident she can win her fi...   \n",
       "1  O'Sullivan could run in Worlds  Sonia O'Sullivan has indicated that she would like to participat...   \n",
       "2  Greene sets sights on world title  Maurice Greene aims to wipe out the pain of losing his Olympi...   \n",
       "3  IAAF launches fight against drugs  The IAAF - athletics' world governing body - has met anti-dop...   \n",
       "4  Dibaba breaks 5,000m world record  Ethiopia's Tirunesh Dibaba set a new world record in winning ...   \n",
       "5  Isinbayeva claims new world best  Pole vaulter Yelena Isinbayeva broke her own indoor world reco...   \n",
       "6  O'Sullivan commits to Dublin race  Sonia O'Sullivan will seek to regain her title at the Bupa Gr...   \n",
       "7  Hansen 'delays return until 2006'  British triple jumper Ashia Hansen has ruled out a comeback t...   \n",
       "8  Off-colour Gardener storms to win  Britain's Jason Gardener shook off an upset stomach to win th...   \n",
       "9  Collins to compete in Birmingham  World and Commonwealth 100m champion Kim Collins will compete ...   \n",
       "\n",
       "                                                                                                tokens  \\\n",
       "0  [claxton, hunting, first, major, medal, british, hurdler, sarah, claxton, is, confident, she, ca...   \n",
       "1  [could, run, in, worlds, sonia, has, indicated, that, she, would, like, to, participate, in, nex...   \n",
       "2  [greene, sets, sights, on, world, title, maurice, greene, aims, to, wipe, out, the, pain, of, lo...   \n",
       "3  [iaaf, launches, fight, against, drugs, the, iaaf, athletics, world, governing, body, has, met, ...   \n",
       "4  [dibaba, breaks, m, world, record, ethiopia, tirunesh, dibaba, set, a, new, world, record, in, w...   \n",
       "5  [isinbayeva, claims, new, world, best, pole, vaulter, yelena, isinbayeva, broke, her, own, indoo...   \n",
       "6  [commits, to, dublin, race, sonia, will, seek, to, regain, her, title, at, the, bupa, great, ire...   \n",
       "7  [hansen, delays, return, until, 2006, british, triple, jumper, ashia, hansen, has, ruled, out, a...   \n",
       "8  [off, colour, gardener, storms, to, win, britain, jason, gardener, shook, off, an, upset, stomac...   \n",
       "9  [collins, to, compete, in, birmingham, world, and, commonwealth, 100, m, champion, kim, collins,...   \n",
       "\n",
       "   group  \n",
       "0  sport  \n",
       "1  sport  \n",
       "2  sport  \n",
       "3  sport  \n",
       "4  sport  \n",
       "5  sport  \n",
       "6  sport  \n",
       "7  sport  \n",
       "8  sport  \n",
       "9  sport  "
      ]
     },
     "execution_count": 30,
     "metadata": {},
     "output_type": "execute_result"
    }
   ],
   "source": [
    "bbc_df[:10]"
   ]
  },
  {
   "cell_type": "code",
   "execution_count": 31,
   "metadata": {},
   "outputs": [
    {
     "name": "stdout",
     "output_type": "stream",
     "text": [
      "Dataset comprises 2225 documents and 19065 unique words\n"
     ]
    }
   ],
   "source": [
    "bbc_vocab = Vocab([tok for tokens in bbc_df.tokens for tok in tokens])\n",
    "\n",
    "bbc_df = clean_tokens(bbc_df, bbc_vocab)\n",
    "\n",
    "print(f\"Dataset comprises {len(bbc_df)} documents and {len(bbc_vocab.words)} unique words\")"
   ]
  },
  {
   "cell_type": "code",
   "execution_count": 32,
   "metadata": {},
   "outputs": [],
   "source": [
    "bbc_noise = NoiseDistribution(bbc_vocab)\n",
    "bbc_examples = list(example_generator(bbc_df, context_size=5, noise=bbc_noise, n_negative_samples=5, vocab=bbc_vocab))"
   ]
  },
  {
   "cell_type": "code",
   "execution_count": 33,
   "metadata": {},
   "outputs": [],
   "source": [
    "bbc_dataset = NCEDataset(bbc_examples)\n",
    "bbc_dataloader = DataLoader(bbc_dataset, batch_size=1024, drop_last=True, shuffle=True)  # TODO could tolerate a larger batch size\n",
    "\n",
    "bbc_model = DistributedMemory(vec_dim=50,\n",
    "                              n_docs=len(bbc_df),\n",
    "                              n_words=len(bbc_vocab.words))"
   ]
  },
  {
   "cell_type": "code",
   "execution_count": 34,
   "metadata": {},
   "outputs": [
    {
     "name": "stderr",
     "output_type": "stream",
     "text": [
      "Epochs:   0%|          | 0/80 [00:09<?, ?it/s]"
     ]
    },
    {
     "name": "stdout",
     "output_type": "stream",
     "text": [
      "Interrupted on epoch 0!\n"
     ]
    },
    {
     "name": "stderr",
     "output_type": "stream",
     "text": [
      "\n"
     ]
    }
   ],
   "source": [
    "bbc_training_losses = train(bbc_model, bbc_dataloader, epochs=80, lr=1e-3)"
   ]
  },
  {
   "cell_type": "code",
   "execution_count": 25,
   "metadata": {},
   "outputs": [],
   "source": [
    "torch.save(bbc_model.state_dict(), 'bbc_training_losses_weights.pth')"
   ]
  },
  {
   "cell_type": "code",
   "execution_count": 36,
   "metadata": {},
   "outputs": [],
   "source": [
    "bbc_model = torch.load(\n",
    "    \"/home/pdconte/Desktop/Colegio_Bourbaki/ML_AI/Semana1/bbc_training_losses_weights.pt\"\n",
    ")"
   ]
  },
  {
   "cell_type": "code",
   "execution_count": 37,
   "metadata": {},
   "outputs": [
    {
     "name": "stderr",
     "output_type": "stream",
     "text": [
      "/home/pdconte/.local/lib/python3.12/site-packages/altair/utils/core.py:253: UserWarning: I don't know how to infer vegalite type from 'empty'.  Defaulting to nominal.\n",
      "  warnings.warn(\n"
     ]
    },
    {
     "data": {
      "text/html": [
       "\n",
       "<style>\n",
       "  #altair-viz-736b8a8de5c14f3dbaca7f4c4c1c2c02.vega-embed {\n",
       "    width: 100%;\n",
       "    display: flex;\n",
       "  }\n",
       "\n",
       "  #altair-viz-736b8a8de5c14f3dbaca7f4c4c1c2c02.vega-embed details,\n",
       "  #altair-viz-736b8a8de5c14f3dbaca7f4c4c1c2c02.vega-embed details summary {\n",
       "    position: relative;\n",
       "  }\n",
       "</style>\n",
       "<div id=\"altair-viz-736b8a8de5c14f3dbaca7f4c4c1c2c02\"></div>\n",
       "<script type=\"text/javascript\">\n",
       "  var VEGA_DEBUG = (typeof VEGA_DEBUG == \"undefined\") ? {} : VEGA_DEBUG;\n",
       "  (function(spec, embedOpt){\n",
       "    let outputDiv = document.currentScript.previousElementSibling;\n",
       "    if (outputDiv.id !== \"altair-viz-736b8a8de5c14f3dbaca7f4c4c1c2c02\") {\n",
       "      outputDiv = document.getElementById(\"altair-viz-736b8a8de5c14f3dbaca7f4c4c1c2c02\");\n",
       "    }\n",
       "    const paths = {\n",
       "      \"vega\": \"https://cdn.jsdelivr.net/npm/vega@5?noext\",\n",
       "      \"vega-lib\": \"https://cdn.jsdelivr.net/npm/vega-lib?noext\",\n",
       "      \"vega-lite\": \"https://cdn.jsdelivr.net/npm/vega-lite@5.20.1?noext\",\n",
       "      \"vega-embed\": \"https://cdn.jsdelivr.net/npm/vega-embed@6?noext\",\n",
       "    };\n",
       "\n",
       "    function maybeLoadScript(lib, version) {\n",
       "      var key = `${lib.replace(\"-\", \"\")}_version`;\n",
       "      return (VEGA_DEBUG[key] == version) ?\n",
       "        Promise.resolve(paths[lib]) :\n",
       "        new Promise(function(resolve, reject) {\n",
       "          var s = document.createElement('script');\n",
       "          document.getElementsByTagName(\"head\")[0].appendChild(s);\n",
       "          s.async = true;\n",
       "          s.onload = () => {\n",
       "            VEGA_DEBUG[key] = version;\n",
       "            return resolve(paths[lib]);\n",
       "          };\n",
       "          s.onerror = () => reject(`Error loading script: ${paths[lib]}`);\n",
       "          s.src = paths[lib];\n",
       "        });\n",
       "    }\n",
       "\n",
       "    function showError(err) {\n",
       "      outputDiv.innerHTML = `<div class=\"error\" style=\"color:red;\">${err}</div>`;\n",
       "      throw err;\n",
       "    }\n",
       "\n",
       "    function displayChart(vegaEmbed) {\n",
       "      vegaEmbed(outputDiv, spec, embedOpt)\n",
       "        .catch(err => showError(`Javascript Error: ${err.message}<br>This usually means there's a typo in your chart specification. See the javascript console for the full traceback.`));\n",
       "    }\n",
       "\n",
       "    if(typeof define === \"function\" && define.amd) {\n",
       "      requirejs.config({paths});\n",
       "      require([\"vega-embed\"], displayChart, err => showError(`Error loading script: ${err.message}`));\n",
       "    } else {\n",
       "      maybeLoadScript(\"vega\", \"5\")\n",
       "        .then(() => maybeLoadScript(\"vega-lite\", \"5.20.1\"))\n",
       "        .then(() => maybeLoadScript(\"vega-embed\", \"6\"))\n",
       "        .catch(showError)\n",
       "        .then(() => displayChart(vegaEmbed));\n",
       "    }\n",
       "  })({\"config\": {\"view\": {\"continuousWidth\": 300, \"continuousHeight\": 300}}, \"data\": {\"name\": \"data-4f53cda18c2baa0c0354bb5f9a3ecbe5\"}, \"mark\": {\"type\": \"bar\"}, \"encoding\": {\"x\": {\"field\": \"epoch\", \"type\": \"nominal\"}, \"y\": {\"field\": \"training_loss\", \"type\": \"nominal\"}}, \"$schema\": \"https://vega.github.io/schema/vega-lite/v5.20.1.json\", \"datasets\": {\"data-4f53cda18c2baa0c0354bb5f9a3ecbe5\": []}}, {\"mode\": \"vega-lite\"});\n",
       "</script>"
      ],
      "text/plain": [
       "alt.Chart(...)"
      ]
     },
     "execution_count": 37,
     "metadata": {},
     "output_type": "execute_result"
    }
   ],
   "source": [
    "alt.Chart(pd.DataFrame(enumerate(bbc_training_losses), columns=[\"epoch\", \"training_loss\"])).mark_bar().encode(x=\"epoch\", y=\"training_loss\")"
   ]
  },
  {
   "cell_type": "markdown",
   "metadata": {},
   "source": [
    "Echemos un vistazo a los vectores de párrafo de dimensionalidad reducida."
   ]
  },
  {
   "cell_type": "code",
   "execution_count": 38,
   "metadata": {},
   "outputs": [
    {
     "data": {
      "text/plain": [
       "tensor([[-0.7366, -1.6656, -0.4883,  ...,  0.0958,  0.2259,  0.8220],\n",
       "        [ 0.1813, -0.1659,  1.5286,  ..., -1.3076,  0.1444,  1.1575],\n",
       "        [-1.4019, -1.5636, -0.5023,  ...,  0.5242, -1.1772,  0.7045],\n",
       "        ...,\n",
       "        [-0.5222, -0.9802, -0.9251,  ..., -0.1441, -1.2787,  1.9230],\n",
       "        [-0.5819,  0.3090, -1.4943,  ..., -0.4937,  0.5463, -0.7664],\n",
       "        [-0.1048, -0.8528,  0.4103,  ...,  0.9470, -1.3114,  0.2252]])"
      ]
     },
     "execution_count": 38,
     "metadata": {},
     "output_type": "execute_result"
    }
   ],
   "source": [
    "bbc_model['paragraph_matrix'].data"
   ]
  },
  {
   "cell_type": "code",
   "execution_count": 39,
   "metadata": {},
   "outputs": [
    {
     "name": "stdout",
     "output_type": "stream",
     "text": [
      "2-component PCA, explains 2.72% of variance\n"
     ]
    },
    {
     "data": {
      "text/html": [
       "\n",
       "<style>\n",
       "  #altair-viz-4fc1017f3f7b48b9bb5d4a7e85a94c06.vega-embed {\n",
       "    width: 100%;\n",
       "    display: flex;\n",
       "  }\n",
       "\n",
       "  #altair-viz-4fc1017f3f7b48b9bb5d4a7e85a94c06.vega-embed details,\n",
       "  #altair-viz-4fc1017f3f7b48b9bb5d4a7e85a94c06.vega-embed details summary {\n",
       "    position: relative;\n",
       "  }\n",
       "</style>\n",
       "<div id=\"altair-viz-4fc1017f3f7b48b9bb5d4a7e85a94c06\"></div>\n",
       "<script type=\"text/javascript\">\n",
       "  var VEGA_DEBUG = (typeof VEGA_DEBUG == \"undefined\") ? {} : VEGA_DEBUG;\n",
       "  (function(spec, embedOpt){\n",
       "    let outputDiv = document.currentScript.previousElementSibling;\n",
       "    if (outputDiv.id !== \"altair-viz-4fc1017f3f7b48b9bb5d4a7e85a94c06\") {\n",
       "      outputDiv = document.getElementById(\"altair-viz-4fc1017f3f7b48b9bb5d4a7e85a94c06\");\n",
       "    }\n",
       "    const paths = {\n",
       "      \"vega\": \"https://cdn.jsdelivr.net/npm/vega@5?noext\",\n",
       "      \"vega-lib\": \"https://cdn.jsdelivr.net/npm/vega-lib?noext\",\n",
       "      \"vega-lite\": \"https://cdn.jsdelivr.net/npm/vega-lite@5.20.1?noext\",\n",
       "      \"vega-embed\": \"https://cdn.jsdelivr.net/npm/vega-embed@6?noext\",\n",
       "    };\n",
       "\n",
       "    function maybeLoadScript(lib, version) {\n",
       "      var key = `${lib.replace(\"-\", \"\")}_version`;\n",
       "      return (VEGA_DEBUG[key] == version) ?\n",
       "        Promise.resolve(paths[lib]) :\n",
       "        new Promise(function(resolve, reject) {\n",
       "          var s = document.createElement('script');\n",
       "          document.getElementsByTagName(\"head\")[0].appendChild(s);\n",
       "          s.async = true;\n",
       "          s.onload = () => {\n",
       "            VEGA_DEBUG[key] = version;\n",
       "            return resolve(paths[lib]);\n",
       "          };\n",
       "          s.onerror = () => reject(`Error loading script: ${paths[lib]}`);\n",
       "          s.src = paths[lib];\n",
       "        });\n",
       "    }\n",
       "\n",
       "    function showError(err) {\n",
       "      outputDiv.innerHTML = `<div class=\"error\" style=\"color:red;\">${err}</div>`;\n",
       "      throw err;\n",
       "    }\n",
       "\n",
       "    function displayChart(vegaEmbed) {\n",
       "      vegaEmbed(outputDiv, spec, embedOpt)\n",
       "        .catch(err => showError(`Javascript Error: ${err.message}<br>This usually means there's a typo in your chart specification. See the javascript console for the full traceback.`));\n",
       "    }\n",
       "\n",
       "    if(typeof define === \"function\" && define.amd) {\n",
       "      requirejs.config({paths});\n",
       "      require([\"vega-embed\"], displayChart, err => showError(`Error loading script: ${err.message}`));\n",
       "    } else {\n",
       "      maybeLoadScript(\"vega\", \"5\")\n",
       "        .then(() => maybeLoadScript(\"vega-lite\", \"5.20.1\"))\n",
       "        .then(() => maybeLoadScript(\"vega-embed\", \"6\"))\n",
       "        .catch(showError)\n",
       "        .then(() => displayChart(vegaEmbed));\n",
       "    }\n",
       "  })({\"config\": {\"view\": {\"continuousWidth\": 300, \"continuousHeight\": 300}}, \"data\": {\"name\": \"data-bfe373e4c6104c1d66d031dd70532b86\"}, \"mark\": {\"type\": \"point\"}, \"encoding\": {\"color\": {\"field\": \"group\", \"type\": \"nominal\"}, \"x\": {\"field\": \"x\", \"type\": \"quantitative\"}, \"y\": {\"field\": \"y\", \"type\": \"quantitative\"}}, \"$schema\": \"https://vega.github.io/schema/vega-lite/v5.20.1.json\", \"datasets\": {\"data-bfe373e4c6104c1d66d031dd70532b86\": [{\"x\": 2.2364095625617884, \"y\": -0.9606301481520059, \"group\": \"sport\"}, {\"x\": 0.22068370235232176, \"y\": -1.3854271990952418, \"group\": \"sport\"}, {\"x\": 2.1911570454761966, \"y\": -0.7069452813838711, \"group\": \"sport\"}, {\"x\": 1.215547396171148, \"y\": 0.0790289103915479, \"group\": \"sport\"}, {\"x\": 0.6463981987368317, \"y\": 1.0843958008537151, \"group\": \"sport\"}, {\"x\": 0.7805582544827221, \"y\": -1.2419461924891648, \"group\": \"sport\"}, {\"x\": 1.9940039176839144, \"y\": -0.2783493698405953, \"group\": \"sport\"}, {\"x\": 1.4088950637205186, \"y\": -1.7107464138097337, \"group\": \"sport\"}, {\"x\": 1.2664734867390808, \"y\": 0.6151205228109107, \"group\": \"sport\"}, {\"x\": 1.1492255972505734, \"y\": -0.8469802733439137, \"group\": \"sport\"}, {\"x\": 0.5296712567049442, \"y\": 0.11858966204281395, \"group\": \"sport\"}, {\"x\": 0.5714966658236713, \"y\": -0.4085919067273049, \"group\": \"sport\"}, {\"x\": 0.9819531996447324, \"y\": -0.6111821484519608, \"group\": \"sport\"}, {\"x\": 0.3194960621564665, \"y\": 0.5391315197719861, \"group\": \"sport\"}, {\"x\": 0.774756944070194, \"y\": 0.015572078062430245, \"group\": \"sport\"}, {\"x\": 0.699034414783215, \"y\": -1.4009714875580317, \"group\": \"sport\"}, {\"x\": 1.617576848682349, \"y\": 0.33312651883168437, \"group\": \"sport\"}, {\"x\": 1.6040906081355137, \"y\": -0.22414353659928352, \"group\": \"sport\"}, {\"x\": 1.5587055540991217, \"y\": -1.5956349458131753, \"group\": \"sport\"}, {\"x\": -0.018150890876071746, \"y\": -1.122975802435035, \"group\": \"sport\"}, {\"x\": 0.9986464772734993, \"y\": -1.2886524078003443, \"group\": \"sport\"}, {\"x\": 0.6605431966014963, \"y\": -1.2337741834211622, \"group\": \"sport\"}, {\"x\": 0.4300447519961971, \"y\": -1.6982078533377694, \"group\": \"sport\"}, {\"x\": 0.628815643507727, \"y\": -0.9839615362947722, \"group\": \"sport\"}, {\"x\": 1.4896617285801832, \"y\": 0.3835678278632468, \"group\": \"sport\"}, {\"x\": 0.535966092076229, \"y\": 0.7618639337766079, \"group\": \"sport\"}, {\"x\": 0.8893230086477601, \"y\": -1.128772302052571, \"group\": \"sport\"}, {\"x\": 0.6319200010874428, \"y\": -0.3309391622790153, \"group\": \"sport\"}, {\"x\": 1.6579526169549101, \"y\": -0.24700422124746496, \"group\": \"sport\"}, {\"x\": 1.1721771785925261, \"y\": -0.7393500657518356, \"group\": \"sport\"}, {\"x\": 0.7866307761934568, \"y\": -0.8027329128506291, \"group\": \"sport\"}, {\"x\": 1.2451178573530497, \"y\": 1.3670355976946995, \"group\": \"sport\"}, {\"x\": 0.9423620854504484, \"y\": -1.266992023114559, \"group\": \"sport\"}, {\"x\": 0.7673111192422544, \"y\": -1.6122658836336585, \"group\": \"sport\"}, {\"x\": 0.503441031768064, \"y\": -1.3351071462438788, \"group\": \"sport\"}, {\"x\": 1.5894883801139996, \"y\": 0.09479781283617007, \"group\": \"sport\"}, {\"x\": 1.5523078703715167, \"y\": -0.11366902004180876, \"group\": \"sport\"}, {\"x\": 1.2248365697288086, \"y\": -0.6441681143672707, \"group\": \"sport\"}, {\"x\": 1.0872716894435623, \"y\": -0.3545685383451818, \"group\": \"sport\"}, {\"x\": 1.5302064046079946, \"y\": -0.8404364218923274, \"group\": \"sport\"}, {\"x\": 0.6522771537570689, \"y\": 0.04774298621490036, \"group\": \"sport\"}, {\"x\": 1.3810209418577106, \"y\": -1.357147591528779, \"group\": \"sport\"}, {\"x\": 1.0301514294949587, \"y\": -0.9421671842899794, \"group\": \"sport\"}, {\"x\": 1.7230614229146957, \"y\": -0.19932266835493054, \"group\": \"sport\"}, {\"x\": 1.213751692440949, \"y\": -0.21512488401874005, \"group\": \"sport\"}, {\"x\": 1.1007288945761369, \"y\": 1.1653064370398298, \"group\": \"sport\"}, {\"x\": 1.2106606064762524, \"y\": -0.6372476053162739, \"group\": \"sport\"}, {\"x\": 2.9067935847089315, \"y\": -2.02477150073294, \"group\": \"sport\"}, {\"x\": 1.6994317212340304, \"y\": -0.3113202665732482, \"group\": \"sport\"}, {\"x\": 1.485960498265264, \"y\": -1.4319643708868628, \"group\": \"sport\"}, {\"x\": 1.4063072892113755, \"y\": -1.1854748953566314, \"group\": \"sport\"}, {\"x\": 0.7159557675792716, \"y\": 0.23084906482942763, \"group\": \"sport\"}, {\"x\": 1.0293742236752892, \"y\": -0.7268372919605871, \"group\": \"sport\"}, {\"x\": 1.0487231161403674, \"y\": 0.12485391411833888, \"group\": \"sport\"}, {\"x\": 2.032166662189059, \"y\": -1.767666295850133, \"group\": \"sport\"}, {\"x\": 0.7707121381333233, \"y\": -1.2496679332292748, \"group\": \"sport\"}, {\"x\": 1.3587180863515176, \"y\": -1.672513811745998, \"group\": \"sport\"}, {\"x\": 1.6161258422713196, \"y\": 0.7680266612487912, \"group\": \"sport\"}, {\"x\": 0.7437466328713465, \"y\": 0.2541692443365419, \"group\": \"sport\"}, {\"x\": 2.13195695234826, \"y\": -0.1924291198859901, \"group\": \"sport\"}, {\"x\": 1.8858503372114273, \"y\": -0.361980292828396, \"group\": \"sport\"}, {\"x\": 1.011319499604954, \"y\": -1.2588690470378947, \"group\": \"sport\"}, {\"x\": 0.728235133769938, \"y\": 0.02190300885239911, \"group\": \"sport\"}, {\"x\": 1.4392851304363337, \"y\": 0.24601290907317847, \"group\": \"sport\"}, {\"x\": 1.190780288018554, \"y\": -0.32940635662882417, \"group\": \"sport\"}, {\"x\": 0.9282816501808231, \"y\": -0.16652782470357305, \"group\": \"sport\"}, {\"x\": 1.0835158318719917, \"y\": -0.22540254054282066, \"group\": \"sport\"}, {\"x\": 1.3973713224798279, \"y\": -1.110492194939096, \"group\": \"sport\"}, {\"x\": 1.3994715932698496, \"y\": 1.3488461484531638, \"group\": \"sport\"}, {\"x\": 0.8208277614863415, \"y\": 0.4560779341576289, \"group\": \"sport\"}, {\"x\": 0.44699873607242474, \"y\": -2.262609770130417, \"group\": \"sport\"}, {\"x\": 1.5423431388625342, \"y\": -0.8297073636889326, \"group\": \"sport\"}, {\"x\": 1.3039983787866174, \"y\": -0.8082375705916339, \"group\": \"sport\"}, {\"x\": 1.3346561411145408, \"y\": -0.8252344685408035, \"group\": \"sport\"}, {\"x\": 2.2558200008325944, \"y\": 0.4577842678176593, \"group\": \"sport\"}, {\"x\": 0.728273707456254, \"y\": 1.1047382210838235, \"group\": \"sport\"}, {\"x\": 1.0774288019287115, \"y\": -0.020405253990569014, \"group\": \"sport\"}, {\"x\": 1.7008808342344701, \"y\": -1.4776759266359494, \"group\": \"sport\"}, {\"x\": 0.7505623397352421, \"y\": -1.3922448251998323, \"group\": \"sport\"}, {\"x\": 0.6891647646821573, \"y\": 0.9724240842914221, \"group\": \"sport\"}, {\"x\": 1.286321767548356, \"y\": -0.7068802448749569, \"group\": \"sport\"}, {\"x\": 0.8760841127858248, \"y\": 0.3213017022222075, \"group\": \"sport\"}, {\"x\": 2.262004975618522, \"y\": -0.3603990157092863, \"group\": \"sport\"}, {\"x\": 1.1230544035684504, \"y\": 1.0615574302182897, \"group\": \"sport\"}, {\"x\": 1.5300742656179493, \"y\": -1.293525609212455, \"group\": \"sport\"}, {\"x\": 1.2266434376268562, \"y\": -0.5838488538751044, \"group\": \"sport\"}, {\"x\": -0.036034089651717116, \"y\": -0.15228119900704898, \"group\": \"sport\"}, {\"x\": 1.3370844804528872, \"y\": -0.5421486663353493, \"group\": \"sport\"}, {\"x\": 1.6298683970967205, \"y\": -1.1982074515843215, \"group\": \"sport\"}, {\"x\": 1.4833103435682897, \"y\": 0.45820430906777715, \"group\": \"sport\"}, {\"x\": 0.4976665349022294, \"y\": 0.45024528645064615, \"group\": \"sport\"}, {\"x\": 0.3588158892719469, \"y\": 0.05602632960413204, \"group\": \"sport\"}, {\"x\": 0.7882192385758049, \"y\": -0.09381608885096047, \"group\": \"sport\"}, {\"x\": 2.214981953492635, \"y\": -1.2465700908612447, \"group\": \"sport\"}, {\"x\": 1.4119893454576173, \"y\": -1.001247229135353, \"group\": \"sport\"}, {\"x\": 1.8031318364723785, \"y\": -1.442963148808389, \"group\": \"sport\"}, {\"x\": 0.7033428392798184, \"y\": 1.0679234978547538, \"group\": \"sport\"}, {\"x\": 0.9600307606252436, \"y\": -0.4890192274767246, \"group\": \"sport\"}, {\"x\": 0.13197512127467426, \"y\": 1.9698389397119533, \"group\": \"sport\"}, {\"x\": 1.0868724816805904, \"y\": -0.2652398859141763, \"group\": \"sport\"}, {\"x\": 0.6576245131980405, \"y\": 1.3591785568851893, \"group\": \"sport\"}, {\"x\": 1.7077632467517914, \"y\": -1.6611592353739661, \"group\": \"sport\"}, {\"x\": 1.0813017912409324, \"y\": 0.8686328339818036, \"group\": \"sport\"}, {\"x\": 0.7237485996411901, \"y\": -0.9165226261223515, \"group\": \"sport\"}, {\"x\": 0.8187418588149626, \"y\": -1.2309804251015908, \"group\": \"sport\"}, {\"x\": 0.08061892000814208, \"y\": 1.3781803754477762, \"group\": \"sport\"}, {\"x\": 1.0020719033876935, \"y\": -0.6745105361717634, \"group\": \"sport\"}, {\"x\": 0.4582370294653227, \"y\": -0.5392703864972334, \"group\": \"sport\"}, {\"x\": 0.7091280422606989, \"y\": 1.0406073938929343, \"group\": \"sport\"}, {\"x\": 0.5515585278354644, \"y\": -0.31063322586840986, \"group\": \"sport\"}, {\"x\": 0.8686365979364419, \"y\": -0.6855088007260813, \"group\": \"sport\"}, {\"x\": 1.623829638302991, \"y\": 0.4703689349575516, \"group\": \"sport\"}, {\"x\": 0.5629409829497491, \"y\": 0.36330706087859016, \"group\": \"sport\"}, {\"x\": 1.53128131232831, \"y\": -0.0836289582850874, \"group\": \"sport\"}, {\"x\": 0.5622668155897117, \"y\": 0.3930580223033297, \"group\": \"sport\"}, {\"x\": 1.5806083908876254, \"y\": 0.2512870967164413, \"group\": \"sport\"}, {\"x\": 1.5189325157727827, \"y\": -0.12995423762304836, \"group\": \"sport\"}, {\"x\": 1.526029116860734, \"y\": -0.8060581748381155, \"group\": \"sport\"}, {\"x\": 0.8969887777810663, \"y\": -0.6250610793960927, \"group\": \"sport\"}, {\"x\": 0.24247333080805894, \"y\": 0.8252338638705771, \"group\": \"sport\"}, {\"x\": 1.9132464709241086, \"y\": -1.0608736111468677, \"group\": \"sport\"}, {\"x\": 0.0433505798415279, \"y\": -0.4782822061766363, \"group\": \"sport\"}, {\"x\": 0.7007179642170303, \"y\": 2.502183173683806, \"group\": \"sport\"}, {\"x\": 1.1505229786834816, \"y\": 0.4039405669667936, \"group\": \"sport\"}, {\"x\": 1.7605882240143287, \"y\": 0.1973054342832888, \"group\": \"sport\"}, {\"x\": 0.32550527207832, \"y\": 0.9753603419380924, \"group\": \"sport\"}, {\"x\": 0.9475122605454587, \"y\": 0.18126720442619507, \"group\": \"sport\"}, {\"x\": 1.607359506667518, \"y\": 0.36889191469841626, \"group\": \"sport\"}, {\"x\": 1.1128508278860996, \"y\": 0.5447631989820021, \"group\": \"sport\"}, {\"x\": 1.1757326384462308, \"y\": -0.4319806718031107, \"group\": \"sport\"}, {\"x\": 0.8565633999080258, \"y\": -0.5817301332299792, \"group\": \"sport\"}, {\"x\": 1.1920938051407197, \"y\": -1.3086222779771035, \"group\": \"sport\"}, {\"x\": 2.2955293596170008, \"y\": 0.6913343465608272, \"group\": \"sport\"}, {\"x\": 0.735776849714435, \"y\": 1.1468802361383474, \"group\": \"sport\"}, {\"x\": 0.5276044108158824, \"y\": 0.2658988618817444, \"group\": \"sport\"}, {\"x\": 1.7288694256672508, \"y\": -1.555318448617943, \"group\": \"sport\"}, {\"x\": 0.5503425514339135, \"y\": 0.48808161503793945, \"group\": \"sport\"}, {\"x\": 0.8992097300635538, \"y\": 0.8126985751013788, \"group\": \"sport\"}, {\"x\": 1.0591253068809883, \"y\": 0.9939175715727686, \"group\": \"sport\"}, {\"x\": 0.9368844805162018, \"y\": 1.7269136510987102, \"group\": \"sport\"}, {\"x\": 1.6593478309461465, \"y\": 0.3005283000621697, \"group\": \"sport\"}, {\"x\": 0.5008395307983922, \"y\": 0.25554854910075864, \"group\": \"sport\"}, {\"x\": 0.35308636404755306, \"y\": 0.06746367733118004, \"group\": \"sport\"}, {\"x\": 0.9909567556351346, \"y\": 0.24981344680840278, \"group\": \"sport\"}, {\"x\": 1.488032993837123, \"y\": -0.35524394499852785, \"group\": \"sport\"}, {\"x\": 0.4327209010212087, \"y\": 1.3867132929799846, \"group\": \"sport\"}, {\"x\": 1.249575521834099, \"y\": -0.3422436351934666, \"group\": \"sport\"}, {\"x\": 0.3956180079495634, \"y\": -0.20413223478903536, \"group\": \"sport\"}, {\"x\": 1.5224252953920536, \"y\": 0.2761763968191365, \"group\": \"sport\"}, {\"x\": 0.9583758143251835, \"y\": 0.08966805464392649, \"group\": \"sport\"}, {\"x\": 0.3197305767567334, \"y\": 1.7420026059167641, \"group\": \"sport\"}, {\"x\": 0.3744714402493489, \"y\": 0.4075305174661526, \"group\": \"sport\"}, {\"x\": 0.9544692597873619, \"y\": -0.0007564327460792882, \"group\": \"sport\"}, {\"x\": 1.3360557392610255, \"y\": -0.9285681196505999, \"group\": \"sport\"}, {\"x\": 1.2270120347196352, \"y\": 0.7653787648348569, \"group\": \"sport\"}, {\"x\": 1.116338573996412, \"y\": -0.015528982507622928, \"group\": \"sport\"}, {\"x\": 0.8174734927150666, \"y\": 0.11732001724629743, \"group\": \"sport\"}, {\"x\": 1.0626959143760233, \"y\": -0.33591999768314745, \"group\": \"sport\"}, {\"x\": 1.4077326992703483, \"y\": 0.2373407246555697, \"group\": \"sport\"}, {\"x\": 1.0843149659630178, \"y\": 0.186182906082526, \"group\": \"sport\"}, {\"x\": 1.0341279755935602, \"y\": -0.3327366997807167, \"group\": \"sport\"}, {\"x\": 2.05819131876494, \"y\": -0.1645105020169157, \"group\": \"sport\"}, {\"x\": 1.2531451520422203, \"y\": -0.43378072231436904, \"group\": \"sport\"}, {\"x\": 1.305988899616563, \"y\": -1.5165447458487014, \"group\": \"sport\"}, {\"x\": 1.1549137080845242, \"y\": 1.7962433480399158, \"group\": \"sport\"}, {\"x\": 1.9885749628366103, \"y\": 0.6468197948043529, \"group\": \"sport\"}, {\"x\": 0.9042268003480705, \"y\": 0.42669746709172, \"group\": \"sport\"}, {\"x\": 0.7603162451528156, \"y\": -1.5564139656393927, \"group\": \"sport\"}, {\"x\": 2.1123400072670013, \"y\": 0.5979578370198612, \"group\": \"sport\"}, {\"x\": 1.4470468259357256, \"y\": -0.8387808098291688, \"group\": \"sport\"}, {\"x\": 0.8344113762922727, \"y\": -0.3961601537647747, \"group\": \"sport\"}, {\"x\": 1.0052708899005116, \"y\": -0.7334304309180999, \"group\": \"sport\"}, {\"x\": 1.2807905867587717, \"y\": 0.09969246570732657, \"group\": \"sport\"}, {\"x\": 0.8147242909863928, \"y\": -1.0759892424036048, \"group\": \"sport\"}, {\"x\": 0.769432436756478, \"y\": 1.0033002791190337, \"group\": \"sport\"}, {\"x\": 1.2513314907135886, \"y\": 0.2892434621286348, \"group\": \"sport\"}, {\"x\": 1.0020546954647058, \"y\": -0.06128164906121984, \"group\": \"sport\"}, {\"x\": 1.2199670301307883, \"y\": 0.46573410186061526, \"group\": \"sport\"}, {\"x\": 0.7246514429970545, \"y\": 1.4279096032369023, \"group\": \"sport\"}, {\"x\": 1.6920314189955086, \"y\": 0.9768647634599503, \"group\": \"sport\"}, {\"x\": 1.0862483736083044, \"y\": -0.7427418203405967, \"group\": \"sport\"}, {\"x\": 0.05625372919422328, \"y\": 1.9799951695839977, \"group\": \"sport\"}, {\"x\": 0.5932642382460249, \"y\": 0.26061392304047676, \"group\": \"sport\"}, {\"x\": 1.4836014948488905, \"y\": 0.0689027007558616, \"group\": \"sport\"}, {\"x\": 0.7998047086776512, \"y\": 0.8524863625344528, \"group\": \"sport\"}, {\"x\": 1.1632319640830704, \"y\": 0.7189466371946617, \"group\": \"sport\"}, {\"x\": 0.2514576308560132, \"y\": -0.1883702849978831, \"group\": \"sport\"}, {\"x\": 0.6622718833049792, \"y\": -0.6739170694985712, \"group\": \"sport\"}, {\"x\": 1.4603149418605097, \"y\": 0.9688972391038285, \"group\": \"sport\"}, {\"x\": 1.223286319988041, \"y\": -0.709976976145108, \"group\": \"sport\"}, {\"x\": 0.8653968260918863, \"y\": -0.47734270458548705, \"group\": \"sport\"}, {\"x\": 1.0468024239359985, \"y\": -0.5196880523964577, \"group\": \"sport\"}, {\"x\": 1.2076117023221404, \"y\": -0.07231175805781116, \"group\": \"sport\"}, {\"x\": 1.7638533804615144, \"y\": -0.3040312194209854, \"group\": \"sport\"}, {\"x\": 0.5759006601300325, \"y\": 0.13783488081483325, \"group\": \"sport\"}, {\"x\": 0.9614184476400967, \"y\": 0.3104570305519341, \"group\": \"sport\"}, {\"x\": 1.1408068816963264, \"y\": 1.7746632054155835, \"group\": \"sport\"}, {\"x\": 0.8710022475870542, \"y\": 0.954502918282062, \"group\": \"sport\"}, {\"x\": 0.9269380895337413, \"y\": -0.9626672730729376, \"group\": \"sport\"}, {\"x\": -0.32509023128431463, \"y\": 0.6141567650917505, \"group\": \"sport\"}, {\"x\": 0.5856478418782392, \"y\": -1.0770374062998247, \"group\": \"sport\"}, {\"x\": 0.7536630633749521, \"y\": -0.007185275119411021, \"group\": \"sport\"}, {\"x\": 1.2288015020216791, \"y\": 0.1964222460273149, \"group\": \"sport\"}, {\"x\": 1.4697681835756973, \"y\": 0.22644251051223077, \"group\": \"sport\"}, {\"x\": 0.7242540690449706, \"y\": 2.1874116419590948, \"group\": \"sport\"}, {\"x\": 0.8646720277931936, \"y\": -0.5406843640066109, \"group\": \"sport\"}, {\"x\": 0.30594136396095023, \"y\": 0.024283788524605103, \"group\": \"sport\"}, {\"x\": 0.22587459514284652, \"y\": -0.7876306547717953, \"group\": \"sport\"}, {\"x\": 1.4529194519582607, \"y\": 1.05223472792153, \"group\": \"sport\"}, {\"x\": 0.21862830872043731, \"y\": 0.5846835735484522, \"group\": \"sport\"}, {\"x\": 1.3699062100248258, \"y\": 0.7660427322309536, \"group\": \"sport\"}, {\"x\": 0.8923486759419161, \"y\": 0.8204837398538544, \"group\": \"sport\"}, {\"x\": 0.33464260922684425, \"y\": -0.12527658838205322, \"group\": \"sport\"}, {\"x\": 0.9868588566333658, \"y\": 2.5880136769912743, \"group\": \"sport\"}, {\"x\": 1.104383496677511, \"y\": 0.5572034801693302, \"group\": \"sport\"}, {\"x\": 0.4501219995539813, \"y\": 0.8461662989155272, \"group\": \"sport\"}, {\"x\": 0.9835686170246578, \"y\": 0.987305043367799, \"group\": \"sport\"}, {\"x\": 1.7297194544719363, \"y\": 0.34654659674614213, \"group\": \"sport\"}, {\"x\": 1.3502705032240954, \"y\": 0.45558103247317, \"group\": \"sport\"}, {\"x\": 0.6168421082055133, \"y\": -0.8214141184455916, \"group\": \"sport\"}, {\"x\": 1.364438527827024, \"y\": 0.1377325658953165, \"group\": \"sport\"}, {\"x\": 0.8787183521252515, \"y\": 0.12862945549122612, \"group\": \"sport\"}, {\"x\": 1.0565600521798832, \"y\": 1.3883871885698789, \"group\": \"sport\"}, {\"x\": 1.690048200347885, \"y\": 0.3425027682888963, \"group\": \"sport\"}, {\"x\": 1.2478190718044386, \"y\": -0.0443064880024324, \"group\": \"sport\"}, {\"x\": 1.1160611469041988, \"y\": 0.37460272599655353, \"group\": \"sport\"}, {\"x\": 0.24165178054476827, \"y\": -0.4887741278671401, \"group\": \"sport\"}, {\"x\": 0.11387866678921205, \"y\": 1.0430193774592682, \"group\": \"sport\"}, {\"x\": 0.5939559690194824, \"y\": -0.44442048843528775, \"group\": \"sport\"}, {\"x\": 1.558526555000173, \"y\": -0.06566172101212335, \"group\": \"sport\"}, {\"x\": 0.9533839607187982, \"y\": -1.7027200768208057, \"group\": \"sport\"}, {\"x\": 1.0246458387380768, \"y\": -0.6890847992691735, \"group\": \"sport\"}, {\"x\": 1.7724817912993869, \"y\": -0.5818366181549719, \"group\": \"sport\"}, {\"x\": 0.60056634557265, \"y\": 1.325084858181669, \"group\": \"sport\"}, {\"x\": 0.42341590746818186, \"y\": -0.6991809471024977, \"group\": \"sport\"}, {\"x\": 0.1798428591609889, \"y\": -0.9901545797494583, \"group\": \"sport\"}, {\"x\": 0.7069735073178958, \"y\": -0.9817458517825411, \"group\": \"sport\"}, {\"x\": 0.30677798139569284, \"y\": -0.02348418358259502, \"group\": \"sport\"}, {\"x\": -0.017463549300581804, \"y\": -0.32076290072181307, \"group\": \"sport\"}, {\"x\": 0.5292214268204283, \"y\": 2.1384161969939113, \"group\": \"sport\"}, {\"x\": 0.4020463226566548, \"y\": 0.09774826573011422, \"group\": \"sport\"}, {\"x\": 0.5144107618633056, \"y\": 1.1597545624700858, \"group\": \"sport\"}, {\"x\": 0.9489696172154152, \"y\": -0.13835278953300162, \"group\": \"sport\"}, {\"x\": 0.9803772997401519, \"y\": -1.773792554214666, \"group\": \"sport\"}, {\"x\": 1.255490987169843, \"y\": -0.26516634948253087, \"group\": \"sport\"}, {\"x\": 1.19866340883006, \"y\": -0.21822632574558518, \"group\": \"sport\"}, {\"x\": 1.4145044033819774, \"y\": 0.25600630380742356, \"group\": \"sport\"}, {\"x\": 0.8957423596302643, \"y\": -0.9942396892827684, \"group\": \"sport\"}, {\"x\": 0.9013331605721349, \"y\": -0.5489798584055579, \"group\": \"sport\"}, {\"x\": 0.8596779648053616, \"y\": -0.5050901135345653, \"group\": \"sport\"}, {\"x\": 1.4452646756292766, \"y\": 0.9473833514601883, \"group\": \"sport\"}, {\"x\": 0.73708964630837, \"y\": 0.7458348714620271, \"group\": \"sport\"}, {\"x\": 1.3024349274824216, \"y\": -0.6864123575572487, \"group\": \"sport\"}, {\"x\": 1.6895278902279443, \"y\": 0.619064351184807, \"group\": \"sport\"}, {\"x\": 0.9204624289150956, \"y\": -0.6034895472396122, \"group\": \"sport\"}, {\"x\": 0.93950018095737, \"y\": -0.9239554162313709, \"group\": \"sport\"}, {\"x\": 0.7368600606224152, \"y\": 0.9157103474191921, \"group\": \"sport\"}, {\"x\": 1.3443858885420055, \"y\": -0.14483928289294135, \"group\": \"sport\"}, {\"x\": 0.6577631074623602, \"y\": -0.7976816523209326, \"group\": \"sport\"}, {\"x\": 1.2800579656029862, \"y\": -0.8229648091115239, \"group\": \"sport\"}, {\"x\": 0.5976028188098552, \"y\": -0.890870791858145, \"group\": \"sport\"}, {\"x\": 1.3066949963999215, \"y\": 0.916253284530907, \"group\": \"sport\"}, {\"x\": 0.943283311344435, \"y\": -1.0279402221914458, \"group\": \"sport\"}, {\"x\": 1.0746957571813642, \"y\": -0.29741789238859134, \"group\": \"sport\"}, {\"x\": 0.7819639204887414, \"y\": 0.17605846328515476, \"group\": \"sport\"}, {\"x\": 0.746527852353406, \"y\": -0.9835987634142669, \"group\": \"sport\"}, {\"x\": 0.24826238578210852, \"y\": -0.11830091156433727, \"group\": \"sport\"}, {\"x\": 0.3075204019959849, \"y\": -1.9416272854035763, \"group\": \"sport\"}, {\"x\": 0.8642674596647184, \"y\": -0.9885485712183818, \"group\": \"sport\"}, {\"x\": 1.774347863117117, \"y\": 0.4442112435307819, \"group\": \"sport\"}, {\"x\": 0.5751293843606782, \"y\": 1.6815985311941217, \"group\": \"sport\"}, {\"x\": 1.0399209487914567, \"y\": 0.5584312891047544, \"group\": \"sport\"}, {\"x\": 0.9256402488195765, \"y\": -0.5692036663903949, \"group\": \"sport\"}, {\"x\": 0.11334253240207198, \"y\": 0.46179405363592146, \"group\": \"sport\"}, {\"x\": 0.49301241568397464, \"y\": -0.42965724741335865, \"group\": \"sport\"}, {\"x\": 1.1608370949371654, \"y\": -0.5168916627439601, \"group\": \"sport\"}, {\"x\": 0.6582657626261899, \"y\": -1.2574842587313753, \"group\": \"sport\"}, {\"x\": 1.1763574870339493, \"y\": 0.08637272782335208, \"group\": \"sport\"}, {\"x\": 1.024649359736886, \"y\": 0.9551686457013498, \"group\": \"sport\"}, {\"x\": 1.298149238405137, \"y\": -0.4009207929936162, \"group\": \"sport\"}, {\"x\": 0.4679306002450853, \"y\": 0.4628512338986929, \"group\": \"sport\"}, {\"x\": 0.3373226738944098, \"y\": -0.3370800604257955, \"group\": \"sport\"}, {\"x\": 0.6682863056820583, \"y\": 0.37082498450413526, \"group\": \"sport\"}, {\"x\": 0.49485444536204376, \"y\": -0.5151492167729587, \"group\": \"sport\"}, {\"x\": 0.8362658138310668, \"y\": 1.256322427995239, \"group\": \"sport\"}, {\"x\": 1.7853798368874156, \"y\": -0.0269722251325804, \"group\": \"sport\"}, {\"x\": 1.0615544714767025, \"y\": 0.14938277017430143, \"group\": \"sport\"}, {\"x\": 0.72009760468288, \"y\": -0.10304922251328134, \"group\": \"sport\"}, {\"x\": 0.5336923872716082, \"y\": 1.1745960148676748, \"group\": \"sport\"}, {\"x\": 0.26532416835728184, \"y\": 0.16638601172511508, \"group\": \"sport\"}, {\"x\": 1.3783651862869801, \"y\": -1.239331307291975, \"group\": \"sport\"}, {\"x\": 0.9734050622399975, \"y\": -0.22175722508464127, \"group\": \"sport\"}, {\"x\": 0.5714851131694734, \"y\": 0.19927583685311004, \"group\": \"sport\"}, {\"x\": 0.969046368629662, \"y\": 0.24073427010176615, \"group\": \"sport\"}, {\"x\": 0.7123914640932543, \"y\": -0.06694491109394854, \"group\": \"sport\"}, {\"x\": 1.1243525534645449, \"y\": -0.3442547766641571, \"group\": \"sport\"}, {\"x\": 1.0147789372800955, \"y\": -0.010667723584178139, \"group\": \"sport\"}, {\"x\": 0.5606508607673129, \"y\": 0.4666042578478573, \"group\": \"sport\"}, {\"x\": 1.3614239573051743, \"y\": 0.9809474758630186, \"group\": \"sport\"}, {\"x\": 0.6501293055783541, \"y\": 0.08008112415316694, \"group\": \"sport\"}, {\"x\": 0.9308091301762491, \"y\": -1.799391596929552, \"group\": \"sport\"}, {\"x\": 1.254552862173891, \"y\": -0.32619857096477123, \"group\": \"sport\"}, {\"x\": 1.415026466830902, \"y\": 0.7148355752749693, \"group\": \"sport\"}, {\"x\": 0.8334022402637631, \"y\": 0.36969224912494075, \"group\": \"sport\"}, {\"x\": 0.13651703060044978, \"y\": 0.7994541142290399, \"group\": \"sport\"}, {\"x\": 0.8003007106813398, \"y\": 0.5926569199057024, \"group\": \"sport\"}, {\"x\": 1.0353939470803053, \"y\": -1.8511337038988014, \"group\": \"sport\"}, {\"x\": 0.9281367648052905, \"y\": 0.5006585251860873, \"group\": \"sport\"}, {\"x\": 1.0467368378121111, \"y\": -0.560679536175319, \"group\": \"sport\"}, {\"x\": 0.8902403849797043, \"y\": 1.2026815934444441, \"group\": \"sport\"}, {\"x\": 1.1272148753945277, \"y\": 0.16321958903929168, \"group\": \"sport\"}, {\"x\": 1.5813944640890487, \"y\": 1.1358615246250148, \"group\": \"sport\"}, {\"x\": 0.8791092339199782, \"y\": -0.38833239151509197, \"group\": \"sport\"}, {\"x\": 1.225400257497576, \"y\": -0.42190130548535965, \"group\": \"sport\"}, {\"x\": 1.1568425503014605, \"y\": -1.676658665469142, \"group\": \"sport\"}, {\"x\": 0.7556809972183363, \"y\": -1.2314500907099826, \"group\": \"sport\"}, {\"x\": 0.9377214774571192, \"y\": 0.28847737292697984, \"group\": \"sport\"}, {\"x\": 0.9718247685806409, \"y\": -1.3168847688642866, \"group\": \"sport\"}, {\"x\": 1.0671599356182797, \"y\": 2.4006409680355234, \"group\": \"sport\"}, {\"x\": 0.9007865479682917, \"y\": -0.12910217281126413, \"group\": \"sport\"}, {\"x\": 0.9993556826938874, \"y\": -0.04046409545036722, \"group\": \"sport\"}, {\"x\": 0.15985287463651393, \"y\": 0.17601459626878496, \"group\": \"sport\"}, {\"x\": 0.5644106440215155, \"y\": -1.3083725245285678, \"group\": \"sport\"}, {\"x\": 2.001839032488453, \"y\": -0.3743210363226279, \"group\": \"sport\"}, {\"x\": 0.6907685911582269, \"y\": 1.3232761887356297, \"group\": \"sport\"}, {\"x\": 0.8849749730453242, \"y\": 0.3157265506087284, \"group\": \"sport\"}, {\"x\": 1.187037876983159, \"y\": 0.31684215330397647, \"group\": \"sport\"}, {\"x\": 1.5575517944979775, \"y\": 0.16137547930128124, \"group\": \"sport\"}, {\"x\": 1.2697743706737221, \"y\": -0.4168811741670134, \"group\": \"sport\"}, {\"x\": 1.0940080604487321, \"y\": 0.07608829265649829, \"group\": \"sport\"}, {\"x\": 0.15769741462920656, \"y\": 0.3121037133593382, \"group\": \"sport\"}, {\"x\": 1.325395094862813, \"y\": 0.20159693099141823, \"group\": \"sport\"}, {\"x\": 1.28139650225988, \"y\": 0.401344112907089, \"group\": \"sport\"}, {\"x\": 0.3313212994661198, \"y\": -0.7554351894265238, \"group\": \"sport\"}, {\"x\": 1.1069723032444831, \"y\": 1.9403231601260558, \"group\": \"sport\"}, {\"x\": 0.23391422056267436, \"y\": -0.9309758103068538, \"group\": \"sport\"}, {\"x\": 0.975515634124382, \"y\": -1.0078326046687716, \"group\": \"sport\"}, {\"x\": 1.321857102719407, \"y\": 1.2341526135262473, \"group\": \"sport\"}, {\"x\": 1.166485494560752, \"y\": -1.8006041728296658, \"group\": \"sport\"}, {\"x\": 1.1752521436260959, \"y\": -0.2715447342056792, \"group\": \"sport\"}, {\"x\": 1.7551552663621939, \"y\": -0.14986369452295592, \"group\": \"sport\"}, {\"x\": 1.507997940588814, \"y\": 0.16861534780820012, \"group\": \"sport\"}, {\"x\": 1.281603180637641, \"y\": 1.0278931571330627, \"group\": \"sport\"}, {\"x\": 0.8687153500390987, \"y\": 1.2653486245071168, \"group\": \"sport\"}, {\"x\": 1.6674347289357734, \"y\": -1.3691067207956407, \"group\": \"sport\"}, {\"x\": 0.3207275500348505, \"y\": 1.0452452070120968, \"group\": \"sport\"}, {\"x\": 0.23342784846903059, \"y\": 0.6978262291910083, \"group\": \"sport\"}, {\"x\": 0.3856900029744364, \"y\": -0.04717598376286419, \"group\": \"sport\"}, {\"x\": 0.8425779347791269, \"y\": -0.2167353578139297, \"group\": \"sport\"}, {\"x\": 0.6370949378265411, \"y\": 1.8332476588283997, \"group\": \"sport\"}, {\"x\": 0.6644865306900496, \"y\": 1.101639376936424, \"group\": \"sport\"}, {\"x\": 1.0323554549225193, \"y\": -1.5907648005805306, \"group\": \"sport\"}, {\"x\": 0.6522675394052377, \"y\": -0.7288276923768945, \"group\": \"sport\"}, {\"x\": 1.5449118308542757, \"y\": -1.7479295255998784, \"group\": \"sport\"}, {\"x\": 0.6479746842230905, \"y\": -0.9804224027422935, \"group\": \"sport\"}, {\"x\": 1.2131784546093338, \"y\": 0.8408314463121855, \"group\": \"sport\"}, {\"x\": 0.10387739055229922, \"y\": -0.7527002783339488, \"group\": \"sport\"}, {\"x\": 0.4478419133985559, \"y\": -0.03450626742970049, \"group\": \"sport\"}, {\"x\": 0.7797439233066137, \"y\": 1.3495426057279967, \"group\": \"sport\"}, {\"x\": 0.9059905780727397, \"y\": -1.1387128090594607, \"group\": \"sport\"}, {\"x\": 0.37571197817526575, \"y\": 0.7460715133554549, \"group\": \"sport\"}, {\"x\": 0.6342094537551368, \"y\": -3.094418786554633, \"group\": \"sport\"}, {\"x\": 0.2737873829796141, \"y\": -0.6263693939007182, \"group\": \"sport\"}, {\"x\": 0.7084438834032083, \"y\": 0.8681475614268116, \"group\": \"sport\"}, {\"x\": 0.4517365731768634, \"y\": -0.42026696416209236, \"group\": \"sport\"}, {\"x\": 1.2443780795409445, \"y\": -0.1805398465249981, \"group\": \"sport\"}, {\"x\": 1.306523813866886, \"y\": -1.1662655514651412, \"group\": \"sport\"}, {\"x\": 0.592753193960394, \"y\": 1.2607678247349154, \"group\": \"sport\"}, {\"x\": 0.7542130233008277, \"y\": -0.9417074056224468, \"group\": \"sport\"}, {\"x\": 0.3310514736582954, \"y\": 0.47148668167425245, \"group\": \"sport\"}, {\"x\": 0.25883059797657565, \"y\": 0.6213601497961305, \"group\": \"sport\"}, {\"x\": 0.6724563118727835, \"y\": -0.574314257517098, \"group\": \"sport\"}, {\"x\": 0.5996922281563157, \"y\": 0.34741633099125957, \"group\": \"sport\"}, {\"x\": 1.1592337430393913, \"y\": 0.7349634525856422, \"group\": \"sport\"}, {\"x\": 0.33537024221785766, \"y\": -0.759859496370672, \"group\": \"sport\"}, {\"x\": 0.8533784172139998, \"y\": 1.6562477057682237, \"group\": \"sport\"}, {\"x\": 1.7778772379618055, \"y\": -0.21036495448075193, \"group\": \"sport\"}, {\"x\": 0.745765186720059, \"y\": 0.255635051591695, \"group\": \"sport\"}, {\"x\": 0.8914593409973752, \"y\": 0.014549718140099808, \"group\": \"sport\"}, {\"x\": 1.0159542382499815, \"y\": 0.06807153298481378, \"group\": \"sport\"}, {\"x\": 0.8391537024405096, \"y\": -0.22603239566928607, \"group\": \"sport\"}, {\"x\": 1.0082903212524, \"y\": -0.31444178124695027, \"group\": \"sport\"}, {\"x\": 0.532509307409351, \"y\": 0.7543694834912993, \"group\": \"sport\"}, {\"x\": -0.10637158800660249, \"y\": 1.4927756248283168, \"group\": \"sport\"}, {\"x\": 1.0757789046945851, \"y\": -1.7837377349192907, \"group\": \"sport\"}, {\"x\": 0.8581100336745513, \"y\": 1.4540096006970467, \"group\": \"sport\"}, {\"x\": 1.655613764075721, \"y\": -0.42946553927171754, \"group\": \"sport\"}, {\"x\": 1.1919427930995892, \"y\": 0.17323342996363575, \"group\": \"sport\"}, {\"x\": 0.8735488812752654, \"y\": -0.3350082577300673, \"group\": \"sport\"}, {\"x\": 1.924380015883926, \"y\": -0.5016950222680457, \"group\": \"sport\"}, {\"x\": 1.5916476708782026, \"y\": 0.2815120089844273, \"group\": \"sport\"}, {\"x\": 0.9103846200809784, \"y\": 0.41253420622922005, \"group\": \"sport\"}, {\"x\": 1.3967774477698411, \"y\": -0.6221569713376133, \"group\": \"sport\"}, {\"x\": 0.22391797051157442, \"y\": -0.18373565489765237, \"group\": \"sport\"}, {\"x\": 0.6091621217521144, \"y\": -0.028897413487815757, \"group\": \"sport\"}, {\"x\": -0.08934226814906324, \"y\": -0.43813685940511693, \"group\": \"sport\"}, {\"x\": 0.48994246094836796, \"y\": -0.8834677832718504, \"group\": \"sport\"}, {\"x\": 0.5348553900201647, \"y\": 0.9291853997086876, \"group\": \"sport\"}, {\"x\": 1.2613183347788348, \"y\": -0.6554287402273122, \"group\": \"sport\"}, {\"x\": 1.732150575554698, \"y\": 0.12265550705292613, \"group\": \"sport\"}, {\"x\": 1.0557135019419126, \"y\": -0.4617588501379002, \"group\": \"sport\"}, {\"x\": 2.286846488795021, \"y\": -2.446677046198195, \"group\": \"sport\"}, {\"x\": 1.2716072308718007, \"y\": -1.67631802325673, \"group\": \"sport\"}, {\"x\": 1.0913067372184038, \"y\": 1.8925259335682925, \"group\": \"sport\"}, {\"x\": 0.5801900887724392, \"y\": -0.7276262405150971, \"group\": \"sport\"}, {\"x\": 0.8516919536942904, \"y\": -0.22324575436493443, \"group\": \"sport\"}, {\"x\": 1.9128156785922337, \"y\": 0.8891415167098264, \"group\": \"sport\"}, {\"x\": 1.2787870674549053, \"y\": 0.2834560896365467, \"group\": \"sport\"}, {\"x\": 0.30119722566314994, \"y\": -0.03964712634361027, \"group\": \"sport\"}, {\"x\": 1.0306117688654353, \"y\": 2.7774154833199955, \"group\": \"sport\"}, {\"x\": 1.1388968209047157, \"y\": -0.4192686919837491, \"group\": \"sport\"}, {\"x\": 1.7275333267259363, \"y\": 0.11437848002599545, \"group\": \"sport\"}, {\"x\": 1.3593927524243228, \"y\": 0.3134555850294151, \"group\": \"sport\"}, {\"x\": 0.9848087013417397, \"y\": 1.1178553063004, \"group\": \"sport\"}, {\"x\": 2.5108424212447225, \"y\": -1.7310305626483973, \"group\": \"sport\"}, {\"x\": 2.315941280423118, \"y\": 0.028433931734075824, \"group\": \"sport\"}, {\"x\": 1.4285505707868198, \"y\": -0.32370289841878663, \"group\": \"sport\"}, {\"x\": 2.9850583834429982, \"y\": 0.8095551391472777, \"group\": \"sport\"}, {\"x\": 1.9081727609174473, \"y\": -2.058551208711844, \"group\": \"sport\"}, {\"x\": 2.420426510100316, \"y\": -0.2075944416373446, \"group\": \"sport\"}, {\"x\": 3.9235239991235322, \"y\": 0.7192564635216577, \"group\": \"sport\"}, {\"x\": 4.317768978123415, \"y\": 4.604045537980637, \"group\": \"sport\"}, {\"x\": 2.7165421076038485, \"y\": -0.17615620303174415, \"group\": \"sport\"}, {\"x\": 3.2674347703832884, \"y\": 1.1381733942139967, \"group\": \"sport\"}, {\"x\": 3.2256247727163743, \"y\": -0.1107839049997384, \"group\": \"sport\"}, {\"x\": 2.6424701206971366, \"y\": 0.5756233552475237, \"group\": \"sport\"}, {\"x\": 2.7065970513344095, \"y\": -1.8038064557915818, \"group\": \"sport\"}, {\"x\": 1.6172435457198113, \"y\": 2.4143407508467116, \"group\": \"sport\"}, {\"x\": 3.5642782096391343, \"y\": -0.5850397958170813, \"group\": \"sport\"}, {\"x\": 2.516988095287652, \"y\": 1.651451795464899, \"group\": \"sport\"}, {\"x\": 2.6798589114081746, \"y\": -0.2408933791432132, \"group\": \"sport\"}, {\"x\": 1.5391278984102275, \"y\": 1.2847244644851632, \"group\": \"sport\"}, {\"x\": 4.021707927343022, \"y\": -0.939564364248539, \"group\": \"sport\"}, {\"x\": 2.5481239602448262, \"y\": -0.08690568421308488, \"group\": \"sport\"}, {\"x\": 3.134800319518935, \"y\": -0.6211884154692192, \"group\": \"sport\"}, {\"x\": 2.6371663717355593, \"y\": 0.5525113476645508, \"group\": \"sport\"}, {\"x\": 2.27897322369474, \"y\": 0.20336414318909232, \"group\": \"sport\"}, {\"x\": 2.069761472449301, \"y\": 1.0806098010648078, \"group\": \"sport\"}, {\"x\": 3.3871042103235576, \"y\": -1.9098170790990185, \"group\": \"sport\"}, {\"x\": 3.30987183939992, \"y\": 0.018230879356591435, \"group\": \"sport\"}, {\"x\": 2.6975081231920037, \"y\": 0.21997767412376962, \"group\": \"sport\"}, {\"x\": 2.5734264638968636, \"y\": -2.7525149796334145, \"group\": \"sport\"}, {\"x\": 2.2399277114564895, \"y\": 1.4308774836841087, \"group\": \"sport\"}, {\"x\": 2.591713504910535, \"y\": -1.209300138962118, \"group\": \"sport\"}, {\"x\": 2.1941727640504998, \"y\": -0.09561438699739612, \"group\": \"sport\"}, {\"x\": 3.1592669202275396, \"y\": 0.8926423161383001, \"group\": \"sport\"}, {\"x\": 2.756971364004901, \"y\": -0.36716451320618226, \"group\": \"sport\"}, {\"x\": 2.0927407692047946, \"y\": -0.3840196026764223, \"group\": \"sport\"}, {\"x\": 0.7404796477241617, \"y\": 0.2020073766073531, \"group\": \"sport\"}, {\"x\": 3.4056160882744972, \"y\": -0.5574150615383084, \"group\": \"sport\"}, {\"x\": 3.2928350967091955, \"y\": -1.9536837275782288, \"group\": \"sport\"}, {\"x\": 1.8265063946309166, \"y\": 1.3977052269598915, \"group\": \"sport\"}, {\"x\": 2.274035361102145, \"y\": 0.02289918445373415, \"group\": \"sport\"}, {\"x\": 2.4520108049400853, \"y\": -0.4732774417111141, \"group\": \"sport\"}, {\"x\": 3.201172231828131, \"y\": 1.041440847946292, \"group\": \"sport\"}, {\"x\": 2.830109036856109, \"y\": 1.7486246231155622, \"group\": \"sport\"}, {\"x\": 2.220302242035931, \"y\": 0.48430296495661007, \"group\": \"sport\"}, {\"x\": 1.925835990883873, \"y\": -1.1502831500671535, \"group\": \"sport\"}, {\"x\": 2.4106861478959027, \"y\": 1.638843055073732, \"group\": \"sport\"}, {\"x\": 2.0951005888961434, \"y\": 1.4493680258338364, \"group\": \"sport\"}, {\"x\": 0.6536101963225325, \"y\": -1.2743563837454157, \"group\": \"sport\"}, {\"x\": 3.5978402900552107, \"y\": 0.6794604684033826, \"group\": \"sport\"}, {\"x\": 1.884007684788858, \"y\": -0.5272376371792937, \"group\": \"sport\"}, {\"x\": 1.6142900400807552, \"y\": -2.845504212564865, \"group\": \"sport\"}, {\"x\": 2.396782894986411, \"y\": 0.18962622207588345, \"group\": \"sport\"}, {\"x\": 2.902962284843705, \"y\": 1.9631958340021347, \"group\": \"sport\"}, {\"x\": 4.098311702408057, \"y\": 0.9994321766656867, \"group\": \"sport\"}, {\"x\": 2.8649823620456716, \"y\": 0.39923163679103235, \"group\": \"sport\"}, {\"x\": 2.817658650763897, \"y\": 0.8551236603385053, \"group\": \"sport\"}, {\"x\": 3.1478677410822744, \"y\": 2.2181851181372716, \"group\": \"sport\"}, {\"x\": 2.1730879846642024, \"y\": -0.9015874622506529, \"group\": \"sport\"}, {\"x\": 1.1021372427545133, \"y\": 2.292796398473971, \"group\": \"sport\"}, {\"x\": 0.8410890423672179, \"y\": -0.6994040162632704, \"group\": \"sport\"}, {\"x\": 3.710846044047584, \"y\": 0.34346800036181735, \"group\": \"sport\"}, {\"x\": 2.638914953765961, \"y\": 0.43157518257922023, \"group\": \"sport\"}, {\"x\": 2.850124496108688, \"y\": 2.0281195595120525, \"group\": \"sport\"}, {\"x\": 2.0496792889020745, \"y\": 0.3969613914549051, \"group\": \"sport\"}, {\"x\": 3.502150903735077, \"y\": 0.2345641319264037, \"group\": \"sport\"}, {\"x\": 3.159497603169738, \"y\": -1.1025275241918937, \"group\": \"sport\"}, {\"x\": 1.9830465538747628, \"y\": 0.4765616361179836, \"group\": \"sport\"}, {\"x\": 1.7253392904400071, \"y\": 1.3704588849118793, \"group\": \"sport\"}, {\"x\": 0.6742608701867037, \"y\": 1.1918858013966211, \"group\": \"sport\"}, {\"x\": 3.6599333343703173, \"y\": 1.8393771268702281, \"group\": \"sport\"}, {\"x\": 0.5819359940088331, \"y\": -0.7440196666134283, \"group\": \"sport\"}, {\"x\": 3.1068371175667346, \"y\": -0.3079009019953379, \"group\": \"sport\"}, {\"x\": 3.998122776288388, \"y\": -0.02712035586611483, \"group\": \"sport\"}, {\"x\": 1.0912587167320236, \"y\": 1.6117429645345045, \"group\": \"sport\"}, {\"x\": 3.9926095212130446, \"y\": -0.9111950767452843, \"group\": \"sport\"}, {\"x\": 3.796048820169722, \"y\": 0.9548151449811069, \"group\": \"sport\"}, {\"x\": 3.8497854983126714, \"y\": 0.5291835996319595, \"group\": \"sport\"}, {\"x\": 3.6790985940042336, \"y\": 3.5829372553824337, \"group\": \"sport\"}, {\"x\": 2.1476614832665084, \"y\": 1.268946563854361, \"group\": \"sport\"}, {\"x\": 2.5779456660907334, \"y\": 0.1948825794213501, \"group\": \"sport\"}, {\"x\": 2.545407609077137, \"y\": 2.4317786228168563, \"group\": \"sport\"}, {\"x\": 2.0253708087474376, \"y\": 0.4403729726691724, \"group\": \"sport\"}, {\"x\": 2.4171120780605344, \"y\": 1.5640928153184246, \"group\": \"sport\"}, {\"x\": 1.9271034714420332, \"y\": 0.5136428280697469, \"group\": \"sport\"}, {\"x\": 1.2390791693909424, \"y\": 1.4071406817887155, \"group\": \"sport\"}, {\"x\": 2.4087181353580123, \"y\": -0.7157626598863135, \"group\": \"sport\"}, {\"x\": 2.2012445509795255, \"y\": 0.9921454059119613, \"group\": \"sport\"}, {\"x\": 2.8568681929112074, \"y\": 0.5865247960197695, \"group\": \"sport\"}, {\"x\": 0.9632417211828768, \"y\": 0.41323903535729606, \"group\": \"sport\"}, {\"x\": 2.500064409581948, \"y\": -0.219232072016425, \"group\": \"sport\"}, {\"x\": 0.885657697614632, \"y\": 0.28302856998868064, \"group\": \"sport\"}, {\"x\": 4.291502950298181, \"y\": 1.2886016055858611, \"group\": \"sport\"}, {\"x\": 3.770640583742954, \"y\": 0.5959363936521029, \"group\": \"sport\"}, {\"x\": 1.7413996777431833, \"y\": -0.42736394415337664, \"group\": \"sport\"}, {\"x\": 1.55770806238248, \"y\": 1.830282806893973, \"group\": \"sport\"}, {\"x\": 1.0487159585540002, \"y\": -0.9452657807393711, \"group\": \"sport\"}, {\"x\": 4.221264742879695, \"y\": 2.1653400250826276, \"group\": \"sport\"}, {\"x\": 5.3893030001051345, \"y\": -0.5042596707065078, \"group\": \"sport\"}, {\"x\": -0.027598636019169565, \"y\": 0.15693161243366718, \"group\": \"business\"}, {\"x\": -0.23240468886689772, \"y\": -0.8061871350333275, \"group\": \"business\"}, {\"x\": -0.518218751666533, \"y\": 0.4032802010802919, \"group\": \"business\"}, {\"x\": 0.6852153218189505, \"y\": 1.1328985491029973, \"group\": \"business\"}, {\"x\": 0.35264185613668925, \"y\": -1.235628331047931, \"group\": \"business\"}, {\"x\": -0.46174391667757064, \"y\": -0.844722552501867, \"group\": \"business\"}, {\"x\": -0.15992834354953525, \"y\": -0.45515124457654577, \"group\": \"business\"}, {\"x\": -0.34751788668711175, \"y\": -0.5406502385724509, \"group\": \"business\"}, {\"x\": 0.5917296413403275, \"y\": -1.10811284634369, \"group\": \"business\"}, {\"x\": -0.5822304129803011, \"y\": -0.5658852547513892, \"group\": \"business\"}, {\"x\": 0.5422182098112451, \"y\": 2.2969460323794295, \"group\": \"business\"}, {\"x\": -1.5646907899626727, \"y\": -2.5778202853915997, \"group\": \"business\"}, {\"x\": -2.5292526510153777, \"y\": 0.4067468186040232, \"group\": \"business\"}, {\"x\": -0.36099722998019423, \"y\": -2.277690822950272, \"group\": \"business\"}, {\"x\": 0.5843198054968322, \"y\": 0.70072022865372, \"group\": \"business\"}, {\"x\": -0.7708493340110902, \"y\": 0.9598582186417254, \"group\": \"business\"}, {\"x\": 0.7960828705978795, \"y\": 0.7213575507564822, \"group\": \"business\"}, {\"x\": -0.9170282425237946, \"y\": 0.34060473225769555, \"group\": \"business\"}, {\"x\": 0.6286128891010234, \"y\": -0.4307540903582046, \"group\": \"business\"}, {\"x\": -1.1381619540936336, \"y\": 0.054205695364938127, \"group\": \"business\"}, {\"x\": -0.5392813637865894, \"y\": 0.06149809225344722, \"group\": \"business\"}, {\"x\": -0.3275336024217902, \"y\": 0.9142861230197384, \"group\": \"business\"}, {\"x\": -0.6527667928863161, \"y\": 0.8656608169632242, \"group\": \"business\"}, {\"x\": -0.8939829247123245, \"y\": -0.91690723489897, \"group\": \"business\"}, {\"x\": 0.6548257361409431, \"y\": 1.7279931705191027, \"group\": \"business\"}, {\"x\": 0.20389981405852725, \"y\": 1.4132490710132435, \"group\": \"business\"}, {\"x\": 0.150381807152966, \"y\": 0.43318367946834735, \"group\": \"business\"}, {\"x\": -0.9102532509543, \"y\": 0.012858764875051405, \"group\": \"business\"}, {\"x\": -0.34463009583931287, \"y\": -0.28644783777110094, \"group\": \"business\"}, {\"x\": -0.4744280367654061, \"y\": 1.036760044244536, \"group\": \"business\"}, {\"x\": -0.858745487503753, \"y\": -0.6033776037711481, \"group\": \"business\"}, {\"x\": -1.236230870269735, \"y\": -1.8643856851347433, \"group\": \"business\"}, {\"x\": -1.0101568815490636, \"y\": -0.02824919788158286, \"group\": \"business\"}, {\"x\": -0.2081779713048581, \"y\": -1.5039438489719688, \"group\": \"business\"}, {\"x\": 0.21439013023195636, \"y\": -1.467412342774038, \"group\": \"business\"}, {\"x\": -1.0274836313002387, \"y\": 0.7445410474261838, \"group\": \"business\"}, {\"x\": -1.1921556470852814, \"y\": -0.6853445462885182, \"group\": \"business\"}, {\"x\": -0.2784511723977545, \"y\": 1.1228529603735766, \"group\": \"business\"}, {\"x\": 0.33772578752713583, \"y\": -0.6995044481174383, \"group\": \"business\"}, {\"x\": -0.6156665099217956, \"y\": -0.0868136580486565, \"group\": \"business\"}, {\"x\": -1.0379779476536939, \"y\": 0.5568305985227325, \"group\": \"business\"}, {\"x\": 1.0027844078729997, \"y\": -0.008601642295243902, \"group\": \"business\"}, {\"x\": -0.9841541047606666, \"y\": 0.015022405102325042, \"group\": \"business\"}, {\"x\": -0.7962087439470588, \"y\": 1.4710726213490477, \"group\": \"business\"}, {\"x\": -1.6983916944187094, \"y\": -2.528832945936006, \"group\": \"business\"}, {\"x\": 1.486085199364372, \"y\": -2.6031372591608686, \"group\": \"business\"}, {\"x\": -0.6236599114231782, \"y\": -0.5505588952411917, \"group\": \"business\"}, {\"x\": -0.2693706170330717, \"y\": -0.05924855063219717, \"group\": \"business\"}, {\"x\": 1.3761518127247299, \"y\": -0.8845565178098911, \"group\": \"business\"}, {\"x\": -1.1250388626679966, \"y\": -0.9365978269025593, \"group\": \"business\"}, {\"x\": 0.35279585893569493, \"y\": 0.35302078596191144, \"group\": \"business\"}, {\"x\": 0.8234952887459259, \"y\": 1.7836154683517234, \"group\": \"business\"}, {\"x\": 0.09004310328702747, \"y\": 1.272402457141216, \"group\": \"business\"}, {\"x\": -0.711585146201789, \"y\": -0.2323864029415744, \"group\": \"business\"}, {\"x\": 0.26690444095555294, \"y\": -0.6930345476137862, \"group\": \"business\"}, {\"x\": 0.45527958650586836, \"y\": 0.6752429413780616, \"group\": \"business\"}, {\"x\": -0.8626813555156274, \"y\": 1.7483806261348822, \"group\": \"business\"}, {\"x\": -0.565737601607127, \"y\": -1.1745178935214966, \"group\": \"business\"}, {\"x\": -0.00972308488407625, \"y\": 0.2358167726831151, \"group\": \"business\"}, {\"x\": 0.388530556730776, \"y\": -0.8618120410155147, \"group\": \"business\"}, {\"x\": -1.76984789556498, \"y\": 0.42376187485210176, \"group\": \"business\"}, {\"x\": -0.4707507116337614, \"y\": -0.3366914860947289, \"group\": \"business\"}, {\"x\": -0.054109754303990454, \"y\": -0.9582526927607145, \"group\": \"business\"}, {\"x\": -0.5103040604333408, \"y\": 1.0564671961791492, \"group\": \"business\"}, {\"x\": -1.7103629060200234, \"y\": 0.030150704683402953, \"group\": \"business\"}, {\"x\": 2.22268336270502, \"y\": 0.666795853077476, \"group\": \"business\"}, {\"x\": -0.7627254274651287, \"y\": 0.3559582288181861, \"group\": \"business\"}, {\"x\": -0.23468178994660488, \"y\": -0.06966511911818911, \"group\": \"business\"}, {\"x\": -0.12256742830150472, \"y\": -0.1693332386795814, \"group\": \"business\"}, {\"x\": -0.028422351812285862, \"y\": 1.0593596210319278, \"group\": \"business\"}, {\"x\": 0.774145302425371, \"y\": -0.9747224427874978, \"group\": \"business\"}, {\"x\": -0.9591085755759512, \"y\": 0.7448446817040945, \"group\": \"business\"}, {\"x\": 0.8822802939277803, \"y\": 0.9554237831993971, \"group\": \"business\"}, {\"x\": -2.0491063335909927, \"y\": 0.10521461440436007, \"group\": \"business\"}, {\"x\": -1.6524560992229647, \"y\": 0.5227093336134205, \"group\": \"business\"}, {\"x\": -1.2517327771544593, \"y\": -0.10245290289308004, \"group\": \"business\"}, {\"x\": -0.04120993682465579, \"y\": 0.27165138409604017, \"group\": \"business\"}, {\"x\": 1.611543096663221, \"y\": 1.1734037820135483, \"group\": \"business\"}, {\"x\": -0.8887341245865825, \"y\": -0.38047657192016265, \"group\": \"business\"}, {\"x\": -0.8624366106924766, \"y\": -1.6668563114878023, \"group\": \"business\"}, {\"x\": -1.3541049136194643, \"y\": 0.10556429670328499, \"group\": \"business\"}, {\"x\": -0.11882250653321835, \"y\": 0.3253342293416111, \"group\": \"business\"}, {\"x\": -0.11942658750258722, \"y\": -0.7373120672031805, \"group\": \"business\"}, {\"x\": -0.5304386256713517, \"y\": -1.2116307977511902, \"group\": \"business\"}, {\"x\": -1.7269606321145374, \"y\": -0.41473510354168036, \"group\": \"business\"}, {\"x\": -1.5959650975199118, \"y\": -1.6106244921300668, \"group\": \"business\"}, {\"x\": -1.4099113699315964, \"y\": 0.9144842458948117, \"group\": \"business\"}, {\"x\": 0.6054216520081115, \"y\": -0.8833502996332796, \"group\": \"business\"}, {\"x\": -2.2345524270758155, \"y\": 2.2272442926051, \"group\": \"business\"}, {\"x\": -0.40777389966264105, \"y\": 0.4355635649410962, \"group\": \"business\"}, {\"x\": 1.8295521704111772, \"y\": -2.2686934440052897, \"group\": \"business\"}, {\"x\": -1.6728170351039053, \"y\": 1.209030705901669, \"group\": \"business\"}, {\"x\": 1.6090632194951486, \"y\": 0.8158138398202504, \"group\": \"business\"}, {\"x\": -2.1602642720429093, \"y\": -0.3082959846299864, \"group\": \"business\"}, {\"x\": -0.7793247256071472, \"y\": -0.8688215268713235, \"group\": \"business\"}, {\"x\": 0.09690130927496016, \"y\": -0.0538674544882378, \"group\": \"business\"}, {\"x\": 1.6775684246969154, \"y\": -1.6474873126553728, \"group\": \"business\"}, {\"x\": -0.5799045816983801, \"y\": -1.5454001089144827, \"group\": \"business\"}, {\"x\": -1.1009148107383, \"y\": 1.1574677772801978, \"group\": \"business\"}, {\"x\": 0.5277323572808688, \"y\": 1.1629946907082762, \"group\": \"business\"}, {\"x\": 0.9189878632539683, \"y\": -2.0977234718623676, \"group\": \"business\"}, {\"x\": 0.9510286551247511, \"y\": -1.1108832258543668, \"group\": \"business\"}, {\"x\": -0.8456031456423025, \"y\": 0.3576657152498948, \"group\": \"business\"}, {\"x\": 0.03045286326759372, \"y\": 0.30136014635471625, \"group\": \"business\"}, {\"x\": -1.3035469078426278, \"y\": 2.5257538834955766, \"group\": \"business\"}, {\"x\": 1.1051913774589568, \"y\": 0.20405703777559714, \"group\": \"business\"}, {\"x\": -1.6718483054868254, \"y\": 0.7456747572163079, \"group\": \"business\"}, {\"x\": 1.3197757420893084, \"y\": -0.25491304374571194, \"group\": \"business\"}, {\"x\": 0.026945069354438467, \"y\": -0.264238144993139, \"group\": \"business\"}, {\"x\": -0.22888713100006253, \"y\": -0.38979204388964267, \"group\": \"business\"}, {\"x\": -1.9527991891302843, \"y\": 0.8960564857466661, \"group\": \"business\"}, {\"x\": -0.19383603099077282, \"y\": 0.8027368629020228, \"group\": \"business\"}, {\"x\": 0.6909415841067426, \"y\": -0.5032266168263013, \"group\": \"business\"}, {\"x\": -0.011247830950877835, \"y\": -1.482190667264944, \"group\": \"business\"}, {\"x\": 1.40835608676831, \"y\": 0.1938847260643736, \"group\": \"business\"}, {\"x\": -0.9397210698578871, \"y\": 0.5835788114484974, \"group\": \"business\"}, {\"x\": -0.8176992432002861, \"y\": 0.6457650626770562, \"group\": \"business\"}, {\"x\": 0.36772666495255785, \"y\": 1.1053696271706153, \"group\": \"business\"}, {\"x\": -0.6994853250211203, \"y\": 2.305095842939593, \"group\": \"business\"}, {\"x\": -1.9671672276428023, \"y\": -1.1220571215660606, \"group\": \"business\"}, {\"x\": -0.4594828934282609, \"y\": 1.1498277968995299, \"group\": \"business\"}, {\"x\": -1.8712180366975537, \"y\": -0.7124410327755862, \"group\": \"business\"}, {\"x\": -0.4055622916804631, \"y\": 0.5079289526445241, \"group\": \"business\"}, {\"x\": -0.5832919531534192, \"y\": 1.1945168776865465, \"group\": \"business\"}, {\"x\": -1.324066812172804, \"y\": -0.665950000380982, \"group\": \"business\"}, {\"x\": 1.2996136968384986, \"y\": -1.6812672268039681, \"group\": \"business\"}, {\"x\": -0.45841767709629977, \"y\": 1.242872357003994, \"group\": \"business\"}, {\"x\": -1.7446784793148202, \"y\": 0.012726522187357415, \"group\": \"business\"}, {\"x\": 0.2113946085496718, \"y\": 2.159696815790657, \"group\": \"business\"}, {\"x\": -1.022644349565347, \"y\": -0.6477627515825201, \"group\": \"business\"}, {\"x\": 3.020796419473879, \"y\": 0.5960040925255526, \"group\": \"business\"}, {\"x\": -2.633678108195963, \"y\": 0.5986001908587814, \"group\": \"business\"}, {\"x\": -1.0810940157813544, \"y\": -0.8788904570722271, \"group\": \"business\"}, {\"x\": 1.6197530906138433, \"y\": 0.043215746499507136, \"group\": \"business\"}, {\"x\": -2.7748938695763545, \"y\": 1.7625813258215728, \"group\": \"business\"}, {\"x\": -0.2402961894769613, \"y\": 0.5331938319647872, \"group\": \"business\"}, {\"x\": -1.060233300446527, \"y\": 1.6476109374689936, \"group\": \"business\"}, {\"x\": -1.807142515414587, \"y\": -0.7132031284962705, \"group\": \"business\"}, {\"x\": 0.2259121518039618, \"y\": -0.0760303465954261, \"group\": \"business\"}, {\"x\": -0.8280081871107743, \"y\": 0.8344855940035248, \"group\": \"business\"}, {\"x\": 0.13742590963902374, \"y\": 0.5244128921514024, \"group\": \"business\"}, {\"x\": -0.31521592481795013, \"y\": -0.1041477583300262, \"group\": \"business\"}, {\"x\": 2.6082338175497184, \"y\": 0.4878028147889575, \"group\": \"business\"}, {\"x\": -0.7555331178755351, \"y\": 0.16404498408864301, \"group\": \"business\"}, {\"x\": -0.40419659478966447, \"y\": 0.772422173503997, \"group\": \"business\"}, {\"x\": -0.43296502782688984, \"y\": -0.1773853753801087, \"group\": \"business\"}, {\"x\": 0.4225830839604218, \"y\": -1.5028263338627963, \"group\": \"business\"}, {\"x\": -1.1984558584583664, \"y\": 0.286599370916677, \"group\": \"business\"}, {\"x\": -1.3958901363412843, \"y\": -0.740486691726901, \"group\": \"business\"}, {\"x\": 0.7614606518313964, \"y\": 0.11967502119449283, \"group\": \"business\"}, {\"x\": 0.6393209745464465, \"y\": -0.17887151041053392, \"group\": \"business\"}, {\"x\": -1.359647426395494, \"y\": 0.2997745432634902, \"group\": \"business\"}, {\"x\": -1.5474727137890194, \"y\": 2.096680635060738, \"group\": \"business\"}, {\"x\": 0.6844508041053321, \"y\": -0.6370092123389679, \"group\": \"business\"}, {\"x\": -0.5958011926595974, \"y\": 0.06728753130894227, \"group\": \"business\"}, {\"x\": -0.06981301505715043, \"y\": -0.3904978610488662, \"group\": \"business\"}, {\"x\": 1.7452104788954013, \"y\": -1.4404232747299035, \"group\": \"business\"}, {\"x\": -2.187520571781479, \"y\": -0.7066981468426139, \"group\": \"business\"}, {\"x\": 0.7595000379752948, \"y\": -0.7038464564396704, \"group\": \"business\"}, {\"x\": 0.9621448964048327, \"y\": 1.8807069632599691, \"group\": \"business\"}, {\"x\": -1.0333341797631395, \"y\": 1.44016617910524, \"group\": \"business\"}, {\"x\": 0.32782376620477865, \"y\": -0.5930937010113191, \"group\": \"business\"}, {\"x\": 0.047173643823337774, \"y\": -0.5741160701026149, \"group\": \"business\"}, {\"x\": -0.6348159102565292, \"y\": -1.549843237620437, \"group\": \"business\"}, {\"x\": 0.4764429623690049, \"y\": 0.17442882621923123, \"group\": \"business\"}, {\"x\": -1.6992537864718043, \"y\": -0.5488508397263406, \"group\": \"business\"}, {\"x\": -1.6103052668968867, \"y\": -2.2801664680430442, \"group\": \"business\"}, {\"x\": -0.7507596973351263, \"y\": 0.7304370255741448, \"group\": \"business\"}, {\"x\": 0.5172496889568654, \"y\": 0.02345139942896661, \"group\": \"business\"}, {\"x\": 0.3563689715249804, \"y\": 0.18772411970149416, \"group\": \"business\"}, {\"x\": 0.10321540369548221, \"y\": -1.0055316809794888, \"group\": \"business\"}, {\"x\": -1.5900008578382014, \"y\": 1.6927514921568914, \"group\": \"business\"}, {\"x\": 1.4038488884068379, \"y\": -0.5337677138772656, \"group\": \"business\"}, {\"x\": -0.9846486885235397, \"y\": -1.80112786588534, \"group\": \"business\"}, {\"x\": -1.3562569461876408, \"y\": -0.5035435467152467, \"group\": \"business\"}, {\"x\": -0.16938935430565707, \"y\": 0.8963139080542495, \"group\": \"business\"}, {\"x\": -0.1521680525332633, \"y\": 0.7964764394967976, \"group\": \"business\"}, {\"x\": 0.14884726089224343, \"y\": -1.440327542119446, \"group\": \"business\"}, {\"x\": 1.6255546442510078, \"y\": -0.11727340115567586, \"group\": \"business\"}, {\"x\": 0.5251098552765714, \"y\": -0.19967609797614566, \"group\": \"business\"}, {\"x\": -0.3769988543203968, \"y\": 1.1645750779659034, \"group\": \"business\"}, {\"x\": -0.6499017364771275, \"y\": -2.3175690109786196, \"group\": \"business\"}, {\"x\": 0.8949738752383107, \"y\": 0.7131007690382103, \"group\": \"business\"}, {\"x\": -0.11811650260257964, \"y\": 0.03962932665335111, \"group\": \"business\"}, {\"x\": 1.7159906607032855, \"y\": -1.0489952997327656, \"group\": \"business\"}, {\"x\": 0.49101711601110093, \"y\": 0.5872810781315382, \"group\": \"business\"}, {\"x\": -1.8717216659520028, \"y\": 1.3154525706808808, \"group\": \"business\"}, {\"x\": -0.7475424738944381, \"y\": 0.1573074214856967, \"group\": \"business\"}, {\"x\": 1.7581411595370584, \"y\": 1.4693579787364703, \"group\": \"business\"}, {\"x\": -0.05276816089068198, \"y\": 0.08387886840624793, \"group\": \"business\"}, {\"x\": 2.090809327529926, \"y\": 2.0741895246439084, \"group\": \"business\"}, {\"x\": 0.26779089326470434, \"y\": 1.3643117075662075, \"group\": \"business\"}, {\"x\": 0.708872777668474, \"y\": 0.4749488019378415, \"group\": \"business\"}, {\"x\": 0.780690765400263, \"y\": 1.3846531633853072, \"group\": \"business\"}, {\"x\": -1.4356366416602278, \"y\": 0.298803297553867, \"group\": \"business\"}, {\"x\": -0.41181714558788174, \"y\": -1.2141289611433357, \"group\": \"business\"}, {\"x\": -2.274790139365483, \"y\": 0.739119360392713, \"group\": \"business\"}, {\"x\": -1.280122586410145, \"y\": 1.7067995363189963, \"group\": \"business\"}, {\"x\": -3.6984165430116023, \"y\": 1.628664991149129, \"group\": \"business\"}, {\"x\": 0.9205883688981353, \"y\": 1.0683041843744834, \"group\": \"business\"}, {\"x\": -0.7973546118263404, \"y\": 0.3192189392358274, \"group\": \"business\"}, {\"x\": 1.1122684657974304, \"y\": 1.399293107008986, \"group\": \"business\"}, {\"x\": -0.9357799258955681, \"y\": -1.5929227533381285, \"group\": \"business\"}, {\"x\": -0.09194164566452867, \"y\": -0.6168412102856801, \"group\": \"business\"}, {\"x\": -0.9469214075303636, \"y\": 0.4341768183690152, \"group\": \"business\"}, {\"x\": -0.4628442869917334, \"y\": -1.71803825117629, \"group\": \"business\"}, {\"x\": -1.2197829453641182, \"y\": 1.5918625926287202, \"group\": \"business\"}, {\"x\": -0.4457354204165167, \"y\": -0.4209745937748185, \"group\": \"business\"}, {\"x\": -0.2695029729103087, \"y\": -1.0551344049286033, \"group\": \"business\"}, {\"x\": -1.7161030895463671, \"y\": 1.0264262645416198, \"group\": \"business\"}, {\"x\": -1.8763469132824635, \"y\": -1.191658048403328, \"group\": \"business\"}, {\"x\": 1.7396551280196175, \"y\": -1.6934925307133197, \"group\": \"business\"}, {\"x\": -0.33498677553533096, \"y\": -0.2866074238881421, \"group\": \"business\"}, {\"x\": -0.2134794760735521, \"y\": 0.5098312902355098, \"group\": \"business\"}, {\"x\": 1.5095440153594455, \"y\": 0.9143251139759313, \"group\": \"business\"}, {\"x\": -0.48037624740220897, \"y\": -0.2515712857949113, \"group\": \"business\"}, {\"x\": -0.9858460490347731, \"y\": 0.4093755136177755, \"group\": \"business\"}, {\"x\": -1.0821691898853527, \"y\": -1.8383420098105618, \"group\": \"business\"}, {\"x\": -0.9408019816722344, \"y\": 0.5508118113191679, \"group\": \"business\"}, {\"x\": 1.4804292690500025, \"y\": 1.8140271944155917, \"group\": \"business\"}, {\"x\": -1.9787614644167326, \"y\": -2.2341803680739423, \"group\": \"business\"}, {\"x\": -1.0595235759864408, \"y\": -0.4119014668556793, \"group\": \"business\"}, {\"x\": -0.48733785901682847, \"y\": -2.1236953895602735, \"group\": \"business\"}, {\"x\": 0.5382697917999144, \"y\": 0.9358294416690012, \"group\": \"business\"}, {\"x\": 0.4712688000913851, \"y\": 0.18653391264850502, \"group\": \"business\"}, {\"x\": 0.9385322736031194, \"y\": 1.7883670573156578, \"group\": \"business\"}, {\"x\": 0.14685641048913273, \"y\": 0.9123190373147052, \"group\": \"business\"}, {\"x\": -0.3564860653720434, \"y\": -0.2079235483687847, \"group\": \"business\"}, {\"x\": 0.09789563899757658, \"y\": 0.27878320952905605, \"group\": \"business\"}, {\"x\": 1.6713058215058991, \"y\": 0.05853912644680658, \"group\": \"business\"}, {\"x\": -0.844931855241003, \"y\": -0.8643058269250707, \"group\": \"business\"}, {\"x\": 0.14671846335878447, \"y\": -0.9565627596648917, \"group\": \"business\"}, {\"x\": -0.4046478272837774, \"y\": -1.3702170531888003, \"group\": \"business\"}, {\"x\": -1.4929147309274817, \"y\": 0.078003054133037, \"group\": \"business\"}, {\"x\": 0.5083145780941611, \"y\": 1.6554907402065915, \"group\": \"business\"}, {\"x\": 0.5255609612481635, \"y\": 0.6345335203184418, \"group\": \"business\"}, {\"x\": -0.4191582599430287, \"y\": 1.2725168188762708, \"group\": \"business\"}, {\"x\": 0.08111572542802292, \"y\": -1.2254497881986788, \"group\": \"business\"}, {\"x\": -0.5066390142365174, \"y\": 0.10258934912117094, \"group\": \"business\"}, {\"x\": 0.11526854023620298, \"y\": 0.5635273942888301, \"group\": \"business\"}, {\"x\": -1.518855343698061, \"y\": 0.5783675316279884, \"group\": \"business\"}, {\"x\": -0.07830701401829157, \"y\": 0.2615788534181154, \"group\": \"business\"}, {\"x\": -0.24021215704973503, \"y\": -1.3282068113309091, \"group\": \"business\"}, {\"x\": 0.3999101640779344, \"y\": 1.4909533364117613, \"group\": \"business\"}, {\"x\": -1.2127260845911958, \"y\": 1.9294771581270598, \"group\": \"business\"}, {\"x\": -0.8025497617090681, \"y\": -1.7848469314789481, \"group\": \"business\"}, {\"x\": 0.33570895701990894, \"y\": -1.6078306563654616, \"group\": \"business\"}, {\"x\": 0.48888266196315283, \"y\": -0.48005651576737524, \"group\": \"business\"}, {\"x\": -1.3907146027964974, \"y\": 0.2902385435917615, \"group\": \"business\"}, {\"x\": -1.1678828844100475, \"y\": -1.8320126749117729, \"group\": \"business\"}, {\"x\": -0.9758286727799304, \"y\": 2.779697232168728, \"group\": \"business\"}, {\"x\": -0.8266515349909269, \"y\": -0.8165428401297404, \"group\": \"business\"}, {\"x\": 0.6866076897587554, \"y\": 0.8390068702692444, \"group\": \"business\"}, {\"x\": 1.3201768662981004, \"y\": -1.6600859973186997, \"group\": \"business\"}, {\"x\": 1.5947477500674376, \"y\": -0.8870602664528175, \"group\": \"business\"}, {\"x\": -2.2020522680637504, \"y\": -0.13643767017247288, \"group\": \"business\"}, {\"x\": 2.0461565273161018, \"y\": 0.5496346802397056, \"group\": \"business\"}, {\"x\": 0.9976284750974058, \"y\": 4.318418587704091, \"group\": \"business\"}, {\"x\": -2.361433230736073, \"y\": -0.750668895598942, \"group\": \"business\"}, {\"x\": 0.23016799578717556, \"y\": 0.06809000153365061, \"group\": \"business\"}, {\"x\": -0.8851078604464464, \"y\": -0.7246375628524271, \"group\": \"business\"}, {\"x\": 0.45400744939648113, \"y\": 0.07772662319384448, \"group\": \"business\"}, {\"x\": 1.5930148145885978, \"y\": 0.2171910598318114, \"group\": \"business\"}, {\"x\": -0.19388868498593093, \"y\": -0.5122640721394394, \"group\": \"business\"}, {\"x\": -0.3736594802971524, \"y\": 0.24550367380071034, \"group\": \"business\"}, {\"x\": -0.5147539506699093, \"y\": 1.8357844744629477, \"group\": \"business\"}, {\"x\": -0.5174781955399338, \"y\": -0.28475114071024704, \"group\": \"business\"}, {\"x\": 0.22857410196405442, \"y\": 0.9475038290717538, \"group\": \"business\"}, {\"x\": 0.29831622872153424, \"y\": -0.6284269386012029, \"group\": \"business\"}, {\"x\": -0.22910714013364203, \"y\": 0.01070247612112824, \"group\": \"business\"}, {\"x\": -1.8037550371111093, \"y\": -2.3391044553958853, \"group\": \"business\"}, {\"x\": -0.25371599694734587, \"y\": 0.05761172892941474, \"group\": \"business\"}, {\"x\": -0.571691541777527, \"y\": 0.5351664649982096, \"group\": \"business\"}, {\"x\": -1.4871383031162997, \"y\": -1.8381098729667475, \"group\": \"business\"}, {\"x\": -0.877284513904319, \"y\": 0.557196058086078, \"group\": \"business\"}, {\"x\": -1.9378287614244025, \"y\": 2.0960526696450454, \"group\": \"business\"}, {\"x\": 0.909871020316678, \"y\": -1.4111932387905712, \"group\": \"business\"}, {\"x\": -0.2992234041841737, \"y\": -1.8904684504687979, \"group\": \"business\"}, {\"x\": -1.4553946899053392, \"y\": -0.7072184424601989, \"group\": \"business\"}, {\"x\": -2.4659376715278305, \"y\": 0.7810742242347204, \"group\": \"business\"}, {\"x\": -3.318868292856277, \"y\": 1.6020233399724284, \"group\": \"business\"}, {\"x\": -0.9311009910631718, \"y\": 0.9175524424268106, \"group\": \"business\"}, {\"x\": -0.3667931893935242, \"y\": 0.5137147550064451, \"group\": \"business\"}, {\"x\": 0.05020640098106416, \"y\": -0.10881161236571554, \"group\": \"business\"}, {\"x\": -0.9082084865540683, \"y\": 0.5683058032458237, \"group\": \"business\"}, {\"x\": -1.7934919623397985, \"y\": -0.7246392902132285, \"group\": \"business\"}, {\"x\": -0.6208577201221501, \"y\": -0.5501089324103137, \"group\": \"business\"}, {\"x\": -0.4109481412601851, \"y\": 1.0748823447876188, \"group\": \"business\"}, {\"x\": 0.8131966383635836, \"y\": 1.5866935845178225, \"group\": \"business\"}, {\"x\": -0.44972878918956105, \"y\": -1.4745449267519821, \"group\": \"business\"}, {\"x\": 0.1879063614727126, \"y\": 0.45426809003222546, \"group\": \"business\"}, {\"x\": -1.080450292380655, \"y\": -0.8633440895936074, \"group\": \"business\"}, {\"x\": -0.27844050935831033, \"y\": 0.21484472943256036, \"group\": \"business\"}, {\"x\": -1.255471567709797, \"y\": -0.19496357034285067, \"group\": \"business\"}, {\"x\": -0.46137109593308273, \"y\": 0.16239644343325935, \"group\": \"business\"}, {\"x\": -0.03774778889639602, \"y\": 1.7068661650995642, \"group\": \"business\"}, {\"x\": 0.04406837811911918, \"y\": 2.129443043393216, \"group\": \"business\"}, {\"x\": -2.0185700594990394, \"y\": 0.18175453667749877, \"group\": \"business\"}, {\"x\": -0.7367880706097379, \"y\": 0.1217301383505073, \"group\": \"business\"}, {\"x\": 0.996522308272892, \"y\": -0.14185966164313443, \"group\": \"business\"}, {\"x\": -0.1355694659046075, \"y\": -0.06552853299903673, \"group\": \"business\"}, {\"x\": -0.5193220543701272, \"y\": 1.291338448580583, \"group\": \"business\"}, {\"x\": -0.5385513341007833, \"y\": -1.5417634847738304, \"group\": \"business\"}, {\"x\": 1.4407978883336483, \"y\": 0.4691473447715042, \"group\": \"business\"}, {\"x\": -0.6632191556143742, \"y\": -0.162202137832126, \"group\": \"business\"}, {\"x\": 0.1717827654841726, \"y\": -0.40504949303409404, \"group\": \"business\"}, {\"x\": 0.43598903324064003, \"y\": -2.218450228015196, \"group\": \"business\"}, {\"x\": 0.1869641763053857, \"y\": 1.1236687797504947, \"group\": \"business\"}, {\"x\": -1.2249138862177238, \"y\": 0.5714051848083446, \"group\": \"business\"}, {\"x\": -0.3489550109840367, \"y\": 0.3622453175200239, \"group\": \"business\"}, {\"x\": -2.0408374542867653, \"y\": -1.2778496013163179, \"group\": \"business\"}, {\"x\": 0.21254361597886956, \"y\": -0.280844083413199, \"group\": \"business\"}, {\"x\": -0.2763251945371248, \"y\": 0.9747411006009906, \"group\": \"business\"}, {\"x\": 0.376115716480186, \"y\": -0.017283517169658688, \"group\": \"business\"}, {\"x\": -1.4900810513617575, \"y\": -0.0289175836725125, \"group\": \"business\"}, {\"x\": -2.2558203570988846, \"y\": 0.33398231698697395, \"group\": \"business\"}, {\"x\": -0.3446261142495382, \"y\": 0.2822054392400485, \"group\": \"business\"}, {\"x\": 1.059032727174048, \"y\": 1.0289279563618363, \"group\": \"business\"}, {\"x\": -1.3523517034784518, \"y\": 0.5853747710799446, \"group\": \"business\"}, {\"x\": -0.14526167379645602, \"y\": -0.3030806816165451, \"group\": \"business\"}, {\"x\": -1.1042734667863192, \"y\": 0.9235768873429967, \"group\": \"business\"}, {\"x\": 0.2488557322807851, \"y\": 2.46594802363465, \"group\": \"business\"}, {\"x\": 0.9870055803838067, \"y\": 1.1524374983629833, \"group\": \"business\"}, {\"x\": -0.40255385650634445, \"y\": -0.2716907273835285, \"group\": \"business\"}, {\"x\": -0.3957008123289552, \"y\": -0.1279851797977873, \"group\": \"business\"}, {\"x\": -0.3968036575439663, \"y\": -0.369163927857813, \"group\": \"business\"}, {\"x\": -1.0365611581111631, \"y\": -0.18388509214427393, \"group\": \"business\"}, {\"x\": -1.413062104697279, \"y\": 1.1339147723555651, \"group\": \"business\"}, {\"x\": -0.24653424346955585, \"y\": -2.087466473856048, \"group\": \"business\"}, {\"x\": -0.2323200129712902, \"y\": 0.1429101132153819, \"group\": \"business\"}, {\"x\": -1.022900441879342, \"y\": 1.9861143389995226, \"group\": \"business\"}, {\"x\": -0.8765763660079233, \"y\": 1.458677045616621, \"group\": \"business\"}, {\"x\": -0.9669169306713346, \"y\": 2.3043249758441315, \"group\": \"business\"}, {\"x\": -0.9486161763706307, \"y\": -0.9243330552978068, \"group\": \"business\"}, {\"x\": 0.167522539821981, \"y\": -1.3948287175097291, \"group\": \"business\"}, {\"x\": -2.1853682629589137, \"y\": -2.3039313232823146, \"group\": \"business\"}, {\"x\": 1.738512830774058, \"y\": -0.23851466522009782, \"group\": \"business\"}, {\"x\": 0.6416199917670606, \"y\": -0.32940760668160635, \"group\": \"business\"}, {\"x\": -0.8833474652157207, \"y\": -0.8803273140914026, \"group\": \"business\"}, {\"x\": -0.9199732057968641, \"y\": -1.284293508633182, \"group\": \"business\"}, {\"x\": -0.11986317456991727, \"y\": -0.7286131799741759, \"group\": \"business\"}, {\"x\": -1.8566546758750178, \"y\": 0.3405017851068637, \"group\": \"business\"}, {\"x\": -0.9359487409423388, \"y\": 0.30764482146481437, \"group\": \"business\"}, {\"x\": -1.7595523814744294, \"y\": -0.657541817390267, \"group\": \"business\"}, {\"x\": -0.40444538660506324, \"y\": 0.8087241036861716, \"group\": \"business\"}, {\"x\": -0.5635845499563443, \"y\": 1.2829254064792868, \"group\": \"business\"}, {\"x\": -0.08324945920561766, \"y\": 0.013316758897524336, \"group\": \"business\"}, {\"x\": 0.2929552323080578, \"y\": -0.652701430615553, \"group\": \"business\"}, {\"x\": 0.16694370626527394, \"y\": -0.24782017914274823, \"group\": \"business\"}, {\"x\": -1.1222732088054888, \"y\": -1.1079953571172372, \"group\": \"business\"}, {\"x\": -1.1613660807868489, \"y\": 1.0504263464302062, \"group\": \"business\"}, {\"x\": 0.21624743930603568, \"y\": 2.19633928219953, \"group\": \"business\"}, {\"x\": 0.48782516575515916, \"y\": 0.6725986085316832, \"group\": \"business\"}, {\"x\": -0.029432082671420334, \"y\": 1.8979064062828388, \"group\": \"business\"}, {\"x\": -0.909811404613978, \"y\": -1.3155114159569268, \"group\": \"business\"}, {\"x\": -1.3813265339890586, \"y\": 0.9379134449539014, \"group\": \"business\"}, {\"x\": -0.7095942609947121, \"y\": -0.49647565731138904, \"group\": \"business\"}, {\"x\": 0.27531778210295105, \"y\": 0.6431993360232684, \"group\": \"business\"}, {\"x\": -2.264638020648395, \"y\": 1.2898891516630269, \"group\": \"business\"}, {\"x\": -0.9145137156669871, \"y\": -0.27232224141741657, \"group\": \"business\"}, {\"x\": -0.4521439761684345, \"y\": -0.8731504644744535, \"group\": \"business\"}, {\"x\": -0.31351875575947663, \"y\": -0.10778430403422164, \"group\": \"business\"}, {\"x\": -0.35666180359901645, \"y\": -0.5938117458864725, \"group\": \"business\"}, {\"x\": -1.0472041292526666, \"y\": -0.900799140428379, \"group\": \"business\"}, {\"x\": 0.5902874613693496, \"y\": -1.6857323612782502, \"group\": \"business\"}, {\"x\": -2.342768569699911, \"y\": -0.3987069993177095, \"group\": \"business\"}, {\"x\": -0.5453474530720402, \"y\": 0.6578767910951004, \"group\": \"business\"}, {\"x\": -1.1786931374944716, \"y\": -0.44116434864578585, \"group\": \"business\"}, {\"x\": 0.39871013927855053, \"y\": 0.45049425109892294, \"group\": \"business\"}, {\"x\": -1.3905004951614002, \"y\": 0.8594847246338079, \"group\": \"business\"}, {\"x\": -2.2591522107522524, \"y\": 0.1906177146145897, \"group\": \"business\"}, {\"x\": -1.90981158121451, \"y\": 0.11580193982075893, \"group\": \"business\"}, {\"x\": -1.5921692155811495, \"y\": 0.013645174885886593, \"group\": \"business\"}, {\"x\": 0.04239858822916642, \"y\": -0.9715800835368703, \"group\": \"business\"}, {\"x\": 1.0750053882818642, \"y\": 1.52197934058871, \"group\": \"business\"}, {\"x\": -1.093645565706549, \"y\": 1.3519204753316205, \"group\": \"business\"}, {\"x\": -0.19946169054284407, \"y\": 1.809853125585703, \"group\": \"business\"}, {\"x\": -1.8875388187358568, \"y\": 0.04050457622395705, \"group\": \"business\"}, {\"x\": 0.34587105846549654, \"y\": 2.8686682245393484, \"group\": \"business\"}, {\"x\": -0.9152287488375188, \"y\": -3.060226106873657, \"group\": \"business\"}, {\"x\": 0.6835631531013211, \"y\": -1.7042729224552056, \"group\": \"business\"}, {\"x\": -0.5906326573224143, \"y\": -0.34943188076144, \"group\": \"business\"}, {\"x\": -0.28867034483711246, \"y\": -0.83235277939645, \"group\": \"business\"}, {\"x\": -1.944052804171191, \"y\": 0.7577108288166066, \"group\": \"business\"}, {\"x\": 0.24329360644560766, \"y\": 0.39679259239389136, \"group\": \"business\"}, {\"x\": -1.1271777844720565, \"y\": 0.48106387638488696, \"group\": \"business\"}, {\"x\": -2.4858727246653505, \"y\": 0.5349044763541363, \"group\": \"business\"}, {\"x\": -0.8766776345727156, \"y\": -0.28683407139417216, \"group\": \"business\"}, {\"x\": 1.1687591099139212, \"y\": -1.7120018840480722, \"group\": \"business\"}, {\"x\": -0.9920656570253299, \"y\": 0.793487288347194, \"group\": \"business\"}, {\"x\": 0.9855448888987559, \"y\": -1.5313211550134311, \"group\": \"business\"}, {\"x\": 0.7987254922370126, \"y\": -0.3560217230336822, \"group\": \"business\"}, {\"x\": -1.5773270085002613, \"y\": -0.7285618927904765, \"group\": \"business\"}, {\"x\": -0.17853817117084708, \"y\": 0.1043091129738684, \"group\": \"business\"}, {\"x\": -0.4577860352443741, \"y\": 0.29674938706243137, \"group\": \"business\"}, {\"x\": 0.19672190386426097, \"y\": 1.1462986338085068, \"group\": \"business\"}, {\"x\": 0.7828073675934406, \"y\": 0.8477663901791369, \"group\": \"business\"}, {\"x\": -0.5690351819378295, \"y\": 1.6841738124117034, \"group\": \"business\"}, {\"x\": -1.4053114879249518, \"y\": -0.3031829736250526, \"group\": \"business\"}, {\"x\": 0.3568488564257855, \"y\": -0.33293126961668806, \"group\": \"business\"}, {\"x\": -0.6976580717095402, \"y\": -1.7250447564369433, \"group\": \"business\"}, {\"x\": -0.9619532168554978, \"y\": 0.4014865627972251, \"group\": \"business\"}, {\"x\": 0.1551082432711156, \"y\": 0.04324711937845696, \"group\": \"business\"}, {\"x\": -0.09471364642122146, \"y\": -1.3005607398572019, \"group\": \"business\"}, {\"x\": -0.0306380041471207, \"y\": 1.029903902353929, \"group\": \"business\"}, {\"x\": -0.22466320730710126, \"y\": -0.9456715897963721, \"group\": \"business\"}, {\"x\": 0.6124349767174626, \"y\": 0.4039088734564385, \"group\": \"business\"}, {\"x\": 0.1470425656071231, \"y\": -1.6827406736238593, \"group\": \"business\"}, {\"x\": -1.1394943750033397, \"y\": 2.5709003462277193, \"group\": \"business\"}, {\"x\": -0.35963096435092673, \"y\": -1.7181966053662239, \"group\": \"business\"}, {\"x\": 1.7473556284819827, \"y\": 0.16029923498432544, \"group\": \"business\"}, {\"x\": -1.17764675491221, \"y\": 0.7711462444211848, \"group\": \"business\"}, {\"x\": -0.760547576320197, \"y\": -0.4797861818157121, \"group\": \"business\"}, {\"x\": -0.8681627191530907, \"y\": 1.1525695584679214, \"group\": \"business\"}, {\"x\": 0.6061976222755854, \"y\": 0.5029038367249133, \"group\": \"business\"}, {\"x\": -0.9596483558650573, \"y\": 0.3709079905496473, \"group\": \"business\"}, {\"x\": -1.143155754235263, \"y\": -1.6417645903939746, \"group\": \"business\"}, {\"x\": -0.871725370887033, \"y\": -2.0465118319132034, \"group\": \"business\"}, {\"x\": -0.89741510766786, \"y\": 1.07215850167642, \"group\": \"business\"}, {\"x\": 0.9429603845580878, \"y\": 0.3673502412294378, \"group\": \"business\"}, {\"x\": -1.3168274645334048, \"y\": -0.8525642036960149, \"group\": \"business\"}, {\"x\": 0.18326518040640066, \"y\": -2.163221413413513, \"group\": \"business\"}, {\"x\": 1.1877639457900364, \"y\": -0.24740785875074928, \"group\": \"business\"}, {\"x\": -1.026683247902156, \"y\": -0.18850457211715066, \"group\": \"business\"}, {\"x\": -1.9223110747770698, \"y\": 1.3938023325568631, \"group\": \"business\"}, {\"x\": -2.0676967393615455, \"y\": -0.8663645792286335, \"group\": \"business\"}, {\"x\": -0.22549468392352814, \"y\": -0.3364556098920711, \"group\": \"business\"}, {\"x\": -0.551877613971967, \"y\": 1.836816625087931, \"group\": \"business\"}, {\"x\": 0.5283612001217899, \"y\": -2.3018299850338693, \"group\": \"business\"}, {\"x\": -0.4630163346591414, \"y\": -0.3078224059987847, \"group\": \"business\"}, {\"x\": -0.9448484977414451, \"y\": 0.11035127529508315, \"group\": \"business\"}, {\"x\": 0.9863766528009867, \"y\": 1.4524796106876023, \"group\": \"business\"}, {\"x\": -0.9008417949700145, \"y\": 0.29672151168569844, \"group\": \"business\"}, {\"x\": 0.47892424562115316, \"y\": 0.03365059337601446, \"group\": \"business\"}, {\"x\": -0.6881260049898472, \"y\": 0.09020495693002846, \"group\": \"business\"}, {\"x\": -2.297481674292503, \"y\": -1.0737945243404023, \"group\": \"business\"}, {\"x\": -0.34906336685550665, \"y\": 1.3662519941279163, \"group\": \"business\"}, {\"x\": 1.4272138645541532, \"y\": -1.5965715136948886, \"group\": \"business\"}, {\"x\": -0.6779121365431924, \"y\": 0.23629306076324721, \"group\": \"business\"}, {\"x\": -1.5969775355472415, \"y\": 0.030134278077961228, \"group\": \"business\"}, {\"x\": -0.06590751784849808, \"y\": 0.8985642440226207, \"group\": \"business\"}, {\"x\": -1.036599471734745, \"y\": -0.333069854808609, \"group\": \"business\"}, {\"x\": -0.6070229546186139, \"y\": -0.09303021187637295, \"group\": \"business\"}, {\"x\": 0.7651105555400195, \"y\": -0.9623817710880251, \"group\": \"business\"}, {\"x\": 0.31663159771568955, \"y\": 1.9491996544672043, \"group\": \"business\"}, {\"x\": 0.5802988064018817, \"y\": -2.303918327762053, \"group\": \"business\"}, {\"x\": -2.538883858061979, \"y\": -1.4624492928892623, \"group\": \"business\"}, {\"x\": -0.610348824958101, \"y\": -0.07597931708611229, \"group\": \"business\"}, {\"x\": -1.6505626900852426, \"y\": -1.6861794086747668, \"group\": \"business\"}, {\"x\": -0.5409379165225058, \"y\": 1.7363601871138, \"group\": \"business\"}, {\"x\": -0.7701523404798922, \"y\": 0.15158223149386907, \"group\": \"business\"}, {\"x\": -0.43165867963166243, \"y\": 1.4356983372212477, \"group\": \"business\"}, {\"x\": 0.3443849107880686, \"y\": 1.0197466043911243, \"group\": \"business\"}, {\"x\": -0.48774687376018644, \"y\": -1.2070963224473317, \"group\": \"business\"}, {\"x\": -1.5306830810892613, \"y\": -1.394389624067241, \"group\": \"business\"}, {\"x\": -0.35162707712649444, \"y\": 0.6741088440943689, \"group\": \"business\"}, {\"x\": -1.0119284994334357, \"y\": -0.23812694523521213, \"group\": \"business\"}, {\"x\": 0.07955655723741101, \"y\": -1.3953263883894664, \"group\": \"business\"}, {\"x\": 2.194326521715193, \"y\": -0.6806913472824976, \"group\": \"business\"}, {\"x\": 0.10446336227492592, \"y\": -0.10667109808439, \"group\": \"business\"}, {\"x\": -0.258620712786902, \"y\": 0.37508096019708903, \"group\": \"business\"}, {\"x\": -0.2321583005777828, \"y\": -0.3033169787572239, \"group\": \"business\"}, {\"x\": 1.3735743867692924, \"y\": 0.3416454957150145, \"group\": \"business\"}, {\"x\": 0.9730111957447121, \"y\": 1.21223666903737, \"group\": \"business\"}, {\"x\": -1.4603494283298912, \"y\": 0.6275496204204051, \"group\": \"business\"}, {\"x\": 0.17450872446595123, \"y\": -0.5516047850623931, \"group\": \"business\"}, {\"x\": -0.08832059088071029, \"y\": 0.48406185185110395, \"group\": \"business\"}, {\"x\": -2.10513011691976, \"y\": -0.20000743040555008, \"group\": \"business\"}, {\"x\": 0.569160456064872, \"y\": -0.692454941135052, \"group\": \"business\"}, {\"x\": -2.0417268943753446, \"y\": 1.2463799547004888, \"group\": \"business\"}, {\"x\": 2.7527238127975187, \"y\": 1.223464985448858, \"group\": \"business\"}, {\"x\": -1.3946699252928842, \"y\": -2.059948325951816, \"group\": \"business\"}, {\"x\": 0.23086345633813204, \"y\": -1.7883105462889406, \"group\": \"business\"}, {\"x\": -1.556626246373771, \"y\": 1.7026963750043682, \"group\": \"business\"}, {\"x\": -2.4914227232265413, \"y\": 0.9652325032792172, \"group\": \"business\"}, {\"x\": -0.3175670193329084, \"y\": 2.4373873648925617, \"group\": \"business\"}, {\"x\": 0.06348367616618134, \"y\": -0.9682438393393822, \"group\": \"business\"}, {\"x\": 0.8656599295613749, \"y\": -0.1741314876128745, \"group\": \"business\"}, {\"x\": -1.9658457751507452, \"y\": -1.5260831339491951, \"group\": \"business\"}, {\"x\": -0.9827145614460968, \"y\": -1.0753831517872585, \"group\": \"business\"}, {\"x\": -0.22059153130608536, \"y\": -1.1124571053338952, \"group\": \"business\"}, {\"x\": -2.0735549917696927, \"y\": 1.216897736022144, \"group\": \"business\"}, {\"x\": -0.6621968635591712, \"y\": -0.44546079947996364, \"group\": \"business\"}, {\"x\": 0.0898628729159448, \"y\": -0.11025721943731431, \"group\": \"business\"}, {\"x\": 0.9215742489716581, \"y\": -0.5527825520424029, \"group\": \"business\"}, {\"x\": -0.7070227824777382, \"y\": -2.420467931861354, \"group\": \"business\"}, {\"x\": 0.5437044109533549, \"y\": -0.27879712285825076, \"group\": \"business\"}, {\"x\": -2.005400605887113, \"y\": 1.3844263564702728, \"group\": \"business\"}, {\"x\": -0.3826746862159494, \"y\": -1.092780837279068, \"group\": \"business\"}, {\"x\": -0.5341544945390619, \"y\": 1.399876355025552, \"group\": \"business\"}, {\"x\": -0.02115844495255592, \"y\": -0.4986360928990285, \"group\": \"business\"}, {\"x\": -1.4811921755395125, \"y\": 0.9788210786084677, \"group\": \"business\"}, {\"x\": -2.5087351070243638, \"y\": -0.9317471466166958, \"group\": \"business\"}, {\"x\": -0.3510117102156743, \"y\": -0.11434848211869476, \"group\": \"business\"}, {\"x\": -2.487704254259065, \"y\": 0.26388895122912265, \"group\": \"business\"}, {\"x\": -0.14591329671921763, \"y\": -2.882125787829092, \"group\": \"business\"}, {\"x\": -0.17075059500786258, \"y\": -0.1396828033506689, \"group\": \"business\"}, {\"x\": 1.385106853984767, \"y\": 2.008742051031113, \"group\": \"business\"}, {\"x\": -0.49057526146995206, \"y\": 0.09388724741947067, \"group\": \"business\"}, {\"x\": -0.7297265196454474, \"y\": 1.0219790939927733, \"group\": \"business\"}, {\"x\": -0.06319543981463988, \"y\": -1.4202993344210095, \"group\": \"business\"}, {\"x\": 0.42993385789921473, \"y\": -1.0068540709996439, \"group\": \"business\"}, {\"x\": -0.9777593704463772, \"y\": 1.117880606817041, \"group\": \"business\"}, {\"x\": -1.4116208214069603, \"y\": 0.7233355089838519, \"group\": \"business\"}, {\"x\": -0.7631018232853493, \"y\": -0.29486634269378253, \"group\": \"business\"}, {\"x\": -0.3420534374793997, \"y\": -0.3377057880348083, \"group\": \"business\"}, {\"x\": 0.5128635351597925, \"y\": 1.1748013179741448, \"group\": \"business\"}, {\"x\": -0.11140748589388014, \"y\": -0.26485820391704373, \"group\": \"business\"}, {\"x\": 0.18277257700833177, \"y\": -0.37811690934306474, \"group\": \"business\"}, {\"x\": 1.1127201699657385, \"y\": -0.33654823579203, \"group\": \"business\"}, {\"x\": -0.8914054381028649, \"y\": 0.8559336465718551, \"group\": \"politics\"}, {\"x\": -1.764191202035545, \"y\": -0.013101587552960666, \"group\": \"politics\"}, {\"x\": -0.673240806805688, \"y\": 1.9203540469396516, \"group\": \"politics\"}, {\"x\": -0.38763239601287547, \"y\": -0.7917385871523785, \"group\": \"politics\"}, {\"x\": -1.8558221342436887, \"y\": -0.5071377352598357, \"group\": \"politics\"}, {\"x\": -0.3892323441565835, \"y\": -1.0408012363628443, \"group\": \"politics\"}, {\"x\": -1.0874876121262007, \"y\": -1.0927555497103154, \"group\": \"politics\"}, {\"x\": 1.1062461792821259, \"y\": 2.262878019597933, \"group\": \"politics\"}, {\"x\": -0.21581530667278342, \"y\": -2.1805320840924454, \"group\": \"politics\"}, {\"x\": -1.2437310222298623, \"y\": 0.711200233709822, \"group\": \"politics\"}, {\"x\": -0.5889514970335972, \"y\": 2.4890405916058076, \"group\": \"politics\"}, {\"x\": -1.6108602525142588, \"y\": -1.244111938795034, \"group\": \"politics\"}, {\"x\": 0.7758130497689903, \"y\": -0.41244346972010304, \"group\": \"politics\"}, {\"x\": -0.7729958590240907, \"y\": 1.02912628679773, \"group\": \"politics\"}, {\"x\": -0.7033252771120466, \"y\": -1.7363958623763902, \"group\": \"politics\"}, {\"x\": -1.02155202428625, \"y\": -0.14250789625452337, \"group\": \"politics\"}, {\"x\": -1.0941351615588275, \"y\": 0.13327529034615895, \"group\": \"politics\"}, {\"x\": -0.22348375285286973, \"y\": -0.13596172518449917, \"group\": \"politics\"}, {\"x\": 0.7743809742077554, \"y\": 0.2835977290563293, \"group\": \"politics\"}, {\"x\": -1.8681551907165048, \"y\": 0.6422142577804973, \"group\": \"politics\"}, {\"x\": -0.517733588211424, \"y\": 0.0632159685349935, \"group\": \"politics\"}, {\"x\": -0.9949473523042509, \"y\": 1.9258662846556374, \"group\": \"politics\"}, {\"x\": -0.11653287111626129, \"y\": 0.2820450120219679, \"group\": \"politics\"}, {\"x\": -0.7226458180626054, \"y\": -1.8281866133164442, \"group\": \"politics\"}, {\"x\": -1.3523221416067288, \"y\": 0.8901960407759286, \"group\": \"politics\"}, {\"x\": 1.2015542230701832, \"y\": -0.80831935395316, \"group\": \"politics\"}, {\"x\": 1.232078009353246, \"y\": -0.6364046872578332, \"group\": \"politics\"}, {\"x\": -2.0949723865838816, \"y\": 1.708674142802747, \"group\": \"politics\"}, {\"x\": 0.24671507824646982, \"y\": -0.9740281357382854, \"group\": \"politics\"}, {\"x\": -2.4986079698932877, \"y\": 2.0672050828896156, \"group\": \"politics\"}, {\"x\": -1.8497777875884245, \"y\": -1.1552777765845788, \"group\": \"politics\"}, {\"x\": 0.7886831901826097, \"y\": 0.8601874754346013, \"group\": \"politics\"}, {\"x\": 1.3749484846394449, \"y\": 0.6945006222393894, \"group\": \"politics\"}, {\"x\": -0.021995870395262018, \"y\": -1.71555405098907, \"group\": \"politics\"}, {\"x\": -0.10779603186416561, \"y\": -1.9264969040158662, \"group\": \"politics\"}, {\"x\": 1.8471577607649103, \"y\": 1.4577091393638242, \"group\": \"politics\"}, {\"x\": 0.41171505599959207, \"y\": 1.5624003137200657, \"group\": \"politics\"}, {\"x\": -0.7556691474830592, \"y\": 0.7690604935685702, \"group\": \"politics\"}, {\"x\": -0.2066945394162821, \"y\": 1.506604782935318, \"group\": \"politics\"}, {\"x\": -0.24867805430318618, \"y\": -0.8693874515871908, \"group\": \"politics\"}, {\"x\": -0.6678350178933309, \"y\": -0.6183779906512953, \"group\": \"politics\"}, {\"x\": -0.9121524756890329, \"y\": -0.10647203413941575, \"group\": \"politics\"}, {\"x\": -0.2501116680442775, \"y\": -0.04155852836183461, \"group\": \"politics\"}, {\"x\": 1.5130972906381186, \"y\": 0.8890949511167199, \"group\": \"politics\"}, {\"x\": -0.17433715630185476, \"y\": -0.7200067680370371, \"group\": \"politics\"}, {\"x\": -1.0189300584498784, \"y\": 0.13002504279550317, \"group\": \"politics\"}, {\"x\": -0.6050291974002688, \"y\": 0.8752992715774156, \"group\": \"politics\"}, {\"x\": -0.9604895216659983, \"y\": -1.3647817401529738, \"group\": \"politics\"}, {\"x\": 0.3543700600359257, \"y\": 0.30552958778368094, \"group\": \"politics\"}, {\"x\": -0.20388992818411303, \"y\": 1.599416189859698, \"group\": \"politics\"}, {\"x\": -1.8789395371910727, \"y\": -1.3277261935131448, \"group\": \"politics\"}, {\"x\": 1.5218417920849812, \"y\": 0.10151467276334716, \"group\": \"politics\"}, {\"x\": -2.1197097741511643, \"y\": -0.699120647869579, \"group\": \"politics\"}, {\"x\": -1.8203898127256126, \"y\": -1.4132052349452733, \"group\": \"politics\"}, {\"x\": 0.1786018126919256, \"y\": 0.026915728264596775, \"group\": \"politics\"}, {\"x\": 1.823935264785201, \"y\": 0.6081504030989408, \"group\": \"politics\"}, {\"x\": 2.789786677527644, \"y\": 1.2544018005476893, \"group\": \"politics\"}, {\"x\": 0.5889249438538129, \"y\": 0.03113862735013135, \"group\": \"politics\"}, {\"x\": 0.569185270642595, \"y\": 0.3689950811734213, \"group\": \"politics\"}, {\"x\": -0.22047238619473666, \"y\": -1.5049134171714686, \"group\": \"politics\"}, {\"x\": -1.1399200168285948, \"y\": 0.9669314762745311, \"group\": \"politics\"}, {\"x\": -0.38124045718008964, \"y\": 0.603876318822225, \"group\": \"politics\"}, {\"x\": -0.7861128265880324, \"y\": 1.9832528124133721, \"group\": \"politics\"}, {\"x\": 0.29021467563193765, \"y\": -0.2740311068806354, \"group\": \"politics\"}, {\"x\": -0.9097781569588326, \"y\": 0.0637727882362875, \"group\": \"politics\"}, {\"x\": 1.8183952783547985, \"y\": 0.2358989394649514, \"group\": \"politics\"}, {\"x\": -2.1325123814981253, \"y\": 0.3756320549697741, \"group\": \"politics\"}, {\"x\": -0.8966722121260731, \"y\": -0.915020886246669, \"group\": \"politics\"}, {\"x\": 0.37757329542909185, \"y\": -0.9185765635505796, \"group\": \"politics\"}, {\"x\": -2.2816881643966496, \"y\": -1.5489401635518645, \"group\": \"politics\"}, {\"x\": -1.584880187706688, \"y\": -1.3709676600026246, \"group\": \"politics\"}, {\"x\": -0.24120369649373896, \"y\": -1.6243663465404052, \"group\": \"politics\"}, {\"x\": 0.18644746814371976, \"y\": -2.4397184806441214, \"group\": \"politics\"}, {\"x\": 0.1736405416351509, \"y\": 2.1412995225127864, \"group\": \"politics\"}, {\"x\": -0.07602258004351886, \"y\": 0.6691657732706557, \"group\": \"politics\"}, {\"x\": -0.8257401606175114, \"y\": 1.0845128301651326, \"group\": \"politics\"}, {\"x\": -1.2628534104437035, \"y\": -0.05791060499213786, \"group\": \"politics\"}, {\"x\": 0.6716195752644216, \"y\": -0.1282081678807647, \"group\": \"politics\"}, {\"x\": 0.7697549815247453, \"y\": 1.3620690361996444, \"group\": \"politics\"}, {\"x\": -0.5633235559999352, \"y\": -1.2266456247020954, \"group\": \"politics\"}, {\"x\": -0.8736460769596692, \"y\": 0.516352554271271, \"group\": \"politics\"}, {\"x\": 0.47714124099510086, \"y\": -1.3344601530499949, \"group\": \"politics\"}, {\"x\": -0.394298559196603, \"y\": 0.45674930570840205, \"group\": \"politics\"}, {\"x\": 0.649405429741921, \"y\": 2.156767716985677, \"group\": \"politics\"}, {\"x\": -0.6896536226322287, \"y\": -1.1473565309212785, \"group\": \"politics\"}, {\"x\": -0.6472359320661326, \"y\": 2.1426180292767296, \"group\": \"politics\"}, {\"x\": 1.0786402617112916, \"y\": -0.165487750389992, \"group\": \"politics\"}, {\"x\": 0.11585849089602057, \"y\": 0.4239742721769163, \"group\": \"politics\"}, {\"x\": -1.802797260705058, \"y\": 0.9142497621547848, \"group\": \"politics\"}, {\"x\": -0.6043821221768055, \"y\": 0.18851645656470323, \"group\": \"politics\"}, {\"x\": 0.7474020622331206, \"y\": 0.2182697758882109, \"group\": \"politics\"}, {\"x\": 0.10510368225650224, \"y\": -0.35454820607119775, \"group\": \"politics\"}, {\"x\": 1.2806666841763794, \"y\": -1.1740887976333119, \"group\": \"politics\"}, {\"x\": -1.173787775739318, \"y\": -1.92592105894722, \"group\": \"politics\"}, {\"x\": 0.37630890463706773, \"y\": -0.46861373102269716, \"group\": \"politics\"}, {\"x\": -0.6132936057157192, \"y\": 0.9929786440397551, \"group\": \"politics\"}, {\"x\": -0.18164875345115955, \"y\": 0.3788485458948383, \"group\": \"politics\"}, {\"x\": 1.1602499390591272, \"y\": -0.2122517259276342, \"group\": \"politics\"}, {\"x\": 0.08346560362893901, \"y\": -0.09026043065060507, \"group\": \"politics\"}, {\"x\": -0.791728988258564, \"y\": -0.484481989713616, \"group\": \"politics\"}, {\"x\": -1.7258417737315679, \"y\": -0.003991239125543989, \"group\": \"politics\"}, {\"x\": 0.20114885470672245, \"y\": 0.019440988795360287, \"group\": \"politics\"}, {\"x\": 1.413471976536577, \"y\": 1.2834282066131741, \"group\": \"politics\"}, {\"x\": -1.6981369640041022, \"y\": 0.2763987600254034, \"group\": \"politics\"}, {\"x\": -0.6932146728394736, \"y\": -0.07177871297940272, \"group\": \"politics\"}, {\"x\": -1.0180784009503259, \"y\": -1.0644683323871509, \"group\": \"politics\"}, {\"x\": -0.22444038750852582, \"y\": 0.8698836260899742, \"group\": \"politics\"}, {\"x\": -1.829996078157847, \"y\": 0.96647943534683, \"group\": \"politics\"}, {\"x\": -0.3045196598717818, \"y\": -0.2519435796186736, \"group\": \"politics\"}, {\"x\": 0.28791307522069415, \"y\": -1.9556388854635445, \"group\": \"politics\"}, {\"x\": 0.9817321635829606, \"y\": 0.18829560673571058, \"group\": \"politics\"}, {\"x\": -0.7048231399293237, \"y\": 0.9600546118297001, \"group\": \"politics\"}, {\"x\": 0.3712593449916877, \"y\": 0.1394946385036328, \"group\": \"politics\"}, {\"x\": -1.404920404510047, \"y\": -3.0178948687802465, \"group\": \"politics\"}, {\"x\": -0.813920564446864, \"y\": 1.166018170581045, \"group\": \"politics\"}, {\"x\": 1.3708543448555484, \"y\": -1.5375541899422893, \"group\": \"politics\"}, {\"x\": -0.21175219472280915, \"y\": 0.5565880540246093, \"group\": \"politics\"}, {\"x\": -0.7298716944456791, \"y\": 1.3076188606500474, \"group\": \"politics\"}, {\"x\": 0.19150453419388863, \"y\": 0.8718197076358054, \"group\": \"politics\"}, {\"x\": -1.2781021914932926, \"y\": 1.436628439291378, \"group\": \"politics\"}, {\"x\": -0.9675887883661296, \"y\": 0.2650884691579584, \"group\": \"politics\"}, {\"x\": -0.7381475700937068, \"y\": -1.727264091731161, \"group\": \"politics\"}, {\"x\": 0.2770665705870297, \"y\": 0.000185868729130601, \"group\": \"politics\"}, {\"x\": -1.48108500730813, \"y\": 0.13967187388637697, \"group\": \"politics\"}, {\"x\": -0.8648995849767798, \"y\": -0.7572260412423444, \"group\": \"politics\"}, {\"x\": 0.8330657743718008, \"y\": 0.4288352593612107, \"group\": \"politics\"}, {\"x\": -1.066593006756755, \"y\": 0.2859338548548025, \"group\": \"politics\"}, {\"x\": -0.913352719053532, \"y\": -1.3773419632137522, \"group\": \"politics\"}, {\"x\": 0.7716544619737247, \"y\": -1.2292466450729587, \"group\": \"politics\"}, {\"x\": -1.4251586245277683, \"y\": -0.2648068079397886, \"group\": \"politics\"}, {\"x\": 0.6830721601083729, \"y\": -0.3201287831541391, \"group\": \"politics\"}, {\"x\": 0.09850871153025093, \"y\": -2.7786962720565533, \"group\": \"politics\"}, {\"x\": -1.798901691569429, \"y\": -0.12897307208253708, \"group\": \"politics\"}, {\"x\": 0.5563751643015293, \"y\": -0.27701975525983485, \"group\": \"politics\"}, {\"x\": 0.4597592476671411, \"y\": -0.8505827639512856, \"group\": \"politics\"}, {\"x\": -1.1378007088003845, \"y\": -1.7802446706931154, \"group\": \"politics\"}, {\"x\": -1.4880179847310668, \"y\": -1.7926314318990422, \"group\": \"politics\"}, {\"x\": 0.864337401895457, \"y\": -2.0501399260433804, \"group\": \"politics\"}, {\"x\": -1.7626702238816843, \"y\": -1.1515378589710785, \"group\": \"politics\"}, {\"x\": -0.27548129760153434, \"y\": -0.5025073083757899, \"group\": \"politics\"}, {\"x\": -0.5792064467024118, \"y\": 0.36215881096525654, \"group\": \"politics\"}, {\"x\": -0.8551433330831071, \"y\": 0.8723352385955286, \"group\": \"politics\"}, {\"x\": -0.45313956737366484, \"y\": 0.8687331639245012, \"group\": \"politics\"}, {\"x\": -2.6600084293508797, \"y\": 2.157139692899919, \"group\": \"politics\"}, {\"x\": 0.22267685509787677, \"y\": -0.7331910395991681, \"group\": \"politics\"}, {\"x\": 0.4562721084336369, \"y\": -0.0432989797878813, \"group\": \"politics\"}, {\"x\": -0.3192578931473161, \"y\": -0.0905409654937037, \"group\": \"politics\"}, {\"x\": 0.11403658803478273, \"y\": 1.2911840591637755, \"group\": \"politics\"}, {\"x\": 2.0079438991865644, \"y\": 1.815651382526457, \"group\": \"politics\"}, {\"x\": -0.25916377424985276, \"y\": -0.7702145262466634, \"group\": \"politics\"}, {\"x\": -1.4624229477517379, \"y\": 1.8227563046207813, \"group\": \"politics\"}, {\"x\": -1.9116854420760974, \"y\": 1.5216974849175502, \"group\": \"politics\"}, {\"x\": -0.5654166878941684, \"y\": 1.85486069680764, \"group\": \"politics\"}, {\"x\": 0.7605141791535646, \"y\": 0.37543515360904917, \"group\": \"politics\"}, {\"x\": 1.332196926667989, \"y\": -0.6982912027060492, \"group\": \"politics\"}, {\"x\": -1.6164501259988315, \"y\": 1.384793472686607, \"group\": \"politics\"}, {\"x\": 1.827482706469938, \"y\": -0.07879815949724356, \"group\": \"politics\"}, {\"x\": 0.4914891498004728, \"y\": -1.1199190081862544, \"group\": \"politics\"}, {\"x\": -0.3495012271494969, \"y\": -0.9560752656990307, \"group\": \"politics\"}, {\"x\": 0.33575812185738224, \"y\": 0.21771623457496775, \"group\": \"politics\"}, {\"x\": -1.1555155191265558, \"y\": 0.6202984554272368, \"group\": \"politics\"}, {\"x\": -0.272736112478256, \"y\": 0.247511597851265, \"group\": \"politics\"}, {\"x\": -2.484535215068225, \"y\": -0.5788113209818495, \"group\": \"politics\"}, {\"x\": 0.8379801819759525, \"y\": 0.9337263739500434, \"group\": \"politics\"}, {\"x\": -0.30343837648444005, \"y\": 0.36850828300021643, \"group\": \"politics\"}, {\"x\": -1.3036012168489641, \"y\": 1.780189279434702, \"group\": \"politics\"}, {\"x\": -0.9836824296603734, \"y\": 0.7451227954223923, \"group\": \"politics\"}, {\"x\": -0.8141085036817364, \"y\": -1.5947454569034436, \"group\": \"politics\"}, {\"x\": -0.2688650403974576, \"y\": 1.5249412584586275, \"group\": \"politics\"}, {\"x\": 0.06289276827504536, \"y\": 1.276814115690113, \"group\": \"politics\"}, {\"x\": -0.02168908214616555, \"y\": -0.07681408953798984, \"group\": \"politics\"}, {\"x\": -0.494711247769208, \"y\": 0.5069382742544746, \"group\": \"politics\"}, {\"x\": -2.3088825400436495, \"y\": -1.063510831156033, \"group\": \"politics\"}, {\"x\": 2.0070958504712673, \"y\": -0.4877941055660856, \"group\": \"politics\"}, {\"x\": 1.6284556003708495, \"y\": 0.3396774058401471, \"group\": \"politics\"}, {\"x\": 0.6302199719902837, \"y\": -2.400106466763465, \"group\": \"politics\"}, {\"x\": 2.1862243759482514, \"y\": -0.010148337460833429, \"group\": \"politics\"}, {\"x\": -1.7855528642976788, \"y\": -0.8343682286676715, \"group\": \"politics\"}, {\"x\": -0.712024736510181, \"y\": -2.6453881877802594, \"group\": \"politics\"}, {\"x\": -0.35457014503416284, \"y\": 0.3587228592140427, \"group\": \"politics\"}, {\"x\": -1.4637979550132514, \"y\": -0.8538983162831334, \"group\": \"politics\"}, {\"x\": -1.045419308953344, \"y\": -0.23212227678181302, \"group\": \"politics\"}, {\"x\": -1.36309428292002, \"y\": -0.9847502986783429, \"group\": \"politics\"}, {\"x\": -2.3570794703628786, \"y\": 0.8946903349591506, \"group\": \"politics\"}, {\"x\": 0.06219235691351044, \"y\": -0.23419682334257036, \"group\": \"politics\"}, {\"x\": -1.385780480026076, \"y\": -1.3510214249538242, \"group\": \"politics\"}, {\"x\": -0.08012084728297358, \"y\": -0.11045685087181256, \"group\": \"politics\"}, {\"x\": 0.49159754954019236, \"y\": -0.9671040670528177, \"group\": \"politics\"}, {\"x\": -0.8012385928620871, \"y\": -0.7527409640151833, \"group\": \"politics\"}, {\"x\": 0.4617339990596942, \"y\": -0.3363831608926532, \"group\": \"politics\"}, {\"x\": -1.1375106644975606, \"y\": 0.04573636389342633, \"group\": \"politics\"}, {\"x\": 0.8617607360914485, \"y\": 1.1700640416250059, \"group\": \"politics\"}, {\"x\": -1.2917789301069125, \"y\": 1.8196183865196625, \"group\": \"politics\"}, {\"x\": -0.6402535117494105, \"y\": 1.6552848325409046, \"group\": \"politics\"}, {\"x\": 0.45839248094859447, \"y\": 0.7964821000066873, \"group\": \"politics\"}, {\"x\": -0.012690834771800774, \"y\": -1.1233638506040573, \"group\": \"politics\"}, {\"x\": -2.319915244643602, \"y\": 1.194295174446545, \"group\": \"politics\"}, {\"x\": 0.03833789628743084, \"y\": 0.23581592821256814, \"group\": \"politics\"}, {\"x\": 0.7428170889978887, \"y\": -0.10091530624852171, \"group\": \"politics\"}, {\"x\": -0.4373096487480063, \"y\": -2.179262517589119, \"group\": \"politics\"}, {\"x\": 0.059114420307181226, \"y\": 2.1825080326924606, \"group\": \"politics\"}, {\"x\": -0.8849963876966447, \"y\": -0.9011459315076563, \"group\": \"politics\"}, {\"x\": 0.2893360244362631, \"y\": -0.0732448652989321, \"group\": \"politics\"}, {\"x\": -2.4017536322655846, \"y\": 0.4778982028516359, \"group\": \"politics\"}, {\"x\": -1.2716191693837977, \"y\": -0.11619404578515904, \"group\": \"politics\"}, {\"x\": -1.870795972685961, \"y\": 0.6215015895900649, \"group\": \"politics\"}, {\"x\": -2.1356756024916095, \"y\": 1.9492100516860942, \"group\": \"politics\"}, {\"x\": -0.04344514221723739, \"y\": -0.6762284082561963, \"group\": \"politics\"}, {\"x\": -0.24191992700239173, \"y\": 0.4553819875687769, \"group\": \"politics\"}, {\"x\": -2.2780585146408523, \"y\": 0.5738504172003994, \"group\": \"politics\"}, {\"x\": -0.14072973028205135, \"y\": -0.2122813988129931, \"group\": \"politics\"}, {\"x\": 0.1832856029854934, \"y\": 1.2520881357440705, \"group\": \"politics\"}, {\"x\": 0.759922072730572, \"y\": -0.7973985524311703, \"group\": \"politics\"}, {\"x\": -1.6402426249621762, \"y\": 1.1559149673235556, \"group\": \"politics\"}, {\"x\": 0.041619878922113496, \"y\": -1.5161632604211304, \"group\": \"politics\"}, {\"x\": -1.5877070193134069, \"y\": 1.9483893689328948, \"group\": \"politics\"}, {\"x\": -2.4301689151168975, \"y\": 1.1474388804684075, \"group\": \"politics\"}, {\"x\": -1.0636404015218788, \"y\": -0.10827296902153745, \"group\": \"politics\"}, {\"x\": 0.2356251975183294, \"y\": 0.2826650469394903, \"group\": \"politics\"}, {\"x\": -0.969476649599571, \"y\": 1.330889642858979, \"group\": \"politics\"}, {\"x\": 0.05872239188355366, \"y\": 1.1600796053186149, \"group\": \"politics\"}, {\"x\": -1.8254014157956002, \"y\": -0.9073745504740998, \"group\": \"politics\"}, {\"x\": -0.5483553635348906, \"y\": -2.1705769722912667, \"group\": \"politics\"}, {\"x\": -0.8385993252381598, \"y\": 0.8056187987567266, \"group\": \"politics\"}, {\"x\": 2.4635455944087252, \"y\": -0.09837800058821582, \"group\": \"politics\"}, {\"x\": 0.9263891513584828, \"y\": 1.5960605357661957, \"group\": \"politics\"}, {\"x\": -0.6331794394722261, \"y\": 0.014392649016695569, \"group\": \"politics\"}, {\"x\": 0.803792149895344, \"y\": -1.0996708567700948, \"group\": \"politics\"}, {\"x\": -0.7147853868575514, \"y\": -0.6873671282217576, \"group\": \"politics\"}, {\"x\": 0.6914853097019857, \"y\": -0.7321819347704777, \"group\": \"politics\"}, {\"x\": 0.4714396842012523, \"y\": 1.778166251839394, \"group\": \"politics\"}, {\"x\": -0.5136487260397513, \"y\": -1.3886308543820702, \"group\": \"politics\"}, {\"x\": 0.7229542666453352, \"y\": -0.5015402599693419, \"group\": \"politics\"}, {\"x\": -1.1125760702497058, \"y\": -0.21118587638569752, \"group\": \"politics\"}, {\"x\": 0.2722742832090372, \"y\": 0.9398959283172825, \"group\": \"politics\"}, {\"x\": -1.2861348207198842, \"y\": 0.10407647135438347, \"group\": \"politics\"}, {\"x\": -1.1983133981332907, \"y\": 1.4163474472819542, \"group\": \"politics\"}, {\"x\": -1.943589771758484, \"y\": 1.051640204380748, \"group\": \"politics\"}, {\"x\": 0.7477262616670131, \"y\": 1.9296222482790897, \"group\": \"politics\"}, {\"x\": -0.33493145088498383, \"y\": 1.8664584524977796, \"group\": \"politics\"}, {\"x\": 0.1601873913895019, \"y\": 0.45947230439970854, \"group\": \"politics\"}, {\"x\": -0.5857403248658816, \"y\": -0.7222002720121948, \"group\": \"politics\"}, {\"x\": 1.7028055077460094, \"y\": 1.4967213318906474, \"group\": \"politics\"}, {\"x\": 1.3507521804564915, \"y\": -1.8177230732448686, \"group\": \"politics\"}, {\"x\": 0.0817400007754922, \"y\": 0.4188193904318436, \"group\": \"politics\"}, {\"x\": 1.2401538718374878, \"y\": 0.6991107539499432, \"group\": \"politics\"}, {\"x\": -0.6662423320885333, \"y\": -0.8440396263211459, \"group\": \"politics\"}, {\"x\": -1.012809362741822, \"y\": -0.13951107016121816, \"group\": \"politics\"}, {\"x\": -1.053400979187337, \"y\": -0.3288155471916971, \"group\": \"politics\"}, {\"x\": 0.8654246927806943, \"y\": -1.2012734955791924, \"group\": \"politics\"}, {\"x\": 1.218552543380329, \"y\": 0.13144895466593787, \"group\": \"politics\"}, {\"x\": -1.3394045218104427, \"y\": -0.25658923672877054, \"group\": \"politics\"}, {\"x\": -1.2729626744304312, \"y\": -1.1988162516526253, \"group\": \"politics\"}, {\"x\": -0.4998130682810967, \"y\": -1.9758086897718266, \"group\": \"politics\"}, {\"x\": 1.0994439164322436, \"y\": -0.9220933042176167, \"group\": \"politics\"}, {\"x\": -1.0416294351887845, \"y\": -0.573796180125914, \"group\": \"politics\"}, {\"x\": 0.26217395400169313, \"y\": -0.531492224675622, \"group\": \"politics\"}, {\"x\": -0.8089440870694808, \"y\": -0.6767464405232273, \"group\": \"politics\"}, {\"x\": 0.5529184604893376, \"y\": -0.18178996320037988, \"group\": \"politics\"}, {\"x\": -0.7684475290319779, \"y\": -0.8224097142085505, \"group\": \"politics\"}, {\"x\": -1.4968805425592868, \"y\": 0.8861396436434943, \"group\": \"politics\"}, {\"x\": 2.158144645382772, \"y\": 1.7547262722525039, \"group\": \"politics\"}, {\"x\": -0.7330936953963396, \"y\": -0.49082123467525973, \"group\": \"politics\"}, {\"x\": -1.288839022069836, \"y\": 0.3774254356416351, \"group\": \"politics\"}, {\"x\": 1.4960026845273802, \"y\": -0.20028845408522616, \"group\": \"politics\"}, {\"x\": -1.9387376379085481, \"y\": 0.8328755230926997, \"group\": \"politics\"}, {\"x\": -0.2850295367256063, \"y\": 2.797123666520163, \"group\": \"politics\"}, {\"x\": 2.381111385511649, \"y\": 1.0150863292789816, \"group\": \"politics\"}, {\"x\": -0.9174935721537947, \"y\": 0.4711228775964799, \"group\": \"politics\"}, {\"x\": 1.1073717572769566, \"y\": 0.7768907694409533, \"group\": \"politics\"}, {\"x\": -0.06260640789910765, \"y\": -0.11629199345540239, \"group\": \"politics\"}, {\"x\": 1.2193995477532917, \"y\": -1.185978794497573, \"group\": \"politics\"}, {\"x\": -0.3894741314692358, \"y\": 1.1662890843807046, \"group\": \"politics\"}, {\"x\": -0.3544280752760171, \"y\": 1.615762569607703, \"group\": \"politics\"}, {\"x\": -0.6042317641599295, \"y\": -0.67124161759141, \"group\": \"politics\"}, {\"x\": -0.4661926347760619, \"y\": 0.686443333972558, \"group\": \"politics\"}, {\"x\": -0.25370703712979903, \"y\": -1.068735199191926, \"group\": \"politics\"}, {\"x\": -0.4961433761345443, \"y\": 0.8110482472625478, \"group\": \"politics\"}, {\"x\": -2.208546542097041, \"y\": -0.9051587203259925, \"group\": \"politics\"}, {\"x\": -0.082583194665376, \"y\": 1.1883710556518987, \"group\": \"politics\"}, {\"x\": 1.113377754436311, \"y\": -1.676251199933546, \"group\": \"politics\"}, {\"x\": 0.26673395002374084, \"y\": 0.9197064420494301, \"group\": \"politics\"}, {\"x\": 0.47476575008775307, \"y\": 0.05008355485656092, \"group\": \"politics\"}, {\"x\": 0.35470970706118804, \"y\": 0.6634583181936018, \"group\": \"politics\"}, {\"x\": -1.1789062570036168, \"y\": 0.11924792758173346, \"group\": \"politics\"}, {\"x\": -0.0826179190374508, \"y\": 1.6897200194228292, \"group\": \"politics\"}, {\"x\": 0.23976313252869635, \"y\": 0.22307191132078477, \"group\": \"politics\"}, {\"x\": -1.246826830460398, \"y\": 0.38337192029801986, \"group\": \"politics\"}, {\"x\": -2.0123298287688174, \"y\": 2.5170845969590503, \"group\": \"politics\"}, {\"x\": -0.1064345335138143, \"y\": 1.4994274593319936, \"group\": \"politics\"}, {\"x\": -0.24104774833856885, \"y\": -0.11179186989906141, \"group\": \"politics\"}, {\"x\": -0.6470899780006245, \"y\": -0.17256992571244817, \"group\": \"politics\"}, {\"x\": 0.40721157363545374, \"y\": 0.99810437901116, \"group\": \"politics\"}, {\"x\": 0.34107736621330026, \"y\": -0.3173973413477215, \"group\": \"politics\"}, {\"x\": -2.01859533612447, \"y\": 2.6082249579795045, \"group\": \"politics\"}, {\"x\": 0.21680520173691825, \"y\": -0.638518274250152, \"group\": \"politics\"}, {\"x\": 1.8463451663247983, \"y\": -0.620844348831804, \"group\": \"politics\"}, {\"x\": -0.49256892286351095, \"y\": -1.6691984153234427, \"group\": \"politics\"}, {\"x\": -0.6598952281630754, \"y\": -1.64070606452009, \"group\": \"politics\"}, {\"x\": 1.3347702392895526, \"y\": -0.16018399919621992, \"group\": \"politics\"}, {\"x\": -0.9227204991214162, \"y\": 0.824255412555031, \"group\": \"politics\"}, {\"x\": -1.7111339701851644, \"y\": 1.8509367964698478, \"group\": \"politics\"}, {\"x\": -1.4064230974064578, \"y\": -2.1570991663438206, \"group\": \"politics\"}, {\"x\": -1.378877341735235, \"y\": 2.7392549431218343, \"group\": \"politics\"}, {\"x\": 0.4517430157411985, \"y\": -0.9293637341182184, \"group\": \"politics\"}, {\"x\": -1.653917939604951, \"y\": 1.1033139591430647, \"group\": \"politics\"}, {\"x\": -1.5509990138183645, \"y\": 0.6538110755215429, \"group\": \"politics\"}, {\"x\": -0.5300937597324157, \"y\": 1.8987552542355275, \"group\": \"politics\"}, {\"x\": -1.021619374988327, \"y\": -0.8978154300003225, \"group\": \"politics\"}, {\"x\": -1.7799972421227341, \"y\": 0.31534115735563706, \"group\": \"politics\"}, {\"x\": -0.5296856107605096, \"y\": 0.9016118919073187, \"group\": \"politics\"}, {\"x\": 2.0927615708213074, \"y\": -0.7363888591940967, \"group\": \"politics\"}, {\"x\": -1.2900575571648105, \"y\": -2.039050052390477, \"group\": \"politics\"}, {\"x\": 1.2202851730636146, \"y\": 0.2529490597163274, \"group\": \"politics\"}, {\"x\": -1.1114169766354751, \"y\": -0.07300833036680089, \"group\": \"politics\"}, {\"x\": -0.8795737561384229, \"y\": -0.19493485889776205, \"group\": \"politics\"}, {\"x\": 0.006599664403354133, \"y\": 1.4487983396376891, \"group\": \"politics\"}, {\"x\": -0.9491979706288503, \"y\": -0.17587090768909883, \"group\": \"politics\"}, {\"x\": -1.3820232958555574, \"y\": -1.559520947994356, \"group\": \"politics\"}, {\"x\": -0.8631799023972482, \"y\": -2.324443817003841, \"group\": \"politics\"}, {\"x\": 1.188942895952777, \"y\": 1.0762464474354627, \"group\": \"politics\"}, {\"x\": -0.7451905861333517, \"y\": -0.203323839562968, \"group\": \"politics\"}, {\"x\": -1.20594673753913, \"y\": -0.6541447903811846, \"group\": \"politics\"}, {\"x\": -1.1763867891642836, \"y\": 1.1596665239693569, \"group\": \"politics\"}, {\"x\": -0.28099191136726887, \"y\": -0.1260070567985094, \"group\": \"politics\"}, {\"x\": -1.2349077744920562, \"y\": -1.1030062926069475, \"group\": \"politics\"}, {\"x\": 0.20898198578370292, \"y\": -0.9938754934416196, \"group\": \"politics\"}, {\"x\": -2.4194372871115783, \"y\": -1.9012291215922568, \"group\": \"politics\"}, {\"x\": -0.17336224604351963, \"y\": 0.6660917631255173, \"group\": \"politics\"}, {\"x\": -0.14738420866737018, \"y\": 0.22091911121027183, \"group\": \"politics\"}, {\"x\": -0.7548588372216942, \"y\": 1.2386842896612915, \"group\": \"politics\"}, {\"x\": -1.57083231736066, \"y\": -1.6004583976346332, \"group\": \"politics\"}, {\"x\": -0.5002143637786161, \"y\": -0.8843612576443326, \"group\": \"politics\"}, {\"x\": -0.5141825635451486, \"y\": -0.8372222774982876, \"group\": \"politics\"}, {\"x\": -0.9165160613716234, \"y\": -0.6258154243791378, \"group\": \"politics\"}, {\"x\": -2.0583342098781947, \"y\": -0.495073291273143, \"group\": \"politics\"}, {\"x\": -0.056734495444915045, \"y\": 0.1906949612393638, \"group\": \"politics\"}, {\"x\": -1.6739164731159186, \"y\": -0.3224252094629727, \"group\": \"politics\"}, {\"x\": -0.17902449244693694, \"y\": -1.1452996154678976, \"group\": \"politics\"}, {\"x\": 0.8129236999516436, \"y\": 1.5169809567627721, \"group\": \"politics\"}, {\"x\": -2.6683914466535623, \"y\": 0.19664256659644316, \"group\": \"politics\"}, {\"x\": -1.98443991191767, \"y\": -1.8985611800709368, \"group\": \"politics\"}, {\"x\": -0.4283047825465467, \"y\": 0.1725941278207153, \"group\": \"politics\"}, {\"x\": -2.627597665329667, \"y\": -0.5896210325821339, \"group\": \"politics\"}, {\"x\": -0.6735148182110152, \"y\": -0.8695338483146791, \"group\": \"politics\"}, {\"x\": -1.980319949140991, \"y\": -0.712485993854034, \"group\": \"politics\"}, {\"x\": 0.009730576986400508, \"y\": 0.31599708943190385, \"group\": \"politics\"}, {\"x\": 0.1703471751180317, \"y\": -1.7874914704024838, \"group\": \"politics\"}, {\"x\": -0.47040784552821857, \"y\": -0.9737001339282738, \"group\": \"politics\"}, {\"x\": -1.2957110332916124, \"y\": 0.7255499622102073, \"group\": \"politics\"}, {\"x\": -1.6769001813306477, \"y\": -0.029324544779270233, \"group\": \"politics\"}, {\"x\": 0.36715990439582474, \"y\": -1.9214344070876463, \"group\": \"politics\"}, {\"x\": -1.3309701215333685, \"y\": 0.8047245994521338, \"group\": \"politics\"}, {\"x\": -0.3702906604149507, \"y\": 2.0948333207098164, \"group\": \"politics\"}, {\"x\": -0.5563165815288189, \"y\": -0.6017029712437476, \"group\": \"politics\"}, {\"x\": 0.29077289307802917, \"y\": -0.45296426669292883, \"group\": \"politics\"}, {\"x\": -1.5642754964279189, \"y\": -3.0107675038463335, \"group\": \"politics\"}, {\"x\": -1.016886943682416, \"y\": -1.2676899058809195, \"group\": \"politics\"}, {\"x\": -1.5210739786960479, \"y\": 0.6225127851098387, \"group\": \"politics\"}, {\"x\": -0.7398674750655514, \"y\": 1.2002023564169977, \"group\": \"politics\"}, {\"x\": -0.4088254663125885, \"y\": -1.5997833478694374, \"group\": \"politics\"}, {\"x\": 0.5019669587085229, \"y\": 0.02223619555856901, \"group\": \"politics\"}, {\"x\": -0.5830803412497723, \"y\": 0.7449184215194861, \"group\": \"politics\"}, {\"x\": -0.525361300202513, \"y\": -0.12293697431215285, \"group\": \"politics\"}, {\"x\": -0.5181091326294786, \"y\": 1.116553105945653, \"group\": \"politics\"}, {\"x\": 0.24960549167996798, \"y\": 0.09796471050097075, \"group\": \"politics\"}, {\"x\": -1.144675879376507, \"y\": 0.9193196848907066, \"group\": \"politics\"}, {\"x\": -1.2601262387819359, \"y\": -0.603152206864096, \"group\": \"politics\"}, {\"x\": -1.6287176319736378, \"y\": -2.448854100412922, \"group\": \"politics\"}, {\"x\": -0.6716060319135996, \"y\": -1.5702763032019817, \"group\": \"politics\"}, {\"x\": -0.040803990298272697, \"y\": -1.737167926931923, \"group\": \"politics\"}, {\"x\": 0.01196484758458477, \"y\": -0.8142076875410688, \"group\": \"politics\"}, {\"x\": -1.3010741421825784, \"y\": 1.6675469708125032, \"group\": \"politics\"}, {\"x\": -0.923952777433469, \"y\": -1.3864797693481874, \"group\": \"politics\"}, {\"x\": 0.16260959302954214, \"y\": -0.28795124132103517, \"group\": \"politics\"}, {\"x\": -0.4751312962643055, \"y\": 1.6317634689549476, \"group\": \"politics\"}, {\"x\": -0.06728291896089694, \"y\": 0.44312930351480034, \"group\": \"politics\"}, {\"x\": -1.8591163283076944, \"y\": 1.6948594689989007, \"group\": \"politics\"}, {\"x\": -0.8796763750546506, \"y\": -1.4890499990230808, \"group\": \"politics\"}, {\"x\": 0.3810546858150126, \"y\": 0.6086602618534174, \"group\": \"politics\"}, {\"x\": 0.5018751436304565, \"y\": 0.263742945617693, \"group\": \"politics\"}, {\"x\": 0.45330311942563745, \"y\": 1.2427656932685252, \"group\": \"politics\"}, {\"x\": -1.8351847311897072, \"y\": 0.9872738207915746, \"group\": \"politics\"}, {\"x\": -2.0080426635520907, \"y\": -0.4033725447451707, \"group\": \"politics\"}, {\"x\": -0.9777212487233671, \"y\": -0.5940657445925903, \"group\": \"politics\"}, {\"x\": -1.1785183015089853, \"y\": 1.7431914011789553, \"group\": \"politics\"}, {\"x\": -0.8556150342864381, \"y\": -0.5463972737213595, \"group\": \"politics\"}, {\"x\": -1.790976312069961, \"y\": 0.6905221320278024, \"group\": \"politics\"}, {\"x\": -0.27380791397441556, \"y\": 0.4051829491417752, \"group\": \"politics\"}, {\"x\": 0.8797707594195663, \"y\": -2.0806424027542594, \"group\": \"politics\"}, {\"x\": 0.10988977437614217, \"y\": -0.023932127075394487, \"group\": \"politics\"}, {\"x\": -0.1676551062708612, \"y\": -0.9551016104959237, \"group\": \"politics\"}, {\"x\": 0.17075264015741193, \"y\": -1.253917381755716, \"group\": \"politics\"}, {\"x\": -0.1594707051507671, \"y\": -0.9110950122465843, \"group\": \"politics\"}, {\"x\": 0.9166402445844555, \"y\": -2.051697859708693, \"group\": \"politics\"}, {\"x\": -0.7768913197173448, \"y\": -0.8609578062324829, \"group\": \"politics\"}, {\"x\": -2.288951624714258, \"y\": -1.1555495438887562, \"group\": \"politics\"}, {\"x\": -1.8691439734272377, \"y\": 0.12601638205345514, \"group\": \"politics\"}, {\"x\": -0.06069140470421769, \"y\": -1.7345853736477705, \"group\": \"politics\"}, {\"x\": -0.49574227661117237, \"y\": 1.2215544981949105, \"group\": \"politics\"}, {\"x\": 0.2192151440508961, \"y\": 1.0813250255920013, \"group\": \"politics\"}, {\"x\": -1.2163856284851762, \"y\": -0.7007064764482679, \"group\": \"politics\"}, {\"x\": 0.9059056065164628, \"y\": 0.4719077274527458, \"group\": \"politics\"}, {\"x\": 0.6034589242102446, \"y\": -1.210993752250835, \"group\": \"politics\"}, {\"x\": -2.3029809262195955, \"y\": 2.183865694898789, \"group\": \"politics\"}, {\"x\": 1.0546191283043804, \"y\": 1.2567538127908016, \"group\": \"politics\"}, {\"x\": 0.5664008864172854, \"y\": -1.9589471594447825, \"group\": \"politics\"}, {\"x\": -0.09923349326234088, \"y\": -1.645973001769481, \"group\": \"politics\"}, {\"x\": -0.7422687506035053, \"y\": 0.6045549464055558, \"group\": \"politics\"}, {\"x\": 0.3827290040291063, \"y\": -0.22945876194555215, \"group\": \"politics\"}, {\"x\": 0.4623656351545195, \"y\": -0.4837279829420023, \"group\": \"politics\"}, {\"x\": 0.2643234853328246, \"y\": -0.8516490958591295, \"group\": \"politics\"}, {\"x\": -0.38950332297394574, \"y\": 0.9976965019990324, \"group\": \"politics\"}, {\"x\": -3.088568781025975, \"y\": 1.8247854239924826, \"group\": \"politics\"}, {\"x\": -0.3495363427736216, \"y\": 0.42317163912660005, \"group\": \"politics\"}, {\"x\": -0.7055506638939801, \"y\": -2.0106794680343114, \"group\": \"politics\"}, {\"x\": -1.0434049777429688, \"y\": -1.0799111384536173, \"group\": \"politics\"}, {\"x\": -1.3304963489229404, \"y\": 0.17141173924282552, \"group\": \"tech\"}, {\"x\": -0.8035035016181531, \"y\": 0.7226545667513875, \"group\": \"tech\"}, {\"x\": 0.24512291624719446, \"y\": -0.4773969303002867, \"group\": \"tech\"}, {\"x\": -1.2550060503609064, \"y\": -0.5369160318914664, \"group\": \"tech\"}, {\"x\": -2.5477866842348313, \"y\": 0.18134749946899145, \"group\": \"tech\"}, {\"x\": -0.07280244011414572, \"y\": -0.01606975274349836, \"group\": \"tech\"}, {\"x\": -1.2818518046008396, \"y\": 1.745725867257404, \"group\": \"tech\"}, {\"x\": -1.08342250971678, \"y\": 0.6238136938438875, \"group\": \"tech\"}, {\"x\": -0.4397098261475262, \"y\": 0.03625625632566724, \"group\": \"tech\"}, {\"x\": -1.6963287921155916, \"y\": -0.06249053427979588, \"group\": \"tech\"}, {\"x\": 0.5649500663981211, \"y\": 0.3686376896272329, \"group\": \"tech\"}, {\"x\": -0.49756506556697777, \"y\": -0.7397908118081236, \"group\": \"tech\"}, {\"x\": -0.3784671592060074, \"y\": 1.6834857121641889, \"group\": \"tech\"}, {\"x\": 2.322985770136177, \"y\": -1.9419552634302462, \"group\": \"tech\"}, {\"x\": 1.105620283288163, \"y\": -0.35172408919331793, \"group\": \"tech\"}, {\"x\": -0.10652702622109489, \"y\": 0.45375767767119607, \"group\": \"tech\"}, {\"x\": -0.6838616604453203, \"y\": -1.9339311669369055, \"group\": \"tech\"}, {\"x\": -0.8643361809518819, \"y\": 1.0378092458553003, \"group\": \"tech\"}, {\"x\": -1.143582535139766, \"y\": -0.7968394932920638, \"group\": \"tech\"}, {\"x\": 0.10682056261117034, \"y\": -0.5395668615468401, \"group\": \"tech\"}, {\"x\": -0.7127875144713399, \"y\": 0.7356352456259213, \"group\": \"tech\"}, {\"x\": 2.0334131852534116, \"y\": -0.5534335716323233, \"group\": \"tech\"}, {\"x\": 3.013741643405263, \"y\": -0.363027187631625, \"group\": \"tech\"}, {\"x\": 0.771655081894437, \"y\": -0.02287274411815378, \"group\": \"tech\"}, {\"x\": 0.8131016366887303, \"y\": -2.669147783110891, \"group\": \"tech\"}, {\"x\": -0.33358331640441874, \"y\": -2.6348638747233606, \"group\": \"tech\"}, {\"x\": -1.0973897888032302, \"y\": 1.0475884688479913, \"group\": \"tech\"}, {\"x\": 1.3804940856727455, \"y\": 1.0013688155909513, \"group\": \"tech\"}, {\"x\": -0.07216067307643331, \"y\": 0.18366333087156136, \"group\": \"tech\"}, {\"x\": -2.9483719747121, \"y\": -0.5177602741916143, \"group\": \"tech\"}, {\"x\": -0.0036171574547244623, \"y\": 0.6508260179002805, \"group\": \"tech\"}, {\"x\": -0.23205000544927684, \"y\": 0.47093156527278596, \"group\": \"tech\"}, {\"x\": -0.2985750042865002, \"y\": -0.8417380391951975, \"group\": \"tech\"}, {\"x\": -0.5435906674217112, \"y\": -1.88397645429348, \"group\": \"tech\"}, {\"x\": -0.16198055462328761, \"y\": 0.7472824835264344, \"group\": \"tech\"}, {\"x\": -1.7527306930211908, \"y\": 1.458043089164509, \"group\": \"tech\"}, {\"x\": -1.1712264657510238, \"y\": 0.4934853744148653, \"group\": \"tech\"}, {\"x\": 0.5916310945260226, \"y\": 0.6903750230911561, \"group\": \"tech\"}, {\"x\": -2.2717120322126982, \"y\": 0.06568064113082696, \"group\": \"tech\"}, {\"x\": 0.35818608090309595, \"y\": -0.06473307436064869, \"group\": \"tech\"}, {\"x\": 0.10228411064260845, \"y\": 1.9098477515397625, \"group\": \"tech\"}, {\"x\": 0.031401456902173996, \"y\": -0.1493832011565781, \"group\": \"tech\"}, {\"x\": -1.246192209454366, \"y\": 0.2131169243599425, \"group\": \"tech\"}, {\"x\": -0.5077006811070826, \"y\": 0.5573734743432694, \"group\": \"tech\"}, {\"x\": 0.03307050995763894, \"y\": 0.7961404627501322, \"group\": \"tech\"}, {\"x\": -1.9547248437050344, \"y\": -0.7312759567733453, \"group\": \"tech\"}, {\"x\": -1.42224327072726, \"y\": 1.1139517908482541, \"group\": \"tech\"}, {\"x\": -0.4102959300585988, \"y\": -0.810655693853538, \"group\": \"tech\"}, {\"x\": -2.1458763015654987, \"y\": -0.45008824982992196, \"group\": \"tech\"}, {\"x\": 0.1480285079085058, \"y\": 2.018032461671384, \"group\": \"tech\"}, {\"x\": -0.16894598757311904, \"y\": -0.22539206317881338, \"group\": \"tech\"}, {\"x\": -0.8665613920300044, \"y\": 1.7327434924145324, \"group\": \"tech\"}, {\"x\": -1.3449852545265906, \"y\": 0.5694192877692629, \"group\": \"tech\"}, {\"x\": -2.6305655805501593, \"y\": -0.5896035369218366, \"group\": \"tech\"}, {\"x\": 0.3597731101110431, \"y\": -1.587758403202207, \"group\": \"tech\"}, {\"x\": -0.39637330902614776, \"y\": -0.32403628134987816, \"group\": \"tech\"}, {\"x\": -1.6687113800759514, \"y\": -0.2275147115214699, \"group\": \"tech\"}, {\"x\": -0.6710125008296681, \"y\": -0.6822410640648368, \"group\": \"tech\"}, {\"x\": -0.5846181243908672, \"y\": -2.1018739879258277, \"group\": \"tech\"}, {\"x\": -0.6154213477985988, \"y\": -1.0747698039506204, \"group\": \"tech\"}, {\"x\": -0.9068483519809196, \"y\": -0.3897533450960662, \"group\": \"tech\"}, {\"x\": -0.06300807918008894, \"y\": -0.20141618819710144, \"group\": \"tech\"}, {\"x\": -1.283889285933679, \"y\": 0.7340606153834833, \"group\": \"tech\"}, {\"x\": 0.6166915695090174, \"y\": 0.04736712485269032, \"group\": \"tech\"}, {\"x\": 1.1433948315693891, \"y\": -0.9518367178952911, \"group\": \"tech\"}, {\"x\": -0.4333338210105271, \"y\": -1.732195848891341, \"group\": \"tech\"}, {\"x\": -0.5699773783044826, \"y\": 0.3650997202350751, \"group\": \"tech\"}, {\"x\": 0.20870519057594855, \"y\": 1.1463973327596442, \"group\": \"tech\"}, {\"x\": 0.4777330869658442, \"y\": -1.5654042958523715, \"group\": \"tech\"}, {\"x\": -0.07999347092822068, \"y\": 0.6945610111023308, \"group\": \"tech\"}, {\"x\": 0.4207567454838203, \"y\": 1.4200556103687374, \"group\": \"tech\"}, {\"x\": 1.017689165986654, \"y\": -2.3573925110862377, \"group\": \"tech\"}, {\"x\": 1.1262442923967957, \"y\": 0.545981673220383, \"group\": \"tech\"}, {\"x\": 1.2961821090431163, \"y\": 0.25840244348093355, \"group\": \"tech\"}, {\"x\": -0.5761561942621803, \"y\": 0.6645780115490775, \"group\": \"tech\"}, {\"x\": -0.8215121871302344, \"y\": 0.4378110431104917, \"group\": \"tech\"}, {\"x\": -0.7351330866307895, \"y\": -0.6424709824872726, \"group\": \"tech\"}, {\"x\": -0.7556458232267574, \"y\": 1.1954525528594935, \"group\": \"tech\"}, {\"x\": 0.41056936632152147, \"y\": 0.18341080117823164, \"group\": \"tech\"}, {\"x\": -1.3534764209579453, \"y\": 1.004280674802799, \"group\": \"tech\"}, {\"x\": 1.3406088260995048, \"y\": 1.6971188702651614, \"group\": \"tech\"}, {\"x\": 0.4616580841637172, \"y\": -0.41882860321517573, \"group\": \"tech\"}, {\"x\": -0.29355572803819263, \"y\": -1.22672040135875, \"group\": \"tech\"}, {\"x\": -0.40591535227037334, \"y\": -1.2426843172634765, \"group\": \"tech\"}, {\"x\": -0.40421074349189695, \"y\": 0.3073655535710452, \"group\": \"tech\"}, {\"x\": -0.7516422327287183, \"y\": 1.5396903440975678, \"group\": \"tech\"}, {\"x\": -1.5627931607386056, \"y\": 0.30608050972165185, \"group\": \"tech\"}, {\"x\": -0.072639323846661, \"y\": -0.24367147122758992, \"group\": \"tech\"}, {\"x\": -1.6380730685732892, \"y\": 1.432648452416733, \"group\": \"tech\"}, {\"x\": -0.5145514489127503, \"y\": 0.6795641023515456, \"group\": \"tech\"}, {\"x\": -1.0282593638332354, \"y\": -0.4586310252289078, \"group\": \"tech\"}, {\"x\": 1.511019615101558, \"y\": 0.2293543062103475, \"group\": \"tech\"}, {\"x\": -1.7369742943559106, \"y\": 0.43168311208673643, \"group\": \"tech\"}, {\"x\": 1.5150390759783467, \"y\": -0.3387316729016401, \"group\": \"tech\"}, {\"x\": 1.355679414643167, \"y\": -0.021694898315160402, \"group\": \"tech\"}, {\"x\": 0.8837479702941347, \"y\": -1.246454792779679, \"group\": \"tech\"}, {\"x\": -0.6236896533121745, \"y\": -2.097408571193343, \"group\": \"tech\"}, {\"x\": -1.6353127711171416, \"y\": 0.9256514176295491, \"group\": \"tech\"}, {\"x\": -0.8472708905909487, \"y\": 2.7668521156361168, \"group\": \"tech\"}, {\"x\": -0.33367223178170896, \"y\": 0.6914545751555359, \"group\": \"tech\"}, {\"x\": 0.5292859815718371, \"y\": 1.005106218920173, \"group\": \"tech\"}, {\"x\": -1.2389716948566618, \"y\": -0.9009679712843486, \"group\": \"tech\"}, {\"x\": -0.9383911403013971, \"y\": 0.11076147178056604, \"group\": \"tech\"}, {\"x\": 0.35148867333292905, \"y\": 2.7034369287615223, \"group\": \"tech\"}, {\"x\": -1.2594599913676063, \"y\": -0.6628455856225188, \"group\": \"tech\"}, {\"x\": -0.9097480030971945, \"y\": 0.4761958200536089, \"group\": \"tech\"}, {\"x\": -0.9583989978244418, \"y\": -2.510900758345658, \"group\": \"tech\"}, {\"x\": 0.3537066897055165, \"y\": -1.703417352596509, \"group\": \"tech\"}, {\"x\": 2.079597700493687, \"y\": -0.5244186304467484, \"group\": \"tech\"}, {\"x\": -0.9298160286150188, \"y\": 0.483018206892133, \"group\": \"tech\"}, {\"x\": 1.4714613203549793, \"y\": -1.312195720261089, \"group\": \"tech\"}, {\"x\": -2.492866985403741, \"y\": -0.8758642510035639, \"group\": \"tech\"}, {\"x\": -0.23587800268734463, \"y\": -0.21674641172334796, \"group\": \"tech\"}, {\"x\": -0.027754416143710547, \"y\": -0.3097477859402368, \"group\": \"tech\"}, {\"x\": -0.3713819505616228, \"y\": 0.44122248532795655, \"group\": \"tech\"}, {\"x\": -1.3609635141795402, \"y\": 1.070231982343964, \"group\": \"tech\"}, {\"x\": -1.50595994575036, \"y\": 0.8768222083449165, \"group\": \"tech\"}, {\"x\": 1.8989960935323245, \"y\": -0.283252843608953, \"group\": \"tech\"}, {\"x\": 2.1065350216507968, \"y\": -1.2412941808809708, \"group\": \"tech\"}, {\"x\": -1.791777347000992, \"y\": -1.4666523470547574, \"group\": \"tech\"}, {\"x\": -1.3022215371922707, \"y\": -1.1250582928111685, \"group\": \"tech\"}, {\"x\": 0.534266428242401, \"y\": 2.2093157453791945, \"group\": \"tech\"}, {\"x\": 1.5289247451715464, \"y\": -1.4552096010508573, \"group\": \"tech\"}, {\"x\": -1.604781570096345, \"y\": -0.20330879189942774, \"group\": \"tech\"}, {\"x\": 0.9167705747173871, \"y\": -0.44691605213706576, \"group\": \"tech\"}, {\"x\": 0.4280598480076577, \"y\": -2.4712483470432764, \"group\": \"tech\"}, {\"x\": 1.6220252256231382, \"y\": -0.22588003606307666, \"group\": \"tech\"}, {\"x\": 1.1422889936754366, \"y\": -1.9209193571212713, \"group\": \"tech\"}, {\"x\": 1.4503124258414455, \"y\": 1.9183802687806106, \"group\": \"tech\"}, {\"x\": 0.00804048678731406, \"y\": 1.1137917741847903, \"group\": \"tech\"}, {\"x\": 0.8022564387504145, \"y\": 1.4174561519260382, \"group\": \"tech\"}, {\"x\": 1.7418727561284042, \"y\": 0.228079005571186, \"group\": \"tech\"}, {\"x\": -0.6468553283792402, \"y\": 2.656015294341133, \"group\": \"tech\"}, {\"x\": 0.24125202618138714, \"y\": -0.06418515556123439, \"group\": \"tech\"}, {\"x\": -1.5145724862616219, \"y\": 0.9304285327202585, \"group\": \"tech\"}, {\"x\": -0.6999690411053594, \"y\": -1.7168025098206345, \"group\": \"tech\"}, {\"x\": 0.21161959063513264, \"y\": 2.258470657763227, \"group\": \"tech\"}, {\"x\": -0.6600458163587947, \"y\": 0.7300912049677482, \"group\": \"tech\"}, {\"x\": 0.7106710139975636, \"y\": -3.490965244177824, \"group\": \"tech\"}, {\"x\": -1.474559823159815, \"y\": 2.220093412496652, \"group\": \"tech\"}, {\"x\": -0.5904254784038439, \"y\": -0.6580563737959679, \"group\": \"tech\"}, {\"x\": -1.4034638255463547, \"y\": -0.06710597711567677, \"group\": \"tech\"}, {\"x\": -0.6221405980021136, \"y\": -1.076601394593415, \"group\": \"tech\"}, {\"x\": 2.318353268887207, \"y\": 1.6999265061764703, \"group\": \"tech\"}, {\"x\": -1.696615913658491, \"y\": 0.4194886432038084, \"group\": \"tech\"}, {\"x\": -1.2476832577565535, \"y\": -1.706541031385534, \"group\": \"tech\"}, {\"x\": -1.4967327967103135, \"y\": 2.132759090103287, \"group\": \"tech\"}, {\"x\": -1.6759459920537774, \"y\": 0.30000702953113884, \"group\": \"tech\"}, {\"x\": 0.9597721388739093, \"y\": -0.021144104005391864, \"group\": \"tech\"}, {\"x\": -0.921648442405359, \"y\": -0.19580594505336246, \"group\": \"tech\"}, {\"x\": -1.6062861880290134, \"y\": -1.3869137004267111, \"group\": \"tech\"}, {\"x\": -1.781129848150492, \"y\": -1.5759635832429044, \"group\": \"tech\"}, {\"x\": -0.863602572926546, \"y\": 0.5698531612140955, \"group\": \"tech\"}, {\"x\": 0.6536217384332641, \"y\": 0.6304455007754818, \"group\": \"tech\"}, {\"x\": -0.3673517219599998, \"y\": -0.6894645007889091, \"group\": \"tech\"}, {\"x\": 0.39081654018242956, \"y\": 1.8307722925385312, \"group\": \"tech\"}, {\"x\": -2.826131266554076, \"y\": -0.6263522226519502, \"group\": \"tech\"}, {\"x\": -1.167744092153987, \"y\": -0.7315474171891799, \"group\": \"tech\"}, {\"x\": -2.3873943271480265, \"y\": 0.08017315241849943, \"group\": \"tech\"}, {\"x\": -1.232793553083683, \"y\": 1.6838084068944867, \"group\": \"tech\"}, {\"x\": -0.7450547212998191, \"y\": 0.7149996165734692, \"group\": \"tech\"}, {\"x\": -1.4811564810777704, \"y\": -1.515673665347387, \"group\": \"tech\"}, {\"x\": 0.10879265681695433, \"y\": -0.7420371080718763, \"group\": \"tech\"}, {\"x\": -1.5204731540013359, \"y\": -0.31698851299352293, \"group\": \"tech\"}, {\"x\": -1.5795518136126552, \"y\": -1.0422826627913535, \"group\": \"tech\"}, {\"x\": -1.0758851611654014, \"y\": 0.17829966525898494, \"group\": \"tech\"}, {\"x\": -1.197305684207712, \"y\": 0.6258102842369726, \"group\": \"tech\"}, {\"x\": -0.7924049276842766, \"y\": 0.8884689230686347, \"group\": \"tech\"}, {\"x\": 1.3506823660337757, \"y\": -0.48177166272228544, \"group\": \"tech\"}, {\"x\": -1.1840819476644038, \"y\": -0.0008984785255532106, \"group\": \"tech\"}, {\"x\": -2.1391631666661057, \"y\": -1.3180096249430326, \"group\": \"tech\"}, {\"x\": 0.6151820018240655, \"y\": -0.5455308111430385, \"group\": \"tech\"}, {\"x\": -0.9729301271187714, \"y\": 0.12265223123507352, \"group\": \"tech\"}, {\"x\": -1.4914246988523152, \"y\": -1.1531006411777718, \"group\": \"tech\"}, {\"x\": 0.308281821226513, \"y\": -1.978765270265413, \"group\": \"tech\"}, {\"x\": 0.374275612225946, \"y\": -0.7470627114520779, \"group\": \"tech\"}, {\"x\": 0.8170684807056408, \"y\": -1.5906506471815045, \"group\": \"tech\"}, {\"x\": -1.1494589571901574, \"y\": -0.7138974294562596, \"group\": \"tech\"}, {\"x\": 0.4193635815826427, \"y\": -0.03425890445187819, \"group\": \"tech\"}, {\"x\": 0.08415558274806162, \"y\": -1.5996580521324086, \"group\": \"tech\"}, {\"x\": 1.1945489029660759, \"y\": -0.9962417337842201, \"group\": \"tech\"}, {\"x\": -0.9896465265303995, \"y\": -0.8307032656418657, \"group\": \"tech\"}, {\"x\": -1.650803550707617, \"y\": -1.6093137081126598, \"group\": \"tech\"}, {\"x\": -1.4954847343663213, \"y\": 1.2041906099704545, \"group\": \"tech\"}, {\"x\": -0.834836963477108, \"y\": 0.47108069865468283, \"group\": \"tech\"}, {\"x\": -1.8001985633910684, \"y\": -0.8469392950967203, \"group\": \"tech\"}, {\"x\": -0.461616548826142, \"y\": -0.2154209419617305, \"group\": \"tech\"}, {\"x\": -0.5417662474190167, \"y\": -1.9026072588771417, \"group\": \"tech\"}, {\"x\": 0.3989426897371415, \"y\": -1.245100816429744, \"group\": \"tech\"}, {\"x\": 0.3541333767113069, \"y\": -0.9993484783120302, \"group\": \"tech\"}, {\"x\": 0.04829522873048214, \"y\": -1.5490509299660578, \"group\": \"tech\"}, {\"x\": 0.6283141875333014, \"y\": -0.1954999677085959, \"group\": \"tech\"}, {\"x\": -0.455671790886786, \"y\": -0.32129140135315504, \"group\": \"tech\"}, {\"x\": -1.3174394699454197, \"y\": -0.14952103856107882, \"group\": \"tech\"}, {\"x\": -0.8555068223670497, \"y\": -1.1184261670905127, \"group\": \"tech\"}, {\"x\": 1.5184072867779668, \"y\": 0.5463820185410204, \"group\": \"tech\"}, {\"x\": 0.7300397141425716, \"y\": -1.3124154811331765, \"group\": \"tech\"}, {\"x\": -0.20443126486380614, \"y\": 0.12083020006084977, \"group\": \"tech\"}, {\"x\": 2.3890363418648595, \"y\": 0.8761790514142405, \"group\": \"tech\"}, {\"x\": -1.4840471432678448, \"y\": 0.8058502901495712, \"group\": \"tech\"}, {\"x\": 0.6993952981140457, \"y\": 0.5887357952182718, \"group\": \"tech\"}, {\"x\": 0.9909457049234889, \"y\": -0.09177765322875978, \"group\": \"tech\"}, {\"x\": 1.1949755979960064, \"y\": 0.03944607620150807, \"group\": \"tech\"}, {\"x\": -0.7764859557847279, \"y\": 0.37404478121790646, \"group\": \"tech\"}, {\"x\": -0.0035160633749630743, \"y\": 0.7710978256421356, \"group\": \"tech\"}, {\"x\": -0.5438359712658187, \"y\": 0.1522452323548879, \"group\": \"tech\"}, {\"x\": -0.6156644189582325, \"y\": 0.08467873828324654, \"group\": \"tech\"}, {\"x\": -1.327384035289766, \"y\": -0.8385271780294743, \"group\": \"tech\"}, {\"x\": -0.0877858653659333, \"y\": -1.7274354451615488, \"group\": \"tech\"}, {\"x\": -0.6041925929430052, \"y\": -0.2500367865858621, \"group\": \"tech\"}, {\"x\": 1.0082300247077154, \"y\": -0.41729411648447984, \"group\": \"tech\"}, {\"x\": -0.852398430206055, \"y\": -2.1655309576964874, \"group\": \"tech\"}, {\"x\": 0.14568742813721625, \"y\": -1.4126800190154, \"group\": \"tech\"}, {\"x\": -0.5552483295824134, \"y\": -0.9941253309205417, \"group\": \"tech\"}, {\"x\": 1.3561658155497354, \"y\": 0.7840667842278349, \"group\": \"tech\"}, {\"x\": -1.0364249957598262, \"y\": -0.1683500143663469, \"group\": \"tech\"}, {\"x\": -1.107829542272076, \"y\": 0.171895161759012, \"group\": \"tech\"}, {\"x\": -1.63151665205945, \"y\": 0.6382014414823571, \"group\": \"tech\"}, {\"x\": -1.5246814825704904, \"y\": 1.1409712084663217, \"group\": \"tech\"}, {\"x\": -0.8625576293360646, \"y\": 0.4647150108334181, \"group\": \"tech\"}, {\"x\": 1.3209016940737563, \"y\": 0.12170130623897207, \"group\": \"tech\"}, {\"x\": -1.720398255731241, \"y\": 1.7297736977605442, \"group\": \"tech\"}, {\"x\": -0.1967776799501929, \"y\": -0.16754584048790344, \"group\": \"tech\"}, {\"x\": -0.11746995530686374, \"y\": 0.08333442592067375, \"group\": \"tech\"}, {\"x\": 1.0107500504978857, \"y\": 0.46902534149238406, \"group\": \"tech\"}, {\"x\": -0.5033527615167572, \"y\": -2.8796252145353702, \"group\": \"tech\"}, {\"x\": -3.190959289994977, \"y\": 0.5775341867095539, \"group\": \"tech\"}, {\"x\": 0.4147586957044, \"y\": 0.045627227205891754, \"group\": \"tech\"}, {\"x\": -0.7715923642993612, \"y\": -1.089912078565794, \"group\": \"tech\"}, {\"x\": 0.10920531488590213, \"y\": 1.9472947118673618, \"group\": \"tech\"}, {\"x\": -0.12752439350953115, \"y\": -0.08579818122581782, \"group\": \"tech\"}, {\"x\": -1.1397172206820503, \"y\": -0.08277199170868095, \"group\": \"tech\"}, {\"x\": -1.173339297485795, \"y\": 0.11310281268679764, \"group\": \"tech\"}, {\"x\": -0.6153016087176935, \"y\": 0.17903652361634134, \"group\": \"tech\"}, {\"x\": 0.41601673824152136, \"y\": -0.7918769149408571, \"group\": \"tech\"}, {\"x\": -0.255597908720076, \"y\": 0.3999359466968993, \"group\": \"tech\"}, {\"x\": -0.37052827038696656, \"y\": 1.4911729040707333, \"group\": \"tech\"}, {\"x\": -0.6654890334034224, \"y\": 0.3312485105193527, \"group\": \"tech\"}, {\"x\": -0.7323005056275689, \"y\": -0.33651374585613186, \"group\": \"tech\"}, {\"x\": 0.33426699136573995, \"y\": 0.5951242099375615, \"group\": \"tech\"}, {\"x\": -0.31818297509446736, \"y\": 0.4173251633158271, \"group\": \"tech\"}, {\"x\": 0.7816578138167161, \"y\": 0.6650522823128775, \"group\": \"tech\"}, {\"x\": -0.5244476812616158, \"y\": 0.41474979662449907, \"group\": \"tech\"}, {\"x\": 0.6637640548728998, \"y\": 0.7556211555068778, \"group\": \"tech\"}, {\"x\": -1.7987399572438012, \"y\": -0.8397373288664105, \"group\": \"tech\"}, {\"x\": -1.5988645910965984, \"y\": -1.3771142579862095, \"group\": \"tech\"}, {\"x\": -0.022847074248294408, \"y\": 1.031979199781483, \"group\": \"tech\"}, {\"x\": -0.5777478002460945, \"y\": -1.2450286704626166, \"group\": \"tech\"}, {\"x\": -3.445298685797989, \"y\": -1.5647113209945966, \"group\": \"tech\"}, {\"x\": -1.3646420957423935, \"y\": -0.9260946744266595, \"group\": \"tech\"}, {\"x\": 0.5423438153436011, \"y\": -0.37244222320392517, \"group\": \"tech\"}, {\"x\": 0.466267381916145, \"y\": -0.04786168607404973, \"group\": \"tech\"}, {\"x\": 0.11797512571852242, \"y\": -0.5776206722541257, \"group\": \"tech\"}, {\"x\": 0.5129238497676922, \"y\": 0.42365620548762184, \"group\": \"tech\"}, {\"x\": 0.7107957214636289, \"y\": 0.48764058639307906, \"group\": \"tech\"}, {\"x\": -0.32520600148773543, \"y\": -1.4854952545017688, \"group\": \"tech\"}, {\"x\": 0.1782380409584759, \"y\": -1.12632860730399, \"group\": \"tech\"}, {\"x\": 1.0744103158625606, \"y\": -1.604840487373108, \"group\": \"tech\"}, {\"x\": -1.0650477069184194, \"y\": -0.4616054207993684, \"group\": \"tech\"}, {\"x\": -0.20558076084107874, \"y\": -0.5859322233877422, \"group\": \"tech\"}, {\"x\": 0.0032990689535899453, \"y\": 0.7696113003985771, \"group\": \"tech\"}, {\"x\": -1.8861268164227856, \"y\": 1.5686454397161202, \"group\": \"tech\"}, {\"x\": 0.7353357458526091, \"y\": -0.1618355725365558, \"group\": \"tech\"}, {\"x\": -0.19831462249552123, \"y\": -0.8377430183735842, \"group\": \"tech\"}, {\"x\": -0.29518315146962104, \"y\": -0.5018089307693839, \"group\": \"tech\"}, {\"x\": -0.39259464266249366, \"y\": -4.054504941294297, \"group\": \"tech\"}, {\"x\": -1.404034895598362, \"y\": -0.04940212933737497, \"group\": \"tech\"}, {\"x\": 0.670244053400392, \"y\": 0.46268460084107443, \"group\": \"tech\"}, {\"x\": -1.685641231630673, \"y\": -1.8474322222001038, \"group\": \"tech\"}, {\"x\": -0.6662828180480941, \"y\": -2.339466851986431, \"group\": \"tech\"}, {\"x\": -1.4325671389481764, \"y\": -0.6946912145344067, \"group\": \"tech\"}, {\"x\": -0.31299723373142524, \"y\": 0.5688111695392528, \"group\": \"tech\"}, {\"x\": 1.1687042517604689, \"y\": 0.9296563296455077, \"group\": \"tech\"}, {\"x\": -0.7606443092046709, \"y\": -0.6190567113236513, \"group\": \"tech\"}, {\"x\": -0.8584150108104271, \"y\": 1.606346409622747, \"group\": \"tech\"}, {\"x\": 1.2343716937896265, \"y\": 0.2615301064493048, \"group\": \"tech\"}, {\"x\": -1.0602787134629692, \"y\": -0.11415768942353298, \"group\": \"tech\"}, {\"x\": 0.24737751626385124, \"y\": -0.5306750833304669, \"group\": \"tech\"}, {\"x\": -0.19958891463488682, \"y\": -1.3013767361465878, \"group\": \"tech\"}, {\"x\": 0.3015712590503266, \"y\": -0.7455134318992149, \"group\": \"tech\"}, {\"x\": -1.0405783367269108, \"y\": 0.13496576427976126, \"group\": \"tech\"}, {\"x\": 0.0129720189319103, \"y\": -0.17279776244950176, \"group\": \"tech\"}, {\"x\": -0.5276698672935332, \"y\": -0.5191894360260741, \"group\": \"tech\"}, {\"x\": 0.2942235800438629, \"y\": -2.35799172484502, \"group\": \"tech\"}, {\"x\": -0.8347522882391119, \"y\": -0.7856692729436079, \"group\": \"tech\"}, {\"x\": 1.4501709689940516, \"y\": -1.5684043369971716, \"group\": \"tech\"}, {\"x\": -0.538730466351557, \"y\": -0.25256386912918094, \"group\": \"tech\"}, {\"x\": -0.3413234988738484, \"y\": -1.2162244729796772, \"group\": \"tech\"}, {\"x\": -1.804603453563328, \"y\": 1.1084537832701464, \"group\": \"tech\"}, {\"x\": 1.2471730655753088, \"y\": 0.3691786075267085, \"group\": \"tech\"}, {\"x\": -1.2476537083112493, \"y\": 0.0327663545971984, \"group\": \"tech\"}, {\"x\": 0.576206771188714, \"y\": -0.8131358699980927, \"group\": \"tech\"}, {\"x\": -1.9702667549224109, \"y\": 1.9875562836375604, \"group\": \"tech\"}, {\"x\": 1.1435461608284088, \"y\": 0.1475375767794997, \"group\": \"tech\"}, {\"x\": 0.3880698297082487, \"y\": -0.39250428285134276, \"group\": \"tech\"}, {\"x\": -1.3803998267143691, \"y\": 0.24669556237959583, \"group\": \"tech\"}, {\"x\": -1.0543094678158362, \"y\": -0.5975407935478392, \"group\": \"tech\"}, {\"x\": 1.2376861204767085, \"y\": -0.10548667617275455, \"group\": \"tech\"}, {\"x\": -0.1812077243365665, \"y\": 0.6506113157874754, \"group\": \"tech\"}, {\"x\": 0.3093963379647163, \"y\": 1.677670016933599, \"group\": \"tech\"}, {\"x\": -1.921629280365489, \"y\": -0.6464474081096219, \"group\": \"tech\"}, {\"x\": -1.4269067902468182, \"y\": -0.15899708018359135, \"group\": \"tech\"}, {\"x\": -0.1716323379291852, \"y\": -1.1314410353192346, \"group\": \"tech\"}, {\"x\": 0.3879995938646879, \"y\": 0.0449657384986774, \"group\": \"tech\"}, {\"x\": -2.8453315620011645, \"y\": 0.06099209748240413, \"group\": \"tech\"}, {\"x\": -2.2953329187665887, \"y\": -0.1297637081310146, \"group\": \"tech\"}, {\"x\": 0.5694759137617016, \"y\": -0.41239499692167286, \"group\": \"tech\"}, {\"x\": 1.0044733386633187, \"y\": 0.07694200615319435, \"group\": \"tech\"}, {\"x\": 0.03565338328509349, \"y\": 0.3707948158230096, \"group\": \"tech\"}, {\"x\": 0.8292332739562067, \"y\": -1.2216298850286147, \"group\": \"tech\"}, {\"x\": -0.09333544606901645, \"y\": -0.5208901615578767, \"group\": \"tech\"}, {\"x\": -0.18809281139744288, \"y\": -1.2668047197114642, \"group\": \"tech\"}, {\"x\": -0.29558910964438395, \"y\": 1.2836144676840304, \"group\": \"tech\"}, {\"x\": -0.8882665395351375, \"y\": 1.4553161838566366, \"group\": \"tech\"}, {\"x\": 1.1474290474429845, \"y\": -0.9399361289095233, \"group\": \"tech\"}, {\"x\": -2.184363383722162, \"y\": -1.1107572899069365, \"group\": \"tech\"}, {\"x\": 0.31155180946540767, \"y\": -2.1074343003508154, \"group\": \"tech\"}, {\"x\": -0.6304825669258265, \"y\": -1.2174965584098572, \"group\": \"tech\"}, {\"x\": -0.8995615064211362, \"y\": 0.4880808114294792, \"group\": \"tech\"}, {\"x\": 0.5033286583559209, \"y\": 1.4109683697465707, \"group\": \"tech\"}, {\"x\": -0.10368512527017257, \"y\": -1.631184629666222, \"group\": \"tech\"}, {\"x\": -0.015985779537125877, \"y\": 0.8846228542711391, \"group\": \"tech\"}, {\"x\": 1.359895426816705, \"y\": -0.46210061765343485, \"group\": \"tech\"}, {\"x\": -1.0439903901838594, \"y\": 0.14113198376232325, \"group\": \"tech\"}, {\"x\": -0.10717597276949015, \"y\": 0.6096047601105364, \"group\": \"tech\"}, {\"x\": 1.5853571789869585, \"y\": 0.2701153370439806, \"group\": \"tech\"}, {\"x\": -0.02373744803277167, \"y\": 1.6865857647340687, \"group\": \"tech\"}, {\"x\": -2.113061945483984, \"y\": 0.7003457800275082, \"group\": \"tech\"}, {\"x\": -1.7219154884027432, \"y\": 1.0274957875768598, \"group\": \"tech\"}, {\"x\": 0.6087912038804302, \"y\": 0.9763496350459837, \"group\": \"tech\"}, {\"x\": -1.6107890996845466, \"y\": -0.7072254257909726, \"group\": \"tech\"}, {\"x\": -0.6433440090853677, \"y\": 0.25077742893271954, \"group\": \"tech\"}, {\"x\": -1.2340056235635586, \"y\": -0.7936146324313974, \"group\": \"tech\"}, {\"x\": 0.4136386673981048, \"y\": 0.7427479089416219, \"group\": \"tech\"}, {\"x\": 0.2604645991188466, \"y\": 1.864509144951094, \"group\": \"tech\"}, {\"x\": -0.6904236298146291, \"y\": 1.6460470565958845, \"group\": \"tech\"}, {\"x\": -1.7277879520797448, \"y\": 1.2504628343640478, \"group\": \"tech\"}, {\"x\": -0.7519868841464901, \"y\": -0.7691658154257548, \"group\": \"tech\"}, {\"x\": -0.6804565693429098, \"y\": -0.4254051747357592, \"group\": \"tech\"}, {\"x\": 0.13291736917827546, \"y\": 1.1699784931496766, \"group\": \"tech\"}, {\"x\": 0.30207660428601096, \"y\": -1.1308557469812233, \"group\": \"tech\"}, {\"x\": -0.39080251185532977, \"y\": 0.08421409154065222, \"group\": \"tech\"}, {\"x\": -0.8345935470640726, \"y\": 1.8007198932695474, \"group\": \"tech\"}, {\"x\": -2.215594954033151, \"y\": 1.1505786476850666, \"group\": \"tech\"}, {\"x\": -0.930515336061339, \"y\": 1.2776302417542724, \"group\": \"tech\"}, {\"x\": -0.9410370013617617, \"y\": -0.6999049856209235, \"group\": \"tech\"}, {\"x\": -0.3012585867407999, \"y\": 1.7461022009644176, \"group\": \"tech\"}, {\"x\": -2.1823173296386993, \"y\": 1.3273815662762265, \"group\": \"tech\"}, {\"x\": 0.6091699480074915, \"y\": 1.7769699447863203, \"group\": \"tech\"}, {\"x\": -0.7710420267501157, \"y\": 1.058693742080882, \"group\": \"tech\"}, {\"x\": -0.376246878316701, \"y\": -1.0072183270841577, \"group\": \"tech\"}, {\"x\": -0.4906235769064963, \"y\": -1.1332514597269665, \"group\": \"tech\"}, {\"x\": -0.8648033274739395, \"y\": -0.25677310141867055, \"group\": \"tech\"}, {\"x\": -0.9138352711374966, \"y\": 0.008265333996409243, \"group\": \"tech\"}, {\"x\": -0.9606589866927153, \"y\": 0.40909953568570434, \"group\": \"tech\"}, {\"x\": -0.11267276905803997, \"y\": -1.9990695335003517, \"group\": \"tech\"}, {\"x\": -0.4492780698800325, \"y\": -0.736975703278971, \"group\": \"tech\"}, {\"x\": 2.1019725194341468, \"y\": -0.7162410288740539, \"group\": \"tech\"}, {\"x\": -0.039907471605220235, \"y\": 2.255608824717036, \"group\": \"tech\"}, {\"x\": -0.2540366782973673, \"y\": 1.5500581577365784, \"group\": \"tech\"}, {\"x\": -1.390598633587342, \"y\": -0.5078300977883508, \"group\": \"tech\"}, {\"x\": -1.7125361435371855, \"y\": -0.8447740265635523, \"group\": \"tech\"}, {\"x\": -0.7768450208123634, \"y\": -0.19261206623388358, \"group\": \"tech\"}, {\"x\": -1.8231162471776279, \"y\": 0.6419877971784761, \"group\": \"tech\"}, {\"x\": -0.1679686113387016, \"y\": -0.9541764161159573, \"group\": \"tech\"}, {\"x\": -1.0622231779883566, \"y\": -1.4685520781591732, \"group\": \"tech\"}, {\"x\": -0.8662053889079617, \"y\": -0.2751389776877491, \"group\": \"tech\"}, {\"x\": 1.0376197643783787, \"y\": -0.21540271542628203, \"group\": \"tech\"}, {\"x\": -0.44559323102257536, \"y\": 2.052670848292097, \"group\": \"tech\"}, {\"x\": -0.8092727956950047, \"y\": -0.3986538547868299, \"group\": \"tech\"}, {\"x\": -0.9152080114288204, \"y\": -0.8851642087785672, \"group\": \"tech\"}, {\"x\": -0.9100675469021045, \"y\": 0.1719055230628251, \"group\": \"tech\"}, {\"x\": -1.8278299687176822, \"y\": 0.8374780590947181, \"group\": \"tech\"}, {\"x\": -1.2564370276994266, \"y\": -0.31926918207405997, \"group\": \"tech\"}, {\"x\": -0.5984278784596342, \"y\": 0.9050582907756425, \"group\": \"tech\"}, {\"x\": -0.3005115937782615, \"y\": -0.4000143865097024, \"group\": \"tech\"}, {\"x\": -0.3550776867726816, \"y\": 0.9531920440329888, \"group\": \"tech\"}, {\"x\": -0.273618635593032, \"y\": -0.21834997452981184, \"group\": \"tech\"}, {\"x\": -0.5136338148668549, \"y\": 1.25517361079787, \"group\": \"tech\"}, {\"x\": -0.8838554373714174, \"y\": -2.1067987550811065, \"group\": \"tech\"}, {\"x\": -2.066445290545448, \"y\": -0.14120639571088803, \"group\": \"tech\"}, {\"x\": 0.060656563614230496, \"y\": -0.24097760514428357, \"group\": \"tech\"}, {\"x\": 2.358100382872684, \"y\": 0.7039756648707223, \"group\": \"tech\"}, {\"x\": -0.731560248469634, \"y\": 0.8279998690136825, \"group\": \"tech\"}, {\"x\": -0.230064532723464, \"y\": -1.1821292368419574, \"group\": \"tech\"}, {\"x\": -0.7835113132399332, \"y\": -0.6887831829154702, \"group\": \"tech\"}, {\"x\": 1.9258667744063351, \"y\": -1.5840606764537422, \"group\": \"tech\"}, {\"x\": -0.3124793260755822, \"y\": 0.534557939208992, \"group\": \"tech\"}, {\"x\": 0.02362163071376594, \"y\": 1.8210216094445508, \"group\": \"tech\"}, {\"x\": -0.4069763451312235, \"y\": 1.5771589416979512, \"group\": \"tech\"}, {\"x\": -0.7419881148557046, \"y\": 0.3663734760462257, \"group\": \"tech\"}, {\"x\": -0.6508517685730464, \"y\": -0.7608726112373801, \"group\": \"tech\"}, {\"x\": -0.9441607389263202, \"y\": -0.023036054644762577, \"group\": \"tech\"}, {\"x\": -0.27673259078350965, \"y\": -1.58761276336622, \"group\": \"tech\"}, {\"x\": -1.3438455663948052, \"y\": 0.7131488297180788, \"group\": \"tech\"}, {\"x\": 1.2883560443889732, \"y\": 1.1610774230597511, \"group\": \"tech\"}, {\"x\": 0.7960002057422166, \"y\": 0.07109167439976534, \"group\": \"tech\"}, {\"x\": 0.9013863885858877, \"y\": -0.3408583471330574, \"group\": \"tech\"}, {\"x\": -0.8337174047856237, \"y\": 1.1237336184082867, \"group\": \"tech\"}, {\"x\": -0.15893993346064525, \"y\": 3.286315318873599, \"group\": \"tech\"}, {\"x\": -0.7453978968328867, \"y\": 0.8167645891004314, \"group\": \"tech\"}, {\"x\": -1.7788429980551537, \"y\": -0.9725901833910283, \"group\": \"entertainment\"}, {\"x\": -1.8526235357956333, \"y\": 2.408746989464858, \"group\": \"entertainment\"}, {\"x\": -2.1435487045114665, \"y\": 1.359481829037488, \"group\": \"entertainment\"}, {\"x\": 0.7355899559347086, \"y\": 0.1050160370858924, \"group\": \"entertainment\"}, {\"x\": 0.44941639409067163, \"y\": -1.3580152300310446, \"group\": \"entertainment\"}, {\"x\": -0.7897668741377087, \"y\": 0.6428066362194216, \"group\": \"entertainment\"}, {\"x\": -1.1639059239698353, \"y\": -0.9887717352907819, \"group\": \"entertainment\"}, {\"x\": -0.2702559236293515, \"y\": 0.0006119140759193818, \"group\": \"entertainment\"}, {\"x\": -1.31158326164239, \"y\": 0.9904036039480398, \"group\": \"entertainment\"}, {\"x\": -0.4948323619102828, \"y\": 1.2658079710350318, \"group\": \"entertainment\"}, {\"x\": -0.7456222374565069, \"y\": 0.547533749689826, \"group\": \"entertainment\"}, {\"x\": -0.991799008423748, \"y\": 1.5249114759896765, \"group\": \"entertainment\"}, {\"x\": 0.26342035179689866, \"y\": -1.9600842571898967, \"group\": \"entertainment\"}, {\"x\": -0.5569542367068325, \"y\": -1.3937116102142688, \"group\": \"entertainment\"}, {\"x\": 0.10205422140903347, \"y\": 0.7199449098779853, \"group\": \"entertainment\"}, {\"x\": 1.10210243189972, \"y\": -0.6564720580692874, \"group\": \"entertainment\"}, {\"x\": -0.7311333309343817, \"y\": 0.9675823916143592, \"group\": \"entertainment\"}, {\"x\": -1.8937188994019243, \"y\": 0.6208442786066879, \"group\": \"entertainment\"}, {\"x\": -0.30654475128637804, \"y\": 0.7972054200237604, \"group\": \"entertainment\"}, {\"x\": 1.5112248564082102, \"y\": 0.018408581673940237, \"group\": \"entertainment\"}, {\"x\": 1.2045862064079371, \"y\": 1.4175642826801806, \"group\": \"entertainment\"}, {\"x\": 1.4285553212771038, \"y\": -2.238322224855895, \"group\": \"entertainment\"}, {\"x\": 0.8963332034194638, \"y\": -0.44515766335543816, \"group\": \"entertainment\"}, {\"x\": 0.7873597412033786, \"y\": 1.1270245494569988, \"group\": \"entertainment\"}, {\"x\": 0.6329477258797849, \"y\": 1.0604013855388374, \"group\": \"entertainment\"}, {\"x\": -1.1640570341491736, \"y\": 0.5392798203601914, \"group\": \"entertainment\"}, {\"x\": -0.021758180954981166, \"y\": 0.9769519189833239, \"group\": \"entertainment\"}, {\"x\": -0.19752193658687472, \"y\": 0.5415326549214821, \"group\": \"entertainment\"}, {\"x\": -0.3236773356881336, \"y\": -1.6746201186507377, \"group\": \"entertainment\"}, {\"x\": -0.35984753016628146, \"y\": -0.6105266224835099, \"group\": \"entertainment\"}, {\"x\": 0.11941082256635321, \"y\": 0.1374944851873427, \"group\": \"entertainment\"}, {\"x\": -1.342772787824192, \"y\": 0.02415994273256617, \"group\": \"entertainment\"}, {\"x\": 0.05072543462194101, \"y\": 0.42199977359306784, \"group\": \"entertainment\"}, {\"x\": 1.374216043960493, \"y\": -0.24320048990865006, \"group\": \"entertainment\"}, {\"x\": -1.2315654675432766, \"y\": 1.643099528799736, \"group\": \"entertainment\"}, {\"x\": 0.5538669910630949, \"y\": 1.423437297812961, \"group\": \"entertainment\"}, {\"x\": -2.290235097472957, \"y\": 1.6970231117959413, \"group\": \"entertainment\"}, {\"x\": -1.8482350438343866, \"y\": 0.9795629153465769, \"group\": \"entertainment\"}, {\"x\": 0.6017058169957854, \"y\": -0.906228917983761, \"group\": \"entertainment\"}, {\"x\": -1.5332153862592548, \"y\": 0.35498281141020865, \"group\": \"entertainment\"}, {\"x\": -1.2832990643070759, \"y\": -2.7678450178753105, \"group\": \"entertainment\"}, {\"x\": 0.95158527221498, \"y\": 0.029363731420132398, \"group\": \"entertainment\"}, {\"x\": -1.5140694080819312, \"y\": 1.8659522450802148, \"group\": \"entertainment\"}, {\"x\": 2.076293637755417, \"y\": -0.46866194004019845, \"group\": \"entertainment\"}, {\"x\": -0.02811570565507049, \"y\": 0.30420230351337924, \"group\": \"entertainment\"}, {\"x\": -0.404342024647629, \"y\": 1.3957652304694892, \"group\": \"entertainment\"}, {\"x\": 0.49399945133951123, \"y\": 0.09669069451447775, \"group\": \"entertainment\"}, {\"x\": 0.6311013824210754, \"y\": 0.6868191898107773, \"group\": \"entertainment\"}, {\"x\": -0.3675575041540007, \"y\": 0.2064837001903227, \"group\": \"entertainment\"}, {\"x\": -2.0276108161437802, \"y\": -1.7431213262447223, \"group\": \"entertainment\"}, {\"x\": -0.37833788628158477, \"y\": 0.04391484427431331, \"group\": \"entertainment\"}, {\"x\": 0.7347228233607377, \"y\": -0.34398451687210707, \"group\": \"entertainment\"}, {\"x\": -1.243947920797474, \"y\": -0.9295373557515962, \"group\": \"entertainment\"}, {\"x\": -1.1829275160490933, \"y\": -0.6213748204450218, \"group\": \"entertainment\"}, {\"x\": 0.4481060880913604, \"y\": -0.051158298701181736, \"group\": \"entertainment\"}, {\"x\": -1.816124235617549, \"y\": -0.8699770285810768, \"group\": \"entertainment\"}, {\"x\": 0.8781797507609732, \"y\": -1.3079431582809882, \"group\": \"entertainment\"}, {\"x\": 0.18444667282934551, \"y\": -0.6027603613014912, \"group\": \"entertainment\"}, {\"x\": -0.8845881972955749, \"y\": 2.1553821288790314, \"group\": \"entertainment\"}, {\"x\": -0.08861676708492039, \"y\": 0.453840531153636, \"group\": \"entertainment\"}, {\"x\": -0.61647257012486, \"y\": 0.8788738205635325, \"group\": \"entertainment\"}, {\"x\": 1.0538489941641505, \"y\": 1.6628854427871889, \"group\": \"entertainment\"}, {\"x\": -2.4048086273123035, \"y\": -0.3453351657541481, \"group\": \"entertainment\"}, {\"x\": -0.11480901778534078, \"y\": 1.0691298628558759, \"group\": \"entertainment\"}, {\"x\": 0.4091176425155892, \"y\": -1.6674624927644983, \"group\": \"entertainment\"}, {\"x\": 0.17926007363145163, \"y\": -0.3262018327870966, \"group\": \"entertainment\"}, {\"x\": 0.9446826912780761, \"y\": -2.442272585894289, \"group\": \"entertainment\"}, {\"x\": -0.49517182333754006, \"y\": 1.3094768014929514, \"group\": \"entertainment\"}, {\"x\": -1.7974569655257837, \"y\": 1.228605919315989, \"group\": \"entertainment\"}, {\"x\": -0.20061253060002435, \"y\": 0.9108695805484589, \"group\": \"entertainment\"}, {\"x\": -2.6960705753109466, \"y\": 0.2459590279704791, \"group\": \"entertainment\"}, {\"x\": 0.1263338058166632, \"y\": 0.39278693163938666, \"group\": \"entertainment\"}, {\"x\": -1.9489659472995213, \"y\": -0.1992722729786915, \"group\": \"entertainment\"}, {\"x\": 0.6031094287300902, \"y\": 1.6651627696218072, \"group\": \"entertainment\"}, {\"x\": 0.3072428297281416, \"y\": 1.225030808161679, \"group\": \"entertainment\"}, {\"x\": 0.4127467691488777, \"y\": -0.2947173036263215, \"group\": \"entertainment\"}, {\"x\": -0.8781960235023343, \"y\": -0.9777343827718421, \"group\": \"entertainment\"}, {\"x\": -1.375246663578354, \"y\": 1.7851469314077337, \"group\": \"entertainment\"}, {\"x\": 0.8271970819376164, \"y\": -0.30705243981546815, \"group\": \"entertainment\"}, {\"x\": -1.5147527009941342, \"y\": -1.7957049400190748, \"group\": \"entertainment\"}, {\"x\": 0.6368889291265754, \"y\": 1.4218094540050874, \"group\": \"entertainment\"}, {\"x\": 1.068010513075008, \"y\": 1.765825383420068, \"group\": \"entertainment\"}, {\"x\": -1.5822509380197418, \"y\": -0.743300018865555, \"group\": \"entertainment\"}, {\"x\": 0.30404625278535785, \"y\": 0.3701475604206655, \"group\": \"entertainment\"}, {\"x\": -0.9727499102131929, \"y\": -0.9848496020067147, \"group\": \"entertainment\"}, {\"x\": -1.0897136413282187, \"y\": -2.489540291798332, \"group\": \"entertainment\"}, {\"x\": -0.5792902279536207, \"y\": 1.5068969562692347, \"group\": \"entertainment\"}, {\"x\": -0.05280719567229031, \"y\": -0.09003164197299465, \"group\": \"entertainment\"}, {\"x\": -0.30349836795412194, \"y\": -0.9852481765300326, \"group\": \"entertainment\"}, {\"x\": 0.011063811158193881, \"y\": 0.4606883793820194, \"group\": \"entertainment\"}, {\"x\": -0.30540293134549856, \"y\": -0.12914127386846713, \"group\": \"entertainment\"}, {\"x\": -0.8688265922771723, \"y\": 1.0964236739893984, \"group\": \"entertainment\"}, {\"x\": -0.5851591167984527, \"y\": -0.9730327248246998, \"group\": \"entertainment\"}, {\"x\": 0.2797502653773561, \"y\": 3.115318598595781, \"group\": \"entertainment\"}, {\"x\": 0.18579226102120888, \"y\": -1.4805482598076496, \"group\": \"entertainment\"}, {\"x\": 0.7509925230503587, \"y\": -1.6922883054939704, \"group\": \"entertainment\"}, {\"x\": -0.6143593718252292, \"y\": 1.1446198566952588, \"group\": \"entertainment\"}, {\"x\": -1.9896031677930632, \"y\": -0.6261072915672405, \"group\": \"entertainment\"}, {\"x\": 0.01941907322901193, \"y\": 3.4481694583140907, \"group\": \"entertainment\"}, {\"x\": 0.09476491084397853, \"y\": 1.1397530151479849, \"group\": \"entertainment\"}, {\"x\": -0.21049493040117145, \"y\": -0.16692626266965832, \"group\": \"entertainment\"}, {\"x\": -1.0653989076023265, \"y\": 0.6747529855042604, \"group\": \"entertainment\"}, {\"x\": -1.9526834685507637, \"y\": 0.3152532371774466, \"group\": \"entertainment\"}, {\"x\": -1.9038421600429851, \"y\": 1.6088721998066926, \"group\": \"entertainment\"}, {\"x\": -1.7257263257762607, \"y\": 2.4981672064294926, \"group\": \"entertainment\"}, {\"x\": 0.7197179409612307, \"y\": -0.5840990603790724, \"group\": \"entertainment\"}, {\"x\": 1.803972030757985, \"y\": 0.12228332278353493, \"group\": \"entertainment\"}, {\"x\": -1.1366471671403857, \"y\": -0.7864237415205714, \"group\": \"entertainment\"}, {\"x\": 0.14718842253686676, \"y\": 0.7509738581253225, \"group\": \"entertainment\"}, {\"x\": -0.9033295558996719, \"y\": -0.21863168600926983, \"group\": \"entertainment\"}, {\"x\": -0.8924979201386656, \"y\": 1.2514794292443696, \"group\": \"entertainment\"}, {\"x\": 0.25519900948208757, \"y\": 0.23669996440996685, \"group\": \"entertainment\"}, {\"x\": -1.2793462428467834, \"y\": 2.020742604919558, \"group\": \"entertainment\"}, {\"x\": -0.9083200441839432, \"y\": -0.3550084380493131, \"group\": \"entertainment\"}, {\"x\": -0.3019773898179573, \"y\": -0.025055732818966885, \"group\": \"entertainment\"}, {\"x\": 2.0235459500257384, \"y\": 0.04952380195441466, \"group\": \"entertainment\"}, {\"x\": 0.7164848420173648, \"y\": -1.3952001977685267, \"group\": \"entertainment\"}, {\"x\": 0.6157610357752932, \"y\": 0.7703202777821073, \"group\": \"entertainment\"}, {\"x\": -0.36421554289184677, \"y\": 0.8932335485242127, \"group\": \"entertainment\"}, {\"x\": -0.25625869240762933, \"y\": -0.38272505836739573, \"group\": \"entertainment\"}, {\"x\": 1.1221898866185682, \"y\": 0.25335285223713755, \"group\": \"entertainment\"}, {\"x\": -0.8801571764827014, \"y\": -0.514854613064353, \"group\": \"entertainment\"}, {\"x\": -0.913433474172332, \"y\": -1.0060744469670506, \"group\": \"entertainment\"}, {\"x\": -0.1617283716588905, \"y\": -0.4741016502278432, \"group\": \"entertainment\"}, {\"x\": 0.36223547933640804, \"y\": 0.03944712873561808, \"group\": \"entertainment\"}, {\"x\": 0.5876798556021483, \"y\": 0.8255971735441613, \"group\": \"entertainment\"}, {\"x\": -1.414808700072558, \"y\": 0.0951464856958869, \"group\": \"entertainment\"}, {\"x\": -0.5512341119723256, \"y\": -1.4920284449215813, \"group\": \"entertainment\"}, {\"x\": -1.1508607258238182, \"y\": 1.1805148563420718, \"group\": \"entertainment\"}, {\"x\": 0.4411426181452212, \"y\": 0.1289494183146876, \"group\": \"entertainment\"}, {\"x\": -0.38072002796821763, \"y\": -0.3908119680661849, \"group\": \"entertainment\"}, {\"x\": -1.6778160580542583, \"y\": 0.318390946043914, \"group\": \"entertainment\"}, {\"x\": 1.2806061201522219, \"y\": -1.5401504354584485, \"group\": \"entertainment\"}, {\"x\": 1.0032049395937424, \"y\": -0.3860072285336683, \"group\": \"entertainment\"}, {\"x\": -0.32862500562707847, \"y\": 1.644689835200377, \"group\": \"entertainment\"}, {\"x\": 0.12030903479775462, \"y\": -0.33462952579429545, \"group\": \"entertainment\"}, {\"x\": -0.5947685950932345, \"y\": 0.7840340925579186, \"group\": \"entertainment\"}, {\"x\": -0.8765460707170767, \"y\": -1.3510374445820923, \"group\": \"entertainment\"}, {\"x\": -0.9080172978917969, \"y\": -1.0512208373237004, \"group\": \"entertainment\"}, {\"x\": -0.8864394787950447, \"y\": 1.2720375068499403, \"group\": \"entertainment\"}, {\"x\": -2.0208362940315743, \"y\": -0.4070834145744052, \"group\": \"entertainment\"}, {\"x\": 1.633330363426191, \"y\": -0.10188724717389328, \"group\": \"entertainment\"}, {\"x\": 2.009955338626264, \"y\": -1.3561149849095748, \"group\": \"entertainment\"}, {\"x\": -0.0021332399148180636, \"y\": 0.4033930457188451, \"group\": \"entertainment\"}, {\"x\": 0.10213858644268309, \"y\": -0.5982434087899746, \"group\": \"entertainment\"}, {\"x\": 1.730705035633063, \"y\": -0.693415276647316, \"group\": \"entertainment\"}, {\"x\": -0.06967583972614699, \"y\": -1.7964964017812368, \"group\": \"entertainment\"}, {\"x\": -1.784971516996218, \"y\": -0.6622853382435981, \"group\": \"entertainment\"}, {\"x\": 0.29242146499573357, \"y\": 0.39274699794759327, \"group\": \"entertainment\"}, {\"x\": 0.8710080358827315, \"y\": 1.7216502467320665, \"group\": \"entertainment\"}, {\"x\": -0.19267486906480225, \"y\": 0.13105932381182145, \"group\": \"entertainment\"}, {\"x\": -0.35856942900307603, \"y\": 2.5098230149978464, \"group\": \"entertainment\"}, {\"x\": -1.2827325876564661, \"y\": 0.791858046014194, \"group\": \"entertainment\"}, {\"x\": -1.3497495651120228, \"y\": -1.0600954305109849, \"group\": \"entertainment\"}, {\"x\": 1.087859848148792, \"y\": 1.1678813151561245, \"group\": \"entertainment\"}, {\"x\": -0.022329897063494752, \"y\": -2.48944953683277, \"group\": \"entertainment\"}, {\"x\": -0.13726203060664904, \"y\": 0.6413387567666876, \"group\": \"entertainment\"}, {\"x\": -0.7320978796929888, \"y\": 1.7412471970138652, \"group\": \"entertainment\"}, {\"x\": -0.2218544233826012, \"y\": 0.1095237811999044, \"group\": \"entertainment\"}, {\"x\": -1.1739883549096561, \"y\": -0.3075192018497574, \"group\": \"entertainment\"}, {\"x\": -1.2511052747145317, \"y\": -0.5595578409991551, \"group\": \"entertainment\"}, {\"x\": -1.3034142461277232, \"y\": -0.8295417016890158, \"group\": \"entertainment\"}, {\"x\": 0.4415048732995846, \"y\": 0.34584250631020613, \"group\": \"entertainment\"}, {\"x\": -1.5017533523875926, \"y\": -1.156255525537511, \"group\": \"entertainment\"}, {\"x\": -1.0336655089652562, \"y\": -1.2238524703799134, \"group\": \"entertainment\"}, {\"x\": -1.7179618661732041, \"y\": -2.8826678210475256, \"group\": \"entertainment\"}, {\"x\": 0.3024094233652042, \"y\": -1.848504162376312, \"group\": \"entertainment\"}, {\"x\": -2.1561527315645863, \"y\": -0.4931374864362168, \"group\": \"entertainment\"}, {\"x\": 1.15229021274777, \"y\": 1.08082937317698, \"group\": \"entertainment\"}, {\"x\": -1.6046049313768544, \"y\": -0.31270122767474434, \"group\": \"entertainment\"}, {\"x\": -2.2299354950113406, \"y\": 0.4640135199954792, \"group\": \"entertainment\"}, {\"x\": -0.09042614499646748, \"y\": -1.3290889919413447, \"group\": \"entertainment\"}, {\"x\": -1.8384584083555426, \"y\": -0.8803776558833531, \"group\": \"entertainment\"}, {\"x\": -0.9554934679478411, \"y\": 2.6600163461944595, \"group\": \"entertainment\"}, {\"x\": -1.7777569368534811, \"y\": -0.0720048707162879, \"group\": \"entertainment\"}, {\"x\": 0.2748378819350568, \"y\": 0.004068834761274943, \"group\": \"entertainment\"}, {\"x\": -0.8882053509399097, \"y\": 0.2619951005153868, \"group\": \"entertainment\"}, {\"x\": -1.0294947444836304, \"y\": 0.978182578940923, \"group\": \"entertainment\"}, {\"x\": -1.4543365257037106, \"y\": -0.05815312765530761, \"group\": \"entertainment\"}, {\"x\": 1.6269083821044816, \"y\": -0.3486274190989979, \"group\": \"entertainment\"}, {\"x\": 0.74217572646716, \"y\": 0.9933661750181476, \"group\": \"entertainment\"}, {\"x\": -0.6087034547926662, \"y\": -0.7629747366520703, \"group\": \"entertainment\"}, {\"x\": 0.5479524451098221, \"y\": 0.4169801944772946, \"group\": \"entertainment\"}, {\"x\": -0.6788179850400908, \"y\": 2.1279406956265396, \"group\": \"entertainment\"}, {\"x\": -0.6052292054778345, \"y\": -2.1825577958565545, \"group\": \"entertainment\"}, {\"x\": -2.7409813084825285, \"y\": -1.87387295925592, \"group\": \"entertainment\"}, {\"x\": -0.21000199269481856, \"y\": 1.198365913172852, \"group\": \"entertainment\"}, {\"x\": 0.8616391702645554, \"y\": 1.3478610723966407, \"group\": \"entertainment\"}, {\"x\": -2.3407756336925414, \"y\": 0.2738390831752169, \"group\": \"entertainment\"}, {\"x\": -0.719241454292934, \"y\": 0.10956566253632752, \"group\": \"entertainment\"}, {\"x\": 0.2108601832955162, \"y\": 0.4185782183024539, \"group\": \"entertainment\"}, {\"x\": -0.9059216982920963, \"y\": 0.45276015827074917, \"group\": \"entertainment\"}, {\"x\": 0.4003408304084444, \"y\": 1.588027806182545, \"group\": \"entertainment\"}, {\"x\": 0.5430573562200829, \"y\": 1.0021194220880565, \"group\": \"entertainment\"}, {\"x\": -0.7977984210428959, \"y\": -0.8402618017946107, \"group\": \"entertainment\"}, {\"x\": -0.9799369153051452, \"y\": 0.973031338332704, \"group\": \"entertainment\"}, {\"x\": -0.8723057738944509, \"y\": 0.4545143142734725, \"group\": \"entertainment\"}, {\"x\": -1.0087540401997548, \"y\": 1.015219988451889, \"group\": \"entertainment\"}, {\"x\": 1.4062223917099705, \"y\": 0.9168664220503131, \"group\": \"entertainment\"}, {\"x\": 0.8999511614325344, \"y\": 1.0722828058724792, \"group\": \"entertainment\"}, {\"x\": 0.3270589443572211, \"y\": 1.3271268530874305, \"group\": \"entertainment\"}, {\"x\": -0.10343934527864149, \"y\": 0.35104566515658175, \"group\": \"entertainment\"}, {\"x\": -1.6557378395551203, \"y\": -1.5575501405719783, \"group\": \"entertainment\"}, {\"x\": -1.6626798806135479, \"y\": 0.23929330380317998, \"group\": \"entertainment\"}, {\"x\": -0.32422279697168, \"y\": -1.2451439703226552, \"group\": \"entertainment\"}, {\"x\": -1.6031052594816806, \"y\": 0.5856549578771639, \"group\": \"entertainment\"}, {\"x\": -0.6941892833746222, \"y\": 0.2898015839129401, \"group\": \"entertainment\"}, {\"x\": -1.7370978678830167, \"y\": -1.5257408129602712, \"group\": \"entertainment\"}, {\"x\": -0.36381652217958266, \"y\": -0.35031039653503543, \"group\": \"entertainment\"}, {\"x\": 2.083377134630236, \"y\": -1.1996770151213816, \"group\": \"entertainment\"}, {\"x\": -0.2681239339927224, \"y\": -0.7106877788178478, \"group\": \"entertainment\"}, {\"x\": -0.49228368852093385, \"y\": 0.3976821787859329, \"group\": \"entertainment\"}, {\"x\": 0.1144960652421031, \"y\": -0.24625090433070318, \"group\": \"entertainment\"}, {\"x\": -1.3802017133021127, \"y\": -1.7706107086581873, \"group\": \"entertainment\"}, {\"x\": -0.46228949157534566, \"y\": -2.8238411367557403, \"group\": \"entertainment\"}, {\"x\": -1.7332078690236936, \"y\": -1.1559249940295835, \"group\": \"entertainment\"}, {\"x\": -1.5737066877434724, \"y\": 3.15798060667771, \"group\": \"entertainment\"}, {\"x\": -2.5725541282166637, \"y\": -1.2898010008522918, \"group\": \"entertainment\"}, {\"x\": -0.03821036911870973, \"y\": -0.2770030587356367, \"group\": \"entertainment\"}, {\"x\": -2.581024555391563, \"y\": -1.0100367219601776, \"group\": \"entertainment\"}, {\"x\": -1.0850284606125573, \"y\": 0.436478470516575, \"group\": \"entertainment\"}, {\"x\": -0.27259857596582293, \"y\": -0.8244366664384325, \"group\": \"entertainment\"}, {\"x\": -0.37539769803942746, \"y\": 1.65842367459477, \"group\": \"entertainment\"}, {\"x\": 0.7447673437263769, \"y\": -0.5868005576050915, \"group\": \"entertainment\"}, {\"x\": -1.2498146489154858, \"y\": -1.561194115936342, \"group\": \"entertainment\"}, {\"x\": 0.02407378015013112, \"y\": -0.31518592093944486, \"group\": \"entertainment\"}, {\"x\": -0.3880453194293267, \"y\": 0.6487922277372651, \"group\": \"entertainment\"}, {\"x\": 0.9756611922206111, \"y\": 1.3777546387924993, \"group\": \"entertainment\"}, {\"x\": -0.03206583168541027, \"y\": 1.577092797633372, \"group\": \"entertainment\"}, {\"x\": -2.196197780979898, \"y\": 1.0311074276987, \"group\": \"entertainment\"}, {\"x\": -1.990368887355709e-05, \"y\": -1.175419634600488, \"group\": \"entertainment\"}, {\"x\": -0.27908122942318314, \"y\": 1.5516734264878085, \"group\": \"entertainment\"}, {\"x\": -0.9693230402939348, \"y\": -1.5748082288897052, \"group\": \"entertainment\"}, {\"x\": 0.2962788650458256, \"y\": -0.7562170986747736, \"group\": \"entertainment\"}, {\"x\": -1.686302978266118, \"y\": -0.9226893394008627, \"group\": \"entertainment\"}, {\"x\": -0.014556413399726575, \"y\": -0.19426033917627625, \"group\": \"entertainment\"}, {\"x\": 0.12384745819769971, \"y\": 1.2786851506387766, \"group\": \"entertainment\"}, {\"x\": -0.06000836639401025, \"y\": 0.9222354348488455, \"group\": \"entertainment\"}, {\"x\": -1.1867178580767241, \"y\": -0.18120198298174006, \"group\": \"entertainment\"}, {\"x\": 0.8350581171046441, \"y\": -1.2763573143905702, \"group\": \"entertainment\"}, {\"x\": 0.3161302856047418, \"y\": -0.6433228054880894, \"group\": \"entertainment\"}, {\"x\": -0.2113684003834021, \"y\": -0.6062455997091266, \"group\": \"entertainment\"}, {\"x\": -0.649802160659517, \"y\": 0.644971723878946, \"group\": \"entertainment\"}, {\"x\": -1.8587121232470507, \"y\": 1.5216509645283782, \"group\": \"entertainment\"}, {\"x\": -1.612860685098904, \"y\": -0.7322895902658382, \"group\": \"entertainment\"}, {\"x\": 0.3877123043372898, \"y\": 0.46982318933770395, \"group\": \"entertainment\"}, {\"x\": -2.4784101005019306, \"y\": -0.13206682229528977, \"group\": \"entertainment\"}, {\"x\": -2.7971244859421347, \"y\": -0.8388430526117051, \"group\": \"entertainment\"}, {\"x\": 0.19836363202878, \"y\": -0.14475244777754045, \"group\": \"entertainment\"}, {\"x\": -0.1783150360578109, \"y\": -0.3498807355184378, \"group\": \"entertainment\"}, {\"x\": 0.731416308269812, \"y\": -0.5024295825940005, \"group\": \"entertainment\"}, {\"x\": 0.27510529440194104, \"y\": -0.6622027161570542, \"group\": \"entertainment\"}, {\"x\": -0.31624931242257587, \"y\": -0.9346571807378132, \"group\": \"entertainment\"}, {\"x\": 0.8492647051095732, \"y\": -0.10923270438391687, \"group\": \"entertainment\"}, {\"x\": -1.9312492004978001, \"y\": 1.1226729545438192, \"group\": \"entertainment\"}, {\"x\": 0.03784877160110789, \"y\": 0.711213045762908, \"group\": \"entertainment\"}, {\"x\": 0.124026201357614, \"y\": 0.28144407370503605, \"group\": \"entertainment\"}, {\"x\": -1.1374819926314599, \"y\": -1.2709484024513762, \"group\": \"entertainment\"}, {\"x\": 1.544898212600319, \"y\": -1.3466095361955241, \"group\": \"entertainment\"}, {\"x\": 0.3739589098695361, \"y\": 1.5159298968033328, \"group\": \"entertainment\"}, {\"x\": -0.7273040163179071, \"y\": -0.04538367681726821, \"group\": \"entertainment\"}, {\"x\": -0.3541552068229641, \"y\": 0.7669119502261452, \"group\": \"entertainment\"}, {\"x\": 0.12994062317537458, \"y\": -0.48301114764018216, \"group\": \"entertainment\"}, {\"x\": 0.8812658096252737, \"y\": -0.7763396398179463, \"group\": \"entertainment\"}, {\"x\": -0.507216429429976, \"y\": 0.2616417761761194, \"group\": \"entertainment\"}, {\"x\": -0.744981653063489, \"y\": 1.3790376745223558, \"group\": \"entertainment\"}, {\"x\": -0.37246216667129217, \"y\": -0.08353260094531599, \"group\": \"entertainment\"}, {\"x\": -1.0933276501152311, \"y\": 0.7041682684942651, \"group\": \"entertainment\"}, {\"x\": -0.8478518101519266, \"y\": -0.1284034084007029, \"group\": \"entertainment\"}, {\"x\": -1.2330281881287088, \"y\": 0.2351925179924725, \"group\": \"entertainment\"}, {\"x\": -0.4344706086711467, \"y\": 0.34719068911405304, \"group\": \"entertainment\"}, {\"x\": -0.2751021726108381, \"y\": -0.33683203636952597, \"group\": \"entertainment\"}, {\"x\": 0.08717012368654303, \"y\": 0.23145371715120722, \"group\": \"entertainment\"}, {\"x\": -0.8399957370119471, \"y\": -0.6318635295517566, \"group\": \"entertainment\"}, {\"x\": -0.26022109803722737, \"y\": 0.6906513541590695, \"group\": \"entertainment\"}, {\"x\": -1.1976338191901237, \"y\": 0.4817923905236095, \"group\": \"entertainment\"}, {\"x\": -1.1706555756167871, \"y\": 1.3281863581337479, \"group\": \"entertainment\"}, {\"x\": -2.7252211702571683, \"y\": 1.1282521561432992, \"group\": \"entertainment\"}, {\"x\": 0.058210058279996146, \"y\": -1.033088260840448, \"group\": \"entertainment\"}, {\"x\": -1.2231717775303745, \"y\": 0.3116060573154483, \"group\": \"entertainment\"}, {\"x\": 1.083553080230497, \"y\": 1.3690243970652787, \"group\": \"entertainment\"}, {\"x\": -0.038332638461938184, \"y\": -1.0540257964878668, \"group\": \"entertainment\"}, {\"x\": 1.1415427359048753, \"y\": -0.880086287713366, \"group\": \"entertainment\"}, {\"x\": 0.08895364073152012, \"y\": -0.923779154011413, \"group\": \"entertainment\"}, {\"x\": 1.6802527871755935, \"y\": -0.5103232551783983, \"group\": \"entertainment\"}, {\"x\": 0.2596423532823509, \"y\": -0.5116093678207511, \"group\": \"entertainment\"}, {\"x\": -0.9062612661553893, \"y\": 1.0721184363512548, \"group\": \"entertainment\"}, {\"x\": 2.24724462346512, \"y\": 1.4401242584431504, \"group\": \"entertainment\"}, {\"x\": -0.31653057434712306, \"y\": -0.06262828106089403, \"group\": \"entertainment\"}, {\"x\": -0.3014728964645987, \"y\": 1.2879407332308799, \"group\": \"entertainment\"}, {\"x\": -0.20127175715847934, \"y\": 1.0167931532287917, \"group\": \"entertainment\"}, {\"x\": -0.8862711805668735, \"y\": -1.75681638670024, \"group\": \"entertainment\"}, {\"x\": 0.41797394732264476, \"y\": 0.28907421833095115, \"group\": \"entertainment\"}, {\"x\": -1.8940910186283397, \"y\": 1.2999695839365222, \"group\": \"entertainment\"}, {\"x\": 0.0051342395707562605, \"y\": 0.4815859323605226, \"group\": \"entertainment\"}, {\"x\": 0.5509737608017966, \"y\": -0.9072350475166342, \"group\": \"entertainment\"}, {\"x\": 0.7169489992397944, \"y\": -1.601681945493144, \"group\": \"entertainment\"}, {\"x\": -1.5696719468644806, \"y\": 1.6937605019842532, \"group\": \"entertainment\"}, {\"x\": -0.00010140357397547817, \"y\": -1.038155369028558, \"group\": \"entertainment\"}, {\"x\": -0.07806212554422212, \"y\": -0.04744133971999019, \"group\": \"entertainment\"}, {\"x\": -0.1943496769514148, \"y\": -1.0943596076532316, \"group\": \"entertainment\"}, {\"x\": -1.2412427071563137, \"y\": -0.27948112246110285, \"group\": \"entertainment\"}, {\"x\": -1.7515088064880489, \"y\": -1.0031687254825878, \"group\": \"entertainment\"}, {\"x\": -0.6982498309177041, \"y\": 0.9629293248267085, \"group\": \"entertainment\"}, {\"x\": 0.05814268173437592, \"y\": -0.6783132596706858, \"group\": \"entertainment\"}, {\"x\": -1.8411144902299268, \"y\": -1.2385024678795755, \"group\": \"entertainment\"}, {\"x\": -2.042079779128813, \"y\": -1.3769560835422543, \"group\": \"entertainment\"}, {\"x\": -0.353020723551151, \"y\": -0.8513210633920907, \"group\": \"entertainment\"}, {\"x\": -1.8753865538955912, \"y\": 0.17473004892481664, \"group\": \"entertainment\"}, {\"x\": -1.2970287655512922, \"y\": -0.7763330469503569, \"group\": \"entertainment\"}, {\"x\": -0.8667538834523718, \"y\": -1.8301313281159084, \"group\": \"entertainment\"}, {\"x\": -1.0002412145920567, \"y\": -0.029100689235475208, \"group\": \"entertainment\"}, {\"x\": 0.8633612686059198, \"y\": 0.5228902682158255, \"group\": \"entertainment\"}, {\"x\": -0.6159673442303137, \"y\": 1.9256465293934615, \"group\": \"entertainment\"}, {\"x\": -1.2374395087096266, \"y\": -0.3036494493509042, \"group\": \"entertainment\"}, {\"x\": -1.9627666719574894, \"y\": -0.31973919488752955, \"group\": \"entertainment\"}, {\"x\": -1.5293281871541458, \"y\": 1.0845384556249271, \"group\": \"entertainment\"}, {\"x\": 0.00887579063836802, \"y\": -1.601566732644675, \"group\": \"entertainment\"}, {\"x\": 0.16750893664543898, \"y\": 0.8635639481455178, \"group\": \"entertainment\"}, {\"x\": 0.4924897108484911, \"y\": -0.5942424382158976, \"group\": \"entertainment\"}, {\"x\": -0.5290611342545168, \"y\": -1.3691526505215534, \"group\": \"entertainment\"}, {\"x\": -0.779990417728424, \"y\": -0.8755752041908476, \"group\": \"entertainment\"}, {\"x\": -0.38243799098661285, \"y\": -0.5217542717072154, \"group\": \"entertainment\"}, {\"x\": -0.2700015228538695, \"y\": -0.8764509379416038, \"group\": \"entertainment\"}, {\"x\": 1.365904109562319, \"y\": -0.05726766617761955, \"group\": \"entertainment\"}, {\"x\": 0.6461860443702945, \"y\": 1.0714420955799997, \"group\": \"entertainment\"}, {\"x\": 0.7527548155182491, \"y\": 0.805389990496398, \"group\": \"entertainment\"}, {\"x\": 0.8864293688060061, \"y\": 1.4262929601221908, \"group\": \"entertainment\"}, {\"x\": 0.6676503816471209, \"y\": 1.6803940147760905, \"group\": \"entertainment\"}, {\"x\": -1.2097658811094056, \"y\": 2.0976047013514036, \"group\": \"entertainment\"}, {\"x\": 0.6670900012962906, \"y\": -0.6366978961581541, \"group\": \"entertainment\"}, {\"x\": -1.7350806555018243, \"y\": -0.48159284828350085, \"group\": \"entertainment\"}, {\"x\": -0.9173466441918714, \"y\": -0.2574419971102325, \"group\": \"entertainment\"}, {\"x\": -0.45109978831351755, \"y\": 0.8128871067013241, \"group\": \"entertainment\"}, {\"x\": -1.1372596705641405, \"y\": 1.7381078615214112, \"group\": \"entertainment\"}, {\"x\": -0.8087092229302076, \"y\": 0.7010794757261211, \"group\": \"entertainment\"}, {\"x\": 0.8600896500683044, \"y\": -0.4006229441850903, \"group\": \"entertainment\"}, {\"x\": 0.16504319593805372, \"y\": 0.990150247368252, \"group\": \"entertainment\"}, {\"x\": -2.6163263602635363, \"y\": -0.39028279579138003, \"group\": \"entertainment\"}, {\"x\": -0.23226366645074484, \"y\": 0.12933220222306993, \"group\": \"entertainment\"}, {\"x\": -1.9152988072852295, \"y\": 0.6540496346217641, \"group\": \"entertainment\"}, {\"x\": 0.7889729788870414, \"y\": 0.29438464147173493, \"group\": \"entertainment\"}, {\"x\": -0.5256982479192516, \"y\": 0.2895413714872659, \"group\": \"entertainment\"}, {\"x\": -1.0509500859697531, \"y\": 0.803281986421493, \"group\": \"entertainment\"}, {\"x\": -0.15955482464433582, \"y\": -1.4868330230536788, \"group\": \"entertainment\"}, {\"x\": -0.07354115899437058, \"y\": 1.6344635041360813, \"group\": \"entertainment\"}, {\"x\": -1.6705156490825734, \"y\": -0.4376675791307807, \"group\": \"entertainment\"}, {\"x\": -0.15238314748444595, \"y\": -1.2303177244359877, \"group\": \"entertainment\"}, {\"x\": -0.07804368074591078, \"y\": -0.8891176567892939, \"group\": \"entertainment\"}, {\"x\": 1.7813359761826457, \"y\": -1.4729920246675718, \"group\": \"entertainment\"}, {\"x\": -0.6513383498932563, \"y\": 0.6159459417999972, \"group\": \"entertainment\"}, {\"x\": -1.3059416180228514, \"y\": -0.02444688736786165, \"group\": \"entertainment\"}, {\"x\": 0.35922961777023693, \"y\": -1.4526367347304066, \"group\": \"entertainment\"}, {\"x\": -0.6579976203531233, \"y\": 0.9876864516366669, \"group\": \"entertainment\"}, {\"x\": -2.5237875542842043, \"y\": 1.0605992747154849, \"group\": \"entertainment\"}, {\"x\": 0.3851422253385824, \"y\": -0.8237619682547008, \"group\": \"entertainment\"}, {\"x\": -0.11616680947652241, \"y\": 1.6443604875056455, \"group\": \"entertainment\"}, {\"x\": 0.49177994325670976, \"y\": 1.0288952544945038, \"group\": \"entertainment\"}, {\"x\": 0.52944798233504, \"y\": 2.629517425760382, \"group\": \"entertainment\"}, {\"x\": 0.2766226754783428, \"y\": 0.9468768652735691, \"group\": \"entertainment\"}, {\"x\": -0.9749918827135116, \"y\": -0.5877654877857973, \"group\": \"entertainment\"}, {\"x\": 0.1582016762767009, \"y\": -0.37223123886644927, \"group\": \"entertainment\"}, {\"x\": 0.7249920417618985, \"y\": -2.5086979990679605, \"group\": \"entertainment\"}, {\"x\": -1.2227884342114048, \"y\": 0.37284327918141147, \"group\": \"entertainment\"}, {\"x\": 0.07352103071854754, \"y\": -1.052708142890119, \"group\": \"entertainment\"}, {\"x\": -1.9738341776797628, \"y\": 1.5737525118629956, \"group\": \"entertainment\"}, {\"x\": -0.7617048070440365, \"y\": 1.2350782202058401, \"group\": \"entertainment\"}, {\"x\": 0.44831020802814764, \"y\": 0.2890735362741524, \"group\": \"entertainment\"}, {\"x\": -1.0633073403216613, \"y\": -0.12120428929858028, \"group\": \"entertainment\"}, {\"x\": -0.08052074613470175, \"y\": -1.593380393958863, \"group\": \"entertainment\"}, {\"x\": -2.7725057007314993, \"y\": 1.4278847015668545, \"group\": \"entertainment\"}, {\"x\": 0.3246012743033531, \"y\": -0.4548350113553999, \"group\": \"entertainment\"}, {\"x\": -0.2367683799279386, \"y\": 0.24819955099921884, \"group\": \"entertainment\"}, {\"x\": 0.5978918434911913, \"y\": -0.6930917865560613, \"group\": \"entertainment\"}, {\"x\": -0.04232022121001866, \"y\": -2.1660599816027757, \"group\": \"entertainment\"}, {\"x\": -0.35963273413333735, \"y\": -1.2150833158963694, \"group\": \"entertainment\"}, {\"x\": -0.5804231492674031, \"y\": -0.13025133365679542, \"group\": \"entertainment\"}, {\"x\": -1.4363875710123386, \"y\": -1.1928110385368713, \"group\": \"entertainment\"}, {\"x\": 0.9102895386951626, \"y\": -0.5633850623548564, \"group\": \"entertainment\"}, {\"x\": 1.5658721017865154, \"y\": -2.0751540991057222, \"group\": \"entertainment\"}, {\"x\": -0.15531720310542532, \"y\": 0.015419773434306182, \"group\": \"entertainment\"}, {\"x\": -0.6461452773109271, \"y\": 1.8032193655909936, \"group\": \"entertainment\"}, {\"x\": -0.058973548890205896, \"y\": 0.04555950513342158, \"group\": \"entertainment\"}, {\"x\": 1.0969077688127014, \"y\": 0.48175639078443816, \"group\": \"entertainment\"}, {\"x\": -1.976466487051853, \"y\": -1.1340983555003394, \"group\": \"entertainment\"}, {\"x\": -0.6859108917004461, \"y\": -1.8855355137497927, \"group\": \"entertainment\"}]}}, {\"mode\": \"vega-lite\"});\n",
       "</script>"
      ],
      "text/plain": [
       "alt.Chart(...)"
      ]
     },
     "execution_count": 39,
     "metadata": {},
     "output_type": "execute_result"
    }
   ],
   "source": [
    "bbc_2d = pca_2d(bbc_model['paragraph_matrix'].data, bbc_df.group.to_numpy())\n",
    "chart = alt.Chart(bbc_2d).mark_point().encode(x=\"x\", y=\"y\", color=\"group\")\n",
    "# Uncomment to print chart inline, but beware it will inflate the notebook size\n",
    "chart"
   ]
  },
  {
   "cell_type": "markdown",
   "metadata": {},
   "source": [
    "`2-component PCA, explains 2.65% of variance`\n",
    "\n",
    "![](./img/bbc_pca_all_topics.png)"
   ]
  },
  {
   "cell_type": "markdown",
   "metadata": {},
   "source": [
    "Estos resultados no son magníficos, pero podemos ver los inicios de la separación. Si nos fijamos en sólo dos temas, se hace más evidente."
   ]
  },
  {
   "cell_type": "code",
   "execution_count": 40,
   "metadata": {},
   "outputs": [
    {
     "data": {
      "text/html": [
       "\n",
       "<style>\n",
       "  #altair-viz-39aea6a065a24faba8f17e80d754a798.vega-embed {\n",
       "    width: 100%;\n",
       "    display: flex;\n",
       "  }\n",
       "\n",
       "  #altair-viz-39aea6a065a24faba8f17e80d754a798.vega-embed details,\n",
       "  #altair-viz-39aea6a065a24faba8f17e80d754a798.vega-embed details summary {\n",
       "    position: relative;\n",
       "  }\n",
       "</style>\n",
       "<div id=\"altair-viz-39aea6a065a24faba8f17e80d754a798\"></div>\n",
       "<script type=\"text/javascript\">\n",
       "  var VEGA_DEBUG = (typeof VEGA_DEBUG == \"undefined\") ? {} : VEGA_DEBUG;\n",
       "  (function(spec, embedOpt){\n",
       "    let outputDiv = document.currentScript.previousElementSibling;\n",
       "    if (outputDiv.id !== \"altair-viz-39aea6a065a24faba8f17e80d754a798\") {\n",
       "      outputDiv = document.getElementById(\"altair-viz-39aea6a065a24faba8f17e80d754a798\");\n",
       "    }\n",
       "    const paths = {\n",
       "      \"vega\": \"https://cdn.jsdelivr.net/npm/vega@5?noext\",\n",
       "      \"vega-lib\": \"https://cdn.jsdelivr.net/npm/vega-lib?noext\",\n",
       "      \"vega-lite\": \"https://cdn.jsdelivr.net/npm/vega-lite@5.20.1?noext\",\n",
       "      \"vega-embed\": \"https://cdn.jsdelivr.net/npm/vega-embed@6?noext\",\n",
       "    };\n",
       "\n",
       "    function maybeLoadScript(lib, version) {\n",
       "      var key = `${lib.replace(\"-\", \"\")}_version`;\n",
       "      return (VEGA_DEBUG[key] == version) ?\n",
       "        Promise.resolve(paths[lib]) :\n",
       "        new Promise(function(resolve, reject) {\n",
       "          var s = document.createElement('script');\n",
       "          document.getElementsByTagName(\"head\")[0].appendChild(s);\n",
       "          s.async = true;\n",
       "          s.onload = () => {\n",
       "            VEGA_DEBUG[key] = version;\n",
       "            return resolve(paths[lib]);\n",
       "          };\n",
       "          s.onerror = () => reject(`Error loading script: ${paths[lib]}`);\n",
       "          s.src = paths[lib];\n",
       "        });\n",
       "    }\n",
       "\n",
       "    function showError(err) {\n",
       "      outputDiv.innerHTML = `<div class=\"error\" style=\"color:red;\">${err}</div>`;\n",
       "      throw err;\n",
       "    }\n",
       "\n",
       "    function displayChart(vegaEmbed) {\n",
       "      vegaEmbed(outputDiv, spec, embedOpt)\n",
       "        .catch(err => showError(`Javascript Error: ${err.message}<br>This usually means there's a typo in your chart specification. See the javascript console for the full traceback.`));\n",
       "    }\n",
       "\n",
       "    if(typeof define === \"function\" && define.amd) {\n",
       "      requirejs.config({paths});\n",
       "      require([\"vega-embed\"], displayChart, err => showError(`Error loading script: ${err.message}`));\n",
       "    } else {\n",
       "      maybeLoadScript(\"vega\", \"5\")\n",
       "        .then(() => maybeLoadScript(\"vega-lite\", \"5.20.1\"))\n",
       "        .then(() => maybeLoadScript(\"vega-embed\", \"6\"))\n",
       "        .catch(showError)\n",
       "        .then(() => displayChart(vegaEmbed));\n",
       "    }\n",
       "  })({\"config\": {\"view\": {\"continuousWidth\": 300, \"continuousHeight\": 300}}, \"data\": {\"name\": \"data-b0d73e9eaa984ee3f5871cdf06065741\"}, \"mark\": {\"type\": \"point\"}, \"encoding\": {\"color\": {\"field\": \"group\", \"type\": \"nominal\"}, \"x\": {\"field\": \"x\", \"type\": \"quantitative\"}, \"y\": {\"field\": \"y\", \"type\": \"quantitative\"}}, \"$schema\": \"https://vega.github.io/schema/vega-lite/v5.20.1.json\", \"datasets\": {\"data-b0d73e9eaa984ee3f5871cdf06065741\": [{\"x\": 2.2364095625617884, \"y\": -0.9606301481520059, \"group\": \"sport\"}, {\"x\": 0.22068370235232176, \"y\": -1.3854271990952418, \"group\": \"sport\"}, {\"x\": 2.1911570454761966, \"y\": -0.7069452813838711, \"group\": \"sport\"}, {\"x\": 1.215547396171148, \"y\": 0.0790289103915479, \"group\": \"sport\"}, {\"x\": 0.6463981987368317, \"y\": 1.0843958008537151, \"group\": \"sport\"}, {\"x\": 0.7805582544827221, \"y\": -1.2419461924891648, \"group\": \"sport\"}, {\"x\": 1.9940039176839144, \"y\": -0.2783493698405953, \"group\": \"sport\"}, {\"x\": 1.4088950637205186, \"y\": -1.7107464138097337, \"group\": \"sport\"}, {\"x\": 1.2664734867390808, \"y\": 0.6151205228109107, \"group\": \"sport\"}, {\"x\": 1.1492255972505734, \"y\": -0.8469802733439137, \"group\": \"sport\"}, {\"x\": 0.5296712567049442, \"y\": 0.11858966204281395, \"group\": \"sport\"}, {\"x\": 0.5714966658236713, \"y\": -0.4085919067273049, \"group\": \"sport\"}, {\"x\": 0.9819531996447324, \"y\": -0.6111821484519608, \"group\": \"sport\"}, {\"x\": 0.3194960621564665, \"y\": 0.5391315197719861, \"group\": \"sport\"}, {\"x\": 0.774756944070194, \"y\": 0.015572078062430245, \"group\": \"sport\"}, {\"x\": 0.699034414783215, \"y\": -1.4009714875580317, \"group\": \"sport\"}, {\"x\": 1.617576848682349, \"y\": 0.33312651883168437, \"group\": \"sport\"}, {\"x\": 1.6040906081355137, \"y\": -0.22414353659928352, \"group\": \"sport\"}, {\"x\": 1.5587055540991217, \"y\": -1.5956349458131753, \"group\": \"sport\"}, {\"x\": -0.018150890876071746, \"y\": -1.122975802435035, \"group\": \"sport\"}, {\"x\": 0.9986464772734993, \"y\": -1.2886524078003443, \"group\": \"sport\"}, {\"x\": 0.6605431966014963, \"y\": -1.2337741834211622, \"group\": \"sport\"}, {\"x\": 0.4300447519961971, \"y\": -1.6982078533377694, \"group\": \"sport\"}, {\"x\": 0.628815643507727, \"y\": -0.9839615362947722, \"group\": \"sport\"}, {\"x\": 1.4896617285801832, \"y\": 0.3835678278632468, \"group\": \"sport\"}, {\"x\": 0.535966092076229, \"y\": 0.7618639337766079, \"group\": \"sport\"}, {\"x\": 0.8893230086477601, \"y\": -1.128772302052571, \"group\": \"sport\"}, {\"x\": 0.6319200010874428, \"y\": -0.3309391622790153, \"group\": \"sport\"}, {\"x\": 1.6579526169549101, \"y\": -0.24700422124746496, \"group\": \"sport\"}, {\"x\": 1.1721771785925261, \"y\": -0.7393500657518356, \"group\": \"sport\"}, {\"x\": 0.7866307761934568, \"y\": -0.8027329128506291, \"group\": \"sport\"}, {\"x\": 1.2451178573530497, \"y\": 1.3670355976946995, \"group\": \"sport\"}, {\"x\": 0.9423620854504484, \"y\": -1.266992023114559, \"group\": \"sport\"}, {\"x\": 0.7673111192422544, \"y\": -1.6122658836336585, \"group\": \"sport\"}, {\"x\": 0.503441031768064, \"y\": -1.3351071462438788, \"group\": \"sport\"}, {\"x\": 1.5894883801139996, \"y\": 0.09479781283617007, \"group\": \"sport\"}, {\"x\": 1.5523078703715167, \"y\": -0.11366902004180876, \"group\": \"sport\"}, {\"x\": 1.2248365697288086, \"y\": -0.6441681143672707, \"group\": \"sport\"}, {\"x\": 1.0872716894435623, \"y\": -0.3545685383451818, \"group\": \"sport\"}, {\"x\": 1.5302064046079946, \"y\": -0.8404364218923274, \"group\": \"sport\"}, {\"x\": 0.6522771537570689, \"y\": 0.04774298621490036, \"group\": \"sport\"}, {\"x\": 1.3810209418577106, \"y\": -1.357147591528779, \"group\": \"sport\"}, {\"x\": 1.0301514294949587, \"y\": -0.9421671842899794, \"group\": \"sport\"}, {\"x\": 1.7230614229146957, \"y\": -0.19932266835493054, \"group\": \"sport\"}, {\"x\": 1.213751692440949, \"y\": -0.21512488401874005, \"group\": \"sport\"}, {\"x\": 1.1007288945761369, \"y\": 1.1653064370398298, \"group\": \"sport\"}, {\"x\": 1.2106606064762524, \"y\": -0.6372476053162739, \"group\": \"sport\"}, {\"x\": 2.9067935847089315, \"y\": -2.02477150073294, \"group\": \"sport\"}, {\"x\": 1.6994317212340304, \"y\": -0.3113202665732482, \"group\": \"sport\"}, {\"x\": 1.485960498265264, \"y\": -1.4319643708868628, \"group\": \"sport\"}, {\"x\": 1.4063072892113755, \"y\": -1.1854748953566314, \"group\": \"sport\"}, {\"x\": 0.7159557675792716, \"y\": 0.23084906482942763, \"group\": \"sport\"}, {\"x\": 1.0293742236752892, \"y\": -0.7268372919605871, \"group\": \"sport\"}, {\"x\": 1.0487231161403674, \"y\": 0.12485391411833888, \"group\": \"sport\"}, {\"x\": 2.032166662189059, \"y\": -1.767666295850133, \"group\": \"sport\"}, {\"x\": 0.7707121381333233, \"y\": -1.2496679332292748, \"group\": \"sport\"}, {\"x\": 1.3587180863515176, \"y\": -1.672513811745998, \"group\": \"sport\"}, {\"x\": 1.6161258422713196, \"y\": 0.7680266612487912, \"group\": \"sport\"}, {\"x\": 0.7437466328713465, \"y\": 0.2541692443365419, \"group\": \"sport\"}, {\"x\": 2.13195695234826, \"y\": -0.1924291198859901, \"group\": \"sport\"}, {\"x\": 1.8858503372114273, \"y\": -0.361980292828396, \"group\": \"sport\"}, {\"x\": 1.011319499604954, \"y\": -1.2588690470378947, \"group\": \"sport\"}, {\"x\": 0.728235133769938, \"y\": 0.02190300885239911, \"group\": \"sport\"}, {\"x\": 1.4392851304363337, \"y\": 0.24601290907317847, \"group\": \"sport\"}, {\"x\": 1.190780288018554, \"y\": -0.32940635662882417, \"group\": \"sport\"}, {\"x\": 0.9282816501808231, \"y\": -0.16652782470357305, \"group\": \"sport\"}, {\"x\": 1.0835158318719917, \"y\": -0.22540254054282066, \"group\": \"sport\"}, {\"x\": 1.3973713224798279, \"y\": -1.110492194939096, \"group\": \"sport\"}, {\"x\": 1.3994715932698496, \"y\": 1.3488461484531638, \"group\": \"sport\"}, {\"x\": 0.8208277614863415, \"y\": 0.4560779341576289, \"group\": \"sport\"}, {\"x\": 0.44699873607242474, \"y\": -2.262609770130417, \"group\": \"sport\"}, {\"x\": 1.5423431388625342, \"y\": -0.8297073636889326, \"group\": \"sport\"}, {\"x\": 1.3039983787866174, \"y\": -0.8082375705916339, \"group\": \"sport\"}, {\"x\": 1.3346561411145408, \"y\": -0.8252344685408035, \"group\": \"sport\"}, {\"x\": 2.2558200008325944, \"y\": 0.4577842678176593, \"group\": \"sport\"}, {\"x\": 0.728273707456254, \"y\": 1.1047382210838235, \"group\": \"sport\"}, {\"x\": 1.0774288019287115, \"y\": -0.020405253990569014, \"group\": \"sport\"}, {\"x\": 1.7008808342344701, \"y\": -1.4776759266359494, \"group\": \"sport\"}, {\"x\": 0.7505623397352421, \"y\": -1.3922448251998323, \"group\": \"sport\"}, {\"x\": 0.6891647646821573, \"y\": 0.9724240842914221, \"group\": \"sport\"}, {\"x\": 1.286321767548356, \"y\": -0.7068802448749569, \"group\": \"sport\"}, {\"x\": 0.8760841127858248, \"y\": 0.3213017022222075, \"group\": \"sport\"}, {\"x\": 2.262004975618522, \"y\": -0.3603990157092863, \"group\": \"sport\"}, {\"x\": 1.1230544035684504, \"y\": 1.0615574302182897, \"group\": \"sport\"}, {\"x\": 1.5300742656179493, \"y\": -1.293525609212455, \"group\": \"sport\"}, {\"x\": 1.2266434376268562, \"y\": -0.5838488538751044, \"group\": \"sport\"}, {\"x\": -0.036034089651717116, \"y\": -0.15228119900704898, \"group\": \"sport\"}, {\"x\": 1.3370844804528872, \"y\": -0.5421486663353493, \"group\": \"sport\"}, {\"x\": 1.6298683970967205, \"y\": -1.1982074515843215, \"group\": \"sport\"}, {\"x\": 1.4833103435682897, \"y\": 0.45820430906777715, \"group\": \"sport\"}, {\"x\": 0.4976665349022294, \"y\": 0.45024528645064615, \"group\": \"sport\"}, {\"x\": 0.3588158892719469, \"y\": 0.05602632960413204, \"group\": \"sport\"}, {\"x\": 0.7882192385758049, \"y\": -0.09381608885096047, \"group\": \"sport\"}, {\"x\": 2.214981953492635, \"y\": -1.2465700908612447, \"group\": \"sport\"}, {\"x\": 1.4119893454576173, \"y\": -1.001247229135353, \"group\": \"sport\"}, {\"x\": 1.8031318364723785, \"y\": -1.442963148808389, \"group\": \"sport\"}, {\"x\": 0.7033428392798184, \"y\": 1.0679234978547538, \"group\": \"sport\"}, {\"x\": 0.9600307606252436, \"y\": -0.4890192274767246, \"group\": \"sport\"}, {\"x\": 0.13197512127467426, \"y\": 1.9698389397119533, \"group\": \"sport\"}, {\"x\": 1.0868724816805904, \"y\": -0.2652398859141763, \"group\": \"sport\"}, {\"x\": 0.6576245131980405, \"y\": 1.3591785568851893, \"group\": \"sport\"}, {\"x\": 1.7077632467517914, \"y\": -1.6611592353739661, \"group\": \"sport\"}, {\"x\": 1.0813017912409324, \"y\": 0.8686328339818036, \"group\": \"sport\"}, {\"x\": 0.7237485996411901, \"y\": -0.9165226261223515, \"group\": \"sport\"}, {\"x\": 0.8187418588149626, \"y\": -1.2309804251015908, \"group\": \"sport\"}, {\"x\": 0.08061892000814208, \"y\": 1.3781803754477762, \"group\": \"sport\"}, {\"x\": 1.0020719033876935, \"y\": -0.6745105361717634, \"group\": \"sport\"}, {\"x\": 0.4582370294653227, \"y\": -0.5392703864972334, \"group\": \"sport\"}, {\"x\": 0.7091280422606989, \"y\": 1.0406073938929343, \"group\": \"sport\"}, {\"x\": 0.5515585278354644, \"y\": -0.31063322586840986, \"group\": \"sport\"}, {\"x\": 0.8686365979364419, \"y\": -0.6855088007260813, \"group\": \"sport\"}, {\"x\": 1.623829638302991, \"y\": 0.4703689349575516, \"group\": \"sport\"}, {\"x\": 0.5629409829497491, \"y\": 0.36330706087859016, \"group\": \"sport\"}, {\"x\": 1.53128131232831, \"y\": -0.0836289582850874, \"group\": \"sport\"}, {\"x\": 0.5622668155897117, \"y\": 0.3930580223033297, \"group\": \"sport\"}, {\"x\": 1.5806083908876254, \"y\": 0.2512870967164413, \"group\": \"sport\"}, {\"x\": 1.5189325157727827, \"y\": -0.12995423762304836, \"group\": \"sport\"}, {\"x\": 1.526029116860734, \"y\": -0.8060581748381155, \"group\": \"sport\"}, {\"x\": 0.8969887777810663, \"y\": -0.6250610793960927, \"group\": \"sport\"}, {\"x\": 0.24247333080805894, \"y\": 0.8252338638705771, \"group\": \"sport\"}, {\"x\": 1.9132464709241086, \"y\": -1.0608736111468677, \"group\": \"sport\"}, {\"x\": 0.0433505798415279, \"y\": -0.4782822061766363, \"group\": \"sport\"}, {\"x\": 0.7007179642170303, \"y\": 2.502183173683806, \"group\": \"sport\"}, {\"x\": 1.1505229786834816, \"y\": 0.4039405669667936, \"group\": \"sport\"}, {\"x\": 1.7605882240143287, \"y\": 0.1973054342832888, \"group\": \"sport\"}, {\"x\": 0.32550527207832, \"y\": 0.9753603419380924, \"group\": \"sport\"}, {\"x\": 0.9475122605454587, \"y\": 0.18126720442619507, \"group\": \"sport\"}, {\"x\": 1.607359506667518, \"y\": 0.36889191469841626, \"group\": \"sport\"}, {\"x\": 1.1128508278860996, \"y\": 0.5447631989820021, \"group\": \"sport\"}, {\"x\": 1.1757326384462308, \"y\": -0.4319806718031107, \"group\": \"sport\"}, {\"x\": 0.8565633999080258, \"y\": -0.5817301332299792, \"group\": \"sport\"}, {\"x\": 1.1920938051407197, \"y\": -1.3086222779771035, \"group\": \"sport\"}, {\"x\": 2.2955293596170008, \"y\": 0.6913343465608272, \"group\": \"sport\"}, {\"x\": 0.735776849714435, \"y\": 1.1468802361383474, \"group\": \"sport\"}, {\"x\": 0.5276044108158824, \"y\": 0.2658988618817444, \"group\": \"sport\"}, {\"x\": 1.7288694256672508, \"y\": -1.555318448617943, \"group\": \"sport\"}, {\"x\": 0.5503425514339135, \"y\": 0.48808161503793945, \"group\": \"sport\"}, {\"x\": 0.8992097300635538, \"y\": 0.8126985751013788, \"group\": \"sport\"}, {\"x\": 1.0591253068809883, \"y\": 0.9939175715727686, \"group\": \"sport\"}, {\"x\": 0.9368844805162018, \"y\": 1.7269136510987102, \"group\": \"sport\"}, {\"x\": 1.6593478309461465, \"y\": 0.3005283000621697, \"group\": \"sport\"}, {\"x\": 0.5008395307983922, \"y\": 0.25554854910075864, \"group\": \"sport\"}, {\"x\": 0.35308636404755306, \"y\": 0.06746367733118004, \"group\": \"sport\"}, {\"x\": 0.9909567556351346, \"y\": 0.24981344680840278, \"group\": \"sport\"}, {\"x\": 1.488032993837123, \"y\": -0.35524394499852785, \"group\": \"sport\"}, {\"x\": 0.4327209010212087, \"y\": 1.3867132929799846, \"group\": \"sport\"}, {\"x\": 1.249575521834099, \"y\": -0.3422436351934666, \"group\": \"sport\"}, {\"x\": 0.3956180079495634, \"y\": -0.20413223478903536, \"group\": \"sport\"}, {\"x\": 1.5224252953920536, \"y\": 0.2761763968191365, \"group\": \"sport\"}, {\"x\": 0.9583758143251835, \"y\": 0.08966805464392649, \"group\": \"sport\"}, {\"x\": 0.3197305767567334, \"y\": 1.7420026059167641, \"group\": \"sport\"}, {\"x\": 0.3744714402493489, \"y\": 0.4075305174661526, \"group\": \"sport\"}, {\"x\": 0.9544692597873619, \"y\": -0.0007564327460792882, \"group\": \"sport\"}, {\"x\": 1.3360557392610255, \"y\": -0.9285681196505999, \"group\": \"sport\"}, {\"x\": 1.2270120347196352, \"y\": 0.7653787648348569, \"group\": \"sport\"}, {\"x\": 1.116338573996412, \"y\": -0.015528982507622928, \"group\": \"sport\"}, {\"x\": 0.8174734927150666, \"y\": 0.11732001724629743, \"group\": \"sport\"}, {\"x\": 1.0626959143760233, \"y\": -0.33591999768314745, \"group\": \"sport\"}, {\"x\": 1.4077326992703483, \"y\": 0.2373407246555697, \"group\": \"sport\"}, {\"x\": 1.0843149659630178, \"y\": 0.186182906082526, \"group\": \"sport\"}, {\"x\": 1.0341279755935602, \"y\": -0.3327366997807167, \"group\": \"sport\"}, {\"x\": 2.05819131876494, \"y\": -0.1645105020169157, \"group\": \"sport\"}, {\"x\": 1.2531451520422203, \"y\": -0.43378072231436904, \"group\": \"sport\"}, {\"x\": 1.305988899616563, \"y\": -1.5165447458487014, \"group\": \"sport\"}, {\"x\": 1.1549137080845242, \"y\": 1.7962433480399158, \"group\": \"sport\"}, {\"x\": 1.9885749628366103, \"y\": 0.6468197948043529, \"group\": \"sport\"}, {\"x\": 0.9042268003480705, \"y\": 0.42669746709172, \"group\": \"sport\"}, {\"x\": 0.7603162451528156, \"y\": -1.5564139656393927, \"group\": \"sport\"}, {\"x\": 2.1123400072670013, \"y\": 0.5979578370198612, \"group\": \"sport\"}, {\"x\": 1.4470468259357256, \"y\": -0.8387808098291688, \"group\": \"sport\"}, {\"x\": 0.8344113762922727, \"y\": -0.3961601537647747, \"group\": \"sport\"}, {\"x\": 1.0052708899005116, \"y\": -0.7334304309180999, \"group\": \"sport\"}, {\"x\": 1.2807905867587717, \"y\": 0.09969246570732657, \"group\": \"sport\"}, {\"x\": 0.8147242909863928, \"y\": -1.0759892424036048, \"group\": \"sport\"}, {\"x\": 0.769432436756478, \"y\": 1.0033002791190337, \"group\": \"sport\"}, {\"x\": 1.2513314907135886, \"y\": 0.2892434621286348, \"group\": \"sport\"}, {\"x\": 1.0020546954647058, \"y\": -0.06128164906121984, \"group\": \"sport\"}, {\"x\": 1.2199670301307883, \"y\": 0.46573410186061526, \"group\": \"sport\"}, {\"x\": 0.7246514429970545, \"y\": 1.4279096032369023, \"group\": \"sport\"}, {\"x\": 1.6920314189955086, \"y\": 0.9768647634599503, \"group\": \"sport\"}, {\"x\": 1.0862483736083044, \"y\": -0.7427418203405967, \"group\": \"sport\"}, {\"x\": 0.05625372919422328, \"y\": 1.9799951695839977, \"group\": \"sport\"}, {\"x\": 0.5932642382460249, \"y\": 0.26061392304047676, \"group\": \"sport\"}, {\"x\": 1.4836014948488905, \"y\": 0.0689027007558616, \"group\": \"sport\"}, {\"x\": 0.7998047086776512, \"y\": 0.8524863625344528, \"group\": \"sport\"}, {\"x\": 1.1632319640830704, \"y\": 0.7189466371946617, \"group\": \"sport\"}, {\"x\": 0.2514576308560132, \"y\": -0.1883702849978831, \"group\": \"sport\"}, {\"x\": 0.6622718833049792, \"y\": -0.6739170694985712, \"group\": \"sport\"}, {\"x\": 1.4603149418605097, \"y\": 0.9688972391038285, \"group\": \"sport\"}, {\"x\": 1.223286319988041, \"y\": -0.709976976145108, \"group\": \"sport\"}, {\"x\": 0.8653968260918863, \"y\": -0.47734270458548705, \"group\": \"sport\"}, {\"x\": 1.0468024239359985, \"y\": -0.5196880523964577, \"group\": \"sport\"}, {\"x\": 1.2076117023221404, \"y\": -0.07231175805781116, \"group\": \"sport\"}, {\"x\": 1.7638533804615144, \"y\": -0.3040312194209854, \"group\": \"sport\"}, {\"x\": 0.5759006601300325, \"y\": 0.13783488081483325, \"group\": \"sport\"}, {\"x\": 0.9614184476400967, \"y\": 0.3104570305519341, \"group\": \"sport\"}, {\"x\": 1.1408068816963264, \"y\": 1.7746632054155835, \"group\": \"sport\"}, {\"x\": 0.8710022475870542, \"y\": 0.954502918282062, \"group\": \"sport\"}, {\"x\": 0.9269380895337413, \"y\": -0.9626672730729376, \"group\": \"sport\"}, {\"x\": -0.32509023128431463, \"y\": 0.6141567650917505, \"group\": \"sport\"}, {\"x\": 0.5856478418782392, \"y\": -1.0770374062998247, \"group\": \"sport\"}, {\"x\": 0.7536630633749521, \"y\": -0.007185275119411021, \"group\": \"sport\"}, {\"x\": 1.2288015020216791, \"y\": 0.1964222460273149, \"group\": \"sport\"}, {\"x\": 1.4697681835756973, \"y\": 0.22644251051223077, \"group\": \"sport\"}, {\"x\": 0.7242540690449706, \"y\": 2.1874116419590948, \"group\": \"sport\"}, {\"x\": 0.8646720277931936, \"y\": -0.5406843640066109, \"group\": \"sport\"}, {\"x\": 0.30594136396095023, \"y\": 0.024283788524605103, \"group\": \"sport\"}, {\"x\": 0.22587459514284652, \"y\": -0.7876306547717953, \"group\": \"sport\"}, {\"x\": 1.4529194519582607, \"y\": 1.05223472792153, \"group\": \"sport\"}, {\"x\": 0.21862830872043731, \"y\": 0.5846835735484522, \"group\": \"sport\"}, {\"x\": 1.3699062100248258, \"y\": 0.7660427322309536, \"group\": \"sport\"}, {\"x\": 0.8923486759419161, \"y\": 0.8204837398538544, \"group\": \"sport\"}, {\"x\": 0.33464260922684425, \"y\": -0.12527658838205322, \"group\": \"sport\"}, {\"x\": 0.9868588566333658, \"y\": 2.5880136769912743, \"group\": \"sport\"}, {\"x\": 1.104383496677511, \"y\": 0.5572034801693302, \"group\": \"sport\"}, {\"x\": 0.4501219995539813, \"y\": 0.8461662989155272, \"group\": \"sport\"}, {\"x\": 0.9835686170246578, \"y\": 0.987305043367799, \"group\": \"sport\"}, {\"x\": 1.7297194544719363, \"y\": 0.34654659674614213, \"group\": \"sport\"}, {\"x\": 1.3502705032240954, \"y\": 0.45558103247317, \"group\": \"sport\"}, {\"x\": 0.6168421082055133, \"y\": -0.8214141184455916, \"group\": \"sport\"}, {\"x\": 1.364438527827024, \"y\": 0.1377325658953165, \"group\": \"sport\"}, {\"x\": 0.8787183521252515, \"y\": 0.12862945549122612, \"group\": \"sport\"}, {\"x\": 1.0565600521798832, \"y\": 1.3883871885698789, \"group\": \"sport\"}, {\"x\": 1.690048200347885, \"y\": 0.3425027682888963, \"group\": \"sport\"}, {\"x\": 1.2478190718044386, \"y\": -0.0443064880024324, \"group\": \"sport\"}, {\"x\": 1.1160611469041988, \"y\": 0.37460272599655353, \"group\": \"sport\"}, {\"x\": 0.24165178054476827, \"y\": -0.4887741278671401, \"group\": \"sport\"}, {\"x\": 0.11387866678921205, \"y\": 1.0430193774592682, \"group\": \"sport\"}, {\"x\": 0.5939559690194824, \"y\": -0.44442048843528775, \"group\": \"sport\"}, {\"x\": 1.558526555000173, \"y\": -0.06566172101212335, \"group\": \"sport\"}, {\"x\": 0.9533839607187982, \"y\": -1.7027200768208057, \"group\": \"sport\"}, {\"x\": 1.0246458387380768, \"y\": -0.6890847992691735, \"group\": \"sport\"}, {\"x\": 1.7724817912993869, \"y\": -0.5818366181549719, \"group\": \"sport\"}, {\"x\": 0.60056634557265, \"y\": 1.325084858181669, \"group\": \"sport\"}, {\"x\": 0.42341590746818186, \"y\": -0.6991809471024977, \"group\": \"sport\"}, {\"x\": 0.1798428591609889, \"y\": -0.9901545797494583, \"group\": \"sport\"}, {\"x\": 0.7069735073178958, \"y\": -0.9817458517825411, \"group\": \"sport\"}, {\"x\": 0.30677798139569284, \"y\": -0.02348418358259502, \"group\": \"sport\"}, {\"x\": -0.017463549300581804, \"y\": -0.32076290072181307, \"group\": \"sport\"}, {\"x\": 0.5292214268204283, \"y\": 2.1384161969939113, \"group\": \"sport\"}, {\"x\": 0.4020463226566548, \"y\": 0.09774826573011422, \"group\": \"sport\"}, {\"x\": 0.5144107618633056, \"y\": 1.1597545624700858, \"group\": \"sport\"}, {\"x\": 0.9489696172154152, \"y\": -0.13835278953300162, \"group\": \"sport\"}, {\"x\": 0.9803772997401519, \"y\": -1.773792554214666, \"group\": \"sport\"}, {\"x\": 1.255490987169843, \"y\": -0.26516634948253087, \"group\": \"sport\"}, {\"x\": 1.19866340883006, \"y\": -0.21822632574558518, \"group\": \"sport\"}, {\"x\": 1.4145044033819774, \"y\": 0.25600630380742356, \"group\": \"sport\"}, {\"x\": 0.8957423596302643, \"y\": -0.9942396892827684, \"group\": \"sport\"}, {\"x\": 0.9013331605721349, \"y\": -0.5489798584055579, \"group\": \"sport\"}, {\"x\": 0.8596779648053616, \"y\": -0.5050901135345653, \"group\": \"sport\"}, {\"x\": 1.4452646756292766, \"y\": 0.9473833514601883, \"group\": \"sport\"}, {\"x\": 0.73708964630837, \"y\": 0.7458348714620271, \"group\": \"sport\"}, {\"x\": 1.3024349274824216, \"y\": -0.6864123575572487, \"group\": \"sport\"}, {\"x\": 1.6895278902279443, \"y\": 0.619064351184807, \"group\": \"sport\"}, {\"x\": 0.9204624289150956, \"y\": -0.6034895472396122, \"group\": \"sport\"}, {\"x\": 0.93950018095737, \"y\": -0.9239554162313709, \"group\": \"sport\"}, {\"x\": 0.7368600606224152, \"y\": 0.9157103474191921, \"group\": \"sport\"}, {\"x\": 1.3443858885420055, \"y\": -0.14483928289294135, \"group\": \"sport\"}, {\"x\": 0.6577631074623602, \"y\": -0.7976816523209326, \"group\": \"sport\"}, {\"x\": 1.2800579656029862, \"y\": -0.8229648091115239, \"group\": \"sport\"}, {\"x\": 0.5976028188098552, \"y\": -0.890870791858145, \"group\": \"sport\"}, {\"x\": 1.3066949963999215, \"y\": 0.916253284530907, \"group\": \"sport\"}, {\"x\": 0.943283311344435, \"y\": -1.0279402221914458, \"group\": \"sport\"}, {\"x\": 1.0746957571813642, \"y\": -0.29741789238859134, \"group\": \"sport\"}, {\"x\": 0.7819639204887414, \"y\": 0.17605846328515476, \"group\": \"sport\"}, {\"x\": 0.746527852353406, \"y\": -0.9835987634142669, \"group\": \"sport\"}, {\"x\": 0.24826238578210852, \"y\": -0.11830091156433727, \"group\": \"sport\"}, {\"x\": 0.3075204019959849, \"y\": -1.9416272854035763, \"group\": \"sport\"}, {\"x\": 0.8642674596647184, \"y\": -0.9885485712183818, \"group\": \"sport\"}, {\"x\": 1.774347863117117, \"y\": 0.4442112435307819, \"group\": \"sport\"}, {\"x\": 0.5751293843606782, \"y\": 1.6815985311941217, \"group\": \"sport\"}, {\"x\": 1.0399209487914567, \"y\": 0.5584312891047544, \"group\": \"sport\"}, {\"x\": 0.9256402488195765, \"y\": -0.5692036663903949, \"group\": \"sport\"}, {\"x\": 0.11334253240207198, \"y\": 0.46179405363592146, \"group\": \"sport\"}, {\"x\": 0.49301241568397464, \"y\": -0.42965724741335865, \"group\": \"sport\"}, {\"x\": 1.1608370949371654, \"y\": -0.5168916627439601, \"group\": \"sport\"}, {\"x\": 0.6582657626261899, \"y\": -1.2574842587313753, \"group\": \"sport\"}, {\"x\": 1.1763574870339493, \"y\": 0.08637272782335208, \"group\": \"sport\"}, {\"x\": 1.024649359736886, \"y\": 0.9551686457013498, \"group\": \"sport\"}, {\"x\": 1.298149238405137, \"y\": -0.4009207929936162, \"group\": \"sport\"}, {\"x\": 0.4679306002450853, \"y\": 0.4628512338986929, \"group\": \"sport\"}, {\"x\": 0.3373226738944098, \"y\": -0.3370800604257955, \"group\": \"sport\"}, {\"x\": 0.6682863056820583, \"y\": 0.37082498450413526, \"group\": \"sport\"}, {\"x\": 0.49485444536204376, \"y\": -0.5151492167729587, \"group\": \"sport\"}, {\"x\": 0.8362658138310668, \"y\": 1.256322427995239, \"group\": \"sport\"}, {\"x\": 1.7853798368874156, \"y\": -0.0269722251325804, \"group\": \"sport\"}, {\"x\": 1.0615544714767025, \"y\": 0.14938277017430143, \"group\": \"sport\"}, {\"x\": 0.72009760468288, \"y\": -0.10304922251328134, \"group\": \"sport\"}, {\"x\": 0.5336923872716082, \"y\": 1.1745960148676748, \"group\": \"sport\"}, {\"x\": 0.26532416835728184, \"y\": 0.16638601172511508, \"group\": \"sport\"}, {\"x\": 1.3783651862869801, \"y\": -1.239331307291975, \"group\": \"sport\"}, {\"x\": 0.9734050622399975, \"y\": -0.22175722508464127, \"group\": \"sport\"}, {\"x\": 0.5714851131694734, \"y\": 0.19927583685311004, \"group\": \"sport\"}, {\"x\": 0.969046368629662, \"y\": 0.24073427010176615, \"group\": \"sport\"}, {\"x\": 0.7123914640932543, \"y\": -0.06694491109394854, \"group\": \"sport\"}, {\"x\": 1.1243525534645449, \"y\": -0.3442547766641571, \"group\": \"sport\"}, {\"x\": 1.0147789372800955, \"y\": -0.010667723584178139, \"group\": \"sport\"}, {\"x\": 0.5606508607673129, \"y\": 0.4666042578478573, \"group\": \"sport\"}, {\"x\": 1.3614239573051743, \"y\": 0.9809474758630186, \"group\": \"sport\"}, {\"x\": 0.6501293055783541, \"y\": 0.08008112415316694, \"group\": \"sport\"}, {\"x\": 0.9308091301762491, \"y\": -1.799391596929552, \"group\": \"sport\"}, {\"x\": 1.254552862173891, \"y\": -0.32619857096477123, \"group\": \"sport\"}, {\"x\": 1.415026466830902, \"y\": 0.7148355752749693, \"group\": \"sport\"}, {\"x\": 0.8334022402637631, \"y\": 0.36969224912494075, \"group\": \"sport\"}, {\"x\": 0.13651703060044978, \"y\": 0.7994541142290399, \"group\": \"sport\"}, {\"x\": 0.8003007106813398, \"y\": 0.5926569199057024, \"group\": \"sport\"}, {\"x\": 1.0353939470803053, \"y\": -1.8511337038988014, \"group\": \"sport\"}, {\"x\": 0.9281367648052905, \"y\": 0.5006585251860873, \"group\": \"sport\"}, {\"x\": 1.0467368378121111, \"y\": -0.560679536175319, \"group\": \"sport\"}, {\"x\": 0.8902403849797043, \"y\": 1.2026815934444441, \"group\": \"sport\"}, {\"x\": 1.1272148753945277, \"y\": 0.16321958903929168, \"group\": \"sport\"}, {\"x\": 1.5813944640890487, \"y\": 1.1358615246250148, \"group\": \"sport\"}, {\"x\": 0.8791092339199782, \"y\": -0.38833239151509197, \"group\": \"sport\"}, {\"x\": 1.225400257497576, \"y\": -0.42190130548535965, \"group\": \"sport\"}, {\"x\": 1.1568425503014605, \"y\": -1.676658665469142, \"group\": \"sport\"}, {\"x\": 0.7556809972183363, \"y\": -1.2314500907099826, \"group\": \"sport\"}, {\"x\": 0.9377214774571192, \"y\": 0.28847737292697984, \"group\": \"sport\"}, {\"x\": 0.9718247685806409, \"y\": -1.3168847688642866, \"group\": \"sport\"}, {\"x\": 1.0671599356182797, \"y\": 2.4006409680355234, \"group\": \"sport\"}, {\"x\": 0.9007865479682917, \"y\": -0.12910217281126413, \"group\": \"sport\"}, {\"x\": 0.9993556826938874, \"y\": -0.04046409545036722, \"group\": \"sport\"}, {\"x\": 0.15985287463651393, \"y\": 0.17601459626878496, \"group\": \"sport\"}, {\"x\": 0.5644106440215155, \"y\": -1.3083725245285678, \"group\": \"sport\"}, {\"x\": 2.001839032488453, \"y\": -0.3743210363226279, \"group\": \"sport\"}, {\"x\": 0.6907685911582269, \"y\": 1.3232761887356297, \"group\": \"sport\"}, {\"x\": 0.8849749730453242, \"y\": 0.3157265506087284, \"group\": \"sport\"}, {\"x\": 1.187037876983159, \"y\": 0.31684215330397647, \"group\": \"sport\"}, {\"x\": 1.5575517944979775, \"y\": 0.16137547930128124, \"group\": \"sport\"}, {\"x\": 1.2697743706737221, \"y\": -0.4168811741670134, \"group\": \"sport\"}, {\"x\": 1.0940080604487321, \"y\": 0.07608829265649829, \"group\": \"sport\"}, {\"x\": 0.15769741462920656, \"y\": 0.3121037133593382, \"group\": \"sport\"}, {\"x\": 1.325395094862813, \"y\": 0.20159693099141823, \"group\": \"sport\"}, {\"x\": 1.28139650225988, \"y\": 0.401344112907089, \"group\": \"sport\"}, {\"x\": 0.3313212994661198, \"y\": -0.7554351894265238, \"group\": \"sport\"}, {\"x\": 1.1069723032444831, \"y\": 1.9403231601260558, \"group\": \"sport\"}, {\"x\": 0.23391422056267436, \"y\": -0.9309758103068538, \"group\": \"sport\"}, {\"x\": 0.975515634124382, \"y\": -1.0078326046687716, \"group\": \"sport\"}, {\"x\": 1.321857102719407, \"y\": 1.2341526135262473, \"group\": \"sport\"}, {\"x\": 1.166485494560752, \"y\": -1.8006041728296658, \"group\": \"sport\"}, {\"x\": 1.1752521436260959, \"y\": -0.2715447342056792, \"group\": \"sport\"}, {\"x\": 1.7551552663621939, \"y\": -0.14986369452295592, \"group\": \"sport\"}, {\"x\": 1.507997940588814, \"y\": 0.16861534780820012, \"group\": \"sport\"}, {\"x\": 1.281603180637641, \"y\": 1.0278931571330627, \"group\": \"sport\"}, {\"x\": 0.8687153500390987, \"y\": 1.2653486245071168, \"group\": \"sport\"}, {\"x\": 1.6674347289357734, \"y\": -1.3691067207956407, \"group\": \"sport\"}, {\"x\": 0.3207275500348505, \"y\": 1.0452452070120968, \"group\": \"sport\"}, {\"x\": 0.23342784846903059, \"y\": 0.6978262291910083, \"group\": \"sport\"}, {\"x\": 0.3856900029744364, \"y\": -0.04717598376286419, \"group\": \"sport\"}, {\"x\": 0.8425779347791269, \"y\": -0.2167353578139297, \"group\": \"sport\"}, {\"x\": 0.6370949378265411, \"y\": 1.8332476588283997, \"group\": \"sport\"}, {\"x\": 0.6644865306900496, \"y\": 1.101639376936424, \"group\": \"sport\"}, {\"x\": 1.0323554549225193, \"y\": -1.5907648005805306, \"group\": \"sport\"}, {\"x\": 0.6522675394052377, \"y\": -0.7288276923768945, \"group\": \"sport\"}, {\"x\": 1.5449118308542757, \"y\": -1.7479295255998784, \"group\": \"sport\"}, {\"x\": 0.6479746842230905, \"y\": -0.9804224027422935, \"group\": \"sport\"}, {\"x\": 1.2131784546093338, \"y\": 0.8408314463121855, \"group\": \"sport\"}, {\"x\": 0.10387739055229922, \"y\": -0.7527002783339488, \"group\": \"sport\"}, {\"x\": 0.4478419133985559, \"y\": -0.03450626742970049, \"group\": \"sport\"}, {\"x\": 0.7797439233066137, \"y\": 1.3495426057279967, \"group\": \"sport\"}, {\"x\": 0.9059905780727397, \"y\": -1.1387128090594607, \"group\": \"sport\"}, {\"x\": 0.37571197817526575, \"y\": 0.7460715133554549, \"group\": \"sport\"}, {\"x\": 0.6342094537551368, \"y\": -3.094418786554633, \"group\": \"sport\"}, {\"x\": 0.2737873829796141, \"y\": -0.6263693939007182, \"group\": \"sport\"}, {\"x\": 0.7084438834032083, \"y\": 0.8681475614268116, \"group\": \"sport\"}, {\"x\": 0.4517365731768634, \"y\": -0.42026696416209236, \"group\": \"sport\"}, {\"x\": 1.2443780795409445, \"y\": -0.1805398465249981, \"group\": \"sport\"}, {\"x\": 1.306523813866886, \"y\": -1.1662655514651412, \"group\": \"sport\"}, {\"x\": 0.592753193960394, \"y\": 1.2607678247349154, \"group\": \"sport\"}, {\"x\": 0.7542130233008277, \"y\": -0.9417074056224468, \"group\": \"sport\"}, {\"x\": 0.3310514736582954, \"y\": 0.47148668167425245, \"group\": \"sport\"}, {\"x\": 0.25883059797657565, \"y\": 0.6213601497961305, \"group\": \"sport\"}, {\"x\": 0.6724563118727835, \"y\": -0.574314257517098, \"group\": \"sport\"}, {\"x\": 0.5996922281563157, \"y\": 0.34741633099125957, \"group\": \"sport\"}, {\"x\": 1.1592337430393913, \"y\": 0.7349634525856422, \"group\": \"sport\"}, {\"x\": 0.33537024221785766, \"y\": -0.759859496370672, \"group\": \"sport\"}, {\"x\": 0.8533784172139998, \"y\": 1.6562477057682237, \"group\": \"sport\"}, {\"x\": 1.7778772379618055, \"y\": -0.21036495448075193, \"group\": \"sport\"}, {\"x\": 0.745765186720059, \"y\": 0.255635051591695, \"group\": \"sport\"}, {\"x\": 0.8914593409973752, \"y\": 0.014549718140099808, \"group\": \"sport\"}, {\"x\": 1.0159542382499815, \"y\": 0.06807153298481378, \"group\": \"sport\"}, {\"x\": 0.8391537024405096, \"y\": -0.22603239566928607, \"group\": \"sport\"}, {\"x\": 1.0082903212524, \"y\": -0.31444178124695027, \"group\": \"sport\"}, {\"x\": 0.532509307409351, \"y\": 0.7543694834912993, \"group\": \"sport\"}, {\"x\": -0.10637158800660249, \"y\": 1.4927756248283168, \"group\": \"sport\"}, {\"x\": 1.0757789046945851, \"y\": -1.7837377349192907, \"group\": \"sport\"}, {\"x\": 0.8581100336745513, \"y\": 1.4540096006970467, \"group\": \"sport\"}, {\"x\": 1.655613764075721, \"y\": -0.42946553927171754, \"group\": \"sport\"}, {\"x\": 1.1919427930995892, \"y\": 0.17323342996363575, \"group\": \"sport\"}, {\"x\": 0.8735488812752654, \"y\": -0.3350082577300673, \"group\": \"sport\"}, {\"x\": 1.924380015883926, \"y\": -0.5016950222680457, \"group\": \"sport\"}, {\"x\": 1.5916476708782026, \"y\": 0.2815120089844273, \"group\": \"sport\"}, {\"x\": 0.9103846200809784, \"y\": 0.41253420622922005, \"group\": \"sport\"}, {\"x\": 1.3967774477698411, \"y\": -0.6221569713376133, \"group\": \"sport\"}, {\"x\": 0.22391797051157442, \"y\": -0.18373565489765237, \"group\": \"sport\"}, {\"x\": 0.6091621217521144, \"y\": -0.028897413487815757, \"group\": \"sport\"}, {\"x\": -0.08934226814906324, \"y\": -0.43813685940511693, \"group\": \"sport\"}, {\"x\": 0.48994246094836796, \"y\": -0.8834677832718504, \"group\": \"sport\"}, {\"x\": 0.5348553900201647, \"y\": 0.9291853997086876, \"group\": \"sport\"}, {\"x\": 1.2613183347788348, \"y\": -0.6554287402273122, \"group\": \"sport\"}, {\"x\": 1.732150575554698, \"y\": 0.12265550705292613, \"group\": \"sport\"}, {\"x\": 1.0557135019419126, \"y\": -0.4617588501379002, \"group\": \"sport\"}, {\"x\": 2.286846488795021, \"y\": -2.446677046198195, \"group\": \"sport\"}, {\"x\": 1.2716072308718007, \"y\": -1.67631802325673, \"group\": \"sport\"}, {\"x\": 1.0913067372184038, \"y\": 1.8925259335682925, \"group\": \"sport\"}, {\"x\": 0.5801900887724392, \"y\": -0.7276262405150971, \"group\": \"sport\"}, {\"x\": 0.8516919536942904, \"y\": -0.22324575436493443, \"group\": \"sport\"}, {\"x\": 1.9128156785922337, \"y\": 0.8891415167098264, \"group\": \"sport\"}, {\"x\": 1.2787870674549053, \"y\": 0.2834560896365467, \"group\": \"sport\"}, {\"x\": 0.30119722566314994, \"y\": -0.03964712634361027, \"group\": \"sport\"}, {\"x\": 1.0306117688654353, \"y\": 2.7774154833199955, \"group\": \"sport\"}, {\"x\": 1.1388968209047157, \"y\": -0.4192686919837491, \"group\": \"sport\"}, {\"x\": 1.7275333267259363, \"y\": 0.11437848002599545, \"group\": \"sport\"}, {\"x\": 1.3593927524243228, \"y\": 0.3134555850294151, \"group\": \"sport\"}, {\"x\": 0.9848087013417397, \"y\": 1.1178553063004, \"group\": \"sport\"}, {\"x\": 2.5108424212447225, \"y\": -1.7310305626483973, \"group\": \"sport\"}, {\"x\": 2.315941280423118, \"y\": 0.028433931734075824, \"group\": \"sport\"}, {\"x\": 1.4285505707868198, \"y\": -0.32370289841878663, \"group\": \"sport\"}, {\"x\": 2.9850583834429982, \"y\": 0.8095551391472777, \"group\": \"sport\"}, {\"x\": 1.9081727609174473, \"y\": -2.058551208711844, \"group\": \"sport\"}, {\"x\": 2.420426510100316, \"y\": -0.2075944416373446, \"group\": \"sport\"}, {\"x\": 3.9235239991235322, \"y\": 0.7192564635216577, \"group\": \"sport\"}, {\"x\": 4.317768978123415, \"y\": 4.604045537980637, \"group\": \"sport\"}, {\"x\": 2.7165421076038485, \"y\": -0.17615620303174415, \"group\": \"sport\"}, {\"x\": 3.2674347703832884, \"y\": 1.1381733942139967, \"group\": \"sport\"}, {\"x\": 3.2256247727163743, \"y\": -0.1107839049997384, \"group\": \"sport\"}, {\"x\": 2.6424701206971366, \"y\": 0.5756233552475237, \"group\": \"sport\"}, {\"x\": 2.7065970513344095, \"y\": -1.8038064557915818, \"group\": \"sport\"}, {\"x\": 1.6172435457198113, \"y\": 2.4143407508467116, \"group\": \"sport\"}, {\"x\": 3.5642782096391343, \"y\": -0.5850397958170813, \"group\": \"sport\"}, {\"x\": 2.516988095287652, \"y\": 1.651451795464899, \"group\": \"sport\"}, {\"x\": 2.6798589114081746, \"y\": -0.2408933791432132, \"group\": \"sport\"}, {\"x\": 1.5391278984102275, \"y\": 1.2847244644851632, \"group\": \"sport\"}, {\"x\": 4.021707927343022, \"y\": -0.939564364248539, \"group\": \"sport\"}, {\"x\": 2.5481239602448262, \"y\": -0.08690568421308488, \"group\": \"sport\"}, {\"x\": 3.134800319518935, \"y\": -0.6211884154692192, \"group\": \"sport\"}, {\"x\": 2.6371663717355593, \"y\": 0.5525113476645508, \"group\": \"sport\"}, {\"x\": 2.27897322369474, \"y\": 0.20336414318909232, \"group\": \"sport\"}, {\"x\": 2.069761472449301, \"y\": 1.0806098010648078, \"group\": \"sport\"}, {\"x\": 3.3871042103235576, \"y\": -1.9098170790990185, \"group\": \"sport\"}, {\"x\": 3.30987183939992, \"y\": 0.018230879356591435, \"group\": \"sport\"}, {\"x\": 2.6975081231920037, \"y\": 0.21997767412376962, \"group\": \"sport\"}, {\"x\": 2.5734264638968636, \"y\": -2.7525149796334145, \"group\": \"sport\"}, {\"x\": 2.2399277114564895, \"y\": 1.4308774836841087, \"group\": \"sport\"}, {\"x\": 2.591713504910535, \"y\": -1.209300138962118, \"group\": \"sport\"}, {\"x\": 2.1941727640504998, \"y\": -0.09561438699739612, \"group\": \"sport\"}, {\"x\": 3.1592669202275396, \"y\": 0.8926423161383001, \"group\": \"sport\"}, {\"x\": 2.756971364004901, \"y\": -0.36716451320618226, \"group\": \"sport\"}, {\"x\": 2.0927407692047946, \"y\": -0.3840196026764223, \"group\": \"sport\"}, {\"x\": 0.7404796477241617, \"y\": 0.2020073766073531, \"group\": \"sport\"}, {\"x\": 3.4056160882744972, \"y\": -0.5574150615383084, \"group\": \"sport\"}, {\"x\": 3.2928350967091955, \"y\": -1.9536837275782288, \"group\": \"sport\"}, {\"x\": 1.8265063946309166, \"y\": 1.3977052269598915, \"group\": \"sport\"}, {\"x\": 2.274035361102145, \"y\": 0.02289918445373415, \"group\": \"sport\"}, {\"x\": 2.4520108049400853, \"y\": -0.4732774417111141, \"group\": \"sport\"}, {\"x\": 3.201172231828131, \"y\": 1.041440847946292, \"group\": \"sport\"}, {\"x\": 2.830109036856109, \"y\": 1.7486246231155622, \"group\": \"sport\"}, {\"x\": 2.220302242035931, \"y\": 0.48430296495661007, \"group\": \"sport\"}, {\"x\": 1.925835990883873, \"y\": -1.1502831500671535, \"group\": \"sport\"}, {\"x\": 2.4106861478959027, \"y\": 1.638843055073732, \"group\": \"sport\"}, {\"x\": 2.0951005888961434, \"y\": 1.4493680258338364, \"group\": \"sport\"}, {\"x\": 0.6536101963225325, \"y\": -1.2743563837454157, \"group\": \"sport\"}, {\"x\": 3.5978402900552107, \"y\": 0.6794604684033826, \"group\": \"sport\"}, {\"x\": 1.884007684788858, \"y\": -0.5272376371792937, \"group\": \"sport\"}, {\"x\": 1.6142900400807552, \"y\": -2.845504212564865, \"group\": \"sport\"}, {\"x\": 2.396782894986411, \"y\": 0.18962622207588345, \"group\": \"sport\"}, {\"x\": 2.902962284843705, \"y\": 1.9631958340021347, \"group\": \"sport\"}, {\"x\": 4.098311702408057, \"y\": 0.9994321766656867, \"group\": \"sport\"}, {\"x\": 2.8649823620456716, \"y\": 0.39923163679103235, \"group\": \"sport\"}, {\"x\": 2.817658650763897, \"y\": 0.8551236603385053, \"group\": \"sport\"}, {\"x\": 3.1478677410822744, \"y\": 2.2181851181372716, \"group\": \"sport\"}, {\"x\": 2.1730879846642024, \"y\": -0.9015874622506529, \"group\": \"sport\"}, {\"x\": 1.1021372427545133, \"y\": 2.292796398473971, \"group\": \"sport\"}, {\"x\": 0.8410890423672179, \"y\": -0.6994040162632704, \"group\": \"sport\"}, {\"x\": 3.710846044047584, \"y\": 0.34346800036181735, \"group\": \"sport\"}, {\"x\": 2.638914953765961, \"y\": 0.43157518257922023, \"group\": \"sport\"}, {\"x\": 2.850124496108688, \"y\": 2.0281195595120525, \"group\": \"sport\"}, {\"x\": 2.0496792889020745, \"y\": 0.3969613914549051, \"group\": \"sport\"}, {\"x\": 3.502150903735077, \"y\": 0.2345641319264037, \"group\": \"sport\"}, {\"x\": 3.159497603169738, \"y\": -1.1025275241918937, \"group\": \"sport\"}, {\"x\": 1.9830465538747628, \"y\": 0.4765616361179836, \"group\": \"sport\"}, {\"x\": 1.7253392904400071, \"y\": 1.3704588849118793, \"group\": \"sport\"}, {\"x\": 0.6742608701867037, \"y\": 1.1918858013966211, \"group\": \"sport\"}, {\"x\": 3.6599333343703173, \"y\": 1.8393771268702281, \"group\": \"sport\"}, {\"x\": 0.5819359940088331, \"y\": -0.7440196666134283, \"group\": \"sport\"}, {\"x\": 3.1068371175667346, \"y\": -0.3079009019953379, \"group\": \"sport\"}, {\"x\": 3.998122776288388, \"y\": -0.02712035586611483, \"group\": \"sport\"}, {\"x\": 1.0912587167320236, \"y\": 1.6117429645345045, \"group\": \"sport\"}, {\"x\": 3.9926095212130446, \"y\": -0.9111950767452843, \"group\": \"sport\"}, {\"x\": 3.796048820169722, \"y\": 0.9548151449811069, \"group\": \"sport\"}, {\"x\": 3.8497854983126714, \"y\": 0.5291835996319595, \"group\": \"sport\"}, {\"x\": 3.6790985940042336, \"y\": 3.5829372553824337, \"group\": \"sport\"}, {\"x\": 2.1476614832665084, \"y\": 1.268946563854361, \"group\": \"sport\"}, {\"x\": 2.5779456660907334, \"y\": 0.1948825794213501, \"group\": \"sport\"}, {\"x\": 2.545407609077137, \"y\": 2.4317786228168563, \"group\": \"sport\"}, {\"x\": 2.0253708087474376, \"y\": 0.4403729726691724, \"group\": \"sport\"}, {\"x\": 2.4171120780605344, \"y\": 1.5640928153184246, \"group\": \"sport\"}, {\"x\": 1.9271034714420332, \"y\": 0.5136428280697469, \"group\": \"sport\"}, {\"x\": 1.2390791693909424, \"y\": 1.4071406817887155, \"group\": \"sport\"}, {\"x\": 2.4087181353580123, \"y\": -0.7157626598863135, \"group\": \"sport\"}, {\"x\": 2.2012445509795255, \"y\": 0.9921454059119613, \"group\": \"sport\"}, {\"x\": 2.8568681929112074, \"y\": 0.5865247960197695, \"group\": \"sport\"}, {\"x\": 0.9632417211828768, \"y\": 0.41323903535729606, \"group\": \"sport\"}, {\"x\": 2.500064409581948, \"y\": -0.219232072016425, \"group\": \"sport\"}, {\"x\": 0.885657697614632, \"y\": 0.28302856998868064, \"group\": \"sport\"}, {\"x\": 4.291502950298181, \"y\": 1.2886016055858611, \"group\": \"sport\"}, {\"x\": 3.770640583742954, \"y\": 0.5959363936521029, \"group\": \"sport\"}, {\"x\": 1.7413996777431833, \"y\": -0.42736394415337664, \"group\": \"sport\"}, {\"x\": 1.55770806238248, \"y\": 1.830282806893973, \"group\": \"sport\"}, {\"x\": 1.0487159585540002, \"y\": -0.9452657807393711, \"group\": \"sport\"}, {\"x\": 4.221264742879695, \"y\": 2.1653400250826276, \"group\": \"sport\"}, {\"x\": 5.3893030001051345, \"y\": -0.5042596707065078, \"group\": \"sport\"}, {\"x\": -0.027598636019169565, \"y\": 0.15693161243366718, \"group\": \"business\"}, {\"x\": -0.23240468886689772, \"y\": -0.8061871350333275, \"group\": \"business\"}, {\"x\": -0.518218751666533, \"y\": 0.4032802010802919, \"group\": \"business\"}, {\"x\": 0.6852153218189505, \"y\": 1.1328985491029973, \"group\": \"business\"}, {\"x\": 0.35264185613668925, \"y\": -1.235628331047931, \"group\": \"business\"}, {\"x\": -0.46174391667757064, \"y\": -0.844722552501867, \"group\": \"business\"}, {\"x\": -0.15992834354953525, \"y\": -0.45515124457654577, \"group\": \"business\"}, {\"x\": -0.34751788668711175, \"y\": -0.5406502385724509, \"group\": \"business\"}, {\"x\": 0.5917296413403275, \"y\": -1.10811284634369, \"group\": \"business\"}, {\"x\": -0.5822304129803011, \"y\": -0.5658852547513892, \"group\": \"business\"}, {\"x\": 0.5422182098112451, \"y\": 2.2969460323794295, \"group\": \"business\"}, {\"x\": -1.5646907899626727, \"y\": -2.5778202853915997, \"group\": \"business\"}, {\"x\": -2.5292526510153777, \"y\": 0.4067468186040232, \"group\": \"business\"}, {\"x\": -0.36099722998019423, \"y\": -2.277690822950272, \"group\": \"business\"}, {\"x\": 0.5843198054968322, \"y\": 0.70072022865372, \"group\": \"business\"}, {\"x\": -0.7708493340110902, \"y\": 0.9598582186417254, \"group\": \"business\"}, {\"x\": 0.7960828705978795, \"y\": 0.7213575507564822, \"group\": \"business\"}, {\"x\": -0.9170282425237946, \"y\": 0.34060473225769555, \"group\": \"business\"}, {\"x\": 0.6286128891010234, \"y\": -0.4307540903582046, \"group\": \"business\"}, {\"x\": -1.1381619540936336, \"y\": 0.054205695364938127, \"group\": \"business\"}, {\"x\": -0.5392813637865894, \"y\": 0.06149809225344722, \"group\": \"business\"}, {\"x\": -0.3275336024217902, \"y\": 0.9142861230197384, \"group\": \"business\"}, {\"x\": -0.6527667928863161, \"y\": 0.8656608169632242, \"group\": \"business\"}, {\"x\": -0.8939829247123245, \"y\": -0.91690723489897, \"group\": \"business\"}, {\"x\": 0.6548257361409431, \"y\": 1.7279931705191027, \"group\": \"business\"}, {\"x\": 0.20389981405852725, \"y\": 1.4132490710132435, \"group\": \"business\"}, {\"x\": 0.150381807152966, \"y\": 0.43318367946834735, \"group\": \"business\"}, {\"x\": -0.9102532509543, \"y\": 0.012858764875051405, \"group\": \"business\"}, {\"x\": -0.34463009583931287, \"y\": -0.28644783777110094, \"group\": \"business\"}, {\"x\": -0.4744280367654061, \"y\": 1.036760044244536, \"group\": \"business\"}, {\"x\": -0.858745487503753, \"y\": -0.6033776037711481, \"group\": \"business\"}, {\"x\": -1.236230870269735, \"y\": -1.8643856851347433, \"group\": \"business\"}, {\"x\": -1.0101568815490636, \"y\": -0.02824919788158286, \"group\": \"business\"}, {\"x\": -0.2081779713048581, \"y\": -1.5039438489719688, \"group\": \"business\"}, {\"x\": 0.21439013023195636, \"y\": -1.467412342774038, \"group\": \"business\"}, {\"x\": -1.0274836313002387, \"y\": 0.7445410474261838, \"group\": \"business\"}, {\"x\": -1.1921556470852814, \"y\": -0.6853445462885182, \"group\": \"business\"}, {\"x\": -0.2784511723977545, \"y\": 1.1228529603735766, \"group\": \"business\"}, {\"x\": 0.33772578752713583, \"y\": -0.6995044481174383, \"group\": \"business\"}, {\"x\": -0.6156665099217956, \"y\": -0.0868136580486565, \"group\": \"business\"}, {\"x\": -1.0379779476536939, \"y\": 0.5568305985227325, \"group\": \"business\"}, {\"x\": 1.0027844078729997, \"y\": -0.008601642295243902, \"group\": \"business\"}, {\"x\": -0.9841541047606666, \"y\": 0.015022405102325042, \"group\": \"business\"}, {\"x\": -0.7962087439470588, \"y\": 1.4710726213490477, \"group\": \"business\"}, {\"x\": -1.6983916944187094, \"y\": -2.528832945936006, \"group\": \"business\"}, {\"x\": 1.486085199364372, \"y\": -2.6031372591608686, \"group\": \"business\"}, {\"x\": -0.6236599114231782, \"y\": -0.5505588952411917, \"group\": \"business\"}, {\"x\": -0.2693706170330717, \"y\": -0.05924855063219717, \"group\": \"business\"}, {\"x\": 1.3761518127247299, \"y\": -0.8845565178098911, \"group\": \"business\"}, {\"x\": -1.1250388626679966, \"y\": -0.9365978269025593, \"group\": \"business\"}, {\"x\": 0.35279585893569493, \"y\": 0.35302078596191144, \"group\": \"business\"}, {\"x\": 0.8234952887459259, \"y\": 1.7836154683517234, \"group\": \"business\"}, {\"x\": 0.09004310328702747, \"y\": 1.272402457141216, \"group\": \"business\"}, {\"x\": -0.711585146201789, \"y\": -0.2323864029415744, \"group\": \"business\"}, {\"x\": 0.26690444095555294, \"y\": -0.6930345476137862, \"group\": \"business\"}, {\"x\": 0.45527958650586836, \"y\": 0.6752429413780616, \"group\": \"business\"}, {\"x\": -0.8626813555156274, \"y\": 1.7483806261348822, \"group\": \"business\"}, {\"x\": -0.565737601607127, \"y\": -1.1745178935214966, \"group\": \"business\"}, {\"x\": -0.00972308488407625, \"y\": 0.2358167726831151, \"group\": \"business\"}, {\"x\": 0.388530556730776, \"y\": -0.8618120410155147, \"group\": \"business\"}, {\"x\": -1.76984789556498, \"y\": 0.42376187485210176, \"group\": \"business\"}, {\"x\": -0.4707507116337614, \"y\": -0.3366914860947289, \"group\": \"business\"}, {\"x\": -0.054109754303990454, \"y\": -0.9582526927607145, \"group\": \"business\"}, {\"x\": -0.5103040604333408, \"y\": 1.0564671961791492, \"group\": \"business\"}, {\"x\": -1.7103629060200234, \"y\": 0.030150704683402953, \"group\": \"business\"}, {\"x\": 2.22268336270502, \"y\": 0.666795853077476, \"group\": \"business\"}, {\"x\": -0.7627254274651287, \"y\": 0.3559582288181861, \"group\": \"business\"}, {\"x\": -0.23468178994660488, \"y\": -0.06966511911818911, \"group\": \"business\"}, {\"x\": -0.12256742830150472, \"y\": -0.1693332386795814, \"group\": \"business\"}, {\"x\": -0.028422351812285862, \"y\": 1.0593596210319278, \"group\": \"business\"}, {\"x\": 0.774145302425371, \"y\": -0.9747224427874978, \"group\": \"business\"}, {\"x\": -0.9591085755759512, \"y\": 0.7448446817040945, \"group\": \"business\"}, {\"x\": 0.8822802939277803, \"y\": 0.9554237831993971, \"group\": \"business\"}, {\"x\": -2.0491063335909927, \"y\": 0.10521461440436007, \"group\": \"business\"}, {\"x\": -1.6524560992229647, \"y\": 0.5227093336134205, \"group\": \"business\"}, {\"x\": -1.2517327771544593, \"y\": -0.10245290289308004, \"group\": \"business\"}, {\"x\": -0.04120993682465579, \"y\": 0.27165138409604017, \"group\": \"business\"}, {\"x\": 1.611543096663221, \"y\": 1.1734037820135483, \"group\": \"business\"}, {\"x\": -0.8887341245865825, \"y\": -0.38047657192016265, \"group\": \"business\"}, {\"x\": -0.8624366106924766, \"y\": -1.6668563114878023, \"group\": \"business\"}, {\"x\": -1.3541049136194643, \"y\": 0.10556429670328499, \"group\": \"business\"}, {\"x\": -0.11882250653321835, \"y\": 0.3253342293416111, \"group\": \"business\"}, {\"x\": -0.11942658750258722, \"y\": -0.7373120672031805, \"group\": \"business\"}, {\"x\": -0.5304386256713517, \"y\": -1.2116307977511902, \"group\": \"business\"}, {\"x\": -1.7269606321145374, \"y\": -0.41473510354168036, \"group\": \"business\"}, {\"x\": -1.5959650975199118, \"y\": -1.6106244921300668, \"group\": \"business\"}, {\"x\": -1.4099113699315964, \"y\": 0.9144842458948117, \"group\": \"business\"}, {\"x\": 0.6054216520081115, \"y\": -0.8833502996332796, \"group\": \"business\"}, {\"x\": -2.2345524270758155, \"y\": 2.2272442926051, \"group\": \"business\"}, {\"x\": -0.40777389966264105, \"y\": 0.4355635649410962, \"group\": \"business\"}, {\"x\": 1.8295521704111772, \"y\": -2.2686934440052897, \"group\": \"business\"}, {\"x\": -1.6728170351039053, \"y\": 1.209030705901669, \"group\": \"business\"}, {\"x\": 1.6090632194951486, \"y\": 0.8158138398202504, \"group\": \"business\"}, {\"x\": -2.1602642720429093, \"y\": -0.3082959846299864, \"group\": \"business\"}, {\"x\": -0.7793247256071472, \"y\": -0.8688215268713235, \"group\": \"business\"}, {\"x\": 0.09690130927496016, \"y\": -0.0538674544882378, \"group\": \"business\"}, {\"x\": 1.6775684246969154, \"y\": -1.6474873126553728, \"group\": \"business\"}, {\"x\": -0.5799045816983801, \"y\": -1.5454001089144827, \"group\": \"business\"}, {\"x\": -1.1009148107383, \"y\": 1.1574677772801978, \"group\": \"business\"}, {\"x\": 0.5277323572808688, \"y\": 1.1629946907082762, \"group\": \"business\"}, {\"x\": 0.9189878632539683, \"y\": -2.0977234718623676, \"group\": \"business\"}, {\"x\": 0.9510286551247511, \"y\": -1.1108832258543668, \"group\": \"business\"}, {\"x\": -0.8456031456423025, \"y\": 0.3576657152498948, \"group\": \"business\"}, {\"x\": 0.03045286326759372, \"y\": 0.30136014635471625, \"group\": \"business\"}, {\"x\": -1.3035469078426278, \"y\": 2.5257538834955766, \"group\": \"business\"}, {\"x\": 1.1051913774589568, \"y\": 0.20405703777559714, \"group\": \"business\"}, {\"x\": -1.6718483054868254, \"y\": 0.7456747572163079, \"group\": \"business\"}, {\"x\": 1.3197757420893084, \"y\": -0.25491304374571194, \"group\": \"business\"}, {\"x\": 0.026945069354438467, \"y\": -0.264238144993139, \"group\": \"business\"}, {\"x\": -0.22888713100006253, \"y\": -0.38979204388964267, \"group\": \"business\"}, {\"x\": -1.9527991891302843, \"y\": 0.8960564857466661, \"group\": \"business\"}, {\"x\": -0.19383603099077282, \"y\": 0.8027368629020228, \"group\": \"business\"}, {\"x\": 0.6909415841067426, \"y\": -0.5032266168263013, \"group\": \"business\"}, {\"x\": -0.011247830950877835, \"y\": -1.482190667264944, \"group\": \"business\"}, {\"x\": 1.40835608676831, \"y\": 0.1938847260643736, \"group\": \"business\"}, {\"x\": -0.9397210698578871, \"y\": 0.5835788114484974, \"group\": \"business\"}, {\"x\": -0.8176992432002861, \"y\": 0.6457650626770562, \"group\": \"business\"}, {\"x\": 0.36772666495255785, \"y\": 1.1053696271706153, \"group\": \"business\"}, {\"x\": -0.6994853250211203, \"y\": 2.305095842939593, \"group\": \"business\"}, {\"x\": -1.9671672276428023, \"y\": -1.1220571215660606, \"group\": \"business\"}, {\"x\": -0.4594828934282609, \"y\": 1.1498277968995299, \"group\": \"business\"}, {\"x\": -1.8712180366975537, \"y\": -0.7124410327755862, \"group\": \"business\"}, {\"x\": -0.4055622916804631, \"y\": 0.5079289526445241, \"group\": \"business\"}, {\"x\": -0.5832919531534192, \"y\": 1.1945168776865465, \"group\": \"business\"}, {\"x\": -1.324066812172804, \"y\": -0.665950000380982, \"group\": \"business\"}, {\"x\": 1.2996136968384986, \"y\": -1.6812672268039681, \"group\": \"business\"}, {\"x\": -0.45841767709629977, \"y\": 1.242872357003994, \"group\": \"business\"}, {\"x\": -1.7446784793148202, \"y\": 0.012726522187357415, \"group\": \"business\"}, {\"x\": 0.2113946085496718, \"y\": 2.159696815790657, \"group\": \"business\"}, {\"x\": -1.022644349565347, \"y\": -0.6477627515825201, \"group\": \"business\"}, {\"x\": 3.020796419473879, \"y\": 0.5960040925255526, \"group\": \"business\"}, {\"x\": -2.633678108195963, \"y\": 0.5986001908587814, \"group\": \"business\"}, {\"x\": -1.0810940157813544, \"y\": -0.8788904570722271, \"group\": \"business\"}, {\"x\": 1.6197530906138433, \"y\": 0.043215746499507136, \"group\": \"business\"}, {\"x\": -2.7748938695763545, \"y\": 1.7625813258215728, \"group\": \"business\"}, {\"x\": -0.2402961894769613, \"y\": 0.5331938319647872, \"group\": \"business\"}, {\"x\": -1.060233300446527, \"y\": 1.6476109374689936, \"group\": \"business\"}, {\"x\": -1.807142515414587, \"y\": -0.7132031284962705, \"group\": \"business\"}, {\"x\": 0.2259121518039618, \"y\": -0.0760303465954261, \"group\": \"business\"}, {\"x\": -0.8280081871107743, \"y\": 0.8344855940035248, \"group\": \"business\"}, {\"x\": 0.13742590963902374, \"y\": 0.5244128921514024, \"group\": \"business\"}, {\"x\": -0.31521592481795013, \"y\": -0.1041477583300262, \"group\": \"business\"}, {\"x\": 2.6082338175497184, \"y\": 0.4878028147889575, \"group\": \"business\"}, {\"x\": -0.7555331178755351, \"y\": 0.16404498408864301, \"group\": \"business\"}, {\"x\": -0.40419659478966447, \"y\": 0.772422173503997, \"group\": \"business\"}, {\"x\": -0.43296502782688984, \"y\": -0.1773853753801087, \"group\": \"business\"}, {\"x\": 0.4225830839604218, \"y\": -1.5028263338627963, \"group\": \"business\"}, {\"x\": -1.1984558584583664, \"y\": 0.286599370916677, \"group\": \"business\"}, {\"x\": -1.3958901363412843, \"y\": -0.740486691726901, \"group\": \"business\"}, {\"x\": 0.7614606518313964, \"y\": 0.11967502119449283, \"group\": \"business\"}, {\"x\": 0.6393209745464465, \"y\": -0.17887151041053392, \"group\": \"business\"}, {\"x\": -1.359647426395494, \"y\": 0.2997745432634902, \"group\": \"business\"}, {\"x\": -1.5474727137890194, \"y\": 2.096680635060738, \"group\": \"business\"}, {\"x\": 0.6844508041053321, \"y\": -0.6370092123389679, \"group\": \"business\"}, {\"x\": -0.5958011926595974, \"y\": 0.06728753130894227, \"group\": \"business\"}, {\"x\": -0.06981301505715043, \"y\": -0.3904978610488662, \"group\": \"business\"}, {\"x\": 1.7452104788954013, \"y\": -1.4404232747299035, \"group\": \"business\"}, {\"x\": -2.187520571781479, \"y\": -0.7066981468426139, \"group\": \"business\"}, {\"x\": 0.7595000379752948, \"y\": -0.7038464564396704, \"group\": \"business\"}, {\"x\": 0.9621448964048327, \"y\": 1.8807069632599691, \"group\": \"business\"}, {\"x\": -1.0333341797631395, \"y\": 1.44016617910524, \"group\": \"business\"}, {\"x\": 0.32782376620477865, \"y\": -0.5930937010113191, \"group\": \"business\"}, {\"x\": 0.047173643823337774, \"y\": -0.5741160701026149, \"group\": \"business\"}, {\"x\": -0.6348159102565292, \"y\": -1.549843237620437, \"group\": \"business\"}, {\"x\": 0.4764429623690049, \"y\": 0.17442882621923123, \"group\": \"business\"}, {\"x\": -1.6992537864718043, \"y\": -0.5488508397263406, \"group\": \"business\"}, {\"x\": -1.6103052668968867, \"y\": -2.2801664680430442, \"group\": \"business\"}, {\"x\": -0.7507596973351263, \"y\": 0.7304370255741448, \"group\": \"business\"}, {\"x\": 0.5172496889568654, \"y\": 0.02345139942896661, \"group\": \"business\"}, {\"x\": 0.3563689715249804, \"y\": 0.18772411970149416, \"group\": \"business\"}, {\"x\": 0.10321540369548221, \"y\": -1.0055316809794888, \"group\": \"business\"}, {\"x\": -1.5900008578382014, \"y\": 1.6927514921568914, \"group\": \"business\"}, {\"x\": 1.4038488884068379, \"y\": -0.5337677138772656, \"group\": \"business\"}, {\"x\": -0.9846486885235397, \"y\": -1.80112786588534, \"group\": \"business\"}, {\"x\": -1.3562569461876408, \"y\": -0.5035435467152467, \"group\": \"business\"}, {\"x\": -0.16938935430565707, \"y\": 0.8963139080542495, \"group\": \"business\"}, {\"x\": -0.1521680525332633, \"y\": 0.7964764394967976, \"group\": \"business\"}, {\"x\": 0.14884726089224343, \"y\": -1.440327542119446, \"group\": \"business\"}, {\"x\": 1.6255546442510078, \"y\": -0.11727340115567586, \"group\": \"business\"}, {\"x\": 0.5251098552765714, \"y\": -0.19967609797614566, \"group\": \"business\"}, {\"x\": -0.3769988543203968, \"y\": 1.1645750779659034, \"group\": \"business\"}, {\"x\": -0.6499017364771275, \"y\": -2.3175690109786196, \"group\": \"business\"}, {\"x\": 0.8949738752383107, \"y\": 0.7131007690382103, \"group\": \"business\"}, {\"x\": -0.11811650260257964, \"y\": 0.03962932665335111, \"group\": \"business\"}, {\"x\": 1.7159906607032855, \"y\": -1.0489952997327656, \"group\": \"business\"}, {\"x\": 0.49101711601110093, \"y\": 0.5872810781315382, \"group\": \"business\"}, {\"x\": -1.8717216659520028, \"y\": 1.3154525706808808, \"group\": \"business\"}, {\"x\": -0.7475424738944381, \"y\": 0.1573074214856967, \"group\": \"business\"}, {\"x\": 1.7581411595370584, \"y\": 1.4693579787364703, \"group\": \"business\"}, {\"x\": -0.05276816089068198, \"y\": 0.08387886840624793, \"group\": \"business\"}, {\"x\": 2.090809327529926, \"y\": 2.0741895246439084, \"group\": \"business\"}, {\"x\": 0.26779089326470434, \"y\": 1.3643117075662075, \"group\": \"business\"}, {\"x\": 0.708872777668474, \"y\": 0.4749488019378415, \"group\": \"business\"}, {\"x\": 0.780690765400263, \"y\": 1.3846531633853072, \"group\": \"business\"}, {\"x\": -1.4356366416602278, \"y\": 0.298803297553867, \"group\": \"business\"}, {\"x\": -0.41181714558788174, \"y\": -1.2141289611433357, \"group\": \"business\"}, {\"x\": -2.274790139365483, \"y\": 0.739119360392713, \"group\": \"business\"}, {\"x\": -1.280122586410145, \"y\": 1.7067995363189963, \"group\": \"business\"}, {\"x\": -3.6984165430116023, \"y\": 1.628664991149129, \"group\": \"business\"}, {\"x\": 0.9205883688981353, \"y\": 1.0683041843744834, \"group\": \"business\"}, {\"x\": -0.7973546118263404, \"y\": 0.3192189392358274, \"group\": \"business\"}, {\"x\": 1.1122684657974304, \"y\": 1.399293107008986, \"group\": \"business\"}, {\"x\": -0.9357799258955681, \"y\": -1.5929227533381285, \"group\": \"business\"}, {\"x\": -0.09194164566452867, \"y\": -0.6168412102856801, \"group\": \"business\"}, {\"x\": -0.9469214075303636, \"y\": 0.4341768183690152, \"group\": \"business\"}, {\"x\": -0.4628442869917334, \"y\": -1.71803825117629, \"group\": \"business\"}, {\"x\": -1.2197829453641182, \"y\": 1.5918625926287202, \"group\": \"business\"}, {\"x\": -0.4457354204165167, \"y\": -0.4209745937748185, \"group\": \"business\"}, {\"x\": -0.2695029729103087, \"y\": -1.0551344049286033, \"group\": \"business\"}, {\"x\": -1.7161030895463671, \"y\": 1.0264262645416198, \"group\": \"business\"}, {\"x\": -1.8763469132824635, \"y\": -1.191658048403328, \"group\": \"business\"}, {\"x\": 1.7396551280196175, \"y\": -1.6934925307133197, \"group\": \"business\"}, {\"x\": -0.33498677553533096, \"y\": -0.2866074238881421, \"group\": \"business\"}, {\"x\": -0.2134794760735521, \"y\": 0.5098312902355098, \"group\": \"business\"}, {\"x\": 1.5095440153594455, \"y\": 0.9143251139759313, \"group\": \"business\"}, {\"x\": -0.48037624740220897, \"y\": -0.2515712857949113, \"group\": \"business\"}, {\"x\": -0.9858460490347731, \"y\": 0.4093755136177755, \"group\": \"business\"}, {\"x\": -1.0821691898853527, \"y\": -1.8383420098105618, \"group\": \"business\"}, {\"x\": -0.9408019816722344, \"y\": 0.5508118113191679, \"group\": \"business\"}, {\"x\": 1.4804292690500025, \"y\": 1.8140271944155917, \"group\": \"business\"}, {\"x\": -1.9787614644167326, \"y\": -2.2341803680739423, \"group\": \"business\"}, {\"x\": -1.0595235759864408, \"y\": -0.4119014668556793, \"group\": \"business\"}, {\"x\": -0.48733785901682847, \"y\": -2.1236953895602735, \"group\": \"business\"}, {\"x\": 0.5382697917999144, \"y\": 0.9358294416690012, \"group\": \"business\"}, {\"x\": 0.4712688000913851, \"y\": 0.18653391264850502, \"group\": \"business\"}, {\"x\": 0.9385322736031194, \"y\": 1.7883670573156578, \"group\": \"business\"}, {\"x\": 0.14685641048913273, \"y\": 0.9123190373147052, \"group\": \"business\"}, {\"x\": -0.3564860653720434, \"y\": -0.2079235483687847, \"group\": \"business\"}, {\"x\": 0.09789563899757658, \"y\": 0.27878320952905605, \"group\": \"business\"}, {\"x\": 1.6713058215058991, \"y\": 0.05853912644680658, \"group\": \"business\"}, {\"x\": -0.844931855241003, \"y\": -0.8643058269250707, \"group\": \"business\"}, {\"x\": 0.14671846335878447, \"y\": -0.9565627596648917, \"group\": \"business\"}, {\"x\": -0.4046478272837774, \"y\": -1.3702170531888003, \"group\": \"business\"}, {\"x\": -1.4929147309274817, \"y\": 0.078003054133037, \"group\": \"business\"}, {\"x\": 0.5083145780941611, \"y\": 1.6554907402065915, \"group\": \"business\"}, {\"x\": 0.5255609612481635, \"y\": 0.6345335203184418, \"group\": \"business\"}, {\"x\": -0.4191582599430287, \"y\": 1.2725168188762708, \"group\": \"business\"}, {\"x\": 0.08111572542802292, \"y\": -1.2254497881986788, \"group\": \"business\"}, {\"x\": -0.5066390142365174, \"y\": 0.10258934912117094, \"group\": \"business\"}, {\"x\": 0.11526854023620298, \"y\": 0.5635273942888301, \"group\": \"business\"}, {\"x\": -1.518855343698061, \"y\": 0.5783675316279884, \"group\": \"business\"}, {\"x\": -0.07830701401829157, \"y\": 0.2615788534181154, \"group\": \"business\"}, {\"x\": -0.24021215704973503, \"y\": -1.3282068113309091, \"group\": \"business\"}, {\"x\": 0.3999101640779344, \"y\": 1.4909533364117613, \"group\": \"business\"}, {\"x\": -1.2127260845911958, \"y\": 1.9294771581270598, \"group\": \"business\"}, {\"x\": -0.8025497617090681, \"y\": -1.7848469314789481, \"group\": \"business\"}, {\"x\": 0.33570895701990894, \"y\": -1.6078306563654616, \"group\": \"business\"}, {\"x\": 0.48888266196315283, \"y\": -0.48005651576737524, \"group\": \"business\"}, {\"x\": -1.3907146027964974, \"y\": 0.2902385435917615, \"group\": \"business\"}, {\"x\": -1.1678828844100475, \"y\": -1.8320126749117729, \"group\": \"business\"}, {\"x\": -0.9758286727799304, \"y\": 2.779697232168728, \"group\": \"business\"}, {\"x\": -0.8266515349909269, \"y\": -0.8165428401297404, \"group\": \"business\"}, {\"x\": 0.6866076897587554, \"y\": 0.8390068702692444, \"group\": \"business\"}, {\"x\": 1.3201768662981004, \"y\": -1.6600859973186997, \"group\": \"business\"}, {\"x\": 1.5947477500674376, \"y\": -0.8870602664528175, \"group\": \"business\"}, {\"x\": -2.2020522680637504, \"y\": -0.13643767017247288, \"group\": \"business\"}, {\"x\": 2.0461565273161018, \"y\": 0.5496346802397056, \"group\": \"business\"}, {\"x\": 0.9976284750974058, \"y\": 4.318418587704091, \"group\": \"business\"}, {\"x\": -2.361433230736073, \"y\": -0.750668895598942, \"group\": \"business\"}, {\"x\": 0.23016799578717556, \"y\": 0.06809000153365061, \"group\": \"business\"}, {\"x\": -0.8851078604464464, \"y\": -0.7246375628524271, \"group\": \"business\"}, {\"x\": 0.45400744939648113, \"y\": 0.07772662319384448, \"group\": \"business\"}, {\"x\": 1.5930148145885978, \"y\": 0.2171910598318114, \"group\": \"business\"}, {\"x\": -0.19388868498593093, \"y\": -0.5122640721394394, \"group\": \"business\"}, {\"x\": -0.3736594802971524, \"y\": 0.24550367380071034, \"group\": \"business\"}, {\"x\": -0.5147539506699093, \"y\": 1.8357844744629477, \"group\": \"business\"}, {\"x\": -0.5174781955399338, \"y\": -0.28475114071024704, \"group\": \"business\"}, {\"x\": 0.22857410196405442, \"y\": 0.9475038290717538, \"group\": \"business\"}, {\"x\": 0.29831622872153424, \"y\": -0.6284269386012029, \"group\": \"business\"}, {\"x\": -0.22910714013364203, \"y\": 0.01070247612112824, \"group\": \"business\"}, {\"x\": -1.8037550371111093, \"y\": -2.3391044553958853, \"group\": \"business\"}, {\"x\": -0.25371599694734587, \"y\": 0.05761172892941474, \"group\": \"business\"}, {\"x\": -0.571691541777527, \"y\": 0.5351664649982096, \"group\": \"business\"}, {\"x\": -1.4871383031162997, \"y\": -1.8381098729667475, \"group\": \"business\"}, {\"x\": -0.877284513904319, \"y\": 0.557196058086078, \"group\": \"business\"}, {\"x\": -1.9378287614244025, \"y\": 2.0960526696450454, \"group\": \"business\"}, {\"x\": 0.909871020316678, \"y\": -1.4111932387905712, \"group\": \"business\"}, {\"x\": -0.2992234041841737, \"y\": -1.8904684504687979, \"group\": \"business\"}, {\"x\": -1.4553946899053392, \"y\": -0.7072184424601989, \"group\": \"business\"}, {\"x\": -2.4659376715278305, \"y\": 0.7810742242347204, \"group\": \"business\"}, {\"x\": -3.318868292856277, \"y\": 1.6020233399724284, \"group\": \"business\"}, {\"x\": -0.9311009910631718, \"y\": 0.9175524424268106, \"group\": \"business\"}, {\"x\": -0.3667931893935242, \"y\": 0.5137147550064451, \"group\": \"business\"}, {\"x\": 0.05020640098106416, \"y\": -0.10881161236571554, \"group\": \"business\"}, {\"x\": -0.9082084865540683, \"y\": 0.5683058032458237, \"group\": \"business\"}, {\"x\": -1.7934919623397985, \"y\": -0.7246392902132285, \"group\": \"business\"}, {\"x\": -0.6208577201221501, \"y\": -0.5501089324103137, \"group\": \"business\"}, {\"x\": -0.4109481412601851, \"y\": 1.0748823447876188, \"group\": \"business\"}, {\"x\": 0.8131966383635836, \"y\": 1.5866935845178225, \"group\": \"business\"}, {\"x\": -0.44972878918956105, \"y\": -1.4745449267519821, \"group\": \"business\"}, {\"x\": 0.1879063614727126, \"y\": 0.45426809003222546, \"group\": \"business\"}, {\"x\": -1.080450292380655, \"y\": -0.8633440895936074, \"group\": \"business\"}, {\"x\": -0.27844050935831033, \"y\": 0.21484472943256036, \"group\": \"business\"}, {\"x\": -1.255471567709797, \"y\": -0.19496357034285067, \"group\": \"business\"}, {\"x\": -0.46137109593308273, \"y\": 0.16239644343325935, \"group\": \"business\"}, {\"x\": -0.03774778889639602, \"y\": 1.7068661650995642, \"group\": \"business\"}, {\"x\": 0.04406837811911918, \"y\": 2.129443043393216, \"group\": \"business\"}, {\"x\": -2.0185700594990394, \"y\": 0.18175453667749877, \"group\": \"business\"}, {\"x\": -0.7367880706097379, \"y\": 0.1217301383505073, \"group\": \"business\"}, {\"x\": 0.996522308272892, \"y\": -0.14185966164313443, \"group\": \"business\"}, {\"x\": -0.1355694659046075, \"y\": -0.06552853299903673, \"group\": \"business\"}, {\"x\": -0.5193220543701272, \"y\": 1.291338448580583, \"group\": \"business\"}, {\"x\": -0.5385513341007833, \"y\": -1.5417634847738304, \"group\": \"business\"}, {\"x\": 1.4407978883336483, \"y\": 0.4691473447715042, \"group\": \"business\"}, {\"x\": -0.6632191556143742, \"y\": -0.162202137832126, \"group\": \"business\"}, {\"x\": 0.1717827654841726, \"y\": -0.40504949303409404, \"group\": \"business\"}, {\"x\": 0.43598903324064003, \"y\": -2.218450228015196, \"group\": \"business\"}, {\"x\": 0.1869641763053857, \"y\": 1.1236687797504947, \"group\": \"business\"}, {\"x\": -1.2249138862177238, \"y\": 0.5714051848083446, \"group\": \"business\"}, {\"x\": -0.3489550109840367, \"y\": 0.3622453175200239, \"group\": \"business\"}, {\"x\": -2.0408374542867653, \"y\": -1.2778496013163179, \"group\": \"business\"}, {\"x\": 0.21254361597886956, \"y\": -0.280844083413199, \"group\": \"business\"}, {\"x\": -0.2763251945371248, \"y\": 0.9747411006009906, \"group\": \"business\"}, {\"x\": 0.376115716480186, \"y\": -0.017283517169658688, \"group\": \"business\"}, {\"x\": -1.4900810513617575, \"y\": -0.0289175836725125, \"group\": \"business\"}, {\"x\": -2.2558203570988846, \"y\": 0.33398231698697395, \"group\": \"business\"}, {\"x\": -0.3446261142495382, \"y\": 0.2822054392400485, \"group\": \"business\"}, {\"x\": 1.059032727174048, \"y\": 1.0289279563618363, \"group\": \"business\"}, {\"x\": -1.3523517034784518, \"y\": 0.5853747710799446, \"group\": \"business\"}, {\"x\": -0.14526167379645602, \"y\": -0.3030806816165451, \"group\": \"business\"}, {\"x\": -1.1042734667863192, \"y\": 0.9235768873429967, \"group\": \"business\"}, {\"x\": 0.2488557322807851, \"y\": 2.46594802363465, \"group\": \"business\"}, {\"x\": 0.9870055803838067, \"y\": 1.1524374983629833, \"group\": \"business\"}, {\"x\": -0.40255385650634445, \"y\": -0.2716907273835285, \"group\": \"business\"}, {\"x\": -0.3957008123289552, \"y\": -0.1279851797977873, \"group\": \"business\"}, {\"x\": -0.3968036575439663, \"y\": -0.369163927857813, \"group\": \"business\"}, {\"x\": -1.0365611581111631, \"y\": -0.18388509214427393, \"group\": \"business\"}, {\"x\": -1.413062104697279, \"y\": 1.1339147723555651, \"group\": \"business\"}, {\"x\": -0.24653424346955585, \"y\": -2.087466473856048, \"group\": \"business\"}, {\"x\": -0.2323200129712902, \"y\": 0.1429101132153819, \"group\": \"business\"}, {\"x\": -1.022900441879342, \"y\": 1.9861143389995226, \"group\": \"business\"}, {\"x\": -0.8765763660079233, \"y\": 1.458677045616621, \"group\": \"business\"}, {\"x\": -0.9669169306713346, \"y\": 2.3043249758441315, \"group\": \"business\"}, {\"x\": -0.9486161763706307, \"y\": -0.9243330552978068, \"group\": \"business\"}, {\"x\": 0.167522539821981, \"y\": -1.3948287175097291, \"group\": \"business\"}, {\"x\": -2.1853682629589137, \"y\": -2.3039313232823146, \"group\": \"business\"}, {\"x\": 1.738512830774058, \"y\": -0.23851466522009782, \"group\": \"business\"}, {\"x\": 0.6416199917670606, \"y\": -0.32940760668160635, \"group\": \"business\"}, {\"x\": -0.8833474652157207, \"y\": -0.8803273140914026, \"group\": \"business\"}, {\"x\": -0.9199732057968641, \"y\": -1.284293508633182, \"group\": \"business\"}, {\"x\": -0.11986317456991727, \"y\": -0.7286131799741759, \"group\": \"business\"}, {\"x\": -1.8566546758750178, \"y\": 0.3405017851068637, \"group\": \"business\"}, {\"x\": -0.9359487409423388, \"y\": 0.30764482146481437, \"group\": \"business\"}, {\"x\": -1.7595523814744294, \"y\": -0.657541817390267, \"group\": \"business\"}, {\"x\": -0.40444538660506324, \"y\": 0.8087241036861716, \"group\": \"business\"}, {\"x\": -0.5635845499563443, \"y\": 1.2829254064792868, \"group\": \"business\"}, {\"x\": -0.08324945920561766, \"y\": 0.013316758897524336, \"group\": \"business\"}, {\"x\": 0.2929552323080578, \"y\": -0.652701430615553, \"group\": \"business\"}, {\"x\": 0.16694370626527394, \"y\": -0.24782017914274823, \"group\": \"business\"}, {\"x\": -1.1222732088054888, \"y\": -1.1079953571172372, \"group\": \"business\"}, {\"x\": -1.1613660807868489, \"y\": 1.0504263464302062, \"group\": \"business\"}, {\"x\": 0.21624743930603568, \"y\": 2.19633928219953, \"group\": \"business\"}, {\"x\": 0.48782516575515916, \"y\": 0.6725986085316832, \"group\": \"business\"}, {\"x\": -0.029432082671420334, \"y\": 1.8979064062828388, \"group\": \"business\"}, {\"x\": -0.909811404613978, \"y\": -1.3155114159569268, \"group\": \"business\"}, {\"x\": -1.3813265339890586, \"y\": 0.9379134449539014, \"group\": \"business\"}, {\"x\": -0.7095942609947121, \"y\": -0.49647565731138904, \"group\": \"business\"}, {\"x\": 0.27531778210295105, \"y\": 0.6431993360232684, \"group\": \"business\"}, {\"x\": -2.264638020648395, \"y\": 1.2898891516630269, \"group\": \"business\"}, {\"x\": -0.9145137156669871, \"y\": -0.27232224141741657, \"group\": \"business\"}, {\"x\": -0.4521439761684345, \"y\": -0.8731504644744535, \"group\": \"business\"}, {\"x\": -0.31351875575947663, \"y\": -0.10778430403422164, \"group\": \"business\"}, {\"x\": -0.35666180359901645, \"y\": -0.5938117458864725, \"group\": \"business\"}, {\"x\": -1.0472041292526666, \"y\": -0.900799140428379, \"group\": \"business\"}, {\"x\": 0.5902874613693496, \"y\": -1.6857323612782502, \"group\": \"business\"}, {\"x\": -2.342768569699911, \"y\": -0.3987069993177095, \"group\": \"business\"}, {\"x\": -0.5453474530720402, \"y\": 0.6578767910951004, \"group\": \"business\"}, {\"x\": -1.1786931374944716, \"y\": -0.44116434864578585, \"group\": \"business\"}, {\"x\": 0.39871013927855053, \"y\": 0.45049425109892294, \"group\": \"business\"}, {\"x\": -1.3905004951614002, \"y\": 0.8594847246338079, \"group\": \"business\"}, {\"x\": -2.2591522107522524, \"y\": 0.1906177146145897, \"group\": \"business\"}, {\"x\": -1.90981158121451, \"y\": 0.11580193982075893, \"group\": \"business\"}, {\"x\": -1.5921692155811495, \"y\": 0.013645174885886593, \"group\": \"business\"}, {\"x\": 0.04239858822916642, \"y\": -0.9715800835368703, \"group\": \"business\"}, {\"x\": 1.0750053882818642, \"y\": 1.52197934058871, \"group\": \"business\"}, {\"x\": -1.093645565706549, \"y\": 1.3519204753316205, \"group\": \"business\"}, {\"x\": -0.19946169054284407, \"y\": 1.809853125585703, \"group\": \"business\"}, {\"x\": -1.8875388187358568, \"y\": 0.04050457622395705, \"group\": \"business\"}, {\"x\": 0.34587105846549654, \"y\": 2.8686682245393484, \"group\": \"business\"}, {\"x\": -0.9152287488375188, \"y\": -3.060226106873657, \"group\": \"business\"}, {\"x\": 0.6835631531013211, \"y\": -1.7042729224552056, \"group\": \"business\"}, {\"x\": -0.5906326573224143, \"y\": -0.34943188076144, \"group\": \"business\"}, {\"x\": -0.28867034483711246, \"y\": -0.83235277939645, \"group\": \"business\"}, {\"x\": -1.944052804171191, \"y\": 0.7577108288166066, \"group\": \"business\"}, {\"x\": 0.24329360644560766, \"y\": 0.39679259239389136, \"group\": \"business\"}, {\"x\": -1.1271777844720565, \"y\": 0.48106387638488696, \"group\": \"business\"}, {\"x\": -2.4858727246653505, \"y\": 0.5349044763541363, \"group\": \"business\"}, {\"x\": -0.8766776345727156, \"y\": -0.28683407139417216, \"group\": \"business\"}, {\"x\": 1.1687591099139212, \"y\": -1.7120018840480722, \"group\": \"business\"}, {\"x\": -0.9920656570253299, \"y\": 0.793487288347194, \"group\": \"business\"}, {\"x\": 0.9855448888987559, \"y\": -1.5313211550134311, \"group\": \"business\"}, {\"x\": 0.7987254922370126, \"y\": -0.3560217230336822, \"group\": \"business\"}, {\"x\": -1.5773270085002613, \"y\": -0.7285618927904765, \"group\": \"business\"}, {\"x\": -0.17853817117084708, \"y\": 0.1043091129738684, \"group\": \"business\"}, {\"x\": -0.4577860352443741, \"y\": 0.29674938706243137, \"group\": \"business\"}, {\"x\": 0.19672190386426097, \"y\": 1.1462986338085068, \"group\": \"business\"}, {\"x\": 0.7828073675934406, \"y\": 0.8477663901791369, \"group\": \"business\"}, {\"x\": -0.5690351819378295, \"y\": 1.6841738124117034, \"group\": \"business\"}, {\"x\": -1.4053114879249518, \"y\": -0.3031829736250526, \"group\": \"business\"}, {\"x\": 0.3568488564257855, \"y\": -0.33293126961668806, \"group\": \"business\"}, {\"x\": -0.6976580717095402, \"y\": -1.7250447564369433, \"group\": \"business\"}, {\"x\": -0.9619532168554978, \"y\": 0.4014865627972251, \"group\": \"business\"}, {\"x\": 0.1551082432711156, \"y\": 0.04324711937845696, \"group\": \"business\"}, {\"x\": -0.09471364642122146, \"y\": -1.3005607398572019, \"group\": \"business\"}, {\"x\": -0.0306380041471207, \"y\": 1.029903902353929, \"group\": \"business\"}, {\"x\": -0.22466320730710126, \"y\": -0.9456715897963721, \"group\": \"business\"}, {\"x\": 0.6124349767174626, \"y\": 0.4039088734564385, \"group\": \"business\"}, {\"x\": 0.1470425656071231, \"y\": -1.6827406736238593, \"group\": \"business\"}, {\"x\": -1.1394943750033397, \"y\": 2.5709003462277193, \"group\": \"business\"}, {\"x\": -0.35963096435092673, \"y\": -1.7181966053662239, \"group\": \"business\"}, {\"x\": 1.7473556284819827, \"y\": 0.16029923498432544, \"group\": \"business\"}, {\"x\": -1.17764675491221, \"y\": 0.7711462444211848, \"group\": \"business\"}, {\"x\": -0.760547576320197, \"y\": -0.4797861818157121, \"group\": \"business\"}, {\"x\": -0.8681627191530907, \"y\": 1.1525695584679214, \"group\": \"business\"}, {\"x\": 0.6061976222755854, \"y\": 0.5029038367249133, \"group\": \"business\"}, {\"x\": -0.9596483558650573, \"y\": 0.3709079905496473, \"group\": \"business\"}, {\"x\": -1.143155754235263, \"y\": -1.6417645903939746, \"group\": \"business\"}, {\"x\": -0.871725370887033, \"y\": -2.0465118319132034, \"group\": \"business\"}, {\"x\": -0.89741510766786, \"y\": 1.07215850167642, \"group\": \"business\"}, {\"x\": 0.9429603845580878, \"y\": 0.3673502412294378, \"group\": \"business\"}, {\"x\": -1.3168274645334048, \"y\": -0.8525642036960149, \"group\": \"business\"}, {\"x\": 0.18326518040640066, \"y\": -2.163221413413513, \"group\": \"business\"}, {\"x\": 1.1877639457900364, \"y\": -0.24740785875074928, \"group\": \"business\"}, {\"x\": -1.026683247902156, \"y\": -0.18850457211715066, \"group\": \"business\"}, {\"x\": -1.9223110747770698, \"y\": 1.3938023325568631, \"group\": \"business\"}, {\"x\": -2.0676967393615455, \"y\": -0.8663645792286335, \"group\": \"business\"}, {\"x\": -0.22549468392352814, \"y\": -0.3364556098920711, \"group\": \"business\"}, {\"x\": -0.551877613971967, \"y\": 1.836816625087931, \"group\": \"business\"}, {\"x\": 0.5283612001217899, \"y\": -2.3018299850338693, \"group\": \"business\"}, {\"x\": -0.4630163346591414, \"y\": -0.3078224059987847, \"group\": \"business\"}, {\"x\": -0.9448484977414451, \"y\": 0.11035127529508315, \"group\": \"business\"}, {\"x\": 0.9863766528009867, \"y\": 1.4524796106876023, \"group\": \"business\"}, {\"x\": -0.9008417949700145, \"y\": 0.29672151168569844, \"group\": \"business\"}, {\"x\": 0.47892424562115316, \"y\": 0.03365059337601446, \"group\": \"business\"}, {\"x\": -0.6881260049898472, \"y\": 0.09020495693002846, \"group\": \"business\"}, {\"x\": -2.297481674292503, \"y\": -1.0737945243404023, \"group\": \"business\"}, {\"x\": -0.34906336685550665, \"y\": 1.3662519941279163, \"group\": \"business\"}, {\"x\": 1.4272138645541532, \"y\": -1.5965715136948886, \"group\": \"business\"}, {\"x\": -0.6779121365431924, \"y\": 0.23629306076324721, \"group\": \"business\"}, {\"x\": -1.5969775355472415, \"y\": 0.030134278077961228, \"group\": \"business\"}, {\"x\": -0.06590751784849808, \"y\": 0.8985642440226207, \"group\": \"business\"}, {\"x\": -1.036599471734745, \"y\": -0.333069854808609, \"group\": \"business\"}, {\"x\": -0.6070229546186139, \"y\": -0.09303021187637295, \"group\": \"business\"}, {\"x\": 0.7651105555400195, \"y\": -0.9623817710880251, \"group\": \"business\"}, {\"x\": 0.31663159771568955, \"y\": 1.9491996544672043, \"group\": \"business\"}, {\"x\": 0.5802988064018817, \"y\": -2.303918327762053, \"group\": \"business\"}, {\"x\": -2.538883858061979, \"y\": -1.4624492928892623, \"group\": \"business\"}, {\"x\": -0.610348824958101, \"y\": -0.07597931708611229, \"group\": \"business\"}, {\"x\": -1.6505626900852426, \"y\": -1.6861794086747668, \"group\": \"business\"}, {\"x\": -0.5409379165225058, \"y\": 1.7363601871138, \"group\": \"business\"}, {\"x\": -0.7701523404798922, \"y\": 0.15158223149386907, \"group\": \"business\"}, {\"x\": -0.43165867963166243, \"y\": 1.4356983372212477, \"group\": \"business\"}, {\"x\": 0.3443849107880686, \"y\": 1.0197466043911243, \"group\": \"business\"}, {\"x\": -0.48774687376018644, \"y\": -1.2070963224473317, \"group\": \"business\"}, {\"x\": -1.5306830810892613, \"y\": -1.394389624067241, \"group\": \"business\"}, {\"x\": -0.35162707712649444, \"y\": 0.6741088440943689, \"group\": \"business\"}, {\"x\": -1.0119284994334357, \"y\": -0.23812694523521213, \"group\": \"business\"}, {\"x\": 0.07955655723741101, \"y\": -1.3953263883894664, \"group\": \"business\"}, {\"x\": 2.194326521715193, \"y\": -0.6806913472824976, \"group\": \"business\"}, {\"x\": 0.10446336227492592, \"y\": -0.10667109808439, \"group\": \"business\"}, {\"x\": -0.258620712786902, \"y\": 0.37508096019708903, \"group\": \"business\"}, {\"x\": -0.2321583005777828, \"y\": -0.3033169787572239, \"group\": \"business\"}, {\"x\": 1.3735743867692924, \"y\": 0.3416454957150145, \"group\": \"business\"}, {\"x\": 0.9730111957447121, \"y\": 1.21223666903737, \"group\": \"business\"}, {\"x\": -1.4603494283298912, \"y\": 0.6275496204204051, \"group\": \"business\"}, {\"x\": 0.17450872446595123, \"y\": -0.5516047850623931, \"group\": \"business\"}, {\"x\": -0.08832059088071029, \"y\": 0.48406185185110395, \"group\": \"business\"}, {\"x\": -2.10513011691976, \"y\": -0.20000743040555008, \"group\": \"business\"}, {\"x\": 0.569160456064872, \"y\": -0.692454941135052, \"group\": \"business\"}, {\"x\": -2.0417268943753446, \"y\": 1.2463799547004888, \"group\": \"business\"}, {\"x\": 2.7527238127975187, \"y\": 1.223464985448858, \"group\": \"business\"}, {\"x\": -1.3946699252928842, \"y\": -2.059948325951816, \"group\": \"business\"}, {\"x\": 0.23086345633813204, \"y\": -1.7883105462889406, \"group\": \"business\"}, {\"x\": -1.556626246373771, \"y\": 1.7026963750043682, \"group\": \"business\"}, {\"x\": -2.4914227232265413, \"y\": 0.9652325032792172, \"group\": \"business\"}, {\"x\": -0.3175670193329084, \"y\": 2.4373873648925617, \"group\": \"business\"}, {\"x\": 0.06348367616618134, \"y\": -0.9682438393393822, \"group\": \"business\"}, {\"x\": 0.8656599295613749, \"y\": -0.1741314876128745, \"group\": \"business\"}, {\"x\": -1.9658457751507452, \"y\": -1.5260831339491951, \"group\": \"business\"}, {\"x\": -0.9827145614460968, \"y\": -1.0753831517872585, \"group\": \"business\"}, {\"x\": -0.22059153130608536, \"y\": -1.1124571053338952, \"group\": \"business\"}, {\"x\": -2.0735549917696927, \"y\": 1.216897736022144, \"group\": \"business\"}, {\"x\": -0.6621968635591712, \"y\": -0.44546079947996364, \"group\": \"business\"}, {\"x\": 0.0898628729159448, \"y\": -0.11025721943731431, \"group\": \"business\"}, {\"x\": 0.9215742489716581, \"y\": -0.5527825520424029, \"group\": \"business\"}, {\"x\": -0.7070227824777382, \"y\": -2.420467931861354, \"group\": \"business\"}, {\"x\": 0.5437044109533549, \"y\": -0.27879712285825076, \"group\": \"business\"}, {\"x\": -2.005400605887113, \"y\": 1.3844263564702728, \"group\": \"business\"}, {\"x\": -0.3826746862159494, \"y\": -1.092780837279068, \"group\": \"business\"}, {\"x\": -0.5341544945390619, \"y\": 1.399876355025552, \"group\": \"business\"}, {\"x\": -0.02115844495255592, \"y\": -0.4986360928990285, \"group\": \"business\"}, {\"x\": -1.4811921755395125, \"y\": 0.9788210786084677, \"group\": \"business\"}, {\"x\": -2.5087351070243638, \"y\": -0.9317471466166958, \"group\": \"business\"}, {\"x\": -0.3510117102156743, \"y\": -0.11434848211869476, \"group\": \"business\"}, {\"x\": -2.487704254259065, \"y\": 0.26388895122912265, \"group\": \"business\"}, {\"x\": -0.14591329671921763, \"y\": -2.882125787829092, \"group\": \"business\"}, {\"x\": -0.17075059500786258, \"y\": -0.1396828033506689, \"group\": \"business\"}, {\"x\": 1.385106853984767, \"y\": 2.008742051031113, \"group\": \"business\"}, {\"x\": -0.49057526146995206, \"y\": 0.09388724741947067, \"group\": \"business\"}, {\"x\": -0.7297265196454474, \"y\": 1.0219790939927733, \"group\": \"business\"}, {\"x\": -0.06319543981463988, \"y\": -1.4202993344210095, \"group\": \"business\"}, {\"x\": 0.42993385789921473, \"y\": -1.0068540709996439, \"group\": \"business\"}, {\"x\": -0.9777593704463772, \"y\": 1.117880606817041, \"group\": \"business\"}, {\"x\": -1.4116208214069603, \"y\": 0.7233355089838519, \"group\": \"business\"}, {\"x\": -0.7631018232853493, \"y\": -0.29486634269378253, \"group\": \"business\"}, {\"x\": -0.3420534374793997, \"y\": -0.3377057880348083, \"group\": \"business\"}, {\"x\": 0.5128635351597925, \"y\": 1.1748013179741448, \"group\": \"business\"}, {\"x\": -0.11140748589388014, \"y\": -0.26485820391704373, \"group\": \"business\"}, {\"x\": 0.18277257700833177, \"y\": -0.37811690934306474, \"group\": \"business\"}, {\"x\": 1.1127201699657385, \"y\": -0.33654823579203, \"group\": \"business\"}]}}, {\"mode\": \"vega-lite\"});\n",
       "</script>"
      ],
      "text/plain": [
       "alt.Chart(...)"
      ]
     },
     "execution_count": 40,
     "metadata": {},
     "output_type": "execute_result"
    }
   ],
   "source": [
    "chart = alt.Chart(bbc_2d[bbc_2d[\"group\"].isin([\"sport\", \"business\"])]).mark_point().encode(x=\"x\", y=\"y\", color=\"group\")\n",
    "# Uncomment to print chart inline, but beware it will inflate the notebook size\n",
    "chart"
   ]
  },
  {
   "cell_type": "markdown",
   "metadata": {},
   "source": [
    "![](./img/bbc_pca_business_sport.png)"
   ]
  },
  {
   "cell_type": "markdown",
   "metadata": {},
   "source": [
    "Del mismo modo, podemos ver que la clasificación por similitud produce resultados razonables, pero no ideales."
   ]
  },
  {
   "cell_type": "code",
   "execution_count": 42,
   "metadata": {},
   "outputs": [
    {
     "data": {
      "text/html": [
       "<div>\n",
       "<style scoped>\n",
       "    .dataframe tbody tr th:only-of-type {\n",
       "        vertical-align: middle;\n",
       "    }\n",
       "\n",
       "    .dataframe tbody tr th {\n",
       "        vertical-align: top;\n",
       "    }\n",
       "\n",
       "    .dataframe thead th {\n",
       "        text-align: right;\n",
       "    }\n",
       "</style>\n",
       "<table border=\"1\" class=\"dataframe\">\n",
       "  <thead>\n",
       "    <tr style=\"text-align: right;\">\n",
       "      <th></th>\n",
       "      <th>doc_id</th>\n",
       "      <th>similarity</th>\n",
       "      <th>text</th>\n",
       "    </tr>\n",
       "  </thead>\n",
       "  <tbody>\n",
       "    <tr>\n",
       "      <th>0</th>\n",
       "      <td>0</td>\n",
       "      <td>1.000000</td>\n",
       "      <td>Claxton hunting first major medal  British hurdler Sarah Claxton is confident she can win her fi...</td>\n",
       "    </tr>\n",
       "    <tr>\n",
       "      <th>84</th>\n",
       "      <td>84</td>\n",
       "      <td>0.490597</td>\n",
       "      <td>Tulu to appear at Caledonian run  Two-time Olympic 10,000 metres champion Derartu Tulu has confi...</td>\n",
       "    </tr>\n",
       "    <tr>\n",
       "      <th>17</th>\n",
       "      <td>17</td>\n",
       "      <td>0.488312</td>\n",
       "      <td>Merritt close to indoor 400m mark  Teenager LaShawn Merritt ran the third fastest indoor 400m of...</td>\n",
       "    </tr>\n",
       "    <tr>\n",
       "      <th>12</th>\n",
       "      <td>12</td>\n",
       "      <td>0.474008</td>\n",
       "      <td>Kenya lift Chepkemei's suspension  Kenya's athletics body has reversed a ban on marathon runner ...</td>\n",
       "    </tr>\n",
       "    <tr>\n",
       "      <th>6</th>\n",
       "      <td>6</td>\n",
       "      <td>0.473359</td>\n",
       "      <td>O'Sullivan commits to Dublin race  Sonia O'Sullivan will seek to regain her title at the Bupa Gr...</td>\n",
       "    </tr>\n",
       "    <tr>\n",
       "      <th>...</th>\n",
       "      <td>...</td>\n",
       "      <td>...</td>\n",
       "      <td>...</td>\n",
       "    </tr>\n",
       "    <tr>\n",
       "      <th>478</th>\n",
       "      <td>478</td>\n",
       "      <td>0.286820</td>\n",
       "      <td>Clijsters could play Aussie Open  Kim Clijsters has denied reports that she has pulled out of Ja...</td>\n",
       "    </tr>\n",
       "    <tr>\n",
       "      <th>368</th>\n",
       "      <td>368</td>\n",
       "      <td>0.285540</td>\n",
       "      <td>South Africa sweep top awards  South Africa's Schalk Burger was named player of the year as the ...</td>\n",
       "    </tr>\n",
       "    <tr>\n",
       "      <th>2208</th>\n",
       "      <td>2208</td>\n",
       "      <td>0.284652</td>\n",
       "      <td>Sideways dominates Spirit awards  The comedy Sideways has dominated this year's Independent Spir...</td>\n",
       "    </tr>\n",
       "    <tr>\n",
       "      <th>1385</th>\n",
       "      <td>1385</td>\n",
       "      <td>0.283446</td>\n",
       "      <td>Whitehall cuts 'ahead of target'  Thousands of civil service jobs have already been cut or moved...</td>\n",
       "    </tr>\n",
       "    <tr>\n",
       "      <th>742</th>\n",
       "      <td>742</td>\n",
       "      <td>0.283128</td>\n",
       "      <td>Lloyd's of London head chides FSA  The head of Lloyd's of London, the insurance market, has crit...</td>\n",
       "    </tr>\n",
       "  </tbody>\n",
       "</table>\n",
       "<p>100 rows × 3 columns</p>\n",
       "</div>"
      ],
      "text/plain": [
       "      doc_id  similarity  \\\n",
       "0          0    1.000000   \n",
       "84        84    0.490597   \n",
       "17        17    0.488312   \n",
       "12        12    0.474008   \n",
       "6          6    0.473359   \n",
       "...      ...         ...   \n",
       "478      478    0.286820   \n",
       "368      368    0.285540   \n",
       "2208    2208    0.284652   \n",
       "1385    1385    0.283446   \n",
       "742      742    0.283128   \n",
       "\n",
       "                                                                                                     text  \n",
       "0     Claxton hunting first major medal  British hurdler Sarah Claxton is confident she can win her fi...  \n",
       "84    Tulu to appear at Caledonian run  Two-time Olympic 10,000 metres champion Derartu Tulu has confi...  \n",
       "17    Merritt close to indoor 400m mark  Teenager LaShawn Merritt ran the third fastest indoor 400m of...  \n",
       "12    Kenya lift Chepkemei's suspension  Kenya's athletics body has reversed a ban on marathon runner ...  \n",
       "6     O'Sullivan commits to Dublin race  Sonia O'Sullivan will seek to regain her title at the Bupa Gr...  \n",
       "...                                                                                                   ...  \n",
       "478   Clijsters could play Aussie Open  Kim Clijsters has denied reports that she has pulled out of Ja...  \n",
       "368   South Africa sweep top awards  South Africa's Schalk Burger was named player of the year as the ...  \n",
       "2208  Sideways dominates Spirit awards  The comedy Sideways has dominated this year's Independent Spir...  \n",
       "1385  Whitehall cuts 'ahead of target'  Thousands of civil service jobs have already been cut or moved...  \n",
       "742   Lloyd's of London head chides FSA  The head of Lloyd's of London, the insurance market, has crit...  \n",
       "\n",
       "[100 rows x 3 columns]"
      ]
     },
     "execution_count": 42,
     "metadata": {},
     "output_type": "execute_result"
    }
   ],
   "source": [
    "most_similar(bbc_model['paragraph_matrix'].data, bbc_df, 0, n=100)"
   ]
  },
  {
   "cell_type": "markdown",
   "metadata": {},
   "source": [
    "    Para continuar con esto, podríamos:\n",
    "\n",
    "- buscar mejores hiperparámetros, ya que la pérdida de entrenamiento sigue siendo bastante alta\n",
    "- comparar con `gensim` y la implementación de PyTorch de Ilenic; debería ser muy similar a esta última\n",
    "- implementar el paso de inferencia para nuevos documentos, que congela las matrices de palabras y de salida y añade una nueva columna a la matriz de párrafos\n",
    "- utilizar los vectores de párrafos inferidos como entrada para un clasificador de temas; si se observa el gráfico de negocios/deportes anterior, podría tener bastante éxito\n",
    "- probar la visualización con un algoritmo de reducción de la dimensionalidad mejor que PCA (se puede utilizar [LargeVis](https://arxiv.org/abs/1602.00370) en el pasado)"
   ]
  },
  {
   "cell_type": "markdown",
   "metadata": {},
   "source": [
    "### Ejercicios:\n",
    "\n",
    "**Fundamentos y Conceptos Teóricos**\n",
    "\n",
    "1) ¿Qué es Doc2Vec y cómo se diferencia de Word2Vec?\n",
    "2) Explica cómo Doc2Vec representa documentos en vectores.\n",
    "3) Describe los dos principales modelos de entrenamiento de Doc2Vec: Distributed Memory (DM) y Distributed Bag of Words (DBOW).\n",
    "4) ¿Cómo contribuye el contexto de las palabras al aprendizaje de las representaciones vectoriales en Doc2Vec?\n",
    "\n",
    "**Detalles Técnicos y Entrenamiento**\n",
    "\n",
    "5) ¿Qué papel juegan los identificadores únicos de documentos en el modelo Doc2Vec?\n",
    "6) Explica cómo se entrena un modelo Doc2Vec y qué significa \"inferir\" un vector para un nuevo documento.\n",
    "7) ¿Cuáles son los principales hiperparámetros en Doc2Vec y cómo afectan al modelo?\n",
    "\n",
    "**Aplicaciones Prácticas**\n",
    "\n",
    "8) ¿En qué tipos de tareas de procesamiento de lenguaje natural (NLP) se puede utilizar Doc2Vec?\n",
    "9) Proporciona un ejemplo de cómo Doc2Vec podría mejorar un sistema de recomendación de artículos o productos.\n",
    "10) ¿Cómo se podría utilizar Doc2Vec para la detección de similitud entre documentos?\n",
    "\n",
    "**Comparaciones y Contrastes**\n",
    "\n",
    "11) Compara Doc2Vec con modelos basados en bolsas de palabras (bag-of-words). ¿Qué ventajas ofrece Doc2Vec?\n",
    "12) ¿En qué se diferencia Doc2Vec de los modelos de embeddings de palabras más recientes, como BERT o GPT?\n",
    "\n",
    "**Reflexión Crítica y Limitaciones**\n",
    "\n",
    "13) ¿Cuáles son las limitaciones de Doc2Vec en comparación con los enfoques de representación de texto basados en transformers?\n",
    "14) Discute el impacto de la longitud del documento en la calidad de las representaciones vectoriales en Doc2Vec.\n",
    "15) Reflexiona sobre cómo la elección del corpus de entrenamiento puede influir en la eficacia de los vectores generados por Doc2Vec para tareas específicas."
   ]
  },
  {
   "cell_type": "markdown",
   "metadata": {},
   "source": [
    "### Referencias:"
   ]
  },
  {
   "cell_type": "markdown",
   "metadata": {},
   "source": [
    "* [Notes on Noise Contrastive Estimation and Negative Sampling (C. Dyer)](https://arxiv.org/abs/1410.8251) "
   ]
  },
  {
   "cell_type": "markdown",
   "metadata": {},
   "source": [
    "### Adapatado de:\n",
    "\n",
    "* https://github.com/cbowdon/doc2vec-pytorch/blob/master/doc2vec.ipynb"
   ]
  },
  {
   "cell_type": "markdown",
   "metadata": {},
   "source": [
    "![Lenguaje Matemático](./Images/Matematicas.png)"
   ]
  },
  {
   "cell_type": "markdown",
   "metadata": {},
   "source": [
    "![Contacto](./Images/Contacto.png)"
   ]
  }
 ],
 "metadata": {
  "kernelspec": {
   "display_name": "Python 3",
   "language": "python",
   "name": "python3"
  },
  "language_info": {
   "codemirror_mode": {
    "name": "ipython",
    "version": 3
   },
   "file_extension": ".py",
   "mimetype": "text/x-python",
   "name": "python",
   "nbconvert_exporter": "python",
   "pygments_lexer": "ipython3",
   "version": "3.12.3"
  }
 },
 "nbformat": 4,
 "nbformat_minor": 2
}
